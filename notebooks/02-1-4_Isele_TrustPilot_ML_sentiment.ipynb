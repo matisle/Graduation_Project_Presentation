{
 "cells": [
  {
   "cell_type": "markdown",
   "metadata": {
    "id": "g4MnmvnlHYLr"
   },
   "source": [
    "# Energy Suppliers on Trustpilot - ML models to predict company answers with sentiment analysis\r\n"
   ]
  },
  {
   "cell_type": "markdown",
   "metadata": {},
   "source": [
    "Author: Matthias Isele"
   ]
  },
  {
   "cell_type": "markdown",
   "metadata": {
    "id": "9J8v3aihIH4g"
   },
   "source": [
    "## Data preprocessing and recall of important visualisations"
   ]
  },
  {
   "cell_type": "code",
   "execution_count": 22,
   "metadata": {
    "colab": {
     "base_uri": "https://localhost:8080/",
     "height": 464
    },
    "id": "4098HuMd5dZk",
    "outputId": "60d16fb9-aaac-4175-dced-81e27bb60cb7"
   },
   "outputs": [
    {
     "data": {
      "text/html": [
       "<div>\n",
       "<style scoped>\n",
       "    .dataframe tbody tr th:only-of-type {\n",
       "        vertical-align: middle;\n",
       "    }\n",
       "\n",
       "    .dataframe tbody tr th {\n",
       "        vertical-align: top;\n",
       "    }\n",
       "\n",
       "    .dataframe thead th {\n",
       "        text-align: right;\n",
       "    }\n",
       "</style>\n",
       "<table border=\"1\" class=\"dataframe\">\n",
       "  <thead>\n",
       "    <tr style=\"text-align: right;\">\n",
       "      <th></th>\n",
       "      <th>Nickname</th>\n",
       "      <th>Location</th>\n",
       "      <th>Stars</th>\n",
       "      <th>Headline</th>\n",
       "      <th>DoP</th>\n",
       "      <th>DoE</th>\n",
       "      <th>Comment</th>\n",
       "      <th>Answer</th>\n",
       "      <th>DoA</th>\n",
       "      <th>DoE.day</th>\n",
       "      <th>...</th>\n",
       "      <th>DoA.day</th>\n",
       "      <th>DoA.month</th>\n",
       "      <th>DoA.year</th>\n",
       "      <th>Comment_TF</th>\n",
       "      <th>Answer_TF</th>\n",
       "      <th>Company</th>\n",
       "      <th>Words_Headline</th>\n",
       "      <th>Words_Comment</th>\n",
       "      <th>Words_Answer</th>\n",
       "      <th>Response_time</th>\n",
       "    </tr>\n",
       "  </thead>\n",
       "  <tbody>\n",
       "    <tr>\n",
       "      <th>0</th>\n",
       "      <td>Paul</td>\n",
       "      <td>DE</td>\n",
       "      <td>5</td>\n",
       "      <td>Seriös und preiswert:</td>\n",
       "      <td>2023-08-29 15:00:29+00:00</td>\n",
       "      <td>2023-08-29</td>\n",
       "      <td>Seriös und preiswert:nach einer ziemlich unang...</td>\n",
       "      <td>NaN</td>\n",
       "      <td>NaN</td>\n",
       "      <td>29</td>\n",
       "      <td>...</td>\n",
       "      <td>NaN</td>\n",
       "      <td>NaN</td>\n",
       "      <td>NaN</td>\n",
       "      <td>1</td>\n",
       "      <td>0</td>\n",
       "      <td>Octopus Energy Germany</td>\n",
       "      <td>3</td>\n",
       "      <td>62.0</td>\n",
       "      <td>NaN</td>\n",
       "      <td>NaN</td>\n",
       "    </tr>\n",
       "    <tr>\n",
       "      <th>1</th>\n",
       "      <td>Anton</td>\n",
       "      <td>DE</td>\n",
       "      <td>5</td>\n",
       "      <td>Tarif mit vernünftigem Preis</td>\n",
       "      <td>2023-08-30 11:20:02+00:00</td>\n",
       "      <td>2023-08-22</td>\n",
       "      <td>Tarif mit vernünftigem Preis bei niedrigem Ein...</td>\n",
       "      <td>NaN</td>\n",
       "      <td>NaN</td>\n",
       "      <td>22</td>\n",
       "      <td>...</td>\n",
       "      <td>NaN</td>\n",
       "      <td>NaN</td>\n",
       "      <td>NaN</td>\n",
       "      <td>1</td>\n",
       "      <td>0</td>\n",
       "      <td>Octopus Energy Germany</td>\n",
       "      <td>4</td>\n",
       "      <td>41.0</td>\n",
       "      <td>NaN</td>\n",
       "      <td>NaN</td>\n",
       "    </tr>\n",
       "    <tr>\n",
       "      <th>2</th>\n",
       "      <td>Tobias</td>\n",
       "      <td>DE</td>\n",
       "      <td>5</td>\n",
       "      <td>Ringo Star</td>\n",
       "      <td>2023-08-29 10:00:40+00:00</td>\n",
       "      <td>2023-08-21</td>\n",
       "      <td>Supi Anbieterwechsel,klappt alles mit dem vora...</td>\n",
       "      <td>NaN</td>\n",
       "      <td>NaN</td>\n",
       "      <td>21</td>\n",
       "      <td>...</td>\n",
       "      <td>NaN</td>\n",
       "      <td>NaN</td>\n",
       "      <td>NaN</td>\n",
       "      <td>1</td>\n",
       "      <td>0</td>\n",
       "      <td>Octopus Energy Germany</td>\n",
       "      <td>2</td>\n",
       "      <td>37.0</td>\n",
       "      <td>NaN</td>\n",
       "      <td>NaN</td>\n",
       "    </tr>\n",
       "    <tr>\n",
       "      <th>3</th>\n",
       "      <td>Dirk Meinel</td>\n",
       "      <td>DE</td>\n",
       "      <td>5</td>\n",
       "      <td>Schritt für Schritt transparent</td>\n",
       "      <td>2023-08-30 09:18:07+00:00</td>\n",
       "      <td>2023-08-27</td>\n",
       "      <td>Erstmalig habe ich mich bei Octopus Engergy an...</td>\n",
       "      <td>NaN</td>\n",
       "      <td>NaN</td>\n",
       "      <td>27</td>\n",
       "      <td>...</td>\n",
       "      <td>NaN</td>\n",
       "      <td>NaN</td>\n",
       "      <td>NaN</td>\n",
       "      <td>1</td>\n",
       "      <td>0</td>\n",
       "      <td>Octopus Energy Germany</td>\n",
       "      <td>4</td>\n",
       "      <td>41.0</td>\n",
       "      <td>NaN</td>\n",
       "      <td>NaN</td>\n",
       "    </tr>\n",
       "    <tr>\n",
       "      <th>4</th>\n",
       "      <td>Marianne Bäßler</td>\n",
       "      <td>DE</td>\n",
       "      <td>5</td>\n",
       "      <td>HOHE ZUFRIEDENHEIT</td>\n",
       "      <td>2023-08-29 17:30:02+00:00</td>\n",
       "      <td>2023-08-29</td>\n",
       "      <td>HOHE ZUFRIEDENHEIT BEIM NEUEN ANBIETER  OCTOPU...</td>\n",
       "      <td>NaN</td>\n",
       "      <td>NaN</td>\n",
       "      <td>29</td>\n",
       "      <td>...</td>\n",
       "      <td>NaN</td>\n",
       "      <td>NaN</td>\n",
       "      <td>NaN</td>\n",
       "      <td>1</td>\n",
       "      <td>0</td>\n",
       "      <td>Octopus Energy Germany</td>\n",
       "      <td>2</td>\n",
       "      <td>70.0</td>\n",
       "      <td>NaN</td>\n",
       "      <td>NaN</td>\n",
       "    </tr>\n",
       "  </tbody>\n",
       "</table>\n",
       "<p>5 rows × 25 columns</p>\n",
       "</div>"
      ],
      "text/plain": [
       "          Nickname Location  Stars                         Headline  \\\n",
       "0             Paul       DE      5            Seriös und preiswert:   \n",
       "1            Anton       DE      5     Tarif mit vernünftigem Preis   \n",
       "2           Tobias       DE      5                       Ringo Star   \n",
       "3      Dirk Meinel       DE      5  Schritt für Schritt transparent   \n",
       "4  Marianne Bäßler       DE      5               HOHE ZUFRIEDENHEIT   \n",
       "\n",
       "                         DoP         DoE  \\\n",
       "0  2023-08-29 15:00:29+00:00  2023-08-29   \n",
       "1  2023-08-30 11:20:02+00:00  2023-08-22   \n",
       "2  2023-08-29 10:00:40+00:00  2023-08-21   \n",
       "3  2023-08-30 09:18:07+00:00  2023-08-27   \n",
       "4  2023-08-29 17:30:02+00:00  2023-08-29   \n",
       "\n",
       "                                             Comment Answer  DoA  DoE.day  \\\n",
       "0  Seriös und preiswert:nach einer ziemlich unang...    NaN  NaN       29   \n",
       "1  Tarif mit vernünftigem Preis bei niedrigem Ein...    NaN  NaN       22   \n",
       "2  Supi Anbieterwechsel,klappt alles mit dem vora...    NaN  NaN       21   \n",
       "3  Erstmalig habe ich mich bei Octopus Engergy an...    NaN  NaN       27   \n",
       "4  HOHE ZUFRIEDENHEIT BEIM NEUEN ANBIETER  OCTOPU...    NaN  NaN       29   \n",
       "\n",
       "   ...  DoA.day  DoA.month  DoA.year  Comment_TF  Answer_TF  \\\n",
       "0  ...      NaN        NaN       NaN           1          0   \n",
       "1  ...      NaN        NaN       NaN           1          0   \n",
       "2  ...      NaN        NaN       NaN           1          0   \n",
       "3  ...      NaN        NaN       NaN           1          0   \n",
       "4  ...      NaN        NaN       NaN           1          0   \n",
       "\n",
       "                  Company  Words_Headline  Words_Comment  Words_Answer  \\\n",
       "0  Octopus Energy Germany               3           62.0           NaN   \n",
       "1  Octopus Energy Germany               4           41.0           NaN   \n",
       "2  Octopus Energy Germany               2           37.0           NaN   \n",
       "3  Octopus Energy Germany               4           41.0           NaN   \n",
       "4  Octopus Energy Germany               2           70.0           NaN   \n",
       "\n",
       "   Response_time  \n",
       "0            NaN  \n",
       "1            NaN  \n",
       "2            NaN  \n",
       "3            NaN  \n",
       "4            NaN  \n",
       "\n",
       "[5 rows x 25 columns]"
      ]
     },
     "execution_count": 22,
     "metadata": {},
     "output_type": "execute_result"
    }
   ],
   "source": [
    "#We start with our processed data set\n",
    "import pandas as pd\n",
    "\n",
    "path_colab_online='/content/drive/MyDrive/Supply Chain - Customer Satisfaction/Data/all_suppliers_data_processed.csv'\n",
    "\n",
    "path_local=r\"C:\\Users\\isele\\OneDrive\\Dokumente\\GitHub\\Graduation_Project_Matthias_Isele\\notebooks\\all_suppliers_data_processed.csv\"\n",
    "\n",
    "path=path_local\n",
    "\n",
    "df=pd.read_csv(path, index_col=0)\n",
    "df.head()"
   ]
  },
  {
   "cell_type": "code",
   "execution_count": 24,
   "metadata": {
    "colab": {
     "base_uri": "https://localhost:8080/"
    },
    "id": "Rs29lpOn8Hpx",
    "outputId": "ff3948a5-0d72-4bde-9b88-df0eba2eebed"
   },
   "outputs": [
    {
     "name": "stdout",
     "output_type": "stream",
     "text": [
      "<class 'pandas.core.frame.DataFrame'>\n",
      "Index: 45135 entries, 0 to 45134\n",
      "Data columns (total 25 columns):\n",
      " #   Column          Non-Null Count  Dtype  \n",
      "---  ------          --------------  -----  \n",
      " 0   Nickname        45133 non-null  object \n",
      " 1   Location        45135 non-null  object \n",
      " 2   Stars           45135 non-null  int64  \n",
      " 3   Headline        45135 non-null  object \n",
      " 4   DoP             45135 non-null  object \n",
      " 5   DoE             45135 non-null  object \n",
      " 6   Comment         38896 non-null  object \n",
      " 7   Answer          28533 non-null  object \n",
      " 8   DoA             28533 non-null  object \n",
      " 9   DoE.day         45135 non-null  int64  \n",
      " 10  DoE.month       45135 non-null  int64  \n",
      " 11  DoE.year        45135 non-null  int64  \n",
      " 12  DoP.day         45135 non-null  int64  \n",
      " 13  DoP.month       45135 non-null  int64  \n",
      " 14  DoP.year        45135 non-null  int64  \n",
      " 15  DoA.day         28533 non-null  float64\n",
      " 16  DoA.month       28533 non-null  float64\n",
      " 17  DoA.year        28533 non-null  float64\n",
      " 18  Comment_TF      45135 non-null  int64  \n",
      " 19  Answer_TF       45135 non-null  int64  \n",
      " 20  Company         45135 non-null  object \n",
      " 21  Words_Headline  45135 non-null  int64  \n",
      " 22  Words_Comment   38896 non-null  float64\n",
      " 23  Words_Answer    28533 non-null  float64\n",
      " 24  Response_time   28533 non-null  float64\n",
      "dtypes: float64(6), int64(10), object(9)\n",
      "memory usage: 9.0+ MB\n"
     ]
    }
   ],
   "source": [
    "df.info()"
   ]
  },
  {
   "cell_type": "code",
   "execution_count": 25,
   "metadata": {
    "colab": {
     "base_uri": "https://localhost:8080/"
    },
    "id": "dho1hT9F8PvV",
    "outputId": "38ecdb32-f033-47e8-b2a6-1b2018230ba0"
   },
   "outputs": [
    {
     "name": "stdout",
     "output_type": "stream",
     "text": [
      "<class 'pandas.core.frame.DataFrame'>\n",
      "Index: 25046 entries, 20 to 45132\n",
      "Data columns (total 10 columns):\n",
      " #   Column          Non-Null Count  Dtype  \n",
      "---  ------          --------------  -----  \n",
      " 0   Stars           25046 non-null  int64  \n",
      " 1   Headline        25046 non-null  object \n",
      " 2   Comment         25046 non-null  object \n",
      " 3   Answer          25046 non-null  object \n",
      " 4   Comment_TF      25046 non-null  int64  \n",
      " 5   Answer_TF       25046 non-null  int64  \n",
      " 6   Company         25046 non-null  object \n",
      " 7   Words_Comment   25046 non-null  float64\n",
      " 8   Words_Headline  25046 non-null  int64  \n",
      " 9   Words_Answer    25046 non-null  float64\n",
      "dtypes: float64(2), int64(4), object(4)\n",
      "memory usage: 2.1+ MB\n"
     ]
    }
   ],
   "source": [
    "#We focus on word counts and stars\n",
    "keep=['Stars','Headline','Comment','Answer','Comment_TF','Answer_TF','Company','Words_Comment','Words_Headline','Words_Answer']\n",
    "df_reduced=df[keep]\n",
    "\n",
    "#Select rows where comments and answers both exist\n",
    "df_reduced=df_reduced[(df_reduced['Comment_TF']==1)& (df_reduced['Answer_TF']==1) ]\n",
    "df_reduced.info()"
   ]
  },
  {
   "cell_type": "code",
   "execution_count": 26,
   "metadata": {
    "colab": {
     "base_uri": "https://localhost:8080/",
     "height": 472
    },
    "id": "FMmkSeeCBi4N",
    "outputId": "beef40f6-d3f9-4cc5-d105-e7bbf2676a1f"
   },
   "outputs": [
    {
     "data": {
      "image/png": "[encoded data removed]",
      "text/plain": [
       "<Figure size 640x480 with 1 Axes>"
      ]
     },
     "metadata": {},
     "output_type": "display_data"
    }
   ],
   "source": [
    "# Recall that companies can have standard answer lengths for specific star ratings.\n",
    "# The answer policy is company specific.\n",
    "\n",
    "import matplotlib.pyplot as plt\n",
    "import seaborn as sns\n",
    "\n",
    "#Octopus Energy\n",
    "for s in reversed(range(1,6)):\n",
    "  if s==1: label=str(s)+' star'\n",
    "  else: label=str(s)+' stars'\n",
    "  sns.kdeplot((df_reduced[(df_reduced['Stars']== s)&(df_reduced['Company']== 'Octopus Energy Germany')])['Words_Answer'], label=label)\n",
    "plt.legend()\n",
    "plt.xlim(0, 300)\n",
    "plt.title(\"KDE's word number per answer 'Octopus Energy Germany'\");"
   ]
  },
  {
   "cell_type": "code",
   "execution_count": 27,
   "metadata": {
    "colab": {
     "base_uri": "https://localhost:8080/",
     "height": 472
    },
    "id": "xejj56dkDLv0",
    "outputId": "7b990ff2-3e83-4a3d-c0a1-b42b58a9ea90"
   },
   "outputs": [
    {
     "data": {
      "image/png": "[encoded data removed]",
      "text/plain": [
       "<Figure size 640x480 with 1 Axes>"
      ]
     },
     "metadata": {},
     "output_type": "display_data"
    }
   ],
   "source": [
    "#E.ON Energy\n",
    "\n",
    "for s in reversed(range(1,6)):\n",
    "  if s==1: label=str(s)+' star'\n",
    "  else: label=str(s)+' stars'\n",
    "  sns.kdeplot((df_reduced[(df_reduced['Stars']== s)&(df_reduced['Company']== 'E.ON Energie Deutschland GmbH')])['Words_Answer'], label=label)\n",
    "plt.legend()\n",
    "plt.xlim(0, 300)\n",
    "plt.title(\"KDE's word number per answer 'E.ON Energie Deutschland GmbH'\");"
   ]
  },
  {
   "cell_type": "code",
   "execution_count": 28,
   "metadata": {
    "colab": {
     "base_uri": "https://localhost:8080/",
     "height": 489
    },
    "id": "UmM5mv2vE6pu",
    "outputId": "9e98a50f-6209-4522-f649-49d09a396e61"
   },
   "outputs": [
    {
     "data": {
      "text/plain": [
       "Text(0.5, 1.0, 'Star count')"
      ]
     },
     "execution_count": 28,
     "metadata": {},
     "output_type": "execute_result"
    },
    {
     "data": {
      "image/png": "[encoded data removed]",
      "text/plain": [
       "<Figure size 640x480 with 1 Axes>"
      ]
     },
     "metadata": {},
     "output_type": "display_data"
    }
   ],
   "source": [
    "#Star ratings are alost binary\n",
    "\n",
    "sns.countplot(x=df_reduced['Stars'])\n",
    "plt.title('Star count')"
   ]
  },
  {
   "cell_type": "code",
   "execution_count": 29,
   "metadata": {
    "colab": {
     "base_uri": "https://localhost:8080/"
    },
    "id": "fbC062nSFGJ-",
    "outputId": "76647d0e-64ea-43ed-952b-0d7caa50b962"
   },
   "outputs": [
    {
     "data": {
      "text/plain": [
       "PearsonRResult(statistic=0.30678216349113857, pvalue=0.0)"
      ]
     },
     "execution_count": 29,
     "metadata": {},
     "output_type": "execute_result"
    }
   ],
   "source": [
    "# Answer length tends to increase with comment length\n",
    "\n",
    "from scipy.stats import pearsonr\n",
    "\n",
    "pearsonr(df_reduced['Words_Comment'],df_reduced['Words_Answer'])"
   ]
  },
  {
   "cell_type": "code",
   "execution_count": 30,
   "metadata": {
    "colab": {
     "base_uri": "https://localhost:8080/",
     "height": 544
    },
    "id": "dEqu7buaJqNv",
    "outputId": "b300ece7-ec21-40eb-cb56-56ac535b1a51"
   },
   "outputs": [
    {
     "name": "stderr",
     "output_type": "stream",
     "text": [
      "C:\\Users\\isele\\AppData\\Local\\Temp\\ipykernel_9520\\1014979345.py:18: UserWarning: color is redundantly defined by the 'color' keyword argument and the fmt string \"b\" (-> color=(0.0, 0.0, 1.0, 1)). The keyword argument will take precedence.\n",
      "  ax.plot(x_pdf, y_pdf, 'b', lw=2, linestyle='dashed', label='normal dist.', color='black')\n"
     ]
    },
    {
     "data": {
      "text/plain": [
       "Text(0.5, 1.0, 'Comparison to standard normal distribution')"
      ]
     },
     "execution_count": 30,
     "metadata": {},
     "output_type": "execute_result"
    },
    {
     "data": {
      "image/png": "[encoded data removed]",
      "text/plain": [
       "<Figure size 640x480 with 1 Axes>"
      ]
     },
     "metadata": {},
     "output_type": "display_data"
    }
   ],
   "source": [
    "# Words_Comment and Words_headline are lognormal distributed\n",
    "import numpy as np\n",
    "from scipy.stats import norm\n",
    "\n",
    "data=np.log(df_reduced['Words_Comment'])\n",
    "data_standard_comments=(data-data.mean())/np.std(data-data.mean())\n",
    "ax=sns.kdeplot(data_standard_comments,log_scale=False, label='Words_Comment')\n",
    "\n",
    "data=np.log(df_reduced['Words_Headline'])\n",
    "data_standard_headline=(data-data.mean())/np.std(data-data.mean())\n",
    "ax=sns.kdeplot(data_standard_headline,log_scale=False, label='Words_Headline')\n",
    "\n",
    "plt.xlim(-5,5)\n",
    "x0, x1 = ax.get_xlim()  # extract the endpoints for the x-axis\n",
    "x_pdf = np.linspace(x0, x1, 100)\n",
    "y_pdf = norm.pdf(x_pdf)\n",
    "\n",
    "ax.plot(x_pdf, y_pdf, 'b', lw=2, linestyle='dashed', label='normal dist.', color='black')\n",
    "plt.xlabel('Centered and normalized natural logarithm of Words_comment')\n",
    "plt.legend()\n",
    "plt.title(\"Comparison to standard normal distribution\")"
   ]
  },
  {
   "cell_type": "code",
   "execution_count": 31,
   "metadata": {
    "colab": {
     "base_uri": "https://localhost:8080/",
     "height": 489
    },
    "id": "uLEZeFj6M28h",
    "outputId": "14e74f48-fd2c-482a-c88f-8547d16ea7b9"
   },
   "outputs": [
    {
     "data": {
      "text/plain": [
       "Text(0.5, 1.0, 'Histogram and kde for Words_Headline')"
      ]
     },
     "execution_count": 31,
     "metadata": {},
     "output_type": "execute_result"
    },
    {
     "data": {
      "image/png": "[encoded data removed]",
      "text/plain": [
       "<Figure size 640x480 with 1 Axes>"
      ]
     },
     "metadata": {},
     "output_type": "display_data"
    }
   ],
   "source": [
    "sns.histplot(df_reduced['Words_Headline'],kde=True)\n",
    "plt.title('Histogram and kde for Words_Headline')"
   ]
  },
  {
   "cell_type": "code",
   "execution_count": 32,
   "metadata": {
    "colab": {
     "base_uri": "https://localhost:8080/",
     "height": 868
    },
    "id": "b1_hZecsOIG2",
    "outputId": "4457969c-f359-43f0-d5f9-fc65f106488e"
   },
   "outputs": [
    {
     "name": "stdout",
     "output_type": "stream",
     "text": [
      "<class 'pandas.core.frame.DataFrame'>\n",
      "Index: 25046 entries, 20 to 45132\n",
      "Data columns (total 14 columns):\n",
      " #   Column                Non-Null Count  Dtype  \n",
      "---  ------                --------------  -----  \n",
      " 0   Stars                 25046 non-null  int64  \n",
      " 1   Headline              25046 non-null  object \n",
      " 2   Comment               25046 non-null  object \n",
      " 3   Answer                25046 non-null  object \n",
      " 4   Company               25046 non-null  object \n",
      " 5   Words_Comment         25046 non-null  float64\n",
      " 6   Words_Headline        25046 non-null  int64  \n",
      " 7   Words_Answer          25046 non-null  float64\n",
      " 8   log_Words_Headline    25046 non-null  float64\n",
      " 9   log_Words_Comment     25046 non-null  float64\n",
      " 10  log_Words_Answer      25046 non-null  float64\n",
      " 11  Stars_min_max_scaled  25046 non-null  float64\n",
      " 12  Stars_geq3_TF         25046 non-null  int64  \n",
      " 13  Stars_geq4_TF         25046 non-null  int64  \n",
      "dtypes: float64(6), int64(4), object(4)\n",
      "memory usage: 2.9+ MB\n"
     ]
    },
    {
     "data": {
      "text/html": [
       "<div>\n",
       "<style scoped>\n",
       "    .dataframe tbody tr th:only-of-type {\n",
       "        vertical-align: middle;\n",
       "    }\n",
       "\n",
       "    .dataframe tbody tr th {\n",
       "        vertical-align: top;\n",
       "    }\n",
       "\n",
       "    .dataframe thead th {\n",
       "        text-align: right;\n",
       "    }\n",
       "</style>\n",
       "<table border=\"1\" class=\"dataframe\">\n",
       "  <thead>\n",
       "    <tr style=\"text-align: right;\">\n",
       "      <th></th>\n",
       "      <th>Stars</th>\n",
       "      <th>Headline</th>\n",
       "      <th>Comment</th>\n",
       "      <th>Answer</th>\n",
       "      <th>Company</th>\n",
       "      <th>Words_Comment</th>\n",
       "      <th>Words_Headline</th>\n",
       "      <th>Words_Answer</th>\n",
       "      <th>log_Words_Headline</th>\n",
       "      <th>log_Words_Comment</th>\n",
       "      <th>log_Words_Answer</th>\n",
       "      <th>Stars_min_max_scaled</th>\n",
       "      <th>Stars_geq3_TF</th>\n",
       "      <th>Stars_geq4_TF</th>\n",
       "    </tr>\n",
       "  </thead>\n",
       "  <tbody>\n",
       "    <tr>\n",
       "      <th>20</th>\n",
       "      <td>1</td>\n",
       "      <td>Schlechter Service bei Anfragen per Mail</td>\n",
       "      <td>Wichtige Anfragen / Änderungen per Mail vom 02...</td>\n",
       "      <td>Hallo Jörg, vielen Dank für deine Zeit in der ...</td>\n",
       "      <td>Octopus Energy Germany</td>\n",
       "      <td>38.0</td>\n",
       "      <td>6</td>\n",
       "      <td>45.0</td>\n",
       "      <td>1.791759</td>\n",
       "      <td>3.637586</td>\n",
       "      <td>3.806662</td>\n",
       "      <td>0.00</td>\n",
       "      <td>0</td>\n",
       "      <td>0</td>\n",
       "    </tr>\n",
       "    <tr>\n",
       "      <th>22</th>\n",
       "      <td>1</td>\n",
       "      <td>ungefragt Duzen und Gendersprache!</td>\n",
       "      <td>ich habe es schon bereut diesen Anbieter gewäh...</td>\n",
       "      <td>Hallo Thomas, vielen Dank für deine Zeit, die ...</td>\n",
       "      <td>Octopus Energy Germany</td>\n",
       "      <td>45.0</td>\n",
       "      <td>4</td>\n",
       "      <td>50.0</td>\n",
       "      <td>1.386294</td>\n",
       "      <td>3.806662</td>\n",
       "      <td>3.912023</td>\n",
       "      <td>0.00</td>\n",
       "      <td>0</td>\n",
       "      <td>0</td>\n",
       "    </tr>\n",
       "    <tr>\n",
       "      <th>40</th>\n",
       "      <td>4</td>\n",
       "      <td>Willkommen</td>\n",
       "      <td>Der Wechsel war sehr einfach und verlief probl...</td>\n",
       "      <td>Hallo Kirsten,vielen Dank für deine gute Bewer...</td>\n",
       "      <td>Octopus Energy Germany</td>\n",
       "      <td>22.0</td>\n",
       "      <td>1</td>\n",
       "      <td>24.0</td>\n",
       "      <td>0.000000</td>\n",
       "      <td>3.091042</td>\n",
       "      <td>3.178054</td>\n",
       "      <td>0.75</td>\n",
       "      <td>1</td>\n",
       "      <td>1</td>\n",
       "    </tr>\n",
       "    <tr>\n",
       "      <th>41</th>\n",
       "      <td>4</td>\n",
       "      <td>Der Anbieterwechsel klappt super</td>\n",
       "      <td>Der Anbieterwechsel (Papierkram) hat super gek...</td>\n",
       "      <td>Hallo Thomas,danke dir vielmals für die gute B...</td>\n",
       "      <td>Octopus Energy Germany</td>\n",
       "      <td>19.0</td>\n",
       "      <td>4</td>\n",
       "      <td>12.0</td>\n",
       "      <td>1.386294</td>\n",
       "      <td>2.944439</td>\n",
       "      <td>2.484907</td>\n",
       "      <td>0.75</td>\n",
       "      <td>1</td>\n",
       "      <td>1</td>\n",
       "    </tr>\n",
       "    <tr>\n",
       "      <th>49</th>\n",
       "      <td>4</td>\n",
       "      <td>Bis jetzt war alles zufriedenstellend</td>\n",
       "      <td>Bis jetzt war alles zufriedenstellend Vom Erst...</td>\n",
       "      <td>Hallo Heiko,vielen Dank für deine gute Bewertu...</td>\n",
       "      <td>Octopus Energy Germany</td>\n",
       "      <td>27.0</td>\n",
       "      <td>5</td>\n",
       "      <td>24.0</td>\n",
       "      <td>1.609438</td>\n",
       "      <td>3.295837</td>\n",
       "      <td>3.178054</td>\n",
       "      <td>0.75</td>\n",
       "      <td>1</td>\n",
       "      <td>1</td>\n",
       "    </tr>\n",
       "  </tbody>\n",
       "</table>\n",
       "</div>"
      ],
      "text/plain": [
       "    Stars                                  Headline  \\\n",
       "20      1  Schlechter Service bei Anfragen per Mail   \n",
       "22      1        ungefragt Duzen und Gendersprache!   \n",
       "40      4                                Willkommen   \n",
       "41      4          Der Anbieterwechsel klappt super   \n",
       "49      4     Bis jetzt war alles zufriedenstellend   \n",
       "\n",
       "                                              Comment  \\\n",
       "20  Wichtige Anfragen / Änderungen per Mail vom 02...   \n",
       "22  ich habe es schon bereut diesen Anbieter gewäh...   \n",
       "40  Der Wechsel war sehr einfach und verlief probl...   \n",
       "41  Der Anbieterwechsel (Papierkram) hat super gek...   \n",
       "49  Bis jetzt war alles zufriedenstellend Vom Erst...   \n",
       "\n",
       "                                               Answer                 Company  \\\n",
       "20  Hallo Jörg, vielen Dank für deine Zeit in der ...  Octopus Energy Germany   \n",
       "22  Hallo Thomas, vielen Dank für deine Zeit, die ...  Octopus Energy Germany   \n",
       "40  Hallo Kirsten,vielen Dank für deine gute Bewer...  Octopus Energy Germany   \n",
       "41  Hallo Thomas,danke dir vielmals für die gute B...  Octopus Energy Germany   \n",
       "49  Hallo Heiko,vielen Dank für deine gute Bewertu...  Octopus Energy Germany   \n",
       "\n",
       "    Words_Comment  Words_Headline  Words_Answer  log_Words_Headline  \\\n",
       "20           38.0               6          45.0            1.791759   \n",
       "22           45.0               4          50.0            1.386294   \n",
       "40           22.0               1          24.0            0.000000   \n",
       "41           19.0               4          12.0            1.386294   \n",
       "49           27.0               5          24.0            1.609438   \n",
       "\n",
       "    log_Words_Comment  log_Words_Answer  Stars_min_max_scaled  Stars_geq3_TF  \\\n",
       "20           3.637586          3.806662                  0.00              0   \n",
       "22           3.806662          3.912023                  0.00              0   \n",
       "40           3.091042          3.178054                  0.75              1   \n",
       "41           2.944439          2.484907                  0.75              1   \n",
       "49           3.295837          3.178054                  0.75              1   \n",
       "\n",
       "    Stars_geq4_TF  \n",
       "20              0  \n",
       "22              0  \n",
       "40              1  \n",
       "41              1  \n",
       "49              1  "
      ]
     },
     "execution_count": 32,
     "metadata": {},
     "output_type": "execute_result"
    }
   ],
   "source": [
    "import numpy as np\n",
    "\n",
    "# Add logarithms to the data set for Words_Headline, Words_Comment (and Words_Answer for completeness)\n",
    "\n",
    "df_reduced['log_Words_Headline']=np.log(df_reduced['Words_Headline'])\n",
    "df_reduced['log_Words_Comment']=np.log(df_reduced['Words_Comment'])\n",
    "df_reduced['log_Words_Answer']=np.log(df_reduced['Words_Answer'])\n",
    "\n",
    "# Add min-max-scaler on stars column\n",
    "\n",
    "from sklearn.preprocessing import MinMaxScaler\n",
    "scaler=MinMaxScaler()\n",
    "scaler.fit(df_reduced[['Stars']])\n",
    "df_reduced['Stars_min_max_scaled']=scaler.transform(df_reduced[['Stars']])\n",
    "\n",
    "# Binary brackets for star rating\n",
    "\n",
    "df_reduced['Stars_geq3_TF']=[1 if x>2 else 0 for x in df_reduced['Stars']]\n",
    "df_reduced['Stars_geq4_TF']=[1 if x>3 else 0 for x in df_reduced['Stars']]\n",
    "\n",
    "# drop Answer_TF and Comment_TF as these are trivial by preselection.\n",
    "df_ml=df_reduced.drop(['Answer_TF','Comment_TF'],axis=1)\n",
    "\n",
    "df_ml.info()\n",
    "df_ml.head()"
   ]
  },
  {
   "cell_type": "code",
   "execution_count": 118,
   "metadata": {
    "colab": {
     "base_uri": "https://localhost:8080/"
    },
    "id": "kNMGcpgMEiNg",
    "outputId": "0303837b-61d3-4f45-853d-9f1bd9dedb62"
   },
   "outputs": [],
   "source": [
    "#from google.colab import drive\n",
    "#drive.mount('/content/drive')\n",
    "#df_ml.to_csv('/content/drive/My Drive/df_ml.csv', index=False)"
   ]
  },
  {
   "cell_type": "code",
   "execution_count": 122,
   "metadata": {
    "colab": {
     "base_uri": "https://localhost:8080/"
    },
    "id": "QxQqjiyuc_fW",
    "outputId": "57bc0d05-ff43-4fa1-b0b7-da769a09448b"
   },
   "outputs": [
    {
     "name": "stdout",
     "output_type": "stream",
     "text": [
      "<class 'pandas.core.frame.DataFrame'>\n",
      "Index: 38896 entries, 0 to 45134\n",
      "Data columns (total 14 columns):\n",
      " #   Column                Non-Null Count  Dtype  \n",
      "---  ------                --------------  -----  \n",
      " 0   Stars                 38896 non-null  int64  \n",
      " 1   Headline              38896 non-null  object \n",
      " 2   Comment               38896 non-null  object \n",
      " 3   Answer                25046 non-null  object \n",
      " 4   Company               38896 non-null  object \n",
      " 5   Words_Comment         38896 non-null  float64\n",
      " 6   Words_Headline        38896 non-null  int64  \n",
      " 7   Words_Answer          25046 non-null  float64\n",
      " 8   log_Words_Headline    38896 non-null  float64\n",
      " 9   log_Words_Comment     38896 non-null  float64\n",
      " 10  log_Words_Answer      25046 non-null  float64\n",
      " 11  Stars_min_max_scaled  38896 non-null  float64\n",
      " 12  Stars_geq3_TF         38896 non-null  int64  \n",
      " 13  Stars_geq4_TF         38896 non-null  int64  \n",
      "dtypes: float64(6), int64(4), object(4)\n",
      "memory usage: 4.5+ MB\n"
     ]
    }
   ],
   "source": [
    "keep=['Stars','Headline','Comment','Answer','Comment_TF','Answer_TF','Company','Words_Comment','Words_Headline','Words_Answer']\n",
    "df_reduced=df[keep]\n",
    "\n",
    "#Select rows where comments exist\n",
    "df_reduced=df_reduced[df_reduced['Comment_TF']==1]\n",
    "\n",
    "import numpy as np\n",
    "\n",
    "# Add logarithms to the data set for Words_Headline, Words_Comment (and Words_Answer for completeness)\n",
    "\n",
    "df_reduced['log_Words_Headline']=np.log(df_reduced['Words_Headline'])\n",
    "df_reduced['log_Words_Comment']=np.log(df_reduced['Words_Comment'])\n",
    "df_reduced['log_Words_Answer']=np.log(df_reduced['Words_Answer'])\n",
    "\n",
    "# Add min-max-scaler on stars column\n",
    "\n",
    "from sklearn.preprocessing import MinMaxScaler\n",
    "scaler=MinMaxScaler()\n",
    "scaler.fit(df_reduced[['Stars']])\n",
    "df_reduced['Stars_min_max_scaled']=scaler.transform(df_reduced[['Stars']])\n",
    "\n",
    "# Binary brackets for star rating\n",
    "\n",
    "df_reduced['Stars_geq3_TF']=[1 if x>2 else 0 for x in df_reduced['Stars']]\n",
    "df_reduced['Stars_geq4_TF']=[1 if x>3 else 0 for x in df_reduced['Stars']]\n",
    "\n",
    "# drop Answer_TF and Comment_TF as these are trivial by preselection.\n",
    "df_ml_no_answer_selection=df_reduced.drop(['Answer_TF','Comment_TF'],axis=1)\n",
    "\n",
    "df_ml_no_answer_selection.info()\n",
    "\n",
    "#df_ml_no_answer_selection.to_csv('/content/drive/My Drive/df_ml_no_answer_selection.csv', index=False)"
   ]
  },
  {
   "cell_type": "markdown",
   "metadata": {
    "id": "8wZX_n2gkg6G"
   },
   "source": [
    "## Predicting star rating with sentiment analysis"
   ]
  },
  {
   "cell_type": "code",
   "execution_count": 1,
   "metadata": {
    "colab": {
     "base_uri": "https://localhost:8080/",
     "height": 816
    },
    "id": "qaBTMDpzlopW",
    "outputId": "8995085b-6a88-435d-a682-bd999753f8a9"
   },
   "outputs": [
    {
     "name": "stdout",
     "output_type": "stream",
     "text": [
      "<class 'pandas.core.frame.DataFrame'>\n",
      "Index: 38896 entries, 0 to 45134\n",
      "Data columns (total 15 columns):\n",
      " #   Column                Non-Null Count  Dtype  \n",
      "---  ------                --------------  -----  \n",
      " 0   Stars                 38896 non-null  int64  \n",
      " 1   Headline              38896 non-null  object \n",
      " 2   Comment               38896 non-null  object \n",
      " 3   Answer                25046 non-null  object \n",
      " 4   Answer_TF             38896 non-null  int64  \n",
      " 5   Company               38896 non-null  object \n",
      " 6   Words_Comment         38896 non-null  float64\n",
      " 7   Words_Headline        38896 non-null  int64  \n",
      " 8   Words_Answer          25046 non-null  float64\n",
      " 9   log_Words_Headline    38896 non-null  float64\n",
      " 10  log_Words_Comment     38896 non-null  float64\n",
      " 11  log_Words_Answer      25046 non-null  float64\n",
      " 12  Stars_min_max_scaled  38896 non-null  float64\n",
      " 13  Stars_geq3_TF         38896 non-null  int64  \n",
      " 14  Stars_geq4_TF         38896 non-null  int64  \n",
      "dtypes: float64(6), int64(5), object(4)\n",
      "memory usage: 4.7+ MB\n"
     ]
    },
    {
     "data": {
      "text/html": [
       "<div>\n",
       "<style scoped>\n",
       "    .dataframe tbody tr th:only-of-type {\n",
       "        vertical-align: middle;\n",
       "    }\n",
       "\n",
       "    .dataframe tbody tr th {\n",
       "        vertical-align: top;\n",
       "    }\n",
       "\n",
       "    .dataframe thead th {\n",
       "        text-align: right;\n",
       "    }\n",
       "</style>\n",
       "<table border=\"1\" class=\"dataframe\">\n",
       "  <thead>\n",
       "    <tr style=\"text-align: right;\">\n",
       "      <th></th>\n",
       "      <th>Stars</th>\n",
       "      <th>Headline</th>\n",
       "      <th>Comment</th>\n",
       "      <th>Answer</th>\n",
       "      <th>Answer_TF</th>\n",
       "      <th>Company</th>\n",
       "      <th>Words_Comment</th>\n",
       "      <th>Words_Headline</th>\n",
       "      <th>Words_Answer</th>\n",
       "      <th>log_Words_Headline</th>\n",
       "      <th>log_Words_Comment</th>\n",
       "      <th>log_Words_Answer</th>\n",
       "      <th>Stars_min_max_scaled</th>\n",
       "      <th>Stars_geq3_TF</th>\n",
       "      <th>Stars_geq4_TF</th>\n",
       "    </tr>\n",
       "  </thead>\n",
       "  <tbody>\n",
       "    <tr>\n",
       "      <th>0</th>\n",
       "      <td>5</td>\n",
       "      <td>Seriös und preiswert:</td>\n",
       "      <td>Seriös und preiswert:nach einer ziemlich unang...</td>\n",
       "      <td>NaN</td>\n",
       "      <td>0</td>\n",
       "      <td>Octopus Energy Germany</td>\n",
       "      <td>62.0</td>\n",
       "      <td>3</td>\n",
       "      <td>NaN</td>\n",
       "      <td>1.098612</td>\n",
       "      <td>4.127134</td>\n",
       "      <td>NaN</td>\n",
       "      <td>1.0</td>\n",
       "      <td>1</td>\n",
       "      <td>1</td>\n",
       "    </tr>\n",
       "    <tr>\n",
       "      <th>1</th>\n",
       "      <td>5</td>\n",
       "      <td>Tarif mit vernünftigem Preis</td>\n",
       "      <td>Tarif mit vernünftigem Preis bei niedrigem Ein...</td>\n",
       "      <td>NaN</td>\n",
       "      <td>0</td>\n",
       "      <td>Octopus Energy Germany</td>\n",
       "      <td>41.0</td>\n",
       "      <td>4</td>\n",
       "      <td>NaN</td>\n",
       "      <td>1.386294</td>\n",
       "      <td>3.713572</td>\n",
       "      <td>NaN</td>\n",
       "      <td>1.0</td>\n",
       "      <td>1</td>\n",
       "      <td>1</td>\n",
       "    </tr>\n",
       "    <tr>\n",
       "      <th>2</th>\n",
       "      <td>5</td>\n",
       "      <td>Ringo Star</td>\n",
       "      <td>Supi Anbieterwechsel,klappt alles mit dem vora...</td>\n",
       "      <td>NaN</td>\n",
       "      <td>0</td>\n",
       "      <td>Octopus Energy Germany</td>\n",
       "      <td>37.0</td>\n",
       "      <td>2</td>\n",
       "      <td>NaN</td>\n",
       "      <td>0.693147</td>\n",
       "      <td>3.610918</td>\n",
       "      <td>NaN</td>\n",
       "      <td>1.0</td>\n",
       "      <td>1</td>\n",
       "      <td>1</td>\n",
       "    </tr>\n",
       "    <tr>\n",
       "      <th>3</th>\n",
       "      <td>5</td>\n",
       "      <td>Schritt für Schritt transparent</td>\n",
       "      <td>Erstmalig habe ich mich bei Octopus Engergy an...</td>\n",
       "      <td>NaN</td>\n",
       "      <td>0</td>\n",
       "      <td>Octopus Energy Germany</td>\n",
       "      <td>41.0</td>\n",
       "      <td>4</td>\n",
       "      <td>NaN</td>\n",
       "      <td>1.386294</td>\n",
       "      <td>3.713572</td>\n",
       "      <td>NaN</td>\n",
       "      <td>1.0</td>\n",
       "      <td>1</td>\n",
       "      <td>1</td>\n",
       "    </tr>\n",
       "    <tr>\n",
       "      <th>4</th>\n",
       "      <td>5</td>\n",
       "      <td>HOHE ZUFRIEDENHEIT</td>\n",
       "      <td>HOHE ZUFRIEDENHEIT BEIM NEUEN ANBIETER  OCTOPU...</td>\n",
       "      <td>NaN</td>\n",
       "      <td>0</td>\n",
       "      <td>Octopus Energy Germany</td>\n",
       "      <td>70.0</td>\n",
       "      <td>2</td>\n",
       "      <td>NaN</td>\n",
       "      <td>0.693147</td>\n",
       "      <td>4.248495</td>\n",
       "      <td>NaN</td>\n",
       "      <td>1.0</td>\n",
       "      <td>1</td>\n",
       "      <td>1</td>\n",
       "    </tr>\n",
       "  </tbody>\n",
       "</table>\n",
       "</div>"
      ],
      "text/plain": [
       "   Stars                         Headline  \\\n",
       "0      5            Seriös und preiswert:   \n",
       "1      5     Tarif mit vernünftigem Preis   \n",
       "2      5                       Ringo Star   \n",
       "3      5  Schritt für Schritt transparent   \n",
       "4      5               HOHE ZUFRIEDENHEIT   \n",
       "\n",
       "                                             Comment Answer  Answer_TF  \\\n",
       "0  Seriös und preiswert:nach einer ziemlich unang...    NaN          0   \n",
       "1  Tarif mit vernünftigem Preis bei niedrigem Ein...    NaN          0   \n",
       "2  Supi Anbieterwechsel,klappt alles mit dem vora...    NaN          0   \n",
       "3  Erstmalig habe ich mich bei Octopus Engergy an...    NaN          0   \n",
       "4  HOHE ZUFRIEDENHEIT BEIM NEUEN ANBIETER  OCTOPU...    NaN          0   \n",
       "\n",
       "                  Company  Words_Comment  Words_Headline  Words_Answer  \\\n",
       "0  Octopus Energy Germany           62.0               3           NaN   \n",
       "1  Octopus Energy Germany           41.0               4           NaN   \n",
       "2  Octopus Energy Germany           37.0               2           NaN   \n",
       "3  Octopus Energy Germany           41.0               4           NaN   \n",
       "4  Octopus Energy Germany           70.0               2           NaN   \n",
       "\n",
       "   log_Words_Headline  log_Words_Comment  log_Words_Answer  \\\n",
       "0            1.098612           4.127134               NaN   \n",
       "1            1.386294           3.713572               NaN   \n",
       "2            0.693147           3.610918               NaN   \n",
       "3            1.386294           3.713572               NaN   \n",
       "4            0.693147           4.248495               NaN   \n",
       "\n",
       "   Stars_min_max_scaled  Stars_geq3_TF  Stars_geq4_TF  \n",
       "0                   1.0              1              1  \n",
       "1                   1.0              1              1  \n",
       "2                   1.0              1              1  \n",
       "3                   1.0              1              1  \n",
       "4                   1.0              1              1  "
      ]
     },
     "execution_count": 1,
     "metadata": {},
     "output_type": "execute_result"
    }
   ],
   "source": [
    "import pandas as pd\n",
    "import numpy as np\n",
    "from sklearn.preprocessing import MinMaxScaler\n",
    "\n",
    "# We start with our preprocessed data set\n",
    "path_colab_online='/content/drive/MyDrive/Supply Chain - Customer Satisfaction/Data/all_suppliers_data_processed.csv'\n",
    "\n",
    "path_local=r\"C:\\Users\\isele\\OneDrive\\Dokumente\\GitHub\\Graduation_Project_Matthias_Isele\\notebooks\\all_suppliers_data_processed.csv\"\n",
    "\n",
    "path=path_local\n",
    "df=pd.read_csv(path, index_col=0)\n",
    "\n",
    "\n",
    "\n",
    "# We focus on word counts and stars\n",
    "keep=['Stars','Headline','Comment','Answer','Comment_TF','Answer_TF','Company','Words_Comment','Words_Headline','Words_Answer']\n",
    "df_reduced=df[keep]\n",
    "\n",
    "# Select rows where comments exist and drop 'Comment_TF' variable, as it is now trivial\n",
    "df_reduced=df_reduced[df_reduced['Comment_TF']==1 ].drop(['Comment_TF'],axis=1)\n",
    "\n",
    "# Add logarithms to the data set for Words_Headline, Words_Comment (and Words_Answer for completeness)\n",
    "df_reduced['log_Words_Headline']=np.log(df_reduced['Words_Headline'])\n",
    "df_reduced['log_Words_Comment']=np.log(df_reduced['Words_Comment'])\n",
    "df_reduced['log_Words_Answer']=np.log(df_reduced['Words_Answer'])\n",
    "\n",
    "# Add min-max-scaler on stars column\n",
    "scaler=MinMaxScaler()\n",
    "scaler.fit(df_reduced[['Stars']])\n",
    "df_reduced['Stars_min_max_scaled']=scaler.transform(df_reduced[['Stars']])\n",
    "\n",
    "# Binary brackets for star rating\n",
    "df_reduced['Stars_geq3_TF']=[1 if x>2 else 0 for x in df_reduced['Stars']]\n",
    "df_reduced['Stars_geq4_TF']=[1 if x>3 else 0 for x in df_reduced['Stars']]\n",
    "\n",
    "# See results\n",
    "df_ml_rating=df_reduced\n",
    "df_ml_rating.info()\n",
    "df_ml_rating.head()\n"
   ]
  },
  {
   "cell_type": "markdown",
   "metadata": {
    "id": "9KEHR2bqtVSu"
   },
   "source": [
    "### Sentiment analysis of Comments (over all suppliers)"
   ]
  },
  {
   "cell_type": "code",
   "execution_count": null,
   "metadata": {
    "colab": {
     "base_uri": "https://localhost:8080/",
     "height": 769
    },
    "id": "UOVq-wuCtuRX",
    "outputId": "919ee34c-b3ba-4850-f6bf-90e194ddbc83"
   },
   "outputs": [
    {
     "name": "stderr",
     "output_type": "stream",
     "text": [
      "C:\\Users\\isele\\AppData\\Local\\Temp\\ipykernel_3188\\3369999814.py:8: SettingWithCopyWarning: \n",
      "A value is trying to be set on a copy of a slice from a DataFrame.\n",
      "Try using .loc[row_indexer,col_indexer] = value instead\n",
      "\n",
      "See the caveats in the documentation: https://pandas.pydata.org/pandas-docs/stable/user_guide/indexing.html#returning-a-view-versus-a-copy\n",
      "  df_ml_sa['Comment_alpha']=df_ml_sa['Comment']\\\n",
      "[nltk_data] Downloading package stopwords to\n",
      "[nltk_data]     C:\\Users\\isele\\AppData\\Roaming\\nltk_data...\n",
      "[nltk_data]   Package stopwords is already up-to-date!\n",
      "C:\\Users\\isele\\AppData\\Local\\Temp\\ipykernel_3188\\3369999814.py:21: SettingWithCopyWarning: \n",
      "A value is trying to be set on a copy of a slice from a DataFrame.\n",
      "Try using .loc[row_indexer,col_indexer] = value instead\n",
      "\n",
      "See the caveats in the documentation: https://pandas.pydata.org/pandas-docs/stable/user_guide/indexing.html#returning-a-view-versus-a-copy\n",
      "  df_ml_sa['Comment_no_stopwords']=df_ml_sa['Comment_alpha']\\\n"
     ]
    },
    {
     "data": {
      "text/html": [
       "<div>\n",
       "<style scoped>\n",
       "    .dataframe tbody tr th:only-of-type {\n",
       "        vertical-align: middle;\n",
       "    }\n",
       "\n",
       "    .dataframe tbody tr th {\n",
       "        vertical-align: top;\n",
       "    }\n",
       "\n",
       "    .dataframe thead th {\n",
       "        text-align: right;\n",
       "    }\n",
       "</style>\n",
       "<table border=\"1\" class=\"dataframe\">\n",
       "  <thead>\n",
       "    <tr style=\"text-align: right;\">\n",
       "      <th></th>\n",
       "      <th>Comment</th>\n",
       "      <th>Stars_geq4_TF</th>\n",
       "      <th>Comment_alpha</th>\n",
       "      <th>Comment_no_stopwords</th>\n",
       "    </tr>\n",
       "  </thead>\n",
       "  <tbody>\n",
       "    <tr>\n",
       "      <th>0</th>\n",
       "      <td>Seriös und preiswert:nach einer ziemlich unang...</td>\n",
       "      <td>1</td>\n",
       "      <td>seriös und preiswert nach einer ziemlich unang...</td>\n",
       "      <td>serioes preiswert ziemlich unangemessenen prei...</td>\n",
       "    </tr>\n",
       "    <tr>\n",
       "      <th>1</th>\n",
       "      <td>Tarif mit vernünftigem Preis bei niedrigem Ein...</td>\n",
       "      <td>1</td>\n",
       "      <td>tarif mit vernünftigem preis bei niedrigem ein...</td>\n",
       "      <td>tarif vernuenftigem preis niedrigem einmalbonu...</td>\n",
       "    </tr>\n",
       "    <tr>\n",
       "      <th>2</th>\n",
       "      <td>Supi Anbieterwechsel,klappt alles mit dem vora...</td>\n",
       "      <td>1</td>\n",
       "      <td>supi anbieterwechsel klappt alles mit dem vora...</td>\n",
       "      <td>supi anbieterwechsel klappt voraussichtlichen ...</td>\n",
       "    </tr>\n",
       "    <tr>\n",
       "      <th>3</th>\n",
       "      <td>Erstmalig habe ich mich bei Octopus Engergy an...</td>\n",
       "      <td>1</td>\n",
       "      <td>erstmalig habe ich mich bei octopus engergy an...</td>\n",
       "      <td>erstmalig octopus engergy angemeldet ganze anm...</td>\n",
       "    </tr>\n",
       "    <tr>\n",
       "      <th>4</th>\n",
       "      <td>HOHE ZUFRIEDENHEIT BEIM NEUEN ANBIETER  OCTOPU...</td>\n",
       "      <td>1</td>\n",
       "      <td>hohe zufriedenheit beim neuen anbieter octopus...</td>\n",
       "      <td>hohe zufriedenheit beim neuen anbieter octopus...</td>\n",
       "    </tr>\n",
       "  </tbody>\n",
       "</table>\n",
       "</div>"
      ],
      "text/plain": [
       "                                             Comment  Stars_geq4_TF  \\\n",
       "0  Seriös und preiswert:nach einer ziemlich unang...              1   \n",
       "1  Tarif mit vernünftigem Preis bei niedrigem Ein...              1   \n",
       "2  Supi Anbieterwechsel,klappt alles mit dem vora...              1   \n",
       "3  Erstmalig habe ich mich bei Octopus Engergy an...              1   \n",
       "4  HOHE ZUFRIEDENHEIT BEIM NEUEN ANBIETER  OCTOPU...              1   \n",
       "\n",
       "                                       Comment_alpha  \\\n",
       "0  seriös und preiswert nach einer ziemlich unang...   \n",
       "1  tarif mit vernünftigem preis bei niedrigem ein...   \n",
       "2  supi anbieterwechsel klappt alles mit dem vora...   \n",
       "3  erstmalig habe ich mich bei octopus engergy an...   \n",
       "4  hohe zufriedenheit beim neuen anbieter octopus...   \n",
       "\n",
       "                                Comment_no_stopwords  \n",
       "0  serioes preiswert ziemlich unangemessenen prei...  \n",
       "1  tarif vernuenftigem preis niedrigem einmalbonu...  \n",
       "2  supi anbieterwechsel klappt voraussichtlichen ...  \n",
       "3  erstmalig octopus engergy angemeldet ganze anm...  \n",
       "4  hohe zufriedenheit beim neuen anbieter octopus...  "
      ]
     },
     "metadata": {},
     "output_type": "display_data"
    }
   ],
   "source": [
    "# We only use the 'Comment' column for sentiment analysis.\n",
    "# The the target variable will be the boolean variable 'Stars_geq4_TF'.\n",
    "df_ml_sa=df_ml_rating[['Comment','Stars_geq4_TF']]\n",
    "\n",
    "# Replace all non letters with empty space in Comment with regex\n",
    "# Transfer letters to lowercase and remove words of length 2 or less\n",
    "import re\n",
    "df_ml_sa['Comment_alpha']=df_ml_sa['Comment']\\\n",
    "  .apply(lambda x: re.sub(r'[^a-zA-ZäüöÄÜÖß]+', ' ', x).lower())\\\n",
    "  .apply(lambda x: re.sub(r'\\s[a-zäöü]{1}\\s', ' ', x))\\\n",
    "  .apply(lambda x: re.sub(r'\\s[a-zäöü]{2}\\s', ' ', x))\n",
    "\n",
    "# import stop german words\n",
    "import nltk\n",
    "nltk.download('stopwords')\n",
    "from nltk.corpus import stopwords\n",
    "stop_words = stopwords.words('german')\n",
    "\n",
    "# Remove stop words of Comment and replace special characters\n",
    "special_char_map = {ord('ä'):'ae', ord('ü'):'ue', ord('ö'):'oe', ord('ß'):'ss'}\n",
    "df_ml_sa['Comment_no_stopwords']=df_ml_sa['Comment_alpha']\\\n",
    "  .apply(lambda x: ' '.join([word for word in x.split() if word not in (stop_words)]).translate(special_char_map))\n",
    "\n",
    "display(df_ml_sa.head())\n",
    "\n",
    "# Sentiment analysis and model training with CountVectorizer ans GradientBoostingClassifier\n",
    "from sklearn.feature_extraction.text import CountVectorizer\n",
    "from sklearn.ensemble import GradientBoostingClassifier\n",
    "\n",
    "#Choose data and target\n",
    "data=df_ml_sa['Comment_no_stopwords']\n",
    "target=df_ml_sa['Stars_geq4_TF']\n",
    "\n",
    "# Train test split\n",
    "from sklearn.model_selection import train_test_split\n",
    "X_train, X_test, y_train, y_test = train_test_split(data, target, test_size=0.2, random_state=1)\n",
    "\n",
    "# Initialize a vectorizer object\n",
    "vectorizer = CountVectorizer()\n",
    "\n",
    "# Update the value of X_train and X_test\n",
    "X_train = np.asarray(vectorizer.fit_transform(X_train).todense())\n",
    "X_test = np.asarray(vectorizer.transform(X_test).todense())\n",
    "\n",
    "# Create a clf classifier and train the model on the training set\n",
    "clf = GradientBoostingClassifier(n_estimators=100, learning_rate=1.0, max_depth=1, random_state=0)\\\n",
    "  .fit(X_train, y_train)\n",
    "\n",
    "# Calculate predictions\n",
    "y_pred = clf.predict(X_test)\n",
    "\n",
    "# Confusion matrix\n",
    "confusion_matrix_sa = pd.crosstab(y_test, y_pred, rownames=['Actual class'], colnames=['Predicted clas'])\n",
    "confusion_matrix_sa"
   ]
  },
  {
   "cell_type": "code",
   "execution_count": null,
   "metadata": {
    "colab": {
     "base_uri": "https://localhost:8080/",
     "height": 143
    },
    "id": "YQrba4qvx_FA",
    "outputId": "d988fa69-6513-4b44-8c83-2458c85a98f4"
   },
   "outputs": [],
   "source": [
    "# Comparison to logistic regression on numerical variables\n",
    "# Choose data and target\n",
    "data_columns=['log_Words_Comment','log_Words_Headline']\n",
    "data=df_ml_rating[data_columns]\n",
    "\n",
    "target=df_ml_rating['Stars_geq4_TF']\n",
    "\n",
    "# Train test split\n",
    "from sklearn.model_selection import train_test_split\n",
    "X_train, X_test, y_train, y_test = train_test_split(data, target, test_size=0.2, random_state=1)\n",
    "\n",
    "# Standard scale the columns ['log_Words_Comment','log_Words_Headline']\n",
    "from sklearn.preprocessing import StandardScaler\n",
    "scale=StandardScaler()\n",
    "scale.fit(X_train[['log_Words_Comment','log_Words_Headline']])\n",
    "X_train_scaled=X_train\n",
    "X_test_scaled=X_test\n",
    "X_train_scaled[['log_Words_Comment','log_Words_Headline']]=scale.transform(X_train[['log_Words_Comment','log_Words_Headline']])\n",
    "X_test_scaled[['log_Words_Comment','log_Words_Headline']]=scale.transform(X_test[['log_Words_Comment','log_Words_Headline']])\n",
    "\n",
    "# Modelling with logistic regression\n",
    "from sklearn.linear_model import LogisticRegression\n",
    "logreg=LogisticRegression()\n",
    "logreg.fit(X_train_scaled, y_train)\n",
    "logreg.coef_\n",
    "\n",
    "# Confusion matrix of prediction for test set\n",
    "y_pred_test=logreg.predict(X_test_scaled)\n",
    "pd.crosstab(y_pred_test,y_test)"
   ]
  },
  {
   "cell_type": "markdown",
   "metadata": {
    "id": "FBdnpR3kYY6s"
   },
   "source": [
    "## Predicting answers\n"
   ]
  },
  {
   "cell_type": "markdown",
   "metadata": {
    "id": "qG2q-k7sYggQ"
   },
   "source": [
    "### For E.ON Energy"
   ]
  },
  {
   "cell_type": "code",
   "execution_count": 7,
   "metadata": {
    "colab": {
     "base_uri": "https://localhost:8080/"
    },
    "id": "OzJUGnYUYwnv",
    "outputId": "5fa8e990-21f8-4107-af51-72c4bc72abd8"
   },
   "outputs": [
    {
     "name": "stdout",
     "output_type": "stream",
     "text": [
      "<class 'pandas.core.frame.DataFrame'>\n",
      "Index: 4965 entries, 5 to 1\n",
      "Data columns (total 13 columns):\n",
      " #   Column                Non-Null Count  Dtype  \n",
      "---  ------                --------------  -----  \n",
      " 0   Headline              4965 non-null   object \n",
      " 1   Comment               4965 non-null   object \n",
      " 2   Answer                4965 non-null   object \n",
      " 3   Company               4965 non-null   object \n",
      " 4   Words_Comment         4965 non-null   float64\n",
      " 5   Words_Headline        4965 non-null   int64  \n",
      " 6   Words_Answer          4965 non-null   float64\n",
      " 7   log_Words_Headline    4965 non-null   float64\n",
      " 8   log_Words_Comment     4965 non-null   float64\n",
      " 9   log_Words_Answer      4965 non-null   float64\n",
      " 10  Stars_min_max_scaled  4965 non-null   float64\n",
      " 11  Stars_geq3_TF         4965 non-null   int64  \n",
      " 12  Stars_geq4_TF         4965 non-null   int64  \n",
      "dtypes: float64(6), int64(3), object(4)\n",
      "memory usage: 543.0+ KB\n"
     ]
    }
   ],
   "source": [
    "# Restricting the data set to E.ON Energy\n",
    "#path_colab_online='/content/drive/MyDrive/Supply Chain - Customer Satisfaction/Data/all_suppliers_data_processed.csv'\n",
    "path_local=r\"C:\\Users\\isele\\OneDrive\\Dokumente\\GitHub\\Graduation_Project_Matthias_Isele\\notebooks\\df_ml.csv\"\n",
    "\n",
    "path=path_local\n",
    "df_ml=pd.read_csv(path, index_col=0)\n",
    "\n",
    "df_ml_EON=df_ml[df_ml['Company']== 'E.ON Energie Deutschland GmbH']\n",
    "df_ml_EON.info()"
   ]
  },
  {
   "cell_type": "markdown",
   "metadata": {
    "id": "-QxVq--QbwJ5"
   },
   "source": [
    "#### Classification of Answers and first prediction with logistic regression"
   ]
  },
  {
   "cell_type": "code",
   "execution_count": 9,
   "metadata": {
    "colab": {
     "base_uri": "https://localhost:8080/"
    },
    "id": "UkEc6zy6bQY-",
    "outputId": "8c82fcdd-8c84-4f2f-d070-67118447c1be"
   },
   "outputs": [
    {
     "data": {
      "text/plain": [
       "Stars\n",
       "1    119.698522\n",
       "2    119.702703\n",
       "3    119.543974\n",
       "4     53.933514\n",
       "5     53.982359\n",
       "Name: Words_Answer, dtype: float64"
      ]
     },
     "execution_count": 9,
     "metadata": {},
     "output_type": "execute_result"
    }
   ],
   "source": [
    "# E.ON Energy seems to have standard answer lengths for 1-3 stars and 4-5 stars.\n",
    "# We should use the binary star column 'Stars_geq4_TF'.\n",
    "\n",
    "df_ml_EON.groupby(['Stars'])['Words_Answer'].mean()"
   ]
  },
  {
   "cell_type": "code",
   "execution_count": 11,
   "metadata": {
    "colab": {
     "base_uri": "https://localhost:8080/"
    },
    "id": "x8XD_EhYckt6",
    "outputId": "ae98e75b-20eb-4f4f-fa09-1266bf942632"
   },
   "outputs": [
    {
     "data": {
      "text/plain": [
       "Stars\n",
       "3     Lieber Trustpilot Nutzer,  vielen Dank für deine offenen Worte. Es tut uns sehr leid, dass du dich im Moment über uns ärgerst. Danke, dass du dir die Zeit für eine Bewertung hier auf Trustpilot genommen hast. Du ahnst es wahrscheinlich schon: Weil wir hier auf einer externen Bewertungsplattform sind, liest du eine automatisierte Antwort. Trotzdem hilfst du uns mit deiner Nachricht sehr unseren Service und unsere Produkte weiter zu verbessern. Solltest du offene Fragen haben, beantwortet unser Kundenservice diese gern.  Dazu ein kleiner Hinweis: Aktuell erreichen uns sehr viele Kundenanfragen, so dass es zu längeren Wartezeiten auf all unseren Servicekanälen kommt. Dafür bitten wir um Entschuldigung und bedanken uns für deine Geduld. Herzliche Grüße deine E.ON Energie Deutschland\n",
       "Name: Answer, dtype: object"
      ]
     },
     "execution_count": 11,
     "metadata": {},
     "output_type": "execute_result"
    }
   ],
   "source": [
    "# Standard answer for 1-3 stars:\n",
    "pd.set_option('display.max_colwidth', None)\n",
    "(df_ml_EON[(df_ml_EON['Stars_geq4_TF']==0)&(df_ml_EON['Words_Answer']==121)]['Answer']).head(1)"
   ]
  },
  {
   "cell_type": "code",
   "execution_count": 13,
   "metadata": {
    "colab": {
     "base_uri": "https://localhost:8080/"
    },
    "id": "8liAEvtBetpu",
    "outputId": "0a3541d8-341a-4d1d-fc57-79608d48748e"
   },
   "outputs": [
    {
     "data": {
      "text/plain": [
       "Stars\n",
       "5     Lieber Trustpilot Nutzer, wir freuen uns sehr, dass du zufrieden mit uns bist! Herzlichen Dank für dein positives Feedback und dafür, dass du dir die Zeit für eine Bewertung hier auf Trustpilot genommen hast. Damit hilfst du uns, unseren Service und unsere Produkte weiter zu verbessern.  Viele Grüße deine E.ON Energie Deutschland\n",
       "Name: Answer, dtype: object"
      ]
     },
     "execution_count": 13,
     "metadata": {},
     "output_type": "execute_result"
    }
   ],
   "source": [
    "# Standard answer for 4-5 stars:\n",
    "(df_ml_EON[(df_ml_EON['Stars_geq4_TF']==1)&(df_ml_EON['Words_Answer']==54)]['Answer']).head(1)"
   ]
  },
  {
   "cell_type": "code",
   "execution_count": 15,
   "metadata": {
    "colab": {
     "base_uri": "https://localhost:8080/",
     "height": 963
    },
    "id": "QywCipbdNjXw",
    "outputId": "5b673620-a46c-417f-d0f0-3f458cc5a4c8"
   },
   "outputs": [
    {
     "data": {
      "text/html": [
       "<div>\n",
       "<style scoped>\n",
       "    .dataframe tbody tr th:only-of-type {\n",
       "        vertical-align: middle;\n",
       "    }\n",
       "\n",
       "    .dataframe tbody tr th {\n",
       "        vertical-align: top;\n",
       "    }\n",
       "\n",
       "    .dataframe thead th {\n",
       "        text-align: right;\n",
       "    }\n",
       "</style>\n",
       "<table border=\"1\" class=\"dataframe\">\n",
       "  <thead>\n",
       "    <tr style=\"text-align: right;\">\n",
       "      <th></th>\n",
       "      <th>Answer_label</th>\n",
       "    </tr>\n",
       "    <tr>\n",
       "      <th>Answer</th>\n",
       "      <th></th>\n",
       "    </tr>\n",
       "  </thead>\n",
       "  <tbody>\n",
       "    <tr>\n",
       "      <th>Lieber Trustpilot Nutzer, wir freuen uns sehr, dass du zufrieden mit uns bist! Herzlichen Dank für dein positives Feedback und dafür, dass du dir die Zeit für eine Bewertung hier auf Trustpilot genommen hast. Damit hilfst du uns, unseren Service und unsere Produkte weiter zu verbessern.  Viele Grüße deine E.ON Energie Deutschland</th>\n",
       "      <td>1</td>\n",
       "    </tr>\n",
       "    <tr>\n",
       "      <th>Lieber Trustpilot Nutzer,  vielen Dank für deine offenen Worte. Es tut uns sehr leid, dass du dich im Moment über uns ärgerst. Danke, dass du dir die Zeit für eine Bewertung hier auf Trustpilot genommen hast. Du ahnst es wahrscheinlich schon: Weil wir hier auf einer externen Bewertungsplattform sind, liest du eine automatisierte Antwort. Trotzdem hilfst du uns mit deiner Nachricht sehr unseren Service und unsere Produkte weiter zu verbessern. Solltest du offene Fragen haben, beantwortet unser Kundenservice diese gern.  Dazu ein kleiner Hinweis: Aktuell erreichen uns sehr viele Kundenanfragen, so dass es zu längeren Wartezeiten auf all unseren Servicekanälen kommt. Dafür bitten wir um Entschuldigung und bedanken uns für deine Geduld. Herzliche Grüße deine E.ON Energie Deutschland</th>\n",
       "      <td>0</td>\n",
       "    </tr>\n",
       "    <tr>\n",
       "      <th>Lieber Trustpilot Nutzer,wir freuen uns sehr, dass du zufrieden mit uns bist! Herzlichen Dank für dein positives Feedback und dafür, dass du dir die Zeit für eine Bewertung hier auf Trustpilot genommen hast. Damit hilfst du uns, unseren Service und unsere Produkte weiter zu verbessern. Viele Grüße deine E.ON Energie Deutschland</th>\n",
       "      <td>1</td>\n",
       "    </tr>\n",
       "    <tr>\n",
       "      <th>Lieber Trustpilot Nutzer, vielen Dank für deine offenen Worte. Es tut uns sehr leid, dass du dich im Moment über uns ärgerst. Danke, dass du dir die Zeit für eine Bewertung hier auf Trustpilot genommen hast. Du ahnst es wahrscheinlich schon: Weil wir hier auf einer externen Bewertungsplattform sind, liest du eine automatisierte Antwort. Trotzdem hilfst du uns mit deiner Nachricht sehr unseren Service und unsere Produkte weiter zu verbessern. Solltest du offene Fragen haben, beantwortet unser Kundenservice diese gern. Dazu ein kleiner Hinweis: Aktuell erreichen uns sehr viele Kundenanfragen, so dass es zu längeren Wartezeiten auf all unseren Servicekanälen kommt. Dafür bitten wir um Entschuldigung und bedanken uns für deine Geduld.Herzliche Grüße deine E.ON Energie Deutschland</th>\n",
       "      <td>0</td>\n",
       "    </tr>\n",
       "    <tr>\n",
       "      <th>Lieber Trustpilot Nutzer,wir freuen uns sehr, dass du zufrieden mit uns bist! Herzlichen Dank für dein positives Feedback und dafür, dass du dir die Zeit für eine Bewertung hier auf Trustpilot genommen hast. Damit hilfst du uns, unseren Service und unsere Produkte weiter zu verbessern.Viele Grüße deine E.ON Energie Deutschland</th>\n",
       "      <td>1</td>\n",
       "    </tr>\n",
       "    <tr>\n",
       "      <th>Lieber Trustpilot Nutzer, vielen Dank für deine offenen Worte. Es tut uns sehr leid, dass du dich im Moment über uns ärgerst. Danke, dass du dir die Zeit für eine Bewertung hier auf Trustpilot genommen hast. Damit hilfst du uns, unseren Service und unsere Produkte weiter zu verbessern. Solltest du offene Fragen haben, beantwortet unser Kundenservice diese gern. Herzliche Grüße deine E.ON Energie Deutschland</th>\n",
       "      <td>0</td>\n",
       "    </tr>\n",
       "  </tbody>\n",
       "</table>\n",
       "</div>"
      ],
      "text/plain": [
       "                                                                                                                                                                                                                                                                                                                                                                                                                                                                                                                                                                                                                                                                                                                                                                                                                        Answer_label\n",
       "Answer                                                                                                                                                                                                                                                                                                                                                                                                                                                                                                                                                                                                                                                                                                                                                                                                                              \n",
       " Lieber Trustpilot Nutzer, wir freuen uns sehr, dass du zufrieden mit uns bist! Herzlichen Dank für dein positives Feedback und dafür, dass du dir die Zeit für eine Bewertung hier auf Trustpilot genommen hast. Damit hilfst du uns, unseren Service und unsere Produkte weiter zu verbessern.  Viele Grüße deine E.ON Energie Deutschland                                                                                                                                                                                                                                                                                                                                                                                                                                                                                       1\n",
       " Lieber Trustpilot Nutzer,  vielen Dank für deine offenen Worte. Es tut uns sehr leid, dass du dich im Moment über uns ärgerst. Danke, dass du dir die Zeit für eine Bewertung hier auf Trustpilot genommen hast. Du ahnst es wahrscheinlich schon: Weil wir hier auf einer externen Bewertungsplattform sind, liest du eine automatisierte Antwort. Trotzdem hilfst du uns mit deiner Nachricht sehr unseren Service und unsere Produkte weiter zu verbessern. Solltest du offene Fragen haben, beantwortet unser Kundenservice diese gern.  Dazu ein kleiner Hinweis: Aktuell erreichen uns sehr viele Kundenanfragen, so dass es zu längeren Wartezeiten auf all unseren Servicekanälen kommt. Dafür bitten wir um Entschuldigung und bedanken uns für deine Geduld. Herzliche Grüße deine E.ON Energie Deutschland             0\n",
       "Lieber Trustpilot Nutzer,wir freuen uns sehr, dass du zufrieden mit uns bist! Herzlichen Dank für dein positives Feedback und dafür, dass du dir die Zeit für eine Bewertung hier auf Trustpilot genommen hast. Damit hilfst du uns, unseren Service und unsere Produkte weiter zu verbessern. Viele Grüße deine E.ON Energie Deutschland                                                                                                                                                                                                                                                                                                                                                                                                                                                                                          1\n",
       "Lieber Trustpilot Nutzer, vielen Dank für deine offenen Worte. Es tut uns sehr leid, dass du dich im Moment über uns ärgerst. Danke, dass du dir die Zeit für eine Bewertung hier auf Trustpilot genommen hast. Du ahnst es wahrscheinlich schon: Weil wir hier auf einer externen Bewertungsplattform sind, liest du eine automatisierte Antwort. Trotzdem hilfst du uns mit deiner Nachricht sehr unseren Service und unsere Produkte weiter zu verbessern. Solltest du offene Fragen haben, beantwortet unser Kundenservice diese gern. Dazu ein kleiner Hinweis: Aktuell erreichen uns sehr viele Kundenanfragen, so dass es zu längeren Wartezeiten auf all unseren Servicekanälen kommt. Dafür bitten wir um Entschuldigung und bedanken uns für deine Geduld.Herzliche Grüße deine E.ON Energie Deutschland                 0\n",
       "Lieber Trustpilot Nutzer,wir freuen uns sehr, dass du zufrieden mit uns bist! Herzlichen Dank für dein positives Feedback und dafür, dass du dir die Zeit für eine Bewertung hier auf Trustpilot genommen hast. Damit hilfst du uns, unseren Service und unsere Produkte weiter zu verbessern.Viele Grüße deine E.ON Energie Deutschland                                                                                                                                                                                                                                                                                                                                                                                                                                                                                           1\n",
       "Lieber Trustpilot Nutzer, vielen Dank für deine offenen Worte. Es tut uns sehr leid, dass du dich im Moment über uns ärgerst. Danke, dass du dir die Zeit für eine Bewertung hier auf Trustpilot genommen hast. Damit hilfst du uns, unseren Service und unsere Produkte weiter zu verbessern. Solltest du offene Fragen haben, beantwortet unser Kundenservice diese gern. Herzliche Grüße deine E.ON Energie Deutschland                                                                                                                                                                                                                                                                                                                                                                                                         0"
      ]
     },
     "execution_count": 15,
     "metadata": {},
     "output_type": "execute_result"
    }
   ],
   "source": [
    "# All standard answers:\n",
    "answer_list=df_ml_EON['Answer'].unique()\n",
    "df_answer_category = pd.DataFrame(answer_list, columns=['Answer'])\n",
    "df_answer_category['Answer_label']=[1,0,1,0,1,0]\n",
    "df_answer_category=df_answer_category.set_index('Answer')\n",
    "df_answer_category"
   ]
  },
  {
   "cell_type": "code",
   "execution_count": 17,
   "metadata": {
    "colab": {
     "base_uri": "https://localhost:8080/"
    },
    "id": "_wrQlHQSQtzU",
    "outputId": "726b7dde-6c8c-42a7-9b92-367baf40a46d"
   },
   "outputs": [
    {
     "name": "stderr",
     "output_type": "stream",
     "text": [
      "C:\\Users\\isele\\AppData\\Local\\Temp\\ipykernel_2148\\1430285986.py:2: SettingWithCopyWarning: \n",
      "A value is trying to be set on a copy of a slice from a DataFrame.\n",
      "Try using .loc[row_indexer,col_indexer] = value instead\n",
      "\n",
      "See the caveats in the documentation: https://pandas.pydata.org/pandas-docs/stable/user_guide/indexing.html#returning-a-view-versus-a-copy\n",
      "  df_ml_EON['Answer_label']=df_ml_EON['Answer'].apply(lambda x: df_answer_category['Answer_label'][x])\n"
     ]
    }
   ],
   "source": [
    "# There are only two nonequivalent answers. We create labels 1 and 0 for them.\n",
    "df_ml_EON['Answer_label']=df_ml_EON['Answer'].apply(lambda x: df_answer_category['Answer_label'][x])"
   ]
  },
  {
   "cell_type": "code",
   "execution_count": 19,
   "metadata": {
    "colab": {
     "base_uri": "https://localhost:8080/"
    },
    "id": "KzEQGuuOS7Hk",
    "outputId": "89c387d6-9d72-4b51-c8c2-29060b78fc95"
   },
   "outputs": [
    {
     "ename": "NameError",
     "evalue": "name 'pearsonr' is not defined",
     "output_type": "error",
     "traceback": [
      "\u001b[1;31m---------------------------------------------------------------------------\u001b[0m",
      "\u001b[1;31mNameError\u001b[0m                                 Traceback (most recent call last)",
      "Cell \u001b[1;32mIn[19], line 3\u001b[0m\n\u001b[0;32m      1\u001b[0m \u001b[38;5;66;03m# The answers correlate strongly with 'Stars_geq4_TF'.\u001b[39;00m\n\u001b[0;32m      2\u001b[0m df_ml_EON[\u001b[38;5;124m'\u001b[39m\u001b[38;5;124mAnswer_label\u001b[39m\u001b[38;5;124m'\u001b[39m]\n\u001b[1;32m----> 3\u001b[0m pearsonr(df_ml_EON[\u001b[38;5;124m'\u001b[39m\u001b[38;5;124mStars_geq4_TF\u001b[39m\u001b[38;5;124m'\u001b[39m],df_ml_EON[\u001b[38;5;124m'\u001b[39m\u001b[38;5;124mAnswer_label\u001b[39m\u001b[38;5;124m'\u001b[39m])\n",
      "\u001b[1;31mNameError\u001b[0m: name 'pearsonr' is not defined"
     ]
    }
   ],
   "source": [
    "# The answers correlate strongly with 'Stars_geq4_TF'.\n",
    "df_ml_EON['Answer_label']\n",
    "pearsonr(df_ml_EON['Stars_geq4_TF'],df_ml_EON['Answer_label'])"
   ]
  },
  {
   "cell_type": "code",
   "execution_count": null,
   "metadata": {
    "colab": {
     "base_uri": "https://localhost:8080/",
     "height": 924
    },
    "id": "bMebjb2lPIgc",
    "outputId": "4e0e6766-f87a-45d0-c74f-aefde1b24dfd"
   },
   "outputs": [],
   "source": [
    "# Outliers\n",
    "# If Company answers and 'Stars_geq4_TF' are not identcal, then the comment is contrary to the star rating (except in 1 case).\n",
    "# Hence, we expect that sentiment analysis of comments will improve predictions for answers.\n",
    "\n",
    "df_ml_EON[df_ml_EON['Answer_label']!=df_ml_EON['Stars_geq4_TF']]"
   ]
  },
  {
   "cell_type": "code",
   "execution_count": null,
   "metadata": {
    "colab": {
     "base_uri": "https://localhost:8080/"
    },
    "id": "3EjT1mg16xGJ",
    "outputId": "d2db6de8-5971-490a-9a6b-64cb563eec0c"
   },
   "outputs": [],
   "source": [
    "print(\"Number of answers that don't align with star rating\",len(df_ml_EON[df_ml_EON['Answer_label']!=df_ml_EON['Stars_geq4_TF']]))"
   ]
  },
  {
   "cell_type": "code",
   "execution_count": null,
   "metadata": {
    "colab": {
     "base_uri": "https://localhost:8080/"
    },
    "id": "bPusyFKsvmRK",
    "outputId": "5ecbde5d-456f-48a5-9ff7-f93eca4d4704"
   },
   "outputs": [],
   "source": [
    "df_ml_EON.info()"
   ]
  },
  {
   "cell_type": "code",
   "execution_count": null,
   "metadata": {
    "colab": {
     "base_uri": "https://localhost:8080/",
     "height": 583
    },
    "id": "YfAPfpFrncSK",
    "outputId": "6406b82e-88f5-4d8c-c2db-cab58cea4927"
   },
   "outputs": [],
   "source": [
    "#Choose data and target\n",
    "data_columns=['log_Words_Comment','log_Words_Headline','Stars_geq4_TF']\n",
    "data=df_ml_EON[data_columns]\n",
    "\n",
    "target=df_ml_EON['Answer_label']\n",
    "\n",
    "# Train test split\n",
    "from sklearn.model_selection import train_test_split\n",
    "X_train, X_test, y_train, y_test = train_test_split(data, target, test_size=0.2, random_state=1)\n",
    "\n",
    "# Standard scale the columns ['log_Words_Comment','log_Words_Headline']\n",
    "from sklearn.preprocessing import StandardScaler\n",
    "scale=StandardScaler()\n",
    "scale.fit(X_train[['log_Words_Comment','log_Words_Headline']])\n",
    "X_train_scaled=X_train\n",
    "X_test_scaled=X_test\n",
    "X_train_scaled[['log_Words_Comment','log_Words_Headline']]=scale.transform(X_train[['log_Words_Comment','log_Words_Headline']])\n",
    "X_test_scaled[['log_Words_Comment','log_Words_Headline']]=scale.transform(X_test[['log_Words_Comment','log_Words_Headline']])\n",
    "\n",
    "display(X_train_scaled.describe())\n",
    "display(X_test_scaled.describe())\n"
   ]
  },
  {
   "cell_type": "code",
   "execution_count": null,
   "metadata": {
    "colab": {
     "base_uri": "https://localhost:8080/"
    },
    "id": "FNi7A5wbzrh3",
    "outputId": "8b6839ba-4ade-49fd-c24d-e69e8154005b"
   },
   "outputs": [],
   "source": [
    "from sklearn.linear_model import LogisticRegression\n",
    "\n",
    "logreg=LogisticRegression()\n",
    "logreg.fit(X_train_scaled, y_train)\n",
    "logreg.coef_"
   ]
  },
  {
   "cell_type": "code",
   "execution_count": null,
   "metadata": {
    "colab": {
     "base_uri": "https://localhost:8080/",
     "height": 143
    },
    "id": "4lJsVkQy49lC",
    "outputId": "7fdcc7b2-bc5a-4242-afb6-754cb7735b04"
   },
   "outputs": [],
   "source": [
    "# Confusion matrix of prediction for test set\n",
    "y_pred_test=logreg.predict(X_test_scaled)\n",
    "pd.crosstab(y_pred_test,y_test)\n"
   ]
  },
  {
   "cell_type": "code",
   "execution_count": null,
   "metadata": {
    "colab": {
     "base_uri": "https://localhost:8080/",
     "height": 143
    },
    "id": "Eps792a_5UFS",
    "outputId": "8c4caf1c-6d16-495d-f1fe-8aa38905e9ec"
   },
   "outputs": [],
   "source": [
    "# Confusion matrix of prediction for training set\n",
    "y_pred_train=logreg.predict(X_train_scaled)\n",
    "pd.crosstab(y_pred_train,y_train)"
   ]
  },
  {
   "cell_type": "code",
   "execution_count": null,
   "metadata": {
    "colab": {
     "base_uri": "https://localhost:8080/",
     "height": 270
    },
    "id": "n516NgR365N-",
    "outputId": "ee021baf-1c55-4a27-8a93-bedc4934a2f5"
   },
   "outputs": [],
   "source": [
    "# All predictions align with 'Stars_geq4_TF':\n",
    "display(pd.crosstab(X_train['Stars_geq4_TF'],y_pred_train))\n",
    "display(pd.crosstab(X_test['Stars_geq4_TF'],y_pred_test))"
   ]
  },
  {
   "cell_type": "markdown",
   "metadata": {
    "id": "8KlXYvQIbdeH"
   },
   "source": [
    "#### Improving predictions with PCA"
   ]
  },
  {
   "cell_type": "code",
   "execution_count": null,
   "metadata": {
    "colab": {
     "base_uri": "https://localhost:8080/"
    },
    "id": "MUu5A3em-pec",
    "outputId": "f56c06a9-cc28-4664-e5e7-631940c51311"
   },
   "outputs": [],
   "source": [
    "# Idea: Search for hyperplanes (2D and 1D) in data (3D) (Principal Component analysis)\n",
    "\n",
    "from sklearn.decomposition import PCA\n",
    "\n",
    "data_3D=data\n",
    "data_3D[['log_Words_Comment','log_Words_Headline']]=scale.fit_transform(data[['log_Words_Comment','log_Words_Headline']])\n",
    "\n",
    "# 2D Hyperplane\n",
    "pca = PCA(n_components = 2)\n",
    "data_2D = pca.fit_transform(data_3D)\n",
    "\n",
    "# 1D Hyperplane\n",
    "pca = PCA(n_components = 1)\n",
    "data_1D = pca.fit_transform(data_3D)\n"
   ]
  },
  {
   "cell_type": "code",
   "execution_count": null,
   "metadata": {
    "colab": {
     "base_uri": "https://localhost:8080/",
     "height": 396
    },
    "id": "pnoX07_lAggF",
    "outputId": "5a885aed-7766-4de6-931c-565651719b47"
   },
   "outputs": [],
   "source": [
    "# Train and predict logistic regression\n",
    "logreg_3D=LogisticRegression()\n",
    "logreg_3D.fit(data_3D, target)\n",
    "pred_3D=logreg_3D.predict(data_scaled)\n",
    "\n",
    "logreg_2D=LogisticRegression()\n",
    "logreg_2D.fit(data_2D, target)\n",
    "pred_2D=logreg_2D.predict(data_2D)\n",
    "\n",
    "logreg_1D=LogisticRegression()\n",
    "logreg_1D.fit(data_1D, target)\n",
    "pred_1D=logreg_1D.predict(data_1D)\n",
    "\n",
    "# Confusion matrices\n",
    "\n",
    "display(pd.crosstab(pred_3D,target))\n",
    "display(pd.crosstab(pred_2D,target))\n",
    "display(pd.crosstab(pred_1D,target))"
   ]
  },
  {
   "cell_type": "code",
   "execution_count": null,
   "metadata": {
    "id": "j2IZ4hgdDYpX"
   },
   "outputs": [],
   "source": [
    "# A projection onto hyperplanes makes the situation worse.\n",
    "# One could alter the normalization of data or look for manifolds.\n",
    "# But the result is already pretty good! Only 9 wrong out of 4965.\n",
    "# We expect that the only possibility to significantly minimize errors is by sentiment analysis of comments."
   ]
  },
  {
   "cell_type": "markdown",
   "metadata": {
    "id": "0LTmJlb-bP1M"
   },
   "source": [
    "####Improving predictions with sentiment analysis"
   ]
  },
  {
   "cell_type": "code",
   "execution_count": null,
   "metadata": {
    "colab": {
     "base_uri": "https://localhost:8080/"
    },
    "id": "OSHT4Py1tbQ8",
    "outputId": "a5c0b25d-e4bb-4bdd-d559-706275ae2d52"
   },
   "outputs": [],
   "source": [
    "# Replacing all non letters with empty space in Comment and Headline\n",
    "# Transfer letters to lowercase and remove words of length 2 or less\n",
    "\n",
    "import re\n",
    "\n",
    "df_ml_EON['Comment_alpha']=df_ml_EON['Comment']\\\n",
    "  .apply(lambda x: re.sub(r'[^a-zA-ZäüöÄÜÖß]+', ' ', x).lower())\\\n",
    "  .apply(lambda x: re.sub(r'\\s[a-zäöü]{1}\\s', ' ', x))\\\n",
    "  .apply(lambda x: re.sub(r'\\s[a-zäöü]{2}\\s', ' ', x))\n",
    "\n",
    "df_ml_EON['Headline_alpha']=df_ml_EON['Headline']\\\n",
    "  .apply(lambda x: re.sub(r'[^a-zA-ZäüöÄÜÖß]+', ' ', x).lower())\\\n",
    "  .apply(lambda x: re.sub(r'\\s[a-zäöü]{1}\\s', ' ', x))\\\n",
    "  .apply(lambda x: re.sub(r'\\s[a-zäöü]{2}\\s', ' ', x))\n",
    "\n",
    "\n",
    "\n"
   ]
  },
  {
   "cell_type": "code",
   "execution_count": null,
   "metadata": {
    "id": "IB0NLRthnjfy"
   },
   "outputs": [],
   "source": [
    "# stop words filtering of Comment and Headline"
   ]
  },
  {
   "cell_type": "code",
   "execution_count": null,
   "metadata": {
    "id": "G9ikqhFpqlZm"
   },
   "outputs": [],
   "source": [
    "import nltk\n",
    "nltk.download('stopwords')"
   ]
  },
  {
   "cell_type": "code",
   "execution_count": null,
   "metadata": {
    "colab": {
     "base_uri": "https://localhost:8080/"
    },
    "id": "1EGNWcJEnnKM",
    "outputId": "a6406c07-4b63-4560-b3f6-71c3a5d278b7"
   },
   "outputs": [],
   "source": [
    "from nltk.corpus import stopwords\n",
    "stop_words = stopwords.words('german')\n",
    "\n",
    "print(stop_words)"
   ]
  },
  {
   "cell_type": "code",
   "execution_count": null,
   "metadata": {
    "colab": {
     "base_uri": "https://localhost:8080/"
    },
    "id": "JiZpBGobn4SL",
    "outputId": "dd5385e2-a8a7-459e-be2b-d89e69dcf870"
   },
   "outputs": [],
   "source": [
    "# Remove stop words of Comment and Headline\n",
    "# translate special characters\n",
    "\n",
    "special_char_map = {ord('ä'):'ae', ord('ü'):'ue', ord('ö'):'oe', ord('ß'):'ss'}\n",
    "\n",
    "\n",
    "df_ml_EON['Comment_no_stopwords']=df_ml_EON['Comment_alpha']\\\n",
    "  .apply(lambda x: ' '.join([word for word in x.split() if word not in (stop_words)]).translate(special_char_map))\n",
    "df_ml_EON['Headline_no_stopwords']=df_ml_EON['Headline_alpha']\\\n",
    "  .apply(lambda x: ' '.join([word for word in x.split() if word not in (stop_words)]).translate(special_char_map))"
   ]
  },
  {
   "cell_type": "code",
   "execution_count": null,
   "metadata": {
    "colab": {
     "base_uri": "https://localhost:8080/",
     "height": 175
    },
    "id": "yHSxlOiAoVdW",
    "outputId": "2376af54-087e-4266-d905-eb1bda6b49ac"
   },
   "outputs": [],
   "source": [
    "df_ml_EON[['Comment_no_stopwords','Comment_alpha','Comment','Headline_no_stopwords','Headline_alpha','Headline']]"
   ]
  },
  {
   "cell_type": "code",
   "execution_count": null,
   "metadata": {
    "id": "g3yrSNUObPCB"
   },
   "outputs": [],
   "source": [
    "from sklearn.feature_extraction.text import CountVectorizer\n",
    "from sklearn.ensemble import GradientBoostingClassifier"
   ]
  },
  {
   "cell_type": "code",
   "execution_count": null,
   "metadata": {
    "id": "vPdJlOJEdC6F"
   },
   "outputs": [],
   "source": [
    "#Choose data and target\n",
    "#data_columns=['Comment_no_stopwords','Headline_no_stopwords']\n",
    "data_columns=['Comment_no_stopwords']\n",
    "data=df_ml_EON[data_columns]\n",
    "\n",
    "target=df_ml_EON['Answer_label']\n",
    "\n",
    "# Train test split\n",
    "from sklearn.model_selection import train_test_split\n",
    "X_train, X_test, y_train, y_test = train_test_split(data, target, test_size=0.2, random_state=1)"
   ]
  },
  {
   "cell_type": "code",
   "execution_count": null,
   "metadata": {
    "colab": {
     "base_uri": "https://localhost:8080/",
     "height": 424
    },
    "id": "A2M_CjRMZjDc",
    "outputId": "36fccfde-c1d0-4bb9-b64e-8f8d20efc6e4"
   },
   "outputs": [],
   "source": [
    "X_train"
   ]
  },
  {
   "cell_type": "code",
   "execution_count": null,
   "metadata": {
    "colab": {
     "base_uri": "https://localhost:8080/",
     "height": 441
    },
    "id": "W2a3VdXhbpax",
    "outputId": "0bf819a3-da83-4e44-a256-5ce352671301"
   },
   "outputs": [],
   "source": [
    "X_test"
   ]
  },
  {
   "cell_type": "code",
   "execution_count": null,
   "metadata": {
    "id": "Glf4VhYKctn1"
   },
   "outputs": [],
   "source": [
    "# Initialize a vectorizer object\n",
    "vectorizer = CountVectorizer()\n",
    "\n",
    "# Update the value of X_train and X_test\n",
    "X_train = np.asarray(vectorizer.fit_transform(X_train['Comment_no_stopwords']).todense())\n",
    "X_test = np.asarray(vectorizer.transform(X_test['Comment_no_stopwords']).todense())\n"
   ]
  },
  {
   "cell_type": "code",
   "execution_count": null,
   "metadata": {
    "colab": {
     "base_uri": "https://localhost:8080/"
    },
    "id": "fay5p0r5XmlL",
    "outputId": "a61beae9-8c73-4de0-ffc3-8df7ce4d65a3"
   },
   "outputs": [],
   "source": [
    "X_test"
   ]
  },
  {
   "cell_type": "code",
   "execution_count": null,
   "metadata": {
    "id": "FzJXuE0r_6eq"
   },
   "outputs": [],
   "source": [
    "# Create a clf classifier and train the model on the training set\n",
    "clf = GradientBoostingClassifier(n_estimators=100, learning_rate=1.0, max_depth=1, random_state=0).fit(X_train, y_train)\n",
    "\n",
    "# Calculate predictions\n",
    "y_pred = clf.predict(X_test)\n"
   ]
  },
  {
   "cell_type": "code",
   "execution_count": null,
   "metadata": {
    "colab": {
     "base_uri": "https://localhost:8080/",
     "height": 143
    },
    "id": "6YzoJLoJA36w",
    "outputId": "983d386e-03b9-4260-cbc3-f619038f5101"
   },
   "outputs": [],
   "source": [
    "confusion_matrix = pd.crosstab(y_test, y_pred, rownames=['Actual class'], colnames=['Predicted clas'])\n",
    "confusion_matrix\n"
   ]
  },
  {
   "cell_type": "markdown",
   "metadata": {
    "id": "xPlDr6nDYlv3"
   },
   "source": [
    "### For Octopus Energy\n",
    "\n",
    "\n"
   ]
  },
  {
   "cell_type": "code",
   "execution_count": null,
   "metadata": {
    "colab": {
     "base_uri": "https://localhost:8080/"
    },
    "id": "DXHXiBpkYXXh",
    "outputId": "e4a79074-1354-4c20-98b7-547a156c22ae"
   },
   "outputs": [],
   "source": [
    "# Restricting the data set to Octopus Energy\n",
    "\n",
    "df_ml_Oct=df_ml[df_ml['Company']== 'Octopus Energy Germany']\n",
    "df_ml_Oct.info()"
   ]
  },
  {
   "cell_type": "code",
   "execution_count": null,
   "metadata": {
    "colab": {
     "base_uri": "https://localhost:8080/",
     "height": 472
    },
    "id": "_kABW_1u4bhV",
    "outputId": "b4fafe1c-e7c6-415e-c2d0-f48415ceb666"
   },
   "outputs": [],
   "source": [
    "# Recall the distribution of answer lengths for Octopus Energy per star rating\n",
    "# Except for the 5 and maybe 4 star case there seem to be no standard answers.\n",
    "\n",
    "import matplotlib.pyplot as plt\n",
    "import seaborn as sns\n",
    "\n",
    "#Octopus Energy\n",
    "for s in reversed(range(1,6)):\n",
    "  if s==1: label=str(s)+' star'\n",
    "  else: label=str(s)+' stars'\n",
    "  sns.kdeplot((df_ml_Oct[(df_ml_Oct['Stars']== s)])['Words_Answer'], label=label)\n",
    "plt.legend()\n",
    "plt.xlim(0, 300)\n",
    "plt.title(\"KDE's word number per answer 'Octopus Energy Germany'\");"
   ]
  },
  {
   "cell_type": "code",
   "execution_count": null,
   "metadata": {
    "colab": {
     "base_uri": "https://localhost:8080/",
     "height": 412
    },
    "id": "WWtpFJTk5Nrz",
    "outputId": "980ebbd7-f7ad-4181-8074-f18830e8d70b"
   },
   "outputs": [],
   "source": [
    "Stars=[]\n",
    "Total_answers=[]\n",
    "Unique_answers=[]\n",
    "Percentage=[]\n",
    "\n",
    "# 1 to 5 stars\n",
    "for s in reversed(range(1,6)):\n",
    "  unique_answers=len((df_ml_Oct[(df_ml_Oct['Stars']== s)])['Answer'].unique())\n",
    "  number_answers=len((df_ml_Oct[(df_ml_Oct['Stars']== s)])['Answer'])\n",
    "  percentage=100*unique_answers/number_answers\n",
    "\n",
    "  Stars.append(s)\n",
    "  Total_answers.append(number_answers)\n",
    "  Unique_answers.append(unique_answers)\n",
    "  Percentage.append(percentage)\n",
    "\n",
    "# 4 to 5 stars\n",
    "unique_answers=len((df_ml_Oct[(df_ml_Oct['Stars']>3)])['Answer'].unique())\n",
    "number_answers=len((df_ml_Oct[(df_ml_Oct['Stars']>3)])['Answer'])\n",
    "percentage=100*unique_answers/number_answers\n",
    "\n",
    "Stars.append('4 to 5')\n",
    "Total_answers.append(number_answers)\n",
    "Unique_answers.append(unique_answers)\n",
    "Percentage.append(percentage)\n",
    "\n",
    "# 3 to 5 stars\n",
    "unique_answers=len((df_ml_Oct[(df_ml_Oct['Stars']>2)])['Answer'].unique())\n",
    "number_answers=len((df_ml_Oct[(df_ml_Oct['Stars']>2)])['Answer'])\n",
    "percentage=100*unique_answers/number_answers\n",
    "\n",
    "Stars.append('3 to 5')\n",
    "Total_answers.append(number_answers)\n",
    "Unique_answers.append(unique_answers)\n",
    "Percentage.append(percentage)\n",
    "\n",
    "# 1 to 3 stars\n",
    "unique_answers=len((df_ml_Oct[(df_ml_Oct['Stars']<4)])['Answer'].unique())\n",
    "number_answers=len((df_ml_Oct[(df_ml_Oct['Stars']<4)])['Answer'])\n",
    "percentage=100*unique_answers/number_answers\n",
    "\n",
    "Stars.append('1 to 3')\n",
    "Total_answers.append(number_answers)\n",
    "Unique_answers.append(unique_answers)\n",
    "Percentage.append(percentage)\n",
    "\n",
    "# 1 to 2 stars\n",
    "unique_answers=len((df_ml_Oct[(df_ml_Oct['Stars']<3)])['Answer'].unique())\n",
    "number_answers=len((df_ml_Oct[(df_ml_Oct['Stars']<3)])['Answer'])\n",
    "percentage=100*unique_answers/number_answers\n",
    "\n",
    "Stars.append('1 to 2')\n",
    "Total_answers.append(number_answers)\n",
    "Unique_answers.append(unique_answers)\n",
    "Percentage.append(percentage)\n",
    "\n",
    "# 1 to 5\n",
    "unique_answers=len((df_ml_Oct)['Answer'].unique())\n",
    "number_answers=len((df_ml_Oct)['Answer'])\n",
    "percentage=100*unique_answers/number_answers\n",
    "\n",
    "Stars.append('1 to 5')\n",
    "Total_answers.append(number_answers)\n",
    "Unique_answers.append(unique_answers)\n",
    "Percentage.append(percentage)\n",
    "\n",
    "df_Oct_answers = pd.DataFrame(list(zip(Stars, Total_answers,Unique_answers,Percentage)), columns=['Stars', 'Total_answers','Unique_answers','Percentage']).set_index('Stars')\n",
    "\n",
    "print('Answers of Octopus Energy are personalized by a very high degree:')\n",
    "df_Oct_answers"
   ]
  },
  {
   "cell_type": "code",
   "execution_count": null,
   "metadata": {
    "colab": {
     "base_uri": "https://localhost:8080/",
     "height": 412
    },
    "id": "bj1oC9MjDjIQ",
    "outputId": "ff7dd079-8ec1-4f2e-eb83-d83bcfb75178"
   },
   "outputs": [],
   "source": [
    "Stars=[]\n",
    "Total_answers=[]\n",
    "Unique_answers=[]\n",
    "Percentage=[]\n",
    "\n",
    "# 1 to 5 stars\n",
    "for s in reversed(range(1,6)):\n",
    "  unique_answers=len((df_ml_Oct[(df_ml_Oct['Stars']== s)])['Words_Answer'].unique())\n",
    "  number_answers=len((df_ml_Oct[(df_ml_Oct['Stars']== s)])['Words_Answer'])\n",
    "  percentage=100*unique_answers/number_answers\n",
    "\n",
    "  Stars.append(s)\n",
    "  Total_answers.append(number_answers)\n",
    "  Unique_answers.append(unique_answers)\n",
    "  Percentage.append(percentage)\n",
    "\n",
    "# 4 to 5 stars\n",
    "unique_answers=len((df_ml_Oct[(df_ml_Oct['Stars']>3)])['Words_Answer'].unique())\n",
    "number_answers=len((df_ml_Oct[(df_ml_Oct['Stars']>3)])['Words_Answer'])\n",
    "percentage=100*unique_answers/number_answers\n",
    "\n",
    "Stars.append('4 to 5')\n",
    "Total_answers.append(number_answers)\n",
    "Unique_answers.append(unique_answers)\n",
    "Percentage.append(percentage)\n",
    "\n",
    "# 3 to 5 stars\n",
    "unique_answers=len((df_ml_Oct[(df_ml_Oct['Stars']>2)])['Words_Answer'].unique())\n",
    "number_answers=len((df_ml_Oct[(df_ml_Oct['Stars']>2)])['Words_Answer'])\n",
    "percentage=100*unique_answers/number_answers\n",
    "\n",
    "Stars.append('3 to 5')\n",
    "Total_answers.append(number_answers)\n",
    "Unique_answers.append(unique_answers)\n",
    "Percentage.append(percentage)\n",
    "\n",
    "# 1 to 3 stars\n",
    "unique_answers=len((df_ml_Oct[(df_ml_Oct['Stars']<4)])['Words_Answer'].unique())\n",
    "number_answers=len((df_ml_Oct[(df_ml_Oct['Stars']<4)])['Words_Answer'])\n",
    "percentage=100*unique_answers/number_answers\n",
    "\n",
    "Stars.append('1 to 3')\n",
    "Total_answers.append(number_answers)\n",
    "Unique_answers.append(unique_answers)\n",
    "Percentage.append(percentage)\n",
    "\n",
    "# 1 to 2 stars\n",
    "unique_answers=len((df_ml_Oct[(df_ml_Oct['Stars']<3)])['Words_Answer'].unique())\n",
    "number_answers=len((df_ml_Oct[(df_ml_Oct['Stars']<3)])['Words_Answer'])\n",
    "percentage=100*unique_answers/number_answers\n",
    "\n",
    "Stars.append('1 to 2')\n",
    "Total_answers.append(number_answers)\n",
    "Unique_answers.append(unique_answers)\n",
    "Percentage.append(percentage)\n",
    "\n",
    "# 1 to 5\n",
    "unique_answers=len((df_ml_Oct)['Words_Answer'].unique())\n",
    "number_answers=len((df_ml_Oct)['Words_Answer'])\n",
    "percentage=100*unique_answers/number_answers\n",
    "\n",
    "Stars.append('1 to 5')\n",
    "Total_answers.append(number_answers)\n",
    "Unique_answers.append(unique_answers)\n",
    "Percentage.append(percentage)\n",
    "\n",
    "df_Oct_words_answer = pd.DataFrame(list(zip(Stars, Total_answers,Unique_answers,Percentage)), columns=['Stars', 'Total_answer_length','Unique_answer_length','Percentage']).set_index('Stars')\n",
    "\n",
    "print('Especially the 4 and 5 star ratings seem to be personalized only by name:')\n",
    "df_Oct_words_answer"
   ]
  },
  {
   "cell_type": "code",
   "execution_count": null,
   "metadata": {
    "colab": {
     "base_uri": "https://localhost:8080/"
    },
    "id": "pIUAQUCgDMZP",
    "outputId": "1ecb5f3b-a2d8-44e5-e46d-9ae2704fa83f"
   },
   "outputs": [],
   "source": [
    "# Star rating 4 to 5 answers\n",
    "(df_ml_Oct[(df_ml_Oct['Stars']>3)])['Answer'].unique()"
   ]
  },
  {
   "cell_type": "code",
   "execution_count": null,
   "metadata": {
    "colab": {
     "base_uri": "https://localhost:8080/"
    },
    "id": "rkJ7FOkaFdHn",
    "outputId": "3a9d1a67-ea4a-4b1d-dd08-fea194c28432"
   },
   "outputs": [],
   "source": [
    "# star rating 1 to 3 answers\n",
    "(df_ml_Oct[(df_ml_Oct['Stars']<4)])['Answer'].unique()"
   ]
  },
  {
   "cell_type": "code",
   "execution_count": null,
   "metadata": {
    "colab": {
     "base_uri": "https://localhost:8080/"
    },
    "id": "ijXHH8_jIF83",
    "outputId": "de93935c-e94b-41b5-f279-42ef119b00e2"
   },
   "outputs": [],
   "source": [
    "df_ml_Oct.groupby(['Stars'])['Words_Answer'].mean()"
   ]
  },
  {
   "cell_type": "code",
   "execution_count": null,
   "metadata": {
    "colab": {
     "base_uri": "https://localhost:8080/"
    },
    "id": "yZ6QOWqQIPOt",
    "outputId": "000e3232-f31c-4d2f-aa85-552e952f2f22"
   },
   "outputs": [],
   "source": [
    "# We won't group the star variable as it has a monotone relationship with means of log answer lengths.\n",
    "df_ml_Oct.groupby(['Stars'])['log_Words_Answer'].mean()"
   ]
  },
  {
   "cell_type": "code",
   "execution_count": null,
   "metadata": {
    "colab": {
     "base_uri": "https://localhost:8080/"
    },
    "id": "Std8tbuCIyUH",
    "outputId": "3c7c77b5-0309-437c-b270-00382a3ead99"
   },
   "outputs": [],
   "source": [
    "df_ml_Oct.info()"
   ]
  },
  {
   "cell_type": "markdown",
   "metadata": {
    "id": "o7B-VUD6WiLS"
   },
   "source": [
    "#### Predicting answer lengths"
   ]
  },
  {
   "cell_type": "code",
   "execution_count": null,
   "metadata": {
    "colab": {
     "base_uri": "https://localhost:8080/",
     "height": 583
    },
    "id": "vhLhqvqGIrRc",
    "outputId": "a53e3779-18c7-4b0a-e830-abac51eea3c6"
   },
   "outputs": [],
   "source": [
    "# We try to predict answer lengths with XG Boost.\n",
    "\n",
    "#Choose data and target\n",
    "data_columns=['log_Words_Comment','log_Words_Headline','Stars_min_max_scaled']\n",
    "data=df_ml_Oct[data_columns]\n",
    "\n",
    "target=df_ml_Oct['log_Words_Answer']\n",
    "\n",
    "# Train test split\n",
    "from sklearn.model_selection import train_test_split\n",
    "X_train, X_test, y_train, y_test = train_test_split(data, target, test_size=0.2, random_state=1)\n",
    "\n",
    "# Standard scale the columns ['log_Words_Comment','log_Words_Headline']\n",
    "from sklearn.preprocessing import StandardScaler\n",
    "scale=StandardScaler()\n",
    "scale.fit(X_train[['log_Words_Comment','log_Words_Headline']])\n",
    "X_train_scaled=X_train\n",
    "X_test_scaled=X_test\n",
    "X_train_scaled[['log_Words_Comment','log_Words_Headline']]=scale.transform(X_train[['log_Words_Comment','log_Words_Headline']])\n",
    "X_test_scaled[['log_Words_Comment','log_Words_Headline']]=scale.transform(X_test[['log_Words_Comment','log_Words_Headline']])\n",
    "\n",
    "# Standard scale the target variable ['log_Words_Answer']\n",
    "#scale.fit(y_train)\n",
    "#y_train_scaled=y_train\n",
    "#y_test_scaled=y_test\n",
    "#y_train_scaled[['log_Words_Answer']]=scale.transform(y_train[['log_Words_Answer']])\n",
    "#y_test_scaled[['log_Words_Answer']]=scale.transform(y_test[['log_Words_Answer']])\n",
    "\n",
    "display(X_train_scaled.describe())\n",
    "display(X_test_scaled.describe())\n",
    "#display(y_train_scaled.describe())\n",
    "#display(y_test_scaled.describe())\n"
   ]
  },
  {
   "cell_type": "code",
   "execution_count": null,
   "metadata": {
    "colab": {
     "base_uri": "https://localhost:8080/"
    },
    "id": "4pDJ40YUPrWL",
    "outputId": "7b772ca0-e646-4d4f-f6bf-01117bd12cc6"
   },
   "outputs": [],
   "source": [
    "# XGBoost:\n",
    "\n",
    "import xgboost as xgb\n",
    "from sklearn.metrics import mean_squared_error\n",
    "\n",
    "xgb_model = xgb.XGBRegressor()\n",
    "\n",
    "xgb_model.fit(X_train, y_train)\n",
    "\n",
    "y_pred = xgb_model.predict(X_test)\n",
    "\n",
    "mse=mean_squared_error(y_test, y_pred)\n",
    "\n",
    "print(np.sqrt(mse))"
   ]
  },
  {
   "cell_type": "code",
   "execution_count": null,
   "metadata": {
    "colab": {
     "base_uri": "https://localhost:8080/"
    },
    "id": "WxnIezcuRN9b",
    "outputId": "26c01f66-1f3d-4c57-ad92-71abc4d7718b"
   },
   "outputs": [],
   "source": [
    "# Random Forest:\n",
    "\n",
    "from sklearn.ensemble import RandomForestRegressor\n",
    "\n",
    "RFR_model=RandomForestRegressor()\n",
    "\n",
    "RFR_model.fit(X_train, y_train)\n",
    "\n",
    "y_pred = RFR_model.predict(X_test)\n",
    "\n",
    "mse=mean_squared_error(y_test, y_pred)\n",
    "\n",
    "print(np.sqrt(mse))\n",
    "\n"
   ]
  },
  {
   "cell_type": "code",
   "execution_count": null,
   "metadata": {
    "colab": {
     "base_uri": "https://localhost:8080/"
    },
    "id": "nrleSzEWS7Z6",
    "outputId": "978fc216-6d69-4ecf-b9d8-c8de058c595c"
   },
   "outputs": [],
   "source": [
    "# decision tree:\n",
    "\n",
    "from sklearn.tree import DecisionTreeRegressor\n",
    "\n",
    "DTR_model=DecisionTreeRegressor()\n",
    "\n",
    "DTR_model.fit(X_train, y_train)\n",
    "\n",
    "y_pred = DTR_model.predict(X_test)\n",
    "\n",
    "mse=mean_squared_error(y_test, y_pred)\n",
    "\n",
    "print(np.sqrt(mse))"
   ]
  },
  {
   "cell_type": "code",
   "execution_count": null,
   "metadata": {
    "colab": {
     "base_uri": "https://localhost:8080/"
    },
    "id": "PouwkdsMTX7u",
    "outputId": "6b48a600-d838-4802-b186-1dc52b53fcb2"
   },
   "outputs": [],
   "source": [
    "# linear regression\n",
    "\n",
    "from sklearn.linear_model import LinearRegression\n",
    "\n",
    "LR_model=LinearRegression()\n",
    "\n",
    "LR_model.fit(X_train, y_train)\n",
    "\n",
    "y_pred = LR_model.predict(X_test)\n",
    "\n",
    "mse=mean_squared_error(y_test, y_pred)\n",
    "\n",
    "print(np.sqrt(mse))"
   ]
  },
  {
   "cell_type": "code",
   "execution_count": null,
   "metadata": {
    "colab": {
     "base_uri": "https://localhost:8080/"
    },
    "id": "x4bn3vvqT-Le",
    "outputId": "bb5e3bac-98d6-41ed-9a25-9b34ff669e1b"
   },
   "outputs": [],
   "source": [
    "# Custom Model:\n",
    "\n",
    "print('Uniques of min max scaled star column:',X_train['Stars_min_max_scaled'].unique(),'.')\n",
    "\n",
    "X_y_train=X_train\n",
    "X_y_train['log_Words_Answer']=y_train\n",
    "\n",
    "print('On the training set one has the folllowing mean log word counts of answers per star rating:')\n",
    "\n",
    "pred_dict=X_y_train.groupby(['Stars_min_max_scaled'])['log_Words_Answer'].mean().to_dict()\n",
    "\n",
    "print(pred_dict)\n",
    "\n",
    "print('We will use these means as predictions on the test set:')\n",
    "\n",
    "y_pred = X_test['Stars_min_max_scaled'].apply(lambda x: pred_dict[x])\n",
    "\n",
    "mse=mean_squared_error(y_test, y_pred)\n",
    "\n",
    "print(np.sqrt(mse))\n"
   ]
  },
  {
   "cell_type": "code",
   "execution_count": null,
   "metadata": {
    "id": "N5cVqTPYZmCX"
   },
   "outputs": [],
   "source": [
    "# Linear regression performs the best. Maybe plot answer lengths over features."
   ]
  },
  {
   "cell_type": "markdown",
   "metadata": {
    "id": "VepnxRkSoInK"
   },
   "source": [
    "#### Improving Prediction with sentiment analysis"
   ]
  },
  {
   "cell_type": "code",
   "execution_count": null,
   "metadata": {
    "colab": {
     "base_uri": "https://localhost:8080/",
     "height": 1000
    },
    "id": "1apP0Q6GoHaQ",
    "outputId": "684c3a4b-e73f-40d8-f6dd-587f121b9a0f"
   },
   "outputs": [],
   "source": [
    "# Replacing all non letters with empty space in Comment and Headline\n",
    "# Transfer letters to lowercase and remove words of length 2 or less\n",
    "\n",
    "import re\n",
    "\n",
    "df_ml_Oct['Comment_alpha']=df_ml_Oct['Comment']\\\n",
    "  .apply(lambda x: re.sub('[^a-zA-ZäüöÄÜÖß]+', ' ', x).lower())\\\n",
    "  .apply(lambda x: re.sub('\\s[a-zäöü]{1}\\s', ' ', x))\\\n",
    "  .apply(lambda x: re.sub('\\s[a-zäöü]{2}\\s', ' ', x))\n",
    "\n",
    "df_ml_Oct['Headline_alpha']=df_ml_Oct['Headline']\\\n",
    "  .apply(lambda x: re.sub('[^a-zA-ZäüöÄÜÖß]+', ' ', x).lower())\\\n",
    "  .apply(lambda x: re.sub('\\s[a-zäöü]{1}\\s', ' ', x))\\\n",
    "  .apply(lambda x: re.sub('\\s[a-zäöü]{2}\\s', ' ', x))\n",
    "\n",
    "# import stop words\n",
    "import nltk\n",
    "nltk.download('stopwords')\n",
    "\n",
    "from nltk.corpus import stopwords\n",
    "stop_words = stopwords.words('german')\n",
    "\n",
    "print(stop_words)\n",
    "\n",
    "# Remove stop words of Comment and Headline\n",
    "# translate special characters\n",
    "\n",
    "special_char_map = {ord('ä'):'ae', ord('ü'):'ue', ord('ö'):'oe', ord('ß'):'ss'}\n",
    "\n",
    "\n",
    "df_ml_Oct['Comment_no_stopwords']=df_ml_Oct['Comment_alpha']\\\n",
    "  .apply(lambda x: ' '.join([word for word in x.split() if word not in (stop_words)]).translate(special_char_map))\n",
    "df_ml_Oct['Headline_no_stopwords']=df_ml_Oct['Headline_alpha']\\\n",
    "  .apply(lambda x: ' '.join([word for word in x.split() if word not in (stop_words)]).translate(special_char_map))\n",
    "\n",
    "# Show Results\n",
    "df_ml_Oct[['Comment_no_stopwords','Comment_alpha','Comment','Headline_no_stopwords','Headline_alpha','Headline']]"
   ]
  },
  {
   "cell_type": "code",
   "execution_count": null,
   "metadata": {
    "id": "2PhY34p0pcqM"
   },
   "outputs": [],
   "source": [
    "from sklearn.feature_extraction.text import CountVectorizer\n",
    "from sklearn.ensemble import GradientBoostingRegressor\n",
    "\n",
    "#Choose data and target\n",
    "#data_columns=['Comment_no_stopwords','Headline_no_stopwords']\n",
    "data_columns=['Comment_no_stopwords']\n",
    "data=df_ml_Oct[data_columns]\n",
    "\n",
    "target=df_ml_Oct['log_Words_Answer']\n",
    "\n",
    "# Train test split\n",
    "from sklearn.model_selection import train_test_split\n",
    "X_train, X_test, y_train, y_test = train_test_split(data, target, test_size=0.2, random_state=1)\n",
    "\n",
    "# Initialize a vectorizer object\n",
    "vectorizer = CountVectorizer()\n",
    "\n",
    "# Update the value of X_train and X_test\n",
    "X_train = np.asarray(vectorizer.fit_transform(X_train['Comment_no_stopwords']).todense())\n",
    "X_test = np.asarray(vectorizer.transform(X_test['Comment_no_stopwords']).todense())\n",
    "\n"
   ]
  },
  {
   "cell_type": "code",
   "execution_count": null,
   "metadata": {
    "colab": {
     "base_uri": "https://localhost:8080/"
    },
    "id": "NVJc8RZEqAfA",
    "outputId": "43d086ae-ae19-4979-c0f9-413a8f805e65"
   },
   "outputs": [],
   "source": [
    "# Create a clf classifier and train the model on the training set\n",
    "clf = GradientBoostingRegressor(n_estimators=100, learning_rate=1.0, max_depth=1, random_state=0).fit(X_train, y_train)\n",
    "\n",
    "# Calculate predictions\n",
    "y_pred = clf.predict(X_test)\n",
    "\n",
    "from sklearn.metrics import mean_squared_error\n",
    "mse=mean_squared_error(y_test, y_pred)\n",
    "\n",
    "print(np.sqrt(mse))"
   ]
  },
  {
   "cell_type": "markdown",
   "metadata": {
    "id": "a0ZtKjI4WrrS"
   },
   "source": [
    "#### Grouping Answers with Text Mining"
   ]
  },
  {
   "cell_type": "code",
   "execution_count": null,
   "metadata": {
    "id": "J9V4zY04XMMM"
   },
   "outputs": [],
   "source": []
  }
 ],
 "metadata": {
  "colab": {
   "provenance": [],
   "toc_visible": true
  },
  "kernelspec": {
   "display_name": "Python 3 (ipykernel)",
   "language": "python",
   "name": "python3"
  },
  "language_info": {
   "codemirror_mode": {
    "name": "ipython",
    "version": 3
   },
   "file_extension": ".py",
   "mimetype": "text/x-python",
   "name": "python",
   "nbconvert_exporter": "python",
   "pygments_lexer": "ipython3",
   "version": "3.12.4"
  }
 },
 "nbformat": 4,
 "nbformat_minor": 4
}
