{
 "cells": [
  {
   "cell_type": "markdown",
   "id": "8787668b-74a9-4a1b-909b-ef3e5da390ef",
   "metadata": {
    "tags": []
   },
   "source": [
    "# Energy Suppliers on Trustpilot - simple ML models\n",
    "\n",
    "Author: Stefanie Arlt"
   ]
  },
  {
   "cell_type": "markdown",
   "id": "49d44f47-3d03-4d6f-8e42-fd1fc5503b58",
   "metadata": {
    "tags": []
   },
   "source": [
    "## Outline"
   ]
  },
  {
   "cell_type": "markdown",
   "id": "f023269a-8f56-42c9-b670-7b49a197d08c",
   "metadata": {},
   "source": [
    "There are two data sets available, both containing information scraped from the Trustpilot web site:\n",
    "\n",
    " - 1: Trustpilot Energy supplier rankings in Germany (https://de.trustpilot.com/categories/electric_utility_company)\n",
    "\n",
    " - 2: Trustpilot Comments and feedback to energy suppliers in Germany (see comment column in import data for links)\n",
    "\n",
    "This notebook focuses on the 2nd file with the aim to apply simple machine learning models."
   ]
  },
  {
   "cell_type": "markdown",
   "id": "2d0312e2-7eb2-4e83-9f1d-0f380f0891e3",
   "metadata": {},
   "source": [
    "Idea: Rating prediction based on number of words in customer feedback --> Stefanie\n",
    "\n",
    " - check for improvement with number of words in supplier response\n",
    " - additional feature supplier name and using complete data set 2\n",
    " - only using data from one supplier\n",
    " - check results for support vector machine SVC, decision tree classifier"
   ]
  },
  {
   "cell_type": "markdown",
   "id": "f401941c-fb6a-45f9-91b3-e8009875f465",
   "metadata": {},
   "source": [
    "\n"
   ]
  },
  {
   "cell_type": "markdown",
   "id": "3d6bcc08-6656-4442-b120-b2595d4b0acd",
   "metadata": {},
   "source": [
    "Idea 2: Prediction of number of words of response based on number of words in customer feedback and star rating --> Matthias\n"
   ]
  },
  {
   "cell_type": "markdown",
   "id": "eb27e73f-51a9-4247-ac84-b472ec5ff200",
   "metadata": {
    "tags": []
   },
   "source": [
    "## Prepare data set"
   ]
  },
  {
   "cell_type": "markdown",
   "id": "1d448036-56a0-4d76-8ab0-ac1ae025ba72",
   "metadata": {
    "tags": []
   },
   "source": [
    "### Import"
   ]
  },
  {
   "cell_type": "code",
   "execution_count": 9,
   "id": "c7ae168b-0594-4726-a4df-b67dc4afc8d7",
   "metadata": {},
   "outputs": [],
   "source": [
    "# basic import\n",
    "import pandas as pd\n",
    "import numpy as np\n",
    "import matplotlib.pyplot as plt\n",
    "%matplotlib inline\n",
    "import seaborn as sns"
   ]
  },
  {
   "cell_type": "code",
   "execution_count": 10,
   "id": "4fc4e30c-4bf4-44f0-8d37-fee19afedde4",
   "metadata": {},
   "outputs": [
    {
     "data": {
      "text/html": [
       "<div>\n",
       "<style scoped>\n",
       "    .dataframe tbody tr th:only-of-type {\n",
       "        vertical-align: middle;\n",
       "    }\n",
       "\n",
       "    .dataframe tbody tr th {\n",
       "        vertical-align: top;\n",
       "    }\n",
       "\n",
       "    .dataframe thead th {\n",
       "        text-align: right;\n",
       "    }\n",
       "</style>\n",
       "<table border=\"1\" class=\"dataframe\">\n",
       "  <thead>\n",
       "    <tr style=\"text-align: right;\">\n",
       "      <th></th>\n",
       "      <th>Nickname</th>\n",
       "      <th>Location</th>\n",
       "      <th>Stars</th>\n",
       "      <th>Headline</th>\n",
       "      <th>DoP</th>\n",
       "      <th>DoE</th>\n",
       "      <th>Comment</th>\n",
       "      <th>Answer</th>\n",
       "      <th>DoA</th>\n",
       "      <th>DoE.day</th>\n",
       "      <th>...</th>\n",
       "      <th>DoA.day</th>\n",
       "      <th>DoA.month</th>\n",
       "      <th>DoA.year</th>\n",
       "      <th>Comment_TF</th>\n",
       "      <th>Answer_TF</th>\n",
       "      <th>Company</th>\n",
       "      <th>Words_Headline</th>\n",
       "      <th>Words_Comment</th>\n",
       "      <th>Words_Answer</th>\n",
       "      <th>Response_time</th>\n",
       "    </tr>\n",
       "  </thead>\n",
       "  <tbody>\n",
       "    <tr>\n",
       "      <th>0</th>\n",
       "      <td>Paul</td>\n",
       "      <td>DE</td>\n",
       "      <td>5</td>\n",
       "      <td>Seriös und preiswert:</td>\n",
       "      <td>2023-08-29 15:00:29+00:00</td>\n",
       "      <td>2023-08-29</td>\n",
       "      <td>Seriös und preiswert:nach einer ziemlich unang...</td>\n",
       "      <td>NaN</td>\n",
       "      <td>NaN</td>\n",
       "      <td>29</td>\n",
       "      <td>...</td>\n",
       "      <td>NaN</td>\n",
       "      <td>NaN</td>\n",
       "      <td>NaN</td>\n",
       "      <td>1</td>\n",
       "      <td>0</td>\n",
       "      <td>Octopus Energy Germany</td>\n",
       "      <td>3</td>\n",
       "      <td>62.0</td>\n",
       "      <td>NaN</td>\n",
       "      <td>NaN</td>\n",
       "    </tr>\n",
       "    <tr>\n",
       "      <th>1</th>\n",
       "      <td>Anton</td>\n",
       "      <td>DE</td>\n",
       "      <td>5</td>\n",
       "      <td>Tarif mit vernünftigem Preis</td>\n",
       "      <td>2023-08-30 11:20:02+00:00</td>\n",
       "      <td>2023-08-22</td>\n",
       "      <td>Tarif mit vernünftigem Preis bei niedrigem Ein...</td>\n",
       "      <td>NaN</td>\n",
       "      <td>NaN</td>\n",
       "      <td>22</td>\n",
       "      <td>...</td>\n",
       "      <td>NaN</td>\n",
       "      <td>NaN</td>\n",
       "      <td>NaN</td>\n",
       "      <td>1</td>\n",
       "      <td>0</td>\n",
       "      <td>Octopus Energy Germany</td>\n",
       "      <td>4</td>\n",
       "      <td>41.0</td>\n",
       "      <td>NaN</td>\n",
       "      <td>NaN</td>\n",
       "    </tr>\n",
       "    <tr>\n",
       "      <th>2</th>\n",
       "      <td>Tobias</td>\n",
       "      <td>DE</td>\n",
       "      <td>5</td>\n",
       "      <td>Ringo Star</td>\n",
       "      <td>2023-08-29 10:00:40+00:00</td>\n",
       "      <td>2023-08-21</td>\n",
       "      <td>Supi Anbieterwechsel,klappt alles mit dem vora...</td>\n",
       "      <td>NaN</td>\n",
       "      <td>NaN</td>\n",
       "      <td>21</td>\n",
       "      <td>...</td>\n",
       "      <td>NaN</td>\n",
       "      <td>NaN</td>\n",
       "      <td>NaN</td>\n",
       "      <td>1</td>\n",
       "      <td>0</td>\n",
       "      <td>Octopus Energy Germany</td>\n",
       "      <td>2</td>\n",
       "      <td>37.0</td>\n",
       "      <td>NaN</td>\n",
       "      <td>NaN</td>\n",
       "    </tr>\n",
       "    <tr>\n",
       "      <th>3</th>\n",
       "      <td>Dirk Meinel</td>\n",
       "      <td>DE</td>\n",
       "      <td>5</td>\n",
       "      <td>Schritt für Schritt transparent</td>\n",
       "      <td>2023-08-30 09:18:07+00:00</td>\n",
       "      <td>2023-08-27</td>\n",
       "      <td>Erstmalig habe ich mich bei Octopus Engergy an...</td>\n",
       "      <td>NaN</td>\n",
       "      <td>NaN</td>\n",
       "      <td>27</td>\n",
       "      <td>...</td>\n",
       "      <td>NaN</td>\n",
       "      <td>NaN</td>\n",
       "      <td>NaN</td>\n",
       "      <td>1</td>\n",
       "      <td>0</td>\n",
       "      <td>Octopus Energy Germany</td>\n",
       "      <td>4</td>\n",
       "      <td>41.0</td>\n",
       "      <td>NaN</td>\n",
       "      <td>NaN</td>\n",
       "    </tr>\n",
       "    <tr>\n",
       "      <th>4</th>\n",
       "      <td>Marianne Bäßler</td>\n",
       "      <td>DE</td>\n",
       "      <td>5</td>\n",
       "      <td>HOHE ZUFRIEDENHEIT</td>\n",
       "      <td>2023-08-29 17:30:02+00:00</td>\n",
       "      <td>2023-08-29</td>\n",
       "      <td>HOHE ZUFRIEDENHEIT BEIM NEUEN ANBIETER  OCTOPU...</td>\n",
       "      <td>NaN</td>\n",
       "      <td>NaN</td>\n",
       "      <td>29</td>\n",
       "      <td>...</td>\n",
       "      <td>NaN</td>\n",
       "      <td>NaN</td>\n",
       "      <td>NaN</td>\n",
       "      <td>1</td>\n",
       "      <td>0</td>\n",
       "      <td>Octopus Energy Germany</td>\n",
       "      <td>2</td>\n",
       "      <td>70.0</td>\n",
       "      <td>NaN</td>\n",
       "      <td>NaN</td>\n",
       "    </tr>\n",
       "  </tbody>\n",
       "</table>\n",
       "<p>5 rows × 25 columns</p>\n",
       "</div>"
      ],
      "text/plain": [
       "          Nickname Location  Stars                         Headline  \\\n",
       "0             Paul       DE      5            Seriös und preiswert:   \n",
       "1            Anton       DE      5     Tarif mit vernünftigem Preis   \n",
       "2           Tobias       DE      5                       Ringo Star   \n",
       "3      Dirk Meinel       DE      5  Schritt für Schritt transparent   \n",
       "4  Marianne Bäßler       DE      5               HOHE ZUFRIEDENHEIT   \n",
       "\n",
       "                         DoP         DoE  \\\n",
       "0  2023-08-29 15:00:29+00:00  2023-08-29   \n",
       "1  2023-08-30 11:20:02+00:00  2023-08-22   \n",
       "2  2023-08-29 10:00:40+00:00  2023-08-21   \n",
       "3  2023-08-30 09:18:07+00:00  2023-08-27   \n",
       "4  2023-08-29 17:30:02+00:00  2023-08-29   \n",
       "\n",
       "                                             Comment Answer  DoA  DoE.day  \\\n",
       "0  Seriös und preiswert:nach einer ziemlich unang...    NaN  NaN       29   \n",
       "1  Tarif mit vernünftigem Preis bei niedrigem Ein...    NaN  NaN       22   \n",
       "2  Supi Anbieterwechsel,klappt alles mit dem vora...    NaN  NaN       21   \n",
       "3  Erstmalig habe ich mich bei Octopus Engergy an...    NaN  NaN       27   \n",
       "4  HOHE ZUFRIEDENHEIT BEIM NEUEN ANBIETER  OCTOPU...    NaN  NaN       29   \n",
       "\n",
       "   ...  DoA.day  DoA.month  DoA.year  Comment_TF  Answer_TF  \\\n",
       "0  ...      NaN        NaN       NaN           1          0   \n",
       "1  ...      NaN        NaN       NaN           1          0   \n",
       "2  ...      NaN        NaN       NaN           1          0   \n",
       "3  ...      NaN        NaN       NaN           1          0   \n",
       "4  ...      NaN        NaN       NaN           1          0   \n",
       "\n",
       "                  Company  Words_Headline  Words_Comment  Words_Answer  \\\n",
       "0  Octopus Energy Germany               3           62.0           NaN   \n",
       "1  Octopus Energy Germany               4           41.0           NaN   \n",
       "2  Octopus Energy Germany               2           37.0           NaN   \n",
       "3  Octopus Energy Germany               4           41.0           NaN   \n",
       "4  Octopus Energy Germany               2           70.0           NaN   \n",
       "\n",
       "   Response_time  \n",
       "0            NaN  \n",
       "1            NaN  \n",
       "2            NaN  \n",
       "3            NaN  \n",
       "4            NaN  \n",
       "\n",
       "[5 rows x 25 columns]"
      ]
     },
     "execution_count": 10,
     "metadata": {},
     "output_type": "execute_result"
    }
   ],
   "source": [
    "# import data\n",
    "all_data = pd.read_csv(\"all_suppliers_data_processed.csv\", index_col=0)\n",
    "all_data.head()"
   ]
  },
  {
   "cell_type": "markdown",
   "id": "ea4591a4-59d5-4143-854b-677f20d1915a",
   "metadata": {
    "jp-MarkdownHeadingCollapsed": true
   },
   "source": [
    "#### Column description:\n",
    "\n",
    "Scraped data:\n",
    " - Customer nickname\t“Nickname\"\n",
    " - Location of customer\t”Location\"\n",
    " - Star rating of customer\t“Stars”\n",
    " - Headline of post\t“Headline\"\n",
    " - Date of post\t“DoP\"\n",
    " - Date of experience\t“DoE\"\n",
    " - Comment of customer\t“Comment\"\n",
    " - Answer of energy supplier\t“Answer”\n",
    " - Date of answer\t“DoA”\tif, and only if answer exists\n",
    " - Company name, i.e. energy supplier)\t“Company”\n",
    "\n",
    "Engineered features:\n",
    " - Splits of DoP, DoE, DoA into day, month, year\t“DoP.day”, “DoP.month”, …\n",
    " - Is there a comment? (value: 1 or 0)\t“Comment_TF”\n",
    " - Is there an answer? (value: 1 or 0)\t“Answer_TF”\n",
    " - Number of words of headline\t“Words_Headline”\n",
    " - Number of words of comment\t“Words_Comment”\n",
    " - Number of words of answer\t“Words_Answer”\n",
    " - Response time of energy supplier to review in days (DoA-DoP)\t“Response_time”\n",
    "\n"
   ]
  },
  {
   "cell_type": "code",
   "execution_count": 12,
   "id": "193acead-3007-491e-9425-b2c4b8876a91",
   "metadata": {},
   "outputs": [
    {
     "name": "stdout",
     "output_type": "stream",
     "text": [
      "<class 'pandas.core.frame.DataFrame'>\n",
      "Index: 45135 entries, 0 to 45134\n",
      "Data columns (total 25 columns):\n",
      " #   Column          Non-Null Count  Dtype  \n",
      "---  ------          --------------  -----  \n",
      " 0   Nickname        45133 non-null  object \n",
      " 1   Location        45135 non-null  object \n",
      " 2   Stars           45135 non-null  int64  \n",
      " 3   Headline        45135 non-null  object \n",
      " 4   DoP             45135 non-null  object \n",
      " 5   DoE             45135 non-null  object \n",
      " 6   Comment         38896 non-null  object \n",
      " 7   Answer          28533 non-null  object \n",
      " 8   DoA             28533 non-null  object \n",
      " 9   DoE.day         45135 non-null  int64  \n",
      " 10  DoE.month       45135 non-null  int64  \n",
      " 11  DoE.year        45135 non-null  int64  \n",
      " 12  DoP.day         45135 non-null  int64  \n",
      " 13  DoP.month       45135 non-null  int64  \n",
      " 14  DoP.year        45135 non-null  int64  \n",
      " 15  DoA.day         28533 non-null  float64\n",
      " 16  DoA.month       28533 non-null  float64\n",
      " 17  DoA.year        28533 non-null  float64\n",
      " 18  Comment_TF      45135 non-null  int64  \n",
      " 19  Answer_TF       45135 non-null  int64  \n",
      " 20  Company         45135 non-null  object \n",
      " 21  Words_Headline  45135 non-null  int64  \n",
      " 22  Words_Comment   38896 non-null  float64\n",
      " 23  Words_Answer    28533 non-null  float64\n",
      " 24  Response_time   28533 non-null  float64\n",
      "dtypes: float64(6), int64(10), object(9)\n",
      "memory usage: 9.0+ MB\n"
     ]
    }
   ],
   "source": [
    "all_data.info()"
   ]
  },
  {
   "cell_type": "code",
   "execution_count": 13,
   "id": "0dc97c6b-c290-4c85-b024-df12dc2c4799",
   "metadata": {},
   "outputs": [
    {
     "data": {
      "text/html": [
       "<div>\n",
       "<style scoped>\n",
       "    .dataframe tbody tr th:only-of-type {\n",
       "        vertical-align: middle;\n",
       "    }\n",
       "\n",
       "    .dataframe tbody tr th {\n",
       "        vertical-align: top;\n",
       "    }\n",
       "\n",
       "    .dataframe thead th {\n",
       "        text-align: right;\n",
       "    }\n",
       "</style>\n",
       "<table border=\"1\" class=\"dataframe\">\n",
       "  <thead>\n",
       "    <tr style=\"text-align: right;\">\n",
       "      <th></th>\n",
       "      <th>Stars</th>\n",
       "      <th>DoE.day</th>\n",
       "      <th>DoE.month</th>\n",
       "      <th>DoE.year</th>\n",
       "      <th>DoP.day</th>\n",
       "      <th>DoP.month</th>\n",
       "      <th>DoP.year</th>\n",
       "      <th>DoA.day</th>\n",
       "      <th>DoA.month</th>\n",
       "      <th>DoA.year</th>\n",
       "      <th>Comment_TF</th>\n",
       "      <th>Answer_TF</th>\n",
       "      <th>Words_Headline</th>\n",
       "      <th>Words_Comment</th>\n",
       "      <th>Words_Answer</th>\n",
       "      <th>Response_time</th>\n",
       "    </tr>\n",
       "  </thead>\n",
       "  <tbody>\n",
       "    <tr>\n",
       "      <th>count</th>\n",
       "      <td>45135.000000</td>\n",
       "      <td>45135.000000</td>\n",
       "      <td>45135.000000</td>\n",
       "      <td>45135.000000</td>\n",
       "      <td>45135.000000</td>\n",
       "      <td>45135.000000</td>\n",
       "      <td>45135.000000</td>\n",
       "      <td>28533.000000</td>\n",
       "      <td>28533.000000</td>\n",
       "      <td>28533.000000</td>\n",
       "      <td>45135.000000</td>\n",
       "      <td>45135.00000</td>\n",
       "      <td>45135.000000</td>\n",
       "      <td>38896.000000</td>\n",
       "      <td>28533.000000</td>\n",
       "      <td>28533.000000</td>\n",
       "    </tr>\n",
       "    <tr>\n",
       "      <th>mean</th>\n",
       "      <td>3.746693</td>\n",
       "      <td>15.961560</td>\n",
       "      <td>6.156132</td>\n",
       "      <td>2022.111510</td>\n",
       "      <td>15.834940</td>\n",
       "      <td>6.207134</td>\n",
       "      <td>2022.125224</td>\n",
       "      <td>15.502190</td>\n",
       "      <td>6.203589</td>\n",
       "      <td>2022.511268</td>\n",
       "      <td>0.861770</td>\n",
       "      <td>0.63217</td>\n",
       "      <td>3.989631</td>\n",
       "      <td>38.994832</td>\n",
       "      <td>45.821225</td>\n",
       "      <td>3.578729</td>\n",
       "    </tr>\n",
       "    <tr>\n",
       "      <th>std</th>\n",
       "      <td>1.710561</td>\n",
       "      <td>9.247217</td>\n",
       "      <td>3.182604</td>\n",
       "      <td>1.411342</td>\n",
       "      <td>9.203304</td>\n",
       "      <td>3.151267</td>\n",
       "      <td>1.413024</td>\n",
       "      <td>9.053061</td>\n",
       "      <td>2.942557</td>\n",
       "      <td>1.031836</td>\n",
       "      <td>0.345145</td>\n",
       "      <td>0.48222</td>\n",
       "      <td>2.229505</td>\n",
       "      <td>58.044166</td>\n",
       "      <td>36.309001</td>\n",
       "      <td>30.965186</td>\n",
       "    </tr>\n",
       "    <tr>\n",
       "      <th>min</th>\n",
       "      <td>1.000000</td>\n",
       "      <td>1.000000</td>\n",
       "      <td>1.000000</td>\n",
       "      <td>2011.000000</td>\n",
       "      <td>1.000000</td>\n",
       "      <td>1.000000</td>\n",
       "      <td>2011.000000</td>\n",
       "      <td>1.000000</td>\n",
       "      <td>1.000000</td>\n",
       "      <td>2012.000000</td>\n",
       "      <td>0.000000</td>\n",
       "      <td>0.00000</td>\n",
       "      <td>1.000000</td>\n",
       "      <td>1.000000</td>\n",
       "      <td>1.000000</td>\n",
       "      <td>-1008.294262</td>\n",
       "    </tr>\n",
       "    <tr>\n",
       "      <th>25%</th>\n",
       "      <td>1.000000</td>\n",
       "      <td>8.000000</td>\n",
       "      <td>4.000000</td>\n",
       "      <td>2022.000000</td>\n",
       "      <td>8.000000</td>\n",
       "      <td>4.000000</td>\n",
       "      <td>2022.000000</td>\n",
       "      <td>8.000000</td>\n",
       "      <td>4.000000</td>\n",
       "      <td>2022.000000</td>\n",
       "      <td>1.000000</td>\n",
       "      <td>0.00000</td>\n",
       "      <td>2.000000</td>\n",
       "      <td>9.000000</td>\n",
       "      <td>18.000000</td>\n",
       "      <td>0.249907</td>\n",
       "    </tr>\n",
       "    <tr>\n",
       "      <th>50%</th>\n",
       "      <td>5.000000</td>\n",
       "      <td>16.000000</td>\n",
       "      <td>6.000000</td>\n",
       "      <td>2023.000000</td>\n",
       "      <td>16.000000</td>\n",
       "      <td>7.000000</td>\n",
       "      <td>2023.000000</td>\n",
       "      <td>16.000000</td>\n",
       "      <td>7.000000</td>\n",
       "      <td>2023.000000</td>\n",
       "      <td>1.000000</td>\n",
       "      <td>1.00000</td>\n",
       "      <td>4.000000</td>\n",
       "      <td>19.000000</td>\n",
       "      <td>38.000000</td>\n",
       "      <td>0.744954</td>\n",
       "    </tr>\n",
       "    <tr>\n",
       "      <th>75%</th>\n",
       "      <td>5.000000</td>\n",
       "      <td>24.000000</td>\n",
       "      <td>8.000000</td>\n",
       "      <td>2023.000000</td>\n",
       "      <td>24.000000</td>\n",
       "      <td>8.000000</td>\n",
       "      <td>2023.000000</td>\n",
       "      <td>23.000000</td>\n",
       "      <td>8.000000</td>\n",
       "      <td>2023.000000</td>\n",
       "      <td>1.000000</td>\n",
       "      <td>1.00000</td>\n",
       "      <td>5.000000</td>\n",
       "      <td>45.000000</td>\n",
       "      <td>54.000000</td>\n",
       "      <td>1.980070</td>\n",
       "    </tr>\n",
       "    <tr>\n",
       "      <th>max</th>\n",
       "      <td>5.000000</td>\n",
       "      <td>31.000000</td>\n",
       "      <td>12.000000</td>\n",
       "      <td>2023.000000</td>\n",
       "      <td>31.000000</td>\n",
       "      <td>12.000000</td>\n",
       "      <td>2023.000000</td>\n",
       "      <td>31.000000</td>\n",
       "      <td>12.000000</td>\n",
       "      <td>2023.000000</td>\n",
       "      <td>1.000000</td>\n",
       "      <td>1.00000</td>\n",
       "      <td>60.000000</td>\n",
       "      <td>1469.000000</td>\n",
       "      <td>555.000000</td>\n",
       "      <td>1376.952442</td>\n",
       "    </tr>\n",
       "  </tbody>\n",
       "</table>\n",
       "</div>"
      ],
      "text/plain": [
       "              Stars       DoE.day     DoE.month      DoE.year       DoP.day  \\\n",
       "count  45135.000000  45135.000000  45135.000000  45135.000000  45135.000000   \n",
       "mean       3.746693     15.961560      6.156132   2022.111510     15.834940   \n",
       "std        1.710561      9.247217      3.182604      1.411342      9.203304   \n",
       "min        1.000000      1.000000      1.000000   2011.000000      1.000000   \n",
       "25%        1.000000      8.000000      4.000000   2022.000000      8.000000   \n",
       "50%        5.000000     16.000000      6.000000   2023.000000     16.000000   \n",
       "75%        5.000000     24.000000      8.000000   2023.000000     24.000000   \n",
       "max        5.000000     31.000000     12.000000   2023.000000     31.000000   \n",
       "\n",
       "          DoP.month      DoP.year       DoA.day     DoA.month      DoA.year  \\\n",
       "count  45135.000000  45135.000000  28533.000000  28533.000000  28533.000000   \n",
       "mean       6.207134   2022.125224     15.502190      6.203589   2022.511268   \n",
       "std        3.151267      1.413024      9.053061      2.942557      1.031836   \n",
       "min        1.000000   2011.000000      1.000000      1.000000   2012.000000   \n",
       "25%        4.000000   2022.000000      8.000000      4.000000   2022.000000   \n",
       "50%        7.000000   2023.000000     16.000000      7.000000   2023.000000   \n",
       "75%        8.000000   2023.000000     23.000000      8.000000   2023.000000   \n",
       "max       12.000000   2023.000000     31.000000     12.000000   2023.000000   \n",
       "\n",
       "         Comment_TF    Answer_TF  Words_Headline  Words_Comment  Words_Answer  \\\n",
       "count  45135.000000  45135.00000    45135.000000   38896.000000  28533.000000   \n",
       "mean       0.861770      0.63217        3.989631      38.994832     45.821225   \n",
       "std        0.345145      0.48222        2.229505      58.044166     36.309001   \n",
       "min        0.000000      0.00000        1.000000       1.000000      1.000000   \n",
       "25%        1.000000      0.00000        2.000000       9.000000     18.000000   \n",
       "50%        1.000000      1.00000        4.000000      19.000000     38.000000   \n",
       "75%        1.000000      1.00000        5.000000      45.000000     54.000000   \n",
       "max        1.000000      1.00000       60.000000    1469.000000    555.000000   \n",
       "\n",
       "       Response_time  \n",
       "count   28533.000000  \n",
       "mean        3.578729  \n",
       "std        30.965186  \n",
       "min     -1008.294262  \n",
       "25%         0.249907  \n",
       "50%         0.744954  \n",
       "75%         1.980070  \n",
       "max      1376.952442  "
      ]
     },
     "execution_count": 13,
     "metadata": {},
     "output_type": "execute_result"
    }
   ],
   "source": [
    "all_data.describe()"
   ]
  },
  {
   "cell_type": "markdown",
   "id": "e21d434a-934c-4a9a-abc3-2caf0dea4867",
   "metadata": {
    "tags": []
   },
   "source": [
    "### Data set selection and exploration"
   ]
  },
  {
   "cell_type": "markdown",
   "id": "a4028261-0e55-4bf3-b3e0-e3fa8b370b25",
   "metadata": {},
   "source": [
    "#### select relevant data"
   ]
  },
  {
   "cell_type": "code",
   "execution_count": 16,
   "id": "50369868-9edd-478c-8342-bc894eb48bed",
   "metadata": {},
   "outputs": [
    {
     "data": {
      "text/html": [
       "<div>\n",
       "<style scoped>\n",
       "    .dataframe tbody tr th:only-of-type {\n",
       "        vertical-align: middle;\n",
       "    }\n",
       "\n",
       "    .dataframe tbody tr th {\n",
       "        vertical-align: top;\n",
       "    }\n",
       "\n",
       "    .dataframe thead th {\n",
       "        text-align: right;\n",
       "    }\n",
       "</style>\n",
       "<table border=\"1\" class=\"dataframe\">\n",
       "  <thead>\n",
       "    <tr style=\"text-align: right;\">\n",
       "      <th></th>\n",
       "      <th>Nickname</th>\n",
       "      <th>Location</th>\n",
       "      <th>Stars</th>\n",
       "      <th>Headline</th>\n",
       "      <th>DoP</th>\n",
       "      <th>DoE</th>\n",
       "      <th>Comment</th>\n",
       "      <th>Answer</th>\n",
       "      <th>DoA</th>\n",
       "      <th>DoE.day</th>\n",
       "      <th>...</th>\n",
       "      <th>DoA.day</th>\n",
       "      <th>DoA.month</th>\n",
       "      <th>DoA.year</th>\n",
       "      <th>Comment_TF</th>\n",
       "      <th>Answer_TF</th>\n",
       "      <th>Company</th>\n",
       "      <th>Words_Headline</th>\n",
       "      <th>Words_Comment</th>\n",
       "      <th>Words_Answer</th>\n",
       "      <th>Response_time</th>\n",
       "    </tr>\n",
       "  </thead>\n",
       "  <tbody>\n",
       "    <tr>\n",
       "      <th>20</th>\n",
       "      <td>Georgio</td>\n",
       "      <td>DE</td>\n",
       "      <td>1</td>\n",
       "      <td>Schlechter Service bei Anfragen per Mail</td>\n",
       "      <td>2023-08-30 03:25:20+00:00</td>\n",
       "      <td>2023-08-02</td>\n",
       "      <td>Wichtige Anfragen / Änderungen per Mail vom 02...</td>\n",
       "      <td>Hallo Jörg, vielen Dank für deine Zeit in der ...</td>\n",
       "      <td>2023-08-30 12:09:55+00:00</td>\n",
       "      <td>2</td>\n",
       "      <td>...</td>\n",
       "      <td>30.0</td>\n",
       "      <td>8.0</td>\n",
       "      <td>2023.0</td>\n",
       "      <td>1</td>\n",
       "      <td>1</td>\n",
       "      <td>Octopus Energy Germany</td>\n",
       "      <td>6</td>\n",
       "      <td>38.0</td>\n",
       "      <td>45.0</td>\n",
       "      <td>0.364294</td>\n",
       "    </tr>\n",
       "    <tr>\n",
       "      <th>22</th>\n",
       "      <td>Thomas Wilhelm</td>\n",
       "      <td>GR</td>\n",
       "      <td>1</td>\n",
       "      <td>ungefragt Duzen und Gendersprache!</td>\n",
       "      <td>2023-08-29 11:45:41+00:00</td>\n",
       "      <td>2023-08-21</td>\n",
       "      <td>ich habe es schon bereut diesen Anbieter gewäh...</td>\n",
       "      <td>Hallo Thomas, vielen Dank für deine Zeit, die ...</td>\n",
       "      <td>2023-08-30 12:10:22+00:00</td>\n",
       "      <td>21</td>\n",
       "      <td>...</td>\n",
       "      <td>30.0</td>\n",
       "      <td>8.0</td>\n",
       "      <td>2023.0</td>\n",
       "      <td>1</td>\n",
       "      <td>1</td>\n",
       "      <td>Octopus Energy Germany</td>\n",
       "      <td>4</td>\n",
       "      <td>45.0</td>\n",
       "      <td>50.0</td>\n",
       "      <td>1.017141</td>\n",
       "    </tr>\n",
       "    <tr>\n",
       "      <th>40</th>\n",
       "      <td>Kirsten</td>\n",
       "      <td>DE</td>\n",
       "      <td>4</td>\n",
       "      <td>Willkommen</td>\n",
       "      <td>2023-08-29 10:08:03+00:00</td>\n",
       "      <td>2023-08-04</td>\n",
       "      <td>Der Wechsel war sehr einfach und verlief probl...</td>\n",
       "      <td>Hallo Kirsten,vielen Dank für deine gute Bewer...</td>\n",
       "      <td>2023-08-30 06:14:11+00:00</td>\n",
       "      <td>4</td>\n",
       "      <td>...</td>\n",
       "      <td>30.0</td>\n",
       "      <td>8.0</td>\n",
       "      <td>2023.0</td>\n",
       "      <td>1</td>\n",
       "      <td>1</td>\n",
       "      <td>Octopus Energy Germany</td>\n",
       "      <td>1</td>\n",
       "      <td>22.0</td>\n",
       "      <td>24.0</td>\n",
       "      <td>0.837593</td>\n",
       "    </tr>\n",
       "    <tr>\n",
       "      <th>41</th>\n",
       "      <td>Thomas</td>\n",
       "      <td>DE</td>\n",
       "      <td>4</td>\n",
       "      <td>Der Anbieterwechsel klappt super</td>\n",
       "      <td>2023-08-29 15:53:18+00:00</td>\n",
       "      <td>2023-08-21</td>\n",
       "      <td>Der Anbieterwechsel (Papierkram) hat super gek...</td>\n",
       "      <td>Hallo Thomas,danke dir vielmals für die gute B...</td>\n",
       "      <td>2023-08-30 06:13:16+00:00</td>\n",
       "      <td>21</td>\n",
       "      <td>...</td>\n",
       "      <td>30.0</td>\n",
       "      <td>8.0</td>\n",
       "      <td>2023.0</td>\n",
       "      <td>1</td>\n",
       "      <td>1</td>\n",
       "      <td>Octopus Energy Germany</td>\n",
       "      <td>4</td>\n",
       "      <td>19.0</td>\n",
       "      <td>12.0</td>\n",
       "      <td>0.597199</td>\n",
       "    </tr>\n",
       "    <tr>\n",
       "      <th>49</th>\n",
       "      <td>Heiko</td>\n",
       "      <td>DE</td>\n",
       "      <td>4</td>\n",
       "      <td>Bis jetzt war alles zufriedenstellend</td>\n",
       "      <td>2023-08-29 08:26:24+00:00</td>\n",
       "      <td>2023-08-21</td>\n",
       "      <td>Bis jetzt war alles zufriedenstellend Vom Erst...</td>\n",
       "      <td>Hallo Heiko,vielen Dank für deine gute Bewertu...</td>\n",
       "      <td>2023-08-30 06:15:27+00:00</td>\n",
       "      <td>21</td>\n",
       "      <td>...</td>\n",
       "      <td>30.0</td>\n",
       "      <td>8.0</td>\n",
       "      <td>2023.0</td>\n",
       "      <td>1</td>\n",
       "      <td>1</td>\n",
       "      <td>Octopus Energy Germany</td>\n",
       "      <td>5</td>\n",
       "      <td>27.0</td>\n",
       "      <td>24.0</td>\n",
       "      <td>0.909062</td>\n",
       "    </tr>\n",
       "  </tbody>\n",
       "</table>\n",
       "<p>5 rows × 25 columns</p>\n",
       "</div>"
      ],
      "text/plain": [
       "          Nickname Location  Stars                                  Headline  \\\n",
       "20         Georgio       DE      1  Schlechter Service bei Anfragen per Mail   \n",
       "22  Thomas Wilhelm       GR      1        ungefragt Duzen und Gendersprache!   \n",
       "40         Kirsten       DE      4                                Willkommen   \n",
       "41          Thomas       DE      4          Der Anbieterwechsel klappt super   \n",
       "49           Heiko       DE      4     Bis jetzt war alles zufriedenstellend   \n",
       "\n",
       "                          DoP         DoE  \\\n",
       "20  2023-08-30 03:25:20+00:00  2023-08-02   \n",
       "22  2023-08-29 11:45:41+00:00  2023-08-21   \n",
       "40  2023-08-29 10:08:03+00:00  2023-08-04   \n",
       "41  2023-08-29 15:53:18+00:00  2023-08-21   \n",
       "49  2023-08-29 08:26:24+00:00  2023-08-21   \n",
       "\n",
       "                                              Comment  \\\n",
       "20  Wichtige Anfragen / Änderungen per Mail vom 02...   \n",
       "22  ich habe es schon bereut diesen Anbieter gewäh...   \n",
       "40  Der Wechsel war sehr einfach und verlief probl...   \n",
       "41  Der Anbieterwechsel (Papierkram) hat super gek...   \n",
       "49  Bis jetzt war alles zufriedenstellend Vom Erst...   \n",
       "\n",
       "                                               Answer  \\\n",
       "20  Hallo Jörg, vielen Dank für deine Zeit in der ...   \n",
       "22  Hallo Thomas, vielen Dank für deine Zeit, die ...   \n",
       "40  Hallo Kirsten,vielen Dank für deine gute Bewer...   \n",
       "41  Hallo Thomas,danke dir vielmals für die gute B...   \n",
       "49  Hallo Heiko,vielen Dank für deine gute Bewertu...   \n",
       "\n",
       "                          DoA  DoE.day  ...  DoA.day  DoA.month  DoA.year  \\\n",
       "20  2023-08-30 12:09:55+00:00        2  ...     30.0        8.0    2023.0   \n",
       "22  2023-08-30 12:10:22+00:00       21  ...     30.0        8.0    2023.0   \n",
       "40  2023-08-30 06:14:11+00:00        4  ...     30.0        8.0    2023.0   \n",
       "41  2023-08-30 06:13:16+00:00       21  ...     30.0        8.0    2023.0   \n",
       "49  2023-08-30 06:15:27+00:00       21  ...     30.0        8.0    2023.0   \n",
       "\n",
       "    Comment_TF  Answer_TF                 Company  Words_Headline  \\\n",
       "20           1          1  Octopus Energy Germany               6   \n",
       "22           1          1  Octopus Energy Germany               4   \n",
       "40           1          1  Octopus Energy Germany               1   \n",
       "41           1          1  Octopus Energy Germany               4   \n",
       "49           1          1  Octopus Energy Germany               5   \n",
       "\n",
       "    Words_Comment  Words_Answer  Response_time  \n",
       "20           38.0          45.0       0.364294  \n",
       "22           45.0          50.0       1.017141  \n",
       "40           22.0          24.0       0.837593  \n",
       "41           19.0          12.0       0.597199  \n",
       "49           27.0          24.0       0.909062  \n",
       "\n",
       "[5 rows x 25 columns]"
      ]
     },
     "execution_count": 16,
     "metadata": {},
     "output_type": "execute_result"
    }
   ],
   "source": [
    "#select only data with answers present\n",
    "answers = all_data.loc[all_data['Answer_TF'] == 1]\n",
    "answers.head()"
   ]
  },
  {
   "cell_type": "code",
   "execution_count": 17,
   "id": "6e02b8c2-eddf-4b29-94b4-b032895ef153",
   "metadata": {},
   "outputs": [
    {
     "name": "stdout",
     "output_type": "stream",
     "text": [
      "Index(['Nickname', 'Location', 'Stars', 'Headline', 'DoP', 'DoE', 'Comment',\n",
      "       'Answer', 'DoA', 'DoE.day', 'DoE.month', 'DoE.year', 'DoP.day',\n",
      "       'DoP.month', 'DoP.year', 'DoA.day', 'DoA.month', 'DoA.year',\n",
      "       'Comment_TF', 'Answer_TF', 'Company', 'Words_Headline', 'Words_Comment',\n",
      "       'Words_Answer', 'Response_time'],\n",
      "      dtype='object')\n"
     ]
    }
   ],
   "source": [
    "column_names = answers.columns\n",
    "print(column_names)"
   ]
  },
  {
   "cell_type": "code",
   "execution_count": 18,
   "id": "004e046e-04c6-4494-80e1-4c27594bb1d6",
   "metadata": {},
   "outputs": [
    {
     "data": {
      "text/html": [
       "<div>\n",
       "<style scoped>\n",
       "    .dataframe tbody tr th:only-of-type {\n",
       "        vertical-align: middle;\n",
       "    }\n",
       "\n",
       "    .dataframe tbody tr th {\n",
       "        vertical-align: top;\n",
       "    }\n",
       "\n",
       "    .dataframe thead th {\n",
       "        text-align: right;\n",
       "    }\n",
       "</style>\n",
       "<table border=\"1\" class=\"dataframe\">\n",
       "  <thead>\n",
       "    <tr style=\"text-align: right;\">\n",
       "      <th></th>\n",
       "      <th>Stars</th>\n",
       "      <th>Company</th>\n",
       "      <th>Words_Headline</th>\n",
       "      <th>Words_Comment</th>\n",
       "    </tr>\n",
       "  </thead>\n",
       "  <tbody>\n",
       "    <tr>\n",
       "      <th>20</th>\n",
       "      <td>1</td>\n",
       "      <td>Octopus Energy Germany</td>\n",
       "      <td>6</td>\n",
       "      <td>38.0</td>\n",
       "    </tr>\n",
       "    <tr>\n",
       "      <th>22</th>\n",
       "      <td>1</td>\n",
       "      <td>Octopus Energy Germany</td>\n",
       "      <td>4</td>\n",
       "      <td>45.0</td>\n",
       "    </tr>\n",
       "    <tr>\n",
       "      <th>40</th>\n",
       "      <td>4</td>\n",
       "      <td>Octopus Energy Germany</td>\n",
       "      <td>1</td>\n",
       "      <td>22.0</td>\n",
       "    </tr>\n",
       "    <tr>\n",
       "      <th>41</th>\n",
       "      <td>4</td>\n",
       "      <td>Octopus Energy Germany</td>\n",
       "      <td>4</td>\n",
       "      <td>19.0</td>\n",
       "    </tr>\n",
       "    <tr>\n",
       "      <th>49</th>\n",
       "      <td>4</td>\n",
       "      <td>Octopus Energy Germany</td>\n",
       "      <td>5</td>\n",
       "      <td>27.0</td>\n",
       "    </tr>\n",
       "  </tbody>\n",
       "</table>\n",
       "</div>"
      ],
      "text/plain": [
       "    Stars                 Company  Words_Headline  Words_Comment\n",
       "20      1  Octopus Energy Germany               6           38.0\n",
       "22      1  Octopus Energy Germany               4           45.0\n",
       "40      4  Octopus Energy Germany               1           22.0\n",
       "41      4  Octopus Energy Germany               4           19.0\n",
       "49      4  Octopus Energy Germany               5           27.0"
      ]
     },
     "execution_count": 18,
     "metadata": {},
     "output_type": "execute_result"
    }
   ],
   "source": [
    "# reduce features, so we keep 'Stars' as target\n",
    "# and drop all columns except 'Company', 'Words_Headline', 'Words_Comment', 'Words_Answer', 'Response_time'\n",
    "\n",
    "star1 = answers.drop(['Nickname', 'Location', 'Headline', 'DoP', 'DoE', 'Comment', 'Words_Answer', 'Response_time', \n",
    "       'Answer', 'DoA', 'DoE.day', 'DoE.month', 'DoE.year', 'DoP.day',\n",
    "       'DoP.month', 'DoP.year', 'DoA.day', 'DoA.month', 'DoA.year',\n",
    "       'Comment_TF', 'Answer_TF'], axis=1)\n",
    "star1.head()"
   ]
  },
  {
   "cell_type": "code",
   "execution_count": 19,
   "id": "a1a2357e-8ff1-44db-bdcd-9c7faecd5d78",
   "metadata": {},
   "outputs": [
    {
     "name": "stdout",
     "output_type": "stream",
     "text": [
      "<class 'pandas.core.frame.DataFrame'>\n",
      "Index: 28533 entries, 20 to 45132\n",
      "Data columns (total 4 columns):\n",
      " #   Column          Non-Null Count  Dtype  \n",
      "---  ------          --------------  -----  \n",
      " 0   Stars           28533 non-null  int64  \n",
      " 1   Company         28533 non-null  object \n",
      " 2   Words_Headline  28533 non-null  int64  \n",
      " 3   Words_Comment   25046 non-null  float64\n",
      "dtypes: float64(1), int64(2), object(1)\n",
      "memory usage: 1.1+ MB\n"
     ]
    }
   ],
   "source": [
    "star1.info()\n",
    "# there are missing values"
   ]
  },
  {
   "cell_type": "markdown",
   "id": "6e06317b-c075-4789-b8d6-6cef87fe64d6",
   "metadata": {},
   "source": [
    "There are missing values: \n",
    "\n",
    "12% of the data does have no entry in Words_comment, because only headline is a mandatory field for a customer feedback.\n",
    " - we could delete all rows with no answer\n",
    " - or we replace NaN with 0, because it is interesting that some users did not even bother to leave an explanation with their headline. As we can see from the target distribution, nearly all customer posts with 0 words have a 5 star rating.\n",
    " "
   ]
  },
  {
   "cell_type": "code",
   "execution_count": 21,
   "id": "06640052-c932-4609-a59d-b4679d6f4500",
   "metadata": {},
   "outputs": [],
   "source": [
    "#replace NaN with 0 for selected columns:\n",
    "for column in ['Words_Comment']:\n",
    "    star1[column].fillna(0, inplace=True)"
   ]
  },
  {
   "cell_type": "code",
   "execution_count": 22,
   "id": "dbe90e3e-a9ec-4cac-a57a-d107e8719e37",
   "metadata": {},
   "outputs": [
    {
     "data": {
      "image/png": "[encoded data removed]",
      "text/plain": [
       "<Figure size 640x480 with 1 Axes>"
      ]
     },
     "metadata": {},
     "output_type": "display_data"
    }
   ],
   "source": [
    "#plot distribution\n",
    "plt.title(\"Distribution of star ratings with 0 words customer post\")\n",
    "sns.countplot(x='Stars', data=star1[star1['Words_Comment'] == 0]); "
   ]
  },
  {
   "cell_type": "code",
   "execution_count": 23,
   "id": "a46c2690-8212-4d92-9ad4-5dbd59fd56ff",
   "metadata": {},
   "outputs": [
    {
     "name": "stdout",
     "output_type": "stream",
     "text": [
      "<class 'pandas.core.frame.DataFrame'>\n",
      "Index: 28533 entries, 20 to 45132\n",
      "Data columns (total 4 columns):\n",
      " #   Column          Non-Null Count  Dtype \n",
      "---  ------          --------------  ----- \n",
      " 0   Stars           28533 non-null  int64 \n",
      " 1   Company         28533 non-null  object\n",
      " 2   Words_Headline  28533 non-null  int64 \n",
      " 3   Words_Comment   28533 non-null  int64 \n",
      "dtypes: int64(3), object(1)\n",
      "memory usage: 1.1+ MB\n"
     ]
    }
   ],
   "source": [
    "# change dtype\n",
    "star1['Words_Comment']=star1.Words_Comment.astype('int64')\n",
    "\n",
    "star1.info() # no more NaN"
   ]
  },
  {
   "cell_type": "code",
   "execution_count": 24,
   "id": "4e8d76d2-b3d5-4ef1-b034-93ae28669fe4",
   "metadata": {},
   "outputs": [
    {
     "data": {
      "text/plain": [
       "0"
      ]
     },
     "execution_count": 24,
     "metadata": {},
     "output_type": "execute_result"
    }
   ],
   "source": [
    "star1.isna().sum().sum()"
   ]
  },
  {
   "cell_type": "code",
   "execution_count": 25,
   "id": "2b708c2b-2603-4d5b-8c91-bdcbfe5f1639",
   "metadata": {},
   "outputs": [
    {
     "data": {
      "text/html": [
       "<div>\n",
       "<style scoped>\n",
       "    .dataframe tbody tr th:only-of-type {\n",
       "        vertical-align: middle;\n",
       "    }\n",
       "\n",
       "    .dataframe tbody tr th {\n",
       "        vertical-align: top;\n",
       "    }\n",
       "\n",
       "    .dataframe thead th {\n",
       "        text-align: right;\n",
       "    }\n",
       "</style>\n",
       "<table border=\"1\" class=\"dataframe\">\n",
       "  <thead>\n",
       "    <tr style=\"text-align: right;\">\n",
       "      <th></th>\n",
       "      <th>Stars</th>\n",
       "      <th>Words_Headline</th>\n",
       "      <th>Words_Comment</th>\n",
       "    </tr>\n",
       "  </thead>\n",
       "  <tbody>\n",
       "    <tr>\n",
       "      <th>count</th>\n",
       "      <td>28533.000000</td>\n",
       "      <td>28533.000000</td>\n",
       "      <td>28533.000000</td>\n",
       "    </tr>\n",
       "    <tr>\n",
       "      <th>mean</th>\n",
       "      <td>3.538534</td>\n",
       "      <td>4.051379</td>\n",
       "      <td>37.408229</td>\n",
       "    </tr>\n",
       "    <tr>\n",
       "      <th>std</th>\n",
       "      <td>1.776946</td>\n",
       "      <td>2.265859</td>\n",
       "      <td>58.475650</td>\n",
       "    </tr>\n",
       "    <tr>\n",
       "      <th>min</th>\n",
       "      <td>1.000000</td>\n",
       "      <td>1.000000</td>\n",
       "      <td>0.000000</td>\n",
       "    </tr>\n",
       "    <tr>\n",
       "      <th>25%</th>\n",
       "      <td>1.000000</td>\n",
       "      <td>2.000000</td>\n",
       "      <td>7.000000</td>\n",
       "    </tr>\n",
       "    <tr>\n",
       "      <th>50%</th>\n",
       "      <td>5.000000</td>\n",
       "      <td>4.000000</td>\n",
       "      <td>17.000000</td>\n",
       "    </tr>\n",
       "    <tr>\n",
       "      <th>75%</th>\n",
       "      <td>5.000000</td>\n",
       "      <td>5.000000</td>\n",
       "      <td>45.000000</td>\n",
       "    </tr>\n",
       "    <tr>\n",
       "      <th>max</th>\n",
       "      <td>5.000000</td>\n",
       "      <td>43.000000</td>\n",
       "      <td>1469.000000</td>\n",
       "    </tr>\n",
       "  </tbody>\n",
       "</table>\n",
       "</div>"
      ],
      "text/plain": [
       "              Stars  Words_Headline  Words_Comment\n",
       "count  28533.000000    28533.000000   28533.000000\n",
       "mean       3.538534        4.051379      37.408229\n",
       "std        1.776946        2.265859      58.475650\n",
       "min        1.000000        1.000000       0.000000\n",
       "25%        1.000000        2.000000       7.000000\n",
       "50%        5.000000        4.000000      17.000000\n",
       "75%        5.000000        5.000000      45.000000\n",
       "max        5.000000       43.000000    1469.000000"
      ]
     },
     "execution_count": 25,
     "metadata": {},
     "output_type": "execute_result"
    }
   ],
   "source": [
    "star1.describe()"
   ]
  },
  {
   "cell_type": "code",
   "execution_count": 26,
   "id": "69e85614-7147-4180-a648-c452c6da8c07",
   "metadata": {},
   "outputs": [
    {
     "data": {
      "image/png": "[encoded data removed]",
      "text/plain": [
       "<Figure size 640x480 with 1 Axes>"
      ]
     },
     "metadata": {},
     "output_type": "display_data"
    }
   ],
   "source": [
    "#plot distribution\n",
    "plt.title(\"Distribution of star ratings with negative response time\")\n",
    "sns.countplot(x='Stars', data=star1);\n"
   ]
  },
  {
   "cell_type": "code",
   "execution_count": 27,
   "id": "2116769c-c8da-4ed5-b1ce-8e840effdb4c",
   "metadata": {},
   "outputs": [],
   "source": [
    "#reset index\n",
    "star1.reset_index(drop=True, inplace=True) #drop=True - no new ID column inserted"
   ]
  },
  {
   "cell_type": "markdown",
   "id": "6bf85c5a-62f2-44b8-a01f-6e7f65621509",
   "metadata": {
    "tags": []
   },
   "source": [
    "### Target Information"
   ]
  },
  {
   "cell_type": "code",
   "execution_count": 29,
   "id": "53e1d61f-0b89-48f5-bb8a-4a021b6afdc2",
   "metadata": {},
   "outputs": [
    {
     "data": {
      "text/plain": [
       "Stars\n",
       "5    15231\n",
       "1     8444\n",
       "4     2729\n",
       "3     1192\n",
       "2      937\n",
       "Name: count, dtype: int64"
      ]
     },
     "execution_count": 29,
     "metadata": {},
     "output_type": "execute_result"
    }
   ],
   "source": [
    "#unique values of 'Stars' in percentage\n",
    "star1['Stars'].value_counts()"
   ]
  },
  {
   "cell_type": "code",
   "execution_count": 30,
   "id": "bdc16c09-23bd-4b70-baab-3c6d0fba1a16",
   "metadata": {},
   "outputs": [
    {
     "data": {
      "text/plain": [
       "Stars\n",
       "5    0.533803\n",
       "1    0.295938\n",
       "4    0.095644\n",
       "3    0.041776\n",
       "2    0.032839\n",
       "Name: proportion, dtype: float64"
      ]
     },
     "execution_count": 30,
     "metadata": {},
     "output_type": "execute_result"
    }
   ],
   "source": [
    "# target information: un-balanced data set\n",
    "#unique values of 'Stars' in percentage\n",
    "star1['Stars'].value_counts(normalize=True)\n"
   ]
  },
  {
   "cell_type": "markdown",
   "id": "2f919c81-ace5-4ed2-965f-4222783a9f2b",
   "metadata": {},
   "source": [
    "The target variable 'Stars' is not evenly distributed in the data-set:\n",
    " - Over 50% of the customer comments are 5-star ratings, \n",
    " - followed by around 30% of 1-star ratings and around 10% of 4-star labels. \n",
    " - Less than 5% each go to 3- and 2-star ratings."
   ]
  },
  {
   "cell_type": "code",
   "execution_count": 32,
   "id": "d93b5ee0-4b03-4cb6-af00-6b33e9e5b7ff",
   "metadata": {},
   "outputs": [
    {
     "data": {
      "image/png": "[encoded data removed]",
      "text/plain": [
       "<Figure size 640x480 with 1 Axes>"
      ]
     },
     "metadata": {},
     "output_type": "display_data"
    }
   ],
   "source": [
    "#plot distribution\n",
    "plt.title(\"Distribution of classes in star-rating\")\n",
    "sns.countplot(x='Stars', data=star1);\n"
   ]
  },
  {
   "cell_type": "code",
   "execution_count": 33,
   "id": "d761bbe6-720b-4df3-aa0a-48067a1c7e78",
   "metadata": {},
   "outputs": [
    {
     "data": {
      "image/png": "[encoded data removed]",
      "text/plain": [
       "<Figure size 600x600 with 2 Axes>"
      ]
     },
     "metadata": {},
     "output_type": "display_data"
    }
   ],
   "source": [
    "#check correlation of features with heatmap\n",
    "# select data\n",
    "cor_data = star1.drop(['Company'], axis=1)\n",
    "\n",
    "cor = cor_data.corr()\n",
    "\n",
    "#Heatmap\n",
    "f, ax = plt.subplots(figsize = (6,6))\n",
    "sns.heatmap(cor, annot= True, ax=ax, cmap= 'coolwarm', annot_kws={'fontsize': 12, 'fontweight': 'bold'})\n",
    "plt.title('Correlation heatmap', fontsize= 14 )\n",
    "plt.xticks(rotation= 30, ha='right')\n",
    "plt.yticks(rotation = 0)\n",
    "plt.xticks(fontsize= 10)\n",
    "plt.yticks(fontsize=10)\n",
    "plt.show();\n",
    "\n",
    "\n",
    "# Interpretation:\n",
    "# Red colors indicate a high positive correlation between the variables.\n",
    "# Blue colors show a poor and even negative correlation correlation."
   ]
  },
  {
   "cell_type": "markdown",
   "id": "f42856ed-8f3f-47a5-b269-2c65f2481ea5",
   "metadata": {
    "tags": []
   },
   "source": [
    "### Treatment of Outliers"
   ]
  },
  {
   "attachments": {},
   "cell_type": "markdown",
   "id": "0a5979ed-f65b-4906-abc8-926a780f2b18",
   "metadata": {},
   "source": [
    "In the distribution of our main variables, there are a few data points which have extreme values. In order to identify the outliers we have to decide first, if we have a normal distribution or not:\n",
    "\n",
    " - In case of standard distribution (KDE plot): Anything outside of 3 standard deviations can be considered as outlier.\n",
    " - In case of a skewed distribution (box plot) we look at the inter-quartile range (IQR): Data points below Q1 - 1.5 * IQR or above Q3 + 1.5 * IQR can be considered as outliers.\n",
    "\n",
    "Link: Dey, Akash: How to handle outliers, Feb 2022: https://www.kaggle.com/code/aimack/how-to-handle-outliers/notebook"
   ]
  },
  {
   "cell_type": "markdown",
   "id": "1411ee82-600a-4f2c-9fb2-52ec8db679e5",
   "metadata": {
    "tags": []
   },
   "source": [
    "#### Words_Headline"
   ]
  },
  {
   "cell_type": "code",
   "execution_count": 37,
   "id": "423e3959-e79b-441c-95dd-1ee79d4b10a5",
   "metadata": {},
   "outputs": [
    {
     "data": {
      "image/png": "[encoded data removed]",
      "text/plain": [
       "<Figure size 800x500 with 2 Axes>"
      ]
     },
     "metadata": {},
     "output_type": "display_data"
    }
   ],
   "source": [
    "\n",
    "#plot distribution before Capping\n",
    "plt.figure(figsize=(8,5))\n",
    "plt.suptitle(\"Distribution before Capping\", fontsize=14)\n",
    "plt.subplot(1,2,1)\n",
    "sns.kdeplot(x= 'Words_Headline', data = star1)\n",
    "plt.subplot(1,2,2)\n",
    "sns.boxplot(y= 'Words_Headline', data = star1)\n",
    "plt.tight_layout()\n",
    "plt.show()"
   ]
  },
  {
   "cell_type": "code",
   "execution_count": 38,
   "id": "d69684da-751c-47a9-89bc-43d393f5060c",
   "metadata": {},
   "outputs": [
    {
     "name": "stdout",
     "output_type": "stream",
     "text": [
      "For 'Words_Headline': Q1(25% percentile) equals  2.0  and Q3(75% percentile) equals  5.0\n",
      "For 'Words_Headline': IQR equals  3.0\n",
      "For 'Words_Headline': max limit equals  10.0\n",
      "For 'Words_Headline': min limit equals  -2.0\n"
     ]
    }
   ],
   "source": [
    "#Finding the Q1(25% percentile) and Q3(75% percentile)\n",
    "s_q1 = star1[\"Words_Headline\"].quantile(0.25)\n",
    "s_q3 = star1[\"Words_Headline\"].quantile(0.75)\n",
    "print(\"For 'Words_Headline': Q1(25% percentile) equals \", s_q1, \" and Q3(75% percentile) equals \", s_q3)\n",
    "\n",
    "#Finding out the value of the Inter Quartile Range\n",
    "s_IQR = s_q3 - s_q1\n",
    "print(\"For 'Words_Headline': IQR equals \", round(s_IQR, 3))\n",
    "\n",
    "#Defining max and min limits\n",
    "s_max_limit = s_q3 + (1.5 * s_IQR)\n",
    "s_min_limit = s_q1 - (1.5 * s_IQR) \n",
    "print(\"For 'Words_Headline': max limit equals \", round(s_max_limit, 0)) # word count is integer, round to 0 digits\n",
    "print(\"For 'Words_Headline': min limit equals \", round(s_min_limit, 0))\n"
   ]
  },
  {
   "cell_type": "code",
   "execution_count": 39,
   "id": "414612d5-f578-4565-af0a-7c78d640a548",
   "metadata": {},
   "outputs": [
    {
     "data": {
      "text/html": [
       "<div>\n",
       "<style scoped>\n",
       "    .dataframe tbody tr th:only-of-type {\n",
       "        vertical-align: middle;\n",
       "    }\n",
       "\n",
       "    .dataframe tbody tr th {\n",
       "        vertical-align: top;\n",
       "    }\n",
       "\n",
       "    .dataframe thead th {\n",
       "        text-align: right;\n",
       "    }\n",
       "</style>\n",
       "<table border=\"1\" class=\"dataframe\">\n",
       "  <thead>\n",
       "    <tr style=\"text-align: right;\">\n",
       "      <th></th>\n",
       "      <th>Stars</th>\n",
       "      <th>Company</th>\n",
       "      <th>Words_Headline</th>\n",
       "      <th>Words_Comment</th>\n",
       "    </tr>\n",
       "  </thead>\n",
       "  <tbody>\n",
       "    <tr>\n",
       "      <th>832</th>\n",
       "      <td>5</td>\n",
       "      <td>Octopus Energy Germany</td>\n",
       "      <td>11</td>\n",
       "      <td>23</td>\n",
       "    </tr>\n",
       "    <tr>\n",
       "      <th>2471</th>\n",
       "      <td>5</td>\n",
       "      <td>Octopus Energy Germany</td>\n",
       "      <td>12</td>\n",
       "      <td>70</td>\n",
       "    </tr>\n",
       "    <tr>\n",
       "      <th>2485</th>\n",
       "      <td>5</td>\n",
       "      <td>Octopus Energy Germany</td>\n",
       "      <td>28</td>\n",
       "      <td>6</td>\n",
       "    </tr>\n",
       "    <tr>\n",
       "      <th>2966</th>\n",
       "      <td>4</td>\n",
       "      <td>Octopus Energy Germany</td>\n",
       "      <td>12</td>\n",
       "      <td>24</td>\n",
       "    </tr>\n",
       "    <tr>\n",
       "      <th>3112</th>\n",
       "      <td>5</td>\n",
       "      <td>Octopus Energy Germany</td>\n",
       "      <td>12</td>\n",
       "      <td>9</td>\n",
       "    </tr>\n",
       "    <tr>\n",
       "      <th>...</th>\n",
       "      <td>...</td>\n",
       "      <td>...</td>\n",
       "      <td>...</td>\n",
       "      <td>...</td>\n",
       "    </tr>\n",
       "    <tr>\n",
       "      <th>28371</th>\n",
       "      <td>3</td>\n",
       "      <td>EWE</td>\n",
       "      <td>13</td>\n",
       "      <td>218</td>\n",
       "    </tr>\n",
       "    <tr>\n",
       "      <th>28487</th>\n",
       "      <td>4</td>\n",
       "      <td>EWE</td>\n",
       "      <td>13</td>\n",
       "      <td>20</td>\n",
       "    </tr>\n",
       "    <tr>\n",
       "      <th>28500</th>\n",
       "      <td>1</td>\n",
       "      <td>EWE</td>\n",
       "      <td>14</td>\n",
       "      <td>2</td>\n",
       "    </tr>\n",
       "    <tr>\n",
       "      <th>28501</th>\n",
       "      <td>1</td>\n",
       "      <td>EWE</td>\n",
       "      <td>16</td>\n",
       "      <td>69</td>\n",
       "    </tr>\n",
       "    <tr>\n",
       "      <th>28523</th>\n",
       "      <td>3</td>\n",
       "      <td>EWE</td>\n",
       "      <td>11</td>\n",
       "      <td>12</td>\n",
       "    </tr>\n",
       "  </tbody>\n",
       "</table>\n",
       "<p>295 rows × 4 columns</p>\n",
       "</div>"
      ],
      "text/plain": [
       "       Stars                 Company  Words_Headline  Words_Comment\n",
       "832        5  Octopus Energy Germany              11             23\n",
       "2471       5  Octopus Energy Germany              12             70\n",
       "2485       5  Octopus Energy Germany              28              6\n",
       "2966       4  Octopus Energy Germany              12             24\n",
       "3112       5  Octopus Energy Germany              12              9\n",
       "...      ...                     ...             ...            ...\n",
       "28371      3                     EWE              13            218\n",
       "28487      4                     EWE              13             20\n",
       "28500      1                     EWE              14              2\n",
       "28501      1                     EWE              16             69\n",
       "28523      3                     EWE              11             12\n",
       "\n",
       "[295 rows x 4 columns]"
      ]
     },
     "execution_count": 39,
     "metadata": {},
     "output_type": "execute_result"
    }
   ],
   "source": [
    "## Identifkation of extreme values for 'Words_Headline'\n",
    "# some data points are above the max limit (upper whisker) of upper quartile\n",
    "# max limit calculated as 9.5, rounded to 10\n",
    "star1.query(\"Words_Headline >10\") # 295 rows"
   ]
  },
  {
   "cell_type": "code",
   "execution_count": 40,
   "id": "d2c45875-fb69-4298-84e1-17df33ae901f",
   "metadata": {},
   "outputs": [
    {
     "data": {
      "text/html": [
       "<div>\n",
       "<style scoped>\n",
       "    .dataframe tbody tr th:only-of-type {\n",
       "        vertical-align: middle;\n",
       "    }\n",
       "\n",
       "    .dataframe tbody tr th {\n",
       "        vertical-align: top;\n",
       "    }\n",
       "\n",
       "    .dataframe thead th {\n",
       "        text-align: right;\n",
       "    }\n",
       "</style>\n",
       "<table border=\"1\" class=\"dataframe\">\n",
       "  <thead>\n",
       "    <tr style=\"text-align: right;\">\n",
       "      <th></th>\n",
       "      <th>Words_Headline_new</th>\n",
       "    </tr>\n",
       "  </thead>\n",
       "  <tbody>\n",
       "    <tr>\n",
       "      <th>0</th>\n",
       "      <td>6.0</td>\n",
       "    </tr>\n",
       "    <tr>\n",
       "      <th>1</th>\n",
       "      <td>4.0</td>\n",
       "    </tr>\n",
       "    <tr>\n",
       "      <th>2</th>\n",
       "      <td>1.0</td>\n",
       "    </tr>\n",
       "    <tr>\n",
       "      <th>3</th>\n",
       "      <td>4.0</td>\n",
       "    </tr>\n",
       "    <tr>\n",
       "      <th>4</th>\n",
       "      <td>5.0</td>\n",
       "    </tr>\n",
       "  </tbody>\n",
       "</table>\n",
       "</div>"
      ],
      "text/plain": [
       "   Words_Headline_new\n",
       "0                 6.0\n",
       "1                 4.0\n",
       "2                 1.0\n",
       "3                 4.0\n",
       "4                 5.0"
      ]
     },
     "execution_count": 40,
     "metadata": {},
     "output_type": "execute_result"
    }
   ],
   "source": [
    "#capping and storing the values into a new df\n",
    "headline_new = pd.DataFrame(np.where(star1[\"Words_Headline\"] > s_max_limit, np.round(s_max_limit, 0), \n",
    "         (np.where(star1[\"Words_Headline\"] < s_min_limit, np.round(s_min_limit, 0), star1[\"Words_Headline\"]))\n",
    "                                    ), columns=[\"Words_Headline_new\"])\n",
    "\n",
    "headline_new.head()"
   ]
  },
  {
   "cell_type": "code",
   "execution_count": 41,
   "id": "dd5af32a-cd60-4600-b387-097d39223ab7",
   "metadata": {},
   "outputs": [
    {
     "data": {
      "image/png": "[encoded data removed]",
      "text/plain": [
       "<Figure size 800x500 with 2 Axes>"
      ]
     },
     "metadata": {},
     "output_type": "display_data"
    }
   ],
   "source": [
    "#plot after capping\n",
    "plt.figure(figsize=(8,5))\n",
    "plt.suptitle(\"Distribution after Capping\",fontsize=14)\n",
    "plt.subplot(1,2,1)\n",
    "sns.kdeplot(x='Words_Headline_new', data = headline_new)\n",
    "plt.subplot(1,2,2)\n",
    "sns.boxplot(y='Words_Headline_new', data = headline_new)\n",
    "plt.tight_layout()\n",
    "plt.show()"
   ]
  },
  {
   "cell_type": "code",
   "execution_count": 42,
   "id": "81c8a7e9-ecad-4662-921c-e516981cf650",
   "metadata": {},
   "outputs": [
    {
     "data": {
      "text/html": [
       "<div>\n",
       "<style scoped>\n",
       "    .dataframe tbody tr th:only-of-type {\n",
       "        vertical-align: middle;\n",
       "    }\n",
       "\n",
       "    .dataframe tbody tr th {\n",
       "        vertical-align: top;\n",
       "    }\n",
       "\n",
       "    .dataframe thead th {\n",
       "        text-align: right;\n",
       "    }\n",
       "</style>\n",
       "<table border=\"1\" class=\"dataframe\">\n",
       "  <thead>\n",
       "    <tr style=\"text-align: right;\">\n",
       "      <th></th>\n",
       "      <th>Stars</th>\n",
       "      <th>Company</th>\n",
       "      <th>Words_Headline</th>\n",
       "      <th>Words_Comment</th>\n",
       "    </tr>\n",
       "  </thead>\n",
       "  <tbody>\n",
       "    <tr>\n",
       "      <th>832</th>\n",
       "      <td>5</td>\n",
       "      <td>Octopus Energy Germany</td>\n",
       "      <td>10.0</td>\n",
       "      <td>23</td>\n",
       "    </tr>\n",
       "  </tbody>\n",
       "</table>\n",
       "</div>"
      ],
      "text/plain": [
       "     Stars                 Company  Words_Headline  Words_Comment\n",
       "832      5  Octopus Energy Germany            10.0             23"
      ]
     },
     "execution_count": 42,
     "metadata": {},
     "output_type": "execute_result"
    }
   ],
   "source": [
    "#perform capping = replace columns\n",
    "star1['Words_Headline'] = headline_new['Words_Headline_new']\n",
    "\n",
    "star1.loc[[832]] #show capped value examples"
   ]
  },
  {
   "cell_type": "markdown",
   "id": "9a453d29-5b70-41e9-b1a9-3d0fe3ad655a",
   "metadata": {},
   "source": [
    "#### Words_Comment"
   ]
  },
  {
   "cell_type": "code",
   "execution_count": 44,
   "id": "29341996-6a3f-4c05-ab3a-1216645bdc32",
   "metadata": {},
   "outputs": [
    {
     "data": {
      "image/png": "[encoded data removed]",
      "text/plain": [
       "<Figure size 800x500 with 2 Axes>"
      ]
     },
     "metadata": {},
     "output_type": "display_data"
    }
   ],
   "source": [
    "#plot distribution before Capping\n",
    "plt.figure(figsize=(8,5))\n",
    "plt.suptitle(\"Distribution before Capping\", fontsize=14)\n",
    "plt.subplot(1,2,1)\n",
    "sns.kdeplot(x= 'Words_Comment', data = star1)\n",
    "plt.subplot(1,2,2)\n",
    "sns.boxplot(y= 'Words_Comment', data = star1)\n",
    "plt.tight_layout()\n",
    "plt.show()"
   ]
  },
  {
   "cell_type": "code",
   "execution_count": 45,
   "id": "6d436376-e2b5-4edc-bafb-78f392390fe3",
   "metadata": {},
   "outputs": [
    {
     "name": "stdout",
     "output_type": "stream",
     "text": [
      "For 'Words_Comment': Q1(25% percentile) equals  7.0  and Q3(75% percentile) equals  45.0\n",
      "For 'Words_Comment': IQR equals  38.0\n",
      "For 'Words_Comment': max limit equals  102.0\n",
      "For 'Words_Comment': min limit equals  -50.0\n"
     ]
    }
   ],
   "source": [
    "#Finding the Q1(25% percentile) and Q3(75% percentile)\n",
    "s_q1 = star1[\"Words_Comment\"].quantile(0.25)\n",
    "s_q3 = star1[\"Words_Comment\"].quantile(0.75)\n",
    "print(\"For 'Words_Comment': Q1(25% percentile) equals \", s_q1, \" and Q3(75% percentile) equals \", s_q3)\n",
    "\n",
    "#Finding out the value of the Inter Quartile Range\n",
    "s_IQR = s_q3 - s_q1\n",
    "print(\"For 'Words_Comment': IQR equals \", round(s_IQR, 3))\n",
    "\n",
    "#Defining max and min limits\n",
    "s_max_limit = s_q3 + (1.5 * s_IQR)\n",
    "s_min_limit = s_q1 - (1.5 * s_IQR) \n",
    "print(\"For 'Words_Comment': max limit equals \", round(s_max_limit, 0)) #round to 0 for words\n",
    "print(\"For 'Words_Comment': min limit equals \", round(s_min_limit, 0))"
   ]
  },
  {
   "cell_type": "code",
   "execution_count": 46,
   "id": "e609133c-0bc5-42fc-84a2-b659dfc8011e",
   "metadata": {},
   "outputs": [
    {
     "data": {
      "text/html": [
       "<div>\n",
       "<style scoped>\n",
       "    .dataframe tbody tr th:only-of-type {\n",
       "        vertical-align: middle;\n",
       "    }\n",
       "\n",
       "    .dataframe tbody tr th {\n",
       "        vertical-align: top;\n",
       "    }\n",
       "\n",
       "    .dataframe thead th {\n",
       "        text-align: right;\n",
       "    }\n",
       "</style>\n",
       "<table border=\"1\" class=\"dataframe\">\n",
       "  <thead>\n",
       "    <tr style=\"text-align: right;\">\n",
       "      <th></th>\n",
       "      <th>Stars</th>\n",
       "      <th>Company</th>\n",
       "      <th>Words_Headline</th>\n",
       "      <th>Words_Comment</th>\n",
       "    </tr>\n",
       "  </thead>\n",
       "  <tbody>\n",
       "    <tr>\n",
       "      <th>246</th>\n",
       "      <td>3</td>\n",
       "      <td>Octopus Energy Germany</td>\n",
       "      <td>5.0</td>\n",
       "      <td>317</td>\n",
       "    </tr>\n",
       "    <tr>\n",
       "      <th>322</th>\n",
       "      <td>4</td>\n",
       "      <td>Octopus Energy Germany</td>\n",
       "      <td>9.0</td>\n",
       "      <td>141</td>\n",
       "    </tr>\n",
       "    <tr>\n",
       "      <th>323</th>\n",
       "      <td>1</td>\n",
       "      <td>Octopus Energy Germany</td>\n",
       "      <td>4.0</td>\n",
       "      <td>252</td>\n",
       "    </tr>\n",
       "    <tr>\n",
       "      <th>473</th>\n",
       "      <td>3</td>\n",
       "      <td>Octopus Energy Germany</td>\n",
       "      <td>2.0</td>\n",
       "      <td>182</td>\n",
       "    </tr>\n",
       "    <tr>\n",
       "      <th>518</th>\n",
       "      <td>1</td>\n",
       "      <td>Octopus Energy Germany</td>\n",
       "      <td>2.0</td>\n",
       "      <td>128</td>\n",
       "    </tr>\n",
       "    <tr>\n",
       "      <th>...</th>\n",
       "      <td>...</td>\n",
       "      <td>...</td>\n",
       "      <td>...</td>\n",
       "      <td>...</td>\n",
       "    </tr>\n",
       "    <tr>\n",
       "      <th>28477</th>\n",
       "      <td>1</td>\n",
       "      <td>EWE</td>\n",
       "      <td>8.0</td>\n",
       "      <td>129</td>\n",
       "    </tr>\n",
       "    <tr>\n",
       "      <th>28479</th>\n",
       "      <td>1</td>\n",
       "      <td>EWE</td>\n",
       "      <td>1.0</td>\n",
       "      <td>158</td>\n",
       "    </tr>\n",
       "    <tr>\n",
       "      <th>28494</th>\n",
       "      <td>1</td>\n",
       "      <td>EWE</td>\n",
       "      <td>2.0</td>\n",
       "      <td>331</td>\n",
       "    </tr>\n",
       "    <tr>\n",
       "      <th>28518</th>\n",
       "      <td>1</td>\n",
       "      <td>EWE</td>\n",
       "      <td>2.0</td>\n",
       "      <td>109</td>\n",
       "    </tr>\n",
       "    <tr>\n",
       "      <th>28526</th>\n",
       "      <td>2</td>\n",
       "      <td>EWE</td>\n",
       "      <td>3.0</td>\n",
       "      <td>176</td>\n",
       "    </tr>\n",
       "  </tbody>\n",
       "</table>\n",
       "<p>2542 rows × 4 columns</p>\n",
       "</div>"
      ],
      "text/plain": [
       "       Stars                 Company  Words_Headline  Words_Comment\n",
       "246        3  Octopus Energy Germany             5.0            317\n",
       "322        4  Octopus Energy Germany             9.0            141\n",
       "323        1  Octopus Energy Germany             4.0            252\n",
       "473        3  Octopus Energy Germany             2.0            182\n",
       "518        1  Octopus Energy Germany             2.0            128\n",
       "...      ...                     ...             ...            ...\n",
       "28477      1                     EWE             8.0            129\n",
       "28479      1                     EWE             1.0            158\n",
       "28494      1                     EWE             2.0            331\n",
       "28518      1                     EWE             2.0            109\n",
       "28526      2                     EWE             3.0            176\n",
       "\n",
       "[2542 rows x 4 columns]"
      ]
     },
     "execution_count": 46,
     "metadata": {},
     "output_type": "execute_result"
    }
   ],
   "source": [
    "# handling of outliers in Words_Comment\n",
    "# show outliers\n",
    "star1[star1['Words_Comment'] > 102] #2542 rows "
   ]
  },
  {
   "cell_type": "code",
   "execution_count": 47,
   "id": "0d1d2267-e7bf-400c-b82f-ea2fcf761e63",
   "metadata": {},
   "outputs": [
    {
     "data": {
      "text/html": [
       "<div>\n",
       "<style scoped>\n",
       "    .dataframe tbody tr th:only-of-type {\n",
       "        vertical-align: middle;\n",
       "    }\n",
       "\n",
       "    .dataframe tbody tr th {\n",
       "        vertical-align: top;\n",
       "    }\n",
       "\n",
       "    .dataframe thead th {\n",
       "        text-align: right;\n",
       "    }\n",
       "</style>\n",
       "<table border=\"1\" class=\"dataframe\">\n",
       "  <thead>\n",
       "    <tr style=\"text-align: right;\">\n",
       "      <th></th>\n",
       "      <th>Words_Comment_new</th>\n",
       "    </tr>\n",
       "  </thead>\n",
       "  <tbody>\n",
       "    <tr>\n",
       "      <th>0</th>\n",
       "      <td>38.0</td>\n",
       "    </tr>\n",
       "    <tr>\n",
       "      <th>1</th>\n",
       "      <td>45.0</td>\n",
       "    </tr>\n",
       "    <tr>\n",
       "      <th>2</th>\n",
       "      <td>22.0</td>\n",
       "    </tr>\n",
       "    <tr>\n",
       "      <th>3</th>\n",
       "      <td>19.0</td>\n",
       "    </tr>\n",
       "    <tr>\n",
       "      <th>4</th>\n",
       "      <td>27.0</td>\n",
       "    </tr>\n",
       "  </tbody>\n",
       "</table>\n",
       "</div>"
      ],
      "text/plain": [
       "   Words_Comment_new\n",
       "0               38.0\n",
       "1               45.0\n",
       "2               22.0\n",
       "3               19.0\n",
       "4               27.0"
      ]
     },
     "execution_count": 47,
     "metadata": {},
     "output_type": "execute_result"
    }
   ],
   "source": [
    "#capping and storing the values into a new df\n",
    "comment_new = pd.DataFrame(np.where(star1[\"Words_Comment\"] > s_max_limit, np.round(s_max_limit, 0), \n",
    "         (np.where(star1[\"Words_Comment\"] < s_min_limit, np.round(s_min_limit, 0), star1[\"Words_Comment\"]))\n",
    "                                    ), columns=[\"Words_Comment_new\"])\n",
    "\n",
    "#comment_new = comment_new.join(star1.Words_Comment)\n",
    "comment_new.head()"
   ]
  },
  {
   "cell_type": "code",
   "execution_count": 48,
   "id": "b80bc7fd-53b4-489f-869b-8d407310eff1",
   "metadata": {},
   "outputs": [
    {
     "data": {
      "image/png": "[encoded data removed]",
      "text/plain": [
       "<Figure size 800x500 with 2 Axes>"
      ]
     },
     "metadata": {},
     "output_type": "display_data"
    }
   ],
   "source": [
    "#plot after capping\n",
    "plt.figure(figsize=(8,5))\n",
    "plt.suptitle(\"Distribution after Capping\",fontsize=14)\n",
    "plt.subplot(1,2,1)\n",
    "sns.kdeplot(x='Words_Comment_new', data = comment_new)\n",
    "plt.subplot(1,2,2)\n",
    "sns.boxplot(y='Words_Comment_new', data = comment_new)\n",
    "plt.tight_layout()\n",
    "plt.show()"
   ]
  },
  {
   "cell_type": "code",
   "execution_count": 49,
   "id": "df0362c1-286e-4869-963e-640e00d9d21e",
   "metadata": {},
   "outputs": [
    {
     "data": {
      "text/html": [
       "<div>\n",
       "<style scoped>\n",
       "    .dataframe tbody tr th:only-of-type {\n",
       "        vertical-align: middle;\n",
       "    }\n",
       "\n",
       "    .dataframe tbody tr th {\n",
       "        vertical-align: top;\n",
       "    }\n",
       "\n",
       "    .dataframe thead th {\n",
       "        text-align: right;\n",
       "    }\n",
       "</style>\n",
       "<table border=\"1\" class=\"dataframe\">\n",
       "  <thead>\n",
       "    <tr style=\"text-align: right;\">\n",
       "      <th></th>\n",
       "      <th>Stars</th>\n",
       "      <th>Company</th>\n",
       "      <th>Words_Headline</th>\n",
       "      <th>Words_Comment</th>\n",
       "    </tr>\n",
       "  </thead>\n",
       "  <tbody>\n",
       "    <tr>\n",
       "      <th>246</th>\n",
       "      <td>3</td>\n",
       "      <td>Octopus Energy Germany</td>\n",
       "      <td>5.0</td>\n",
       "      <td>102.0</td>\n",
       "    </tr>\n",
       "  </tbody>\n",
       "</table>\n",
       "</div>"
      ],
      "text/plain": [
       "     Stars                 Company  Words_Headline  Words_Comment\n",
       "246      3  Octopus Energy Germany             5.0          102.0"
      ]
     },
     "execution_count": 49,
     "metadata": {},
     "output_type": "execute_result"
    }
   ],
   "source": [
    "#perform capping = replace columns\n",
    "star1['Words_Comment'] = comment_new['Words_Comment_new']\n",
    "\n",
    "star1.loc[[246]] #show capped value examples"
   ]
  },
  {
   "cell_type": "markdown",
   "id": "8cc6fe17-6a5f-41ec-a510-bbb59a978cfc",
   "metadata": {
    "tags": []
   },
   "source": [
    "#### Distribution of features after capping"
   ]
  },
  {
   "cell_type": "code",
   "execution_count": 51,
   "id": "00220e1e-3292-436d-9cfe-20dc55c66247",
   "metadata": {},
   "outputs": [
    {
     "data": {
      "image/png": "[encoded data removed]",
      "text/plain": [
       "<Figure size 1000x500 with 1 Axes>"
      ]
     },
     "metadata": {},
     "output_type": "display_data"
    }
   ],
   "source": [
    "#boxplot of main variables\n",
    "num_cols = ['Words_Headline', 'Words_Comment']\n",
    "star1[num_cols].boxplot(figsize = (10,5), rot=45);"
   ]
  },
  {
   "cell_type": "markdown",
   "id": "49650a66-cab3-4766-9bb9-8d4fbbb5582b",
   "metadata": {},
   "source": [
    "### Saving cleaned and capped data set"
   ]
  },
  {
   "cell_type": "code",
   "execution_count": 53,
   "id": "1efba202-d259-468f-be71-99d30fce716f",
   "metadata": {},
   "outputs": [],
   "source": [
    "# Saving the cleaned data frame in a csv file\n",
    "star1.to_csv(\"stars_simple_clean.csv\", index=False)"
   ]
  },
  {
   "cell_type": "markdown",
   "id": "e96b2c7a-ab33-4c6f-a13e-55fef5decb2e",
   "metadata": {
    "tags": []
   },
   "source": [
    "### Normalize features"
   ]
  },
  {
   "cell_type": "markdown",
   "id": "5096edba-8d1f-4ec4-84fa-2337b013fe95",
   "metadata": {},
   "source": [
    "As already seen while handling the outliers, the frames of reference differ from one variable to another and their distribution is not normalized. \n",
    "\n",
    "So we need to transform the values by scaling the data to a mean of nearest to 0 and standard deviation of 1.\n",
    "\n",
    "The boxplot below shows that values of all variables have been scaled to the same magnitude as intended and also transformed to a mean of 0 and standard deviation of 1."
   ]
  },
  {
   "cell_type": "code",
   "execution_count": 56,
   "id": "4f6675ec-e39f-47ea-a4fd-5c3a88e72040",
   "metadata": {},
   "outputs": [
    {
     "data": {
      "text/html": [
       "<div>\n",
       "<style scoped>\n",
       "    .dataframe tbody tr th:only-of-type {\n",
       "        vertical-align: middle;\n",
       "    }\n",
       "\n",
       "    .dataframe tbody tr th {\n",
       "        vertical-align: top;\n",
       "    }\n",
       "\n",
       "    .dataframe thead th {\n",
       "        text-align: right;\n",
       "    }\n",
       "</style>\n",
       "<table border=\"1\" class=\"dataframe\">\n",
       "  <thead>\n",
       "    <tr style=\"text-align: right;\">\n",
       "      <th></th>\n",
       "      <th>Stars</th>\n",
       "      <th>Words_Headline</th>\n",
       "      <th>Words_Comment</th>\n",
       "    </tr>\n",
       "  </thead>\n",
       "  <tbody>\n",
       "    <tr>\n",
       "      <th>count</th>\n",
       "      <td>28533.000000</td>\n",
       "      <td>28533.000000</td>\n",
       "      <td>28533.000000</td>\n",
       "    </tr>\n",
       "    <tr>\n",
       "      <th>mean</th>\n",
       "      <td>3.538534</td>\n",
       "      <td>4.001542</td>\n",
       "      <td>30.447692</td>\n",
       "    </tr>\n",
       "    <tr>\n",
       "      <th>std</th>\n",
       "      <td>1.776946</td>\n",
       "      <td>1.989897</td>\n",
       "      <td>32.046916</td>\n",
       "    </tr>\n",
       "    <tr>\n",
       "      <th>min</th>\n",
       "      <td>1.000000</td>\n",
       "      <td>1.000000</td>\n",
       "      <td>0.000000</td>\n",
       "    </tr>\n",
       "    <tr>\n",
       "      <th>25%</th>\n",
       "      <td>1.000000</td>\n",
       "      <td>2.000000</td>\n",
       "      <td>7.000000</td>\n",
       "    </tr>\n",
       "    <tr>\n",
       "      <th>50%</th>\n",
       "      <td>5.000000</td>\n",
       "      <td>4.000000</td>\n",
       "      <td>17.000000</td>\n",
       "    </tr>\n",
       "    <tr>\n",
       "      <th>75%</th>\n",
       "      <td>5.000000</td>\n",
       "      <td>5.000000</td>\n",
       "      <td>45.000000</td>\n",
       "    </tr>\n",
       "    <tr>\n",
       "      <th>max</th>\n",
       "      <td>5.000000</td>\n",
       "      <td>10.000000</td>\n",
       "      <td>102.000000</td>\n",
       "    </tr>\n",
       "  </tbody>\n",
       "</table>\n",
       "</div>"
      ],
      "text/plain": [
       "              Stars  Words_Headline  Words_Comment\n",
       "count  28533.000000    28533.000000   28533.000000\n",
       "mean       3.538534        4.001542      30.447692\n",
       "std        1.776946        1.989897      32.046916\n",
       "min        1.000000        1.000000       0.000000\n",
       "25%        1.000000        2.000000       7.000000\n",
       "50%        5.000000        4.000000      17.000000\n",
       "75%        5.000000        5.000000      45.000000\n",
       "max        5.000000       10.000000     102.000000"
      ]
     },
     "execution_count": 56,
     "metadata": {},
     "output_type": "execute_result"
    }
   ],
   "source": [
    "# describe numerical variables\n",
    "star1.describe()"
   ]
  },
  {
   "cell_type": "code",
   "execution_count": 57,
   "id": "1ca77a9c-ba67-4238-8526-f72544bce66f",
   "metadata": {},
   "outputs": [],
   "source": [
    "#scale numerical variables\n",
    "star1_scaled = star1\n",
    "\n",
    "from sklearn.preprocessing import StandardScaler\n",
    "sc = StandardScaler()\n",
    "\n",
    "num_cols = ['Words_Headline', 'Words_Comment']\n",
    "star1_scaled[num_cols]= sc.fit_transform(star1_scaled[num_cols])\n"
   ]
  },
  {
   "cell_type": "code",
   "execution_count": 58,
   "id": "aed95425-1fa5-4b88-b773-d105efc70c9e",
   "metadata": {},
   "outputs": [
    {
     "data": {
      "text/html": [
       "<div>\n",
       "<style scoped>\n",
       "    .dataframe tbody tr th:only-of-type {\n",
       "        vertical-align: middle;\n",
       "    }\n",
       "\n",
       "    .dataframe tbody tr th {\n",
       "        vertical-align: top;\n",
       "    }\n",
       "\n",
       "    .dataframe thead th {\n",
       "        text-align: right;\n",
       "    }\n",
       "</style>\n",
       "<table border=\"1\" class=\"dataframe\">\n",
       "  <thead>\n",
       "    <tr style=\"text-align: right;\">\n",
       "      <th></th>\n",
       "      <th>Stars</th>\n",
       "      <th>Words_Headline</th>\n",
       "      <th>Words_Comment</th>\n",
       "    </tr>\n",
       "  </thead>\n",
       "  <tbody>\n",
       "    <tr>\n",
       "      <th>count</th>\n",
       "      <td>28533.000000</td>\n",
       "      <td>2.853300e+04</td>\n",
       "      <td>2.853300e+04</td>\n",
       "    </tr>\n",
       "    <tr>\n",
       "      <th>mean</th>\n",
       "      <td>3.538534</td>\n",
       "      <td>7.968797e-18</td>\n",
       "      <td>1.593759e-17</td>\n",
       "    </tr>\n",
       "    <tr>\n",
       "      <th>std</th>\n",
       "      <td>1.776946</td>\n",
       "      <td>1.000018e+00</td>\n",
       "      <td>1.000018e+00</td>\n",
       "    </tr>\n",
       "    <tr>\n",
       "      <th>min</th>\n",
       "      <td>1.000000</td>\n",
       "      <td>-1.508417e+00</td>\n",
       "      <td>-9.501141e-01</td>\n",
       "    </tr>\n",
       "    <tr>\n",
       "      <th>25%</th>\n",
       "      <td>1.000000</td>\n",
       "      <td>-1.005869e+00</td>\n",
       "      <td>-7.316805e-01</td>\n",
       "    </tr>\n",
       "    <tr>\n",
       "      <th>50%</th>\n",
       "      <td>5.000000</td>\n",
       "      <td>-7.749651e-04</td>\n",
       "      <td>-4.196325e-01</td>\n",
       "    </tr>\n",
       "    <tr>\n",
       "      <th>75%</th>\n",
       "      <td>5.000000</td>\n",
       "      <td>5.017723e-01</td>\n",
       "      <td>4.541018e-01</td>\n",
       "    </tr>\n",
       "    <tr>\n",
       "      <th>max</th>\n",
       "      <td>5.000000</td>\n",
       "      <td>3.014509e+00</td>\n",
       "      <td>2.232775e+00</td>\n",
       "    </tr>\n",
       "  </tbody>\n",
       "</table>\n",
       "</div>"
      ],
      "text/plain": [
       "              Stars  Words_Headline  Words_Comment\n",
       "count  28533.000000    2.853300e+04   2.853300e+04\n",
       "mean       3.538534    7.968797e-18   1.593759e-17\n",
       "std        1.776946    1.000018e+00   1.000018e+00\n",
       "min        1.000000   -1.508417e+00  -9.501141e-01\n",
       "25%        1.000000   -1.005869e+00  -7.316805e-01\n",
       "50%        5.000000   -7.749651e-04  -4.196325e-01\n",
       "75%        5.000000    5.017723e-01   4.541018e-01\n",
       "max        5.000000    3.014509e+00   2.232775e+00"
      ]
     },
     "execution_count": 58,
     "metadata": {},
     "output_type": "execute_result"
    }
   ],
   "source": [
    "# describe numerical variables after scaling\n",
    "star1_scaled.describe()"
   ]
  },
  {
   "cell_type": "code",
   "execution_count": 59,
   "id": "f54fcd6b-c403-401f-9f1e-fe21d07c4a3a",
   "metadata": {},
   "outputs": [
    {
     "data": {
      "image/png": "[encoded data removed]",
      "text/plain": [
       "<Figure size 1000x500 with 1 Axes>"
      ]
     },
     "metadata": {},
     "output_type": "display_data"
    }
   ],
   "source": [
    "#boxplot of main variables\n",
    "import matplotlib.pyplot as plt \n",
    "\n",
    "star1_scaled[num_cols].boxplot(figsize = (10,5), rot=45);"
   ]
  },
  {
   "cell_type": "markdown",
   "id": "bfbbed47-a969-4f13-b6da-fee122b16a58",
   "metadata": {},
   "source": [
    "### Saving normalized data set"
   ]
  },
  {
   "cell_type": "code",
   "execution_count": 61,
   "id": "0da9e867-77b9-4fda-9e03-552da2b76da2",
   "metadata": {},
   "outputs": [],
   "source": [
    "# Saving the cleaned data frame in a csv file\n",
    "star1_scaled.to_csv(\"stars_simple_scaled_clean.csv\", index=False)"
   ]
  },
  {
   "cell_type": "markdown",
   "id": "78acb6d0-a2f4-4ed1-84a4-a897a34f6cf2",
   "metadata": {
    "tags": []
   },
   "source": [
    "### Separate features and target"
   ]
  },
  {
   "cell_type": "code",
   "execution_count": 63,
   "id": "687b0009-2a31-449c-82be-7fa974354f9b",
   "metadata": {},
   "outputs": [
    {
     "data": {
      "text/html": [
       "<div>\n",
       "<style scoped>\n",
       "    .dataframe tbody tr th:only-of-type {\n",
       "        vertical-align: middle;\n",
       "    }\n",
       "\n",
       "    .dataframe tbody tr th {\n",
       "        vertical-align: top;\n",
       "    }\n",
       "\n",
       "    .dataframe thead th {\n",
       "        text-align: right;\n",
       "    }\n",
       "</style>\n",
       "<table border=\"1\" class=\"dataframe\">\n",
       "  <thead>\n",
       "    <tr style=\"text-align: right;\">\n",
       "      <th></th>\n",
       "      <th>Stars</th>\n",
       "      <th>Company</th>\n",
       "      <th>Words_Headline</th>\n",
       "      <th>Words_Comment</th>\n",
       "    </tr>\n",
       "  </thead>\n",
       "  <tbody>\n",
       "    <tr>\n",
       "      <th>0</th>\n",
       "      <td>1</td>\n",
       "      <td>Octopus Energy Germany</td>\n",
       "      <td>1.004320</td>\n",
       "      <td>0.235668</td>\n",
       "    </tr>\n",
       "    <tr>\n",
       "      <th>1</th>\n",
       "      <td>1</td>\n",
       "      <td>Octopus Energy Germany</td>\n",
       "      <td>-0.000775</td>\n",
       "      <td>0.454102</td>\n",
       "    </tr>\n",
       "    <tr>\n",
       "      <th>2</th>\n",
       "      <td>4</td>\n",
       "      <td>Octopus Energy Germany</td>\n",
       "      <td>-1.508417</td>\n",
       "      <td>-0.263609</td>\n",
       "    </tr>\n",
       "    <tr>\n",
       "      <th>3</th>\n",
       "      <td>4</td>\n",
       "      <td>Octopus Energy Germany</td>\n",
       "      <td>-0.000775</td>\n",
       "      <td>-0.357223</td>\n",
       "    </tr>\n",
       "    <tr>\n",
       "      <th>4</th>\n",
       "      <td>4</td>\n",
       "      <td>Octopus Energy Germany</td>\n",
       "      <td>0.501772</td>\n",
       "      <td>-0.107585</td>\n",
       "    </tr>\n",
       "  </tbody>\n",
       "</table>\n",
       "</div>"
      ],
      "text/plain": [
       "   Stars                 Company  Words_Headline  Words_Comment\n",
       "0      1  Octopus Energy Germany        1.004320       0.235668\n",
       "1      1  Octopus Energy Germany       -0.000775       0.454102\n",
       "2      4  Octopus Energy Germany       -1.508417      -0.263609\n",
       "3      4  Octopus Energy Germany       -0.000775      -0.357223\n",
       "4      4  Octopus Energy Germany        0.501772      -0.107585"
      ]
     },
     "execution_count": 63,
     "metadata": {},
     "output_type": "execute_result"
    }
   ],
   "source": [
    "star1_scaled.head()"
   ]
  },
  {
   "cell_type": "code",
   "execution_count": 64,
   "id": "44caf76c-be14-401c-948f-87c28b4c3aec",
   "metadata": {},
   "outputs": [
    {
     "name": "stdout",
     "output_type": "stream",
     "text": [
      "<class 'pandas.core.frame.DataFrame'>\n",
      "RangeIndex: 28533 entries, 0 to 28532\n",
      "Data columns (total 4 columns):\n",
      " #   Column          Non-Null Count  Dtype  \n",
      "---  ------          --------------  -----  \n",
      " 0   Stars           28533 non-null  int64  \n",
      " 1   Company         28533 non-null  object \n",
      " 2   Words_Headline  28533 non-null  float64\n",
      " 3   Words_Comment   28533 non-null  float64\n",
      "dtypes: float64(2), int64(1), object(1)\n",
      "memory usage: 891.8+ KB\n"
     ]
    }
   ],
   "source": [
    "star1_scaled.info()"
   ]
  },
  {
   "cell_type": "code",
   "execution_count": 65,
   "id": "cfc7263e-6504-4ae0-ab29-c0db70948de9",
   "metadata": {},
   "outputs": [
    {
     "data": {
      "text/html": [
       "<div>\n",
       "<style scoped>\n",
       "    .dataframe tbody tr th:only-of-type {\n",
       "        vertical-align: middle;\n",
       "    }\n",
       "\n",
       "    .dataframe tbody tr th {\n",
       "        vertical-align: top;\n",
       "    }\n",
       "\n",
       "    .dataframe thead th {\n",
       "        text-align: right;\n",
       "    }\n",
       "</style>\n",
       "<table border=\"1\" class=\"dataframe\">\n",
       "  <thead>\n",
       "    <tr style=\"text-align: right;\">\n",
       "      <th></th>\n",
       "      <th>Words_Comment</th>\n",
       "    </tr>\n",
       "  </thead>\n",
       "  <tbody>\n",
       "    <tr>\n",
       "      <th>0</th>\n",
       "      <td>0.235668</td>\n",
       "    </tr>\n",
       "    <tr>\n",
       "      <th>1</th>\n",
       "      <td>0.454102</td>\n",
       "    </tr>\n",
       "    <tr>\n",
       "      <th>2</th>\n",
       "      <td>-0.263609</td>\n",
       "    </tr>\n",
       "    <tr>\n",
       "      <th>3</th>\n",
       "      <td>-0.357223</td>\n",
       "    </tr>\n",
       "    <tr>\n",
       "      <th>4</th>\n",
       "      <td>-0.107585</td>\n",
       "    </tr>\n",
       "  </tbody>\n",
       "</table>\n",
       "</div>"
      ],
      "text/plain": [
       "   Words_Comment\n",
       "0       0.235668\n",
       "1       0.454102\n",
       "2      -0.263609\n",
       "3      -0.357223\n",
       "4      -0.107585"
      ]
     },
     "execution_count": 65,
     "metadata": {},
     "output_type": "execute_result"
    }
   ],
   "source": [
    "# select numerical features; target for prediction = Stars\n",
    "# with company feature, possible supplier separation feasible\n",
    "target=star1_scaled['Stars']\n",
    "\n",
    "feats_simple = star1_scaled.drop(['Stars', 'Company', 'Words_Headline'], axis=1)\n",
    "feats_simple.head() "
   ]
  },
  {
   "cell_type": "markdown",
   "id": "8432dfef-1c36-437b-8320-fe019ee7a24f",
   "metadata": {
    "tags": []
   },
   "source": [
    "## SVM Rating prediction based on number of words in customer feedback "
   ]
  },
  {
   "cell_type": "markdown",
   "id": "584c3df4-166c-48a1-a25e-46b0377ae278",
   "metadata": {
    "tags": []
   },
   "source": [
    "SVM\n",
    "Suppport vector machine was chosen to work with, because we have limited features and we were looking for a simple but effective model.\n",
    "\n",
    "\n",
    "---- Note from sklearn documentation ----\n",
    "\n",
    "Applying support vector machines (SVMs) from scikit-learn package as the first algorithm, which offers the following advantages:\n",
    "\n",
    " - Effective in high dimensional spaces.\n",
    "\n",
    " - Still effective in cases where number of dimensions is greater than the number of samples. \n",
    "\n",
    " - Uses a subset of training points in the decision function (called support vectors), so it is also memory efficient.\n",
    "\n",
    " - Versatile: different Kernel functions can be specified for the decision function. Common kernels are provided, but it is also possible to specify custom kernels.\n",
    "\n",
    "\n",
    "However, the disadvantages of support vector machines include:\n",
    "\n",
    " - If the number of features is much greater than the number of samples, avoid over-fitting in choosing Kernel functions and regularization term is crucial. (Not the case for our data set!)\n",
    "\n",
    " - SVMs do not directly provide probability estimates, these are calculated using an expensive five-fold cross-validation (see Scores and probabilities, below).\n",
    "\n",
    "Preparation:\n",
    " - Standardization\n",
    " - only numerical features\n",
    "\n",
    "\n",
    "Links:\n",
    "\n",
    " - User guide support vector machines: https://scikit-learn.org/stable/modules/svm.html; cited as Scikit-learn: Machine Learning in Python, Pedregosa et al., JMLR 12, pp. 2825-2830, 2011.\n",
    " - Deepthi, A.R.: Support Vector Machines & Imbalanced Data. How does SVM work in the case of an imbalanced dataset?, Medium 2019: https://towardsdatascience.com/support-vector-machines-imbalanced-data-feb3ecffbb0e\n",
    " - Sklearn documentation on C support vector classification: https://scikit-learn.org/stable/modules/generated/sklearn.svm.SVC.html\n",
    "\n"
   ]
  },
  {
   "cell_type": "markdown",
   "id": "86043e43-7ba3-4460-be6f-08a4d36cd936",
   "metadata": {},
   "source": [
    "Classification Use Case\n",
    "\n",
    "For adequate response to customer feedback, it is helpful to derive the positive or negative rating from the text and come up with adequate if prepared feedback which is automatically deployed.\n",
    "\n",
    "The idea to implement with our scraped data set is that we do not have but would like to predict the star rating without information on the sentiment of the supplier response. Is number of words a good indicator?\n"
   ]
  },
  {
   "cell_type": "markdown",
   "id": "24587ff0-6e9f-46ac-a324-724b1e42bdb6",
   "metadata": {
    "tags": []
   },
   "source": [
    "### Training and Tuning"
   ]
  },
  {
   "cell_type": "code",
   "execution_count": 70,
   "id": "c1b90651-2962-4415-9f19-e366134de0b7",
   "metadata": {},
   "outputs": [],
   "source": [
    "# create training and test set\n",
    "from sklearn.model_selection import train_test_split\n",
    "X_train, X_test, y_train, y_test = train_test_split(feats_simple, target, test_size=0.2, random_state=42)"
   ]
  },
  {
   "cell_type": "code",
   "execution_count": 71,
   "id": "f9332db3-d654-4a5c-8da9-02236bfde842",
   "metadata": {},
   "outputs": [],
   "source": [
    "# import model\n",
    "from sklearn import svm"
   ]
  },
  {
   "cell_type": "code",
   "execution_count": 72,
   "id": "97174768-40af-4e91-a6d5-79273a96e139",
   "metadata": {},
   "outputs": [
    {
     "name": "stdout",
     "output_type": "stream",
     "text": [
      "SVM simple model score test set: 0.6945855966357105\n",
      "SVM simple model score train set: 0.6905721545605888\n"
     ]
    }
   ],
   "source": [
    "# fit the model and get the separating hyperplane\n",
    "clf = svm.SVC(kernel=\"rbf\",     # kernel function, default = 'rbf'\n",
    "              C=1.0,            # Regularization parameter\n",
    "              gamma='scale'     # Kernel coefficient for ‘rbf’, ‘poly’ and ‘sigmoid’. default = 'scale'\n",
    "             )\n",
    "clf.fit(X_train, y_train)\n",
    "\n",
    "# Accuracy score\n",
    "print('SVM simple model score test set:', clf.score(X_test, y_test))\n",
    "print('SVM simple model score train set:', clf.score(X_train, y_train))"
   ]
  },
  {
   "cell_type": "markdown",
   "id": "7fab57e2-b5ee-496e-8534-cf0717fc5a60",
   "metadata": {},
   "source": [
    "Notes on the model\n",
    "\n",
    "SVC and NuSVC implement the “one-versus-one” approach for multi-class classification. In total, n_classes * (n_classes - 1) / 2 classifiers are constructed and each one trains data from two classes. To provide a consistent interface with other classifiers, the decision_function_shape option allows to monotonically transform the results of the “one-versus-one” classifiers to a “one-vs-rest” decision function of shape (n_samples, n_classes).\n",
    "\n",
    "On the other hand, LinearSVC implements “one-vs-the-rest” multi-class strategy, thus training n_classes models.\n",
    "\n",
    "Note that the LinearSVC also implements an alternative multi-class strategy, the so-called multi-class SVM formulated by Crammer and Singer by using the option multi_class='crammer_singer'. In practice, one-vs-rest classification is usually preferred, since the results are mostly similar, but the runtime is significantly less.\n",
    "\n",
    "\n",
    "In problems where it is desired to give more importance to certain classes or certain individual samples, the parameters class_weight and sample_weight can be used.\n",
    "\n",
    "SVC (but not NuSVC) implements the parameter class_weight in the fit method. It’s a dictionary of the form {class_label : value}, where value is a floating point number > 0 that sets the parameter C of class class_label to C * value. \n",
    "\n",
    "Link: https://scikit-learn.org/stable/auto_examples/svm/plot_separating_hyperplane_unbalanced.html#sphx-glr-auto-examples-svm-plot-separating-hyperplane-unbalanced-py"
   ]
  },
  {
   "cell_type": "code",
   "execution_count": 74,
   "id": "d4fcd410-db88-47a8-8e6c-07c441463e31",
   "metadata": {},
   "outputs": [
    {
     "data": {
      "text/html": [
       "<div>\n",
       "<style scoped>\n",
       "    .dataframe tbody tr th:only-of-type {\n",
       "        vertical-align: middle;\n",
       "    }\n",
       "\n",
       "    .dataframe tbody tr th {\n",
       "        vertical-align: top;\n",
       "    }\n",
       "\n",
       "    .dataframe thead th {\n",
       "        text-align: right;\n",
       "    }\n",
       "</style>\n",
       "<table border=\"1\" class=\"dataframe\">\n",
       "  <thead>\n",
       "    <tr style=\"text-align: right;\">\n",
       "      <th>Predictions</th>\n",
       "      <th>1</th>\n",
       "      <th>5</th>\n",
       "    </tr>\n",
       "    <tr>\n",
       "      <th>True</th>\n",
       "      <th></th>\n",
       "      <th></th>\n",
       "    </tr>\n",
       "  </thead>\n",
       "  <tbody>\n",
       "    <tr>\n",
       "      <th>1</th>\n",
       "      <td>1187</td>\n",
       "      <td>486</td>\n",
       "    </tr>\n",
       "    <tr>\n",
       "      <th>2</th>\n",
       "      <td>111</td>\n",
       "      <td>82</td>\n",
       "    </tr>\n",
       "    <tr>\n",
       "      <th>3</th>\n",
       "      <td>103</td>\n",
       "      <td>130</td>\n",
       "    </tr>\n",
       "    <tr>\n",
       "      <th>4</th>\n",
       "      <td>71</td>\n",
       "      <td>476</td>\n",
       "    </tr>\n",
       "    <tr>\n",
       "      <th>5</th>\n",
       "      <td>284</td>\n",
       "      <td>2777</td>\n",
       "    </tr>\n",
       "  </tbody>\n",
       "</table>\n",
       "</div>"
      ],
      "text/plain": [
       "Predictions     1     5\n",
       "True                   \n",
       "1            1187   486\n",
       "2             111    82\n",
       "3             103   130\n",
       "4              71   476\n",
       "5             284  2777"
      ]
     },
     "execution_count": 74,
     "metadata": {},
     "output_type": "execute_result"
    }
   ],
   "source": [
    "# perform predictions and display confusion matrix\n",
    "y_pred = clf.predict(X_test) # test set\n",
    "y_pred_train = clf.predict(X_train)  # training set\n",
    "\n",
    "# Confusion matrix\n",
    "pd.crosstab(y_test, y_pred, rownames=['True'], colnames=['Predictions'])"
   ]
  },
  {
   "cell_type": "code",
   "execution_count": 75,
   "id": "335e536b-d39a-4561-8664-1897013ed570",
   "metadata": {},
   "outputs": [
    {
     "name": "stdout",
     "output_type": "stream",
     "text": [
      "Classification report (simple model):\n",
      "               precision    recall  f1-score   support\n",
      "\n",
      "           1       0.68      0.71      0.69      1673\n",
      "           2       1.00      0.00      0.00       193\n",
      "           3       1.00      0.00      0.00       233\n",
      "           4       1.00      0.00      0.00       547\n",
      "           5       0.70      0.91      0.79      3061\n",
      "\n",
      "    accuracy                           0.69      5707\n",
      "   macro avg       0.88      0.32      0.30      5707\n",
      "weighted avg       0.75      0.69      0.63      5707\n",
      "\n"
     ]
    }
   ],
   "source": [
    "from sklearn.metrics import f1_score, classification_report\n",
    "\n",
    "# classification report\n",
    "print(\"Classification report (simple model):\\n\", classification_report(y_test, y_pred, zero_division=True))"
   ]
  },
  {
   "cell_type": "code",
   "execution_count": 76,
   "id": "cc511be4-e9b7-417c-ad33-eeec4ceb43ef",
   "metadata": {},
   "outputs": [
    {
     "name": "stdout",
     "output_type": "stream",
     "text": [
      "Classification report (simple model):\n",
      "               precision    recall  f1-score   support\n",
      "\n",
      "           1       0.66      0.71      0.69      6771\n",
      "           2       1.00      0.00      0.00       744\n",
      "           3       1.00      0.00      0.00       959\n",
      "           4       1.00      0.00      0.00      2182\n",
      "           5       0.70      0.90      0.79     12170\n",
      "\n",
      "    accuracy                           0.69     22826\n",
      "   macro avg       0.87      0.32      0.30     22826\n",
      "weighted avg       0.74      0.69      0.62     22826\n",
      "\n"
     ]
    }
   ],
   "source": [
    "# classification report\n",
    "print(\"Classification report (simple model):\\n\", classification_report(y_train, y_pred_train, zero_division=True))"
   ]
  },
  {
   "cell_type": "markdown",
   "id": "f7757d5e-01b8-419f-8413-1d43b7b8196b",
   "metadata": {
    "tags": []
   },
   "source": [
    "Performance Metrics\n",
    "\n",
    "As we can see, the standard algorithm cannot match the middle star ratings due to the unbalanced data-set. It only picks very high or very low star ratings. Even with mitigation for class-imbalance, we see a less than random effective way to predict. No overfitting.\n",
    "\n",
    "We would like to avoid errors caused by false negative and false positives both, as it has direct impact on the other choices\n",
    "Therefore it makes sense to choose as a metric accuracy and F1 score, combining precision, i.e. correctly classifying positive samples, and recall which measures the model's ability to detect positive samples.\n",
    "\n"
   ]
  },
  {
   "cell_type": "code",
   "execution_count": null,
   "id": "cb2951c5-0a58-4c75-8dc1-79fe4396d41a",
   "metadata": {},
   "outputs": [],
   "source": []
  },
  {
   "cell_type": "code",
   "execution_count": 78,
   "id": "8a11de0d-9e92-46da-93d8-227bf13ae6d0",
   "metadata": {},
   "outputs": [
    {
     "name": "stdout",
     "output_type": "stream",
     "text": [
      "SVM score test set: 0.5850709654809882\n",
      "SVM score train set: 0.5776307719267502\n"
     ]
    }
   ],
   "source": [
    "# fit the model and provide for imbalanced data set and multi-class decision\n",
    "clf = svm.SVC(kernel=\"rbf\",     # kernel function, default = 'rbf'\n",
    "              C=1.0,            # Regularization parameter\n",
    "              gamma='scale',     # Kernel coefficient for ‘rbf’, ‘poly’ and ‘sigmoid’. default = 'scale'\n",
    "              class_weight='balanced', # to mitigate the imbalanced data set\n",
    "              decision_function_shape='ovo' # default = one-vs-rest (‘ovr’) decision \n",
    "             )\n",
    "clf.fit(X_train, y_train)\n",
    "\n",
    "# Accuracy score\n",
    "print('SVM score test set:', clf.score(X_test, y_test))\n",
    "print('SVM score train set:', clf.score(X_train, y_train))"
   ]
  },
  {
   "cell_type": "code",
   "execution_count": 79,
   "id": "7fddd9ae-6433-45de-9e8a-ad6da782d212",
   "metadata": {},
   "outputs": [
    {
     "data": {
      "text/html": [
       "<div>\n",
       "<style scoped>\n",
       "    .dataframe tbody tr th:only-of-type {\n",
       "        vertical-align: middle;\n",
       "    }\n",
       "\n",
       "    .dataframe tbody tr th {\n",
       "        vertical-align: top;\n",
       "    }\n",
       "\n",
       "    .dataframe thead th {\n",
       "        text-align: right;\n",
       "    }\n",
       "</style>\n",
       "<table border=\"1\" class=\"dataframe\">\n",
       "  <thead>\n",
       "    <tr style=\"text-align: right;\">\n",
       "      <th>Predictions</th>\n",
       "      <th>1</th>\n",
       "      <th>2</th>\n",
       "      <th>3</th>\n",
       "      <th>4</th>\n",
       "      <th>5</th>\n",
       "    </tr>\n",
       "    <tr>\n",
       "      <th>True</th>\n",
       "      <th></th>\n",
       "      <th></th>\n",
       "      <th></th>\n",
       "      <th></th>\n",
       "      <th></th>\n",
       "    </tr>\n",
       "  </thead>\n",
       "  <tbody>\n",
       "    <tr>\n",
       "      <th>1</th>\n",
       "      <td>973</td>\n",
       "      <td>249</td>\n",
       "      <td>230</td>\n",
       "      <td>17</td>\n",
       "      <td>204</td>\n",
       "    </tr>\n",
       "    <tr>\n",
       "      <th>2</th>\n",
       "      <td>78</td>\n",
       "      <td>36</td>\n",
       "      <td>30</td>\n",
       "      <td>1</td>\n",
       "      <td>48</td>\n",
       "    </tr>\n",
       "    <tr>\n",
       "      <th>3</th>\n",
       "      <td>70</td>\n",
       "      <td>39</td>\n",
       "      <td>50</td>\n",
       "      <td>6</td>\n",
       "      <td>68</td>\n",
       "    </tr>\n",
       "    <tr>\n",
       "      <th>4</th>\n",
       "      <td>38</td>\n",
       "      <td>44</td>\n",
       "      <td>101</td>\n",
       "      <td>10</td>\n",
       "      <td>354</td>\n",
       "    </tr>\n",
       "    <tr>\n",
       "      <th>5</th>\n",
       "      <td>153</td>\n",
       "      <td>159</td>\n",
       "      <td>417</td>\n",
       "      <td>62</td>\n",
       "      <td>2270</td>\n",
       "    </tr>\n",
       "  </tbody>\n",
       "</table>\n",
       "</div>"
      ],
      "text/plain": [
       "Predictions    1    2    3   4     5\n",
       "True                                \n",
       "1            973  249  230  17   204\n",
       "2             78   36   30   1    48\n",
       "3             70   39   50   6    68\n",
       "4             38   44  101  10   354\n",
       "5            153  159  417  62  2270"
      ]
     },
     "execution_count": 79,
     "metadata": {},
     "output_type": "execute_result"
    }
   ],
   "source": [
    "# perform predictions and display confusion matrix\n",
    "y_pred = clf.predict(X_test) # test set\n",
    "y_pred_train = clf.predict(X_train) # test set\n",
    "\n",
    "# Confusion matrix\n",
    "pd.crosstab(y_test, y_pred, rownames=['True'], colnames=['Predictions'])"
   ]
  },
  {
   "cell_type": "code",
   "execution_count": 80,
   "id": "4774ba48-0f9d-49d3-9f83-aa6f09ddc031",
   "metadata": {},
   "outputs": [
    {
     "name": "stdout",
     "output_type": "stream",
     "text": [
      "Classification report with class weight:\n",
      "               precision    recall  f1-score   support\n",
      "\n",
      "           1       0.74      0.58      0.65      1673\n",
      "           2       0.07      0.19      0.10       193\n",
      "           3       0.06      0.21      0.09       233\n",
      "           4       0.10      0.02      0.03       547\n",
      "           5       0.77      0.74      0.76      3061\n",
      "\n",
      "    accuracy                           0.59      5707\n",
      "   macro avg       0.35      0.35      0.33      5707\n",
      "weighted avg       0.65      0.59      0.61      5707\n",
      "\n"
     ]
    }
   ],
   "source": [
    "# classification report\n",
    "print(\"Classification report with class weight:\\n\", classification_report(y_test, y_pred))"
   ]
  },
  {
   "cell_type": "code",
   "execution_count": 81,
   "id": "06064f3a-b66b-4bfd-a57f-54a79d3481d1",
   "metadata": {},
   "outputs": [
    {
     "name": "stdout",
     "output_type": "stream",
     "text": [
      "Classification report with class weight training set:\n",
      "               precision    recall  f1-score   support\n",
      "\n",
      "           1       0.72      0.57      0.64      6771\n",
      "           2       0.05      0.17      0.08       744\n",
      "           3       0.06      0.21      0.09       959\n",
      "           4       0.16      0.02      0.04      2182\n",
      "           5       0.78      0.74      0.76     12170\n",
      "\n",
      "    accuracy                           0.58     22826\n",
      "   macro avg       0.35      0.34      0.32     22826\n",
      "weighted avg       0.65      0.58      0.60     22826\n",
      "\n"
     ]
    }
   ],
   "source": [
    "# classification report train set\n",
    "print(\"Classification report with class weight training set:\\n\", classification_report(y_train, y_pred_train))"
   ]
  },
  {
   "cell_type": "markdown",
   "id": "8097646e-85cb-4636-bf03-1494d0941a4a",
   "metadata": {},
   "source": [
    "The average accuracy has been reduced to nearly random (0.5), as we now have also some predictions for the less represented classes 2, 3 and 4 - at cost of loosing with the main classes 1 and 5. No overfitting.\n",
    "\n",
    "We will compare results after using more features."
   ]
  },
  {
   "cell_type": "code",
   "execution_count": null,
   "id": "1ae6a2c8-b337-4d90-ba2e-c272d81de4d0",
   "metadata": {},
   "outputs": [],
   "source": []
  },
  {
   "cell_type": "markdown",
   "id": "67f5c150-4bc9-4d64-a07c-12f0216bf051",
   "metadata": {
    "tags": []
   },
   "source": [
    "## SVM Rating prediction based on word count of customer feedback and headline"
   ]
  },
  {
   "cell_type": "markdown",
   "id": "056fb04d-ba91-4009-a277-0b53abcd929d",
   "metadata": {
    "tags": []
   },
   "source": [
    "### Separate features and target"
   ]
  },
  {
   "cell_type": "code",
   "execution_count": 85,
   "id": "d00e2f1e-8dd8-4b28-b7c8-3bc20b481bec",
   "metadata": {},
   "outputs": [
    {
     "data": {
      "text/html": [
       "<div>\n",
       "<style scoped>\n",
       "    .dataframe tbody tr th:only-of-type {\n",
       "        vertical-align: middle;\n",
       "    }\n",
       "\n",
       "    .dataframe tbody tr th {\n",
       "        vertical-align: top;\n",
       "    }\n",
       "\n",
       "    .dataframe thead th {\n",
       "        text-align: right;\n",
       "    }\n",
       "</style>\n",
       "<table border=\"1\" class=\"dataframe\">\n",
       "  <thead>\n",
       "    <tr style=\"text-align: right;\">\n",
       "      <th></th>\n",
       "      <th>Stars</th>\n",
       "      <th>Company</th>\n",
       "      <th>Words_Headline</th>\n",
       "      <th>Words_Comment</th>\n",
       "    </tr>\n",
       "  </thead>\n",
       "  <tbody>\n",
       "    <tr>\n",
       "      <th>0</th>\n",
       "      <td>1</td>\n",
       "      <td>Octopus Energy Germany</td>\n",
       "      <td>1.004320</td>\n",
       "      <td>0.235668</td>\n",
       "    </tr>\n",
       "    <tr>\n",
       "      <th>1</th>\n",
       "      <td>1</td>\n",
       "      <td>Octopus Energy Germany</td>\n",
       "      <td>-0.000775</td>\n",
       "      <td>0.454102</td>\n",
       "    </tr>\n",
       "    <tr>\n",
       "      <th>2</th>\n",
       "      <td>4</td>\n",
       "      <td>Octopus Energy Germany</td>\n",
       "      <td>-1.508417</td>\n",
       "      <td>-0.263609</td>\n",
       "    </tr>\n",
       "    <tr>\n",
       "      <th>3</th>\n",
       "      <td>4</td>\n",
       "      <td>Octopus Energy Germany</td>\n",
       "      <td>-0.000775</td>\n",
       "      <td>-0.357223</td>\n",
       "    </tr>\n",
       "    <tr>\n",
       "      <th>4</th>\n",
       "      <td>4</td>\n",
       "      <td>Octopus Energy Germany</td>\n",
       "      <td>0.501772</td>\n",
       "      <td>-0.107585</td>\n",
       "    </tr>\n",
       "  </tbody>\n",
       "</table>\n",
       "</div>"
      ],
      "text/plain": [
       "   Stars                 Company  Words_Headline  Words_Comment\n",
       "0      1  Octopus Energy Germany        1.004320       0.235668\n",
       "1      1  Octopus Energy Germany       -0.000775       0.454102\n",
       "2      4  Octopus Energy Germany       -1.508417      -0.263609\n",
       "3      4  Octopus Energy Germany       -0.000775      -0.357223\n",
       "4      4  Octopus Energy Germany        0.501772      -0.107585"
      ]
     },
     "execution_count": 85,
     "metadata": {},
     "output_type": "execute_result"
    }
   ],
   "source": [
    "star1_scaled.head()"
   ]
  },
  {
   "cell_type": "code",
   "execution_count": 86,
   "id": "7717953b-b948-4c94-9073-784255ff0860",
   "metadata": {},
   "outputs": [
    {
     "data": {
      "text/html": [
       "<div>\n",
       "<style scoped>\n",
       "    .dataframe tbody tr th:only-of-type {\n",
       "        vertical-align: middle;\n",
       "    }\n",
       "\n",
       "    .dataframe tbody tr th {\n",
       "        vertical-align: top;\n",
       "    }\n",
       "\n",
       "    .dataframe thead th {\n",
       "        text-align: right;\n",
       "    }\n",
       "</style>\n",
       "<table border=\"1\" class=\"dataframe\">\n",
       "  <thead>\n",
       "    <tr style=\"text-align: right;\">\n",
       "      <th></th>\n",
       "      <th>Words_Headline</th>\n",
       "      <th>Words_Comment</th>\n",
       "    </tr>\n",
       "  </thead>\n",
       "  <tbody>\n",
       "    <tr>\n",
       "      <th>0</th>\n",
       "      <td>1.004320</td>\n",
       "      <td>0.235668</td>\n",
       "    </tr>\n",
       "    <tr>\n",
       "      <th>1</th>\n",
       "      <td>-0.000775</td>\n",
       "      <td>0.454102</td>\n",
       "    </tr>\n",
       "    <tr>\n",
       "      <th>2</th>\n",
       "      <td>-1.508417</td>\n",
       "      <td>-0.263609</td>\n",
       "    </tr>\n",
       "    <tr>\n",
       "      <th>3</th>\n",
       "      <td>-0.000775</td>\n",
       "      <td>-0.357223</td>\n",
       "    </tr>\n",
       "    <tr>\n",
       "      <th>4</th>\n",
       "      <td>0.501772</td>\n",
       "      <td>-0.107585</td>\n",
       "    </tr>\n",
       "  </tbody>\n",
       "</table>\n",
       "</div>"
      ],
      "text/plain": [
       "   Words_Headline  Words_Comment\n",
       "0        1.004320       0.235668\n",
       "1       -0.000775       0.454102\n",
       "2       -1.508417      -0.263609\n",
       "3       -0.000775      -0.357223\n",
       "4        0.501772      -0.107585"
      ]
     },
     "execution_count": 86,
     "metadata": {},
     "output_type": "execute_result"
    }
   ],
   "source": [
    "# select numerical features; target for prediction = Stars\n",
    "# with company feature, possible supplier separation feasible\n",
    "target=star1_scaled['Stars']\n",
    "\n",
    "feats = star1_scaled.drop(['Stars', 'Company'], axis=1)\n",
    "feats.head() "
   ]
  },
  {
   "cell_type": "markdown",
   "id": "6dae8e4d-b04a-4809-b7ef-f1f972943187",
   "metadata": {
    "tags": []
   },
   "source": [
    "### Training and Tuning"
   ]
  },
  {
   "cell_type": "code",
   "execution_count": 88,
   "id": "99ff85e2-271d-413d-b21d-4fa7a6e3783f",
   "metadata": {},
   "outputs": [],
   "source": [
    "# create training and test set\n",
    "from sklearn.model_selection import train_test_split\n",
    "X_train, X_test, y_train, y_test = train_test_split(feats, target, test_size=0.2, random_state=42)"
   ]
  },
  {
   "cell_type": "code",
   "execution_count": 89,
   "id": "919e6d89-3c8a-432c-937f-619781bc9243",
   "metadata": {},
   "outputs": [],
   "source": [
    "# import model\n",
    "from sklearn import svm"
   ]
  },
  {
   "cell_type": "code",
   "execution_count": 90,
   "id": "2e925598-88d4-4065-81c7-ae1e9eb0692a",
   "metadata": {},
   "outputs": [
    {
     "name": "stdout",
     "output_type": "stream",
     "text": [
      "SVM score test set: 0.6958121605046435\n",
      "SVM score train set: 0.6901778673442566\n"
     ]
    }
   ],
   "source": [
    "# fit the model and get the separating hyperplane\n",
    "clf = svm.SVC(kernel=\"rbf\",     # kernel function, default = 'rbf'\n",
    "              C=1.0,            # Regularization parameter\n",
    "              gamma='scale'     # Kernel coefficient for ‘rbf’, ‘poly’ and ‘sigmoid’. default = 'scale'\n",
    "             )\n",
    "clf.fit(X_train, y_train)\n",
    "\n",
    "# Accuracy score\n",
    "print('SVM score test set:', clf.score(X_test, y_test))\n",
    "print('SVM score train set:', clf.score(X_train, y_train))\n"
   ]
  },
  {
   "cell_type": "code",
   "execution_count": 91,
   "id": "68dab010-a561-4144-a5b0-7631fcb86c18",
   "metadata": {},
   "outputs": [
    {
     "data": {
      "text/html": [
       "<div>\n",
       "<style scoped>\n",
       "    .dataframe tbody tr th:only-of-type {\n",
       "        vertical-align: middle;\n",
       "    }\n",
       "\n",
       "    .dataframe tbody tr th {\n",
       "        vertical-align: top;\n",
       "    }\n",
       "\n",
       "    .dataframe thead th {\n",
       "        text-align: right;\n",
       "    }\n",
       "</style>\n",
       "<table border=\"1\" class=\"dataframe\">\n",
       "  <thead>\n",
       "    <tr style=\"text-align: right;\">\n",
       "      <th>Predictions</th>\n",
       "      <th>1</th>\n",
       "      <th>5</th>\n",
       "    </tr>\n",
       "    <tr>\n",
       "      <th>True</th>\n",
       "      <th></th>\n",
       "      <th></th>\n",
       "    </tr>\n",
       "  </thead>\n",
       "  <tbody>\n",
       "    <tr>\n",
       "      <th>1</th>\n",
       "      <td>1171</td>\n",
       "      <td>502</td>\n",
       "    </tr>\n",
       "    <tr>\n",
       "      <th>2</th>\n",
       "      <td>105</td>\n",
       "      <td>88</td>\n",
       "    </tr>\n",
       "    <tr>\n",
       "      <th>3</th>\n",
       "      <td>102</td>\n",
       "      <td>131</td>\n",
       "    </tr>\n",
       "    <tr>\n",
       "      <th>4</th>\n",
       "      <td>70</td>\n",
       "      <td>477</td>\n",
       "    </tr>\n",
       "    <tr>\n",
       "      <th>5</th>\n",
       "      <td>261</td>\n",
       "      <td>2800</td>\n",
       "    </tr>\n",
       "  </tbody>\n",
       "</table>\n",
       "</div>"
      ],
      "text/plain": [
       "Predictions     1     5\n",
       "True                   \n",
       "1            1171   502\n",
       "2             105    88\n",
       "3             102   131\n",
       "4              70   477\n",
       "5             261  2800"
      ]
     },
     "execution_count": 91,
     "metadata": {},
     "output_type": "execute_result"
    }
   ],
   "source": [
    "# perform predictions and display confusion matrix\n",
    "y_pred = clf.predict(X_test) # test set\n",
    "y_pred_train = clf.predict(X_train) # train set\n",
    "\n",
    "# Confusion matrix\n",
    "pd.crosstab(y_test, y_pred, rownames=['True'], colnames=['Predictions'])"
   ]
  },
  {
   "cell_type": "code",
   "execution_count": 92,
   "id": "55ac1159-af7f-4bce-8938-973814187a95",
   "metadata": {},
   "outputs": [
    {
     "name": "stdout",
     "output_type": "stream",
     "text": [
      "Classification report (simple model):\n",
      "               precision    recall  f1-score   support\n",
      "\n",
      "           1       0.69      0.70      0.69      1673\n",
      "           2       1.00      0.00      0.00       193\n",
      "           3       1.00      0.00      0.00       233\n",
      "           4       1.00      0.00      0.00       547\n",
      "           5       0.70      0.91      0.79      3061\n",
      "\n",
      "    accuracy                           0.70      5707\n",
      "   macro avg       0.88      0.32      0.30      5707\n",
      "weighted avg       0.75      0.70      0.63      5707\n",
      "\n"
     ]
    }
   ],
   "source": [
    "from sklearn.metrics import f1_score, classification_report\n",
    "\n",
    "# classification report\n",
    "print(\"Classification report (simple model):\\n\", classification_report(y_test, y_pred, zero_division=True))"
   ]
  },
  {
   "cell_type": "code",
   "execution_count": 93,
   "id": "96c11a89-704d-4784-8d28-9df31b59e935",
   "metadata": {},
   "outputs": [
    {
     "name": "stdout",
     "output_type": "stream",
     "text": [
      "Classification report (simple model) training set:\n",
      "               precision    recall  f1-score   support\n",
      "\n",
      "           1       0.67      0.70      0.68      6771\n",
      "           2       0.00      0.00      0.00       744\n",
      "           3       0.00      0.00      0.00       959\n",
      "           4       0.00      0.00      0.00      2182\n",
      "           5       0.70      0.91      0.79     12170\n",
      "\n",
      "    accuracy                           0.69     22826\n",
      "   macro avg       0.27      0.32      0.29     22826\n",
      "weighted avg       0.57      0.69      0.62     22826\n",
      "\n"
     ]
    },
    {
     "name": "stderr",
     "output_type": "stream",
     "text": [
      "/opt/conda/envs/anaconda-panel-2023.05-py310/lib/python3.11/site-packages/sklearn/metrics/_classification.py:1469: UndefinedMetricWarning: Precision and F-score are ill-defined and being set to 0.0 in labels with no predicted samples. Use `zero_division` parameter to control this behavior.\n",
      "  _warn_prf(average, modifier, msg_start, len(result))\n",
      "/opt/conda/envs/anaconda-panel-2023.05-py310/lib/python3.11/site-packages/sklearn/metrics/_classification.py:1469: UndefinedMetricWarning: Precision and F-score are ill-defined and being set to 0.0 in labels with no predicted samples. Use `zero_division` parameter to control this behavior.\n",
      "  _warn_prf(average, modifier, msg_start, len(result))\n",
      "/opt/conda/envs/anaconda-panel-2023.05-py310/lib/python3.11/site-packages/sklearn/metrics/_classification.py:1469: UndefinedMetricWarning: Precision and F-score are ill-defined and being set to 0.0 in labels with no predicted samples. Use `zero_division` parameter to control this behavior.\n",
      "  _warn_prf(average, modifier, msg_start, len(result))\n"
     ]
    }
   ],
   "source": [
    "# classification report train set\n",
    "print(\"Classification report (simple model) training set:\\n\", classification_report(y_train, y_pred_train))"
   ]
  },
  {
   "cell_type": "markdown",
   "id": "242f1ffe-3fee-42b3-a118-2cd0c2e2d0d2",
   "metadata": {
    "tags": []
   },
   "source": [
    "Performance Metrics\n",
    "\n",
    "Also with the additional information from suppliers' answers and response times, the standard algorithm cannot match the middle star ratings due to the unbalanced data-set. It only picks very high or very low star ratings. Even with mitigation for class-imbalance, we see a less than random effective way to predict.\n",
    "\n",
    "As before, we would like to avoid errors caused by false negative and false positives both, as it has direct impact on the other choices\n",
    "Therefore it makes sense to choose as a metric accuracy and F1 score, combining precision, i.e. correctly classifying positive samples, and recall which measures the model's ability to detect positive samples.\n",
    "\n"
   ]
  },
  {
   "cell_type": "code",
   "execution_count": 95,
   "id": "4b64a96f-9383-4df7-8dac-0ccebb6e0ad3",
   "metadata": {},
   "outputs": [
    {
     "name": "stdout",
     "output_type": "stream",
     "text": [
      "SVM score: 0.5395128789206238\n",
      "SVM score train: 0.5333829843161307\n"
     ]
    }
   ],
   "source": [
    "# fit the model and provide for imbalanced data set and multi-class decision\n",
    "clf = svm.SVC(kernel=\"rbf\",     # kernel function, default = 'rbf'\n",
    "              C=1.0,            # Regularization parameter\n",
    "              gamma='scale',     # Kernel coefficient for ‘rbf’, ‘poly’ and ‘sigmoid’. default = 'scale'\n",
    "              class_weight='balanced', # to mitigate the imbalanced data set\n",
    "              decision_function_shape='ovo' # default = one-vs-rest (‘ovr’) decision \n",
    "             )\n",
    "clf.fit(X_train, y_train)\n",
    "\n",
    "# Accuracy score\n",
    "print('SVM score:', clf.score(X_test, y_test))\n",
    "print('SVM score train:', clf.score(X_train, y_train))"
   ]
  },
  {
   "cell_type": "code",
   "execution_count": 96,
   "id": "7c41b4ff-0b45-4b72-b5b1-eb137d1c6a0c",
   "metadata": {},
   "outputs": [
    {
     "data": {
      "text/html": [
       "<div>\n",
       "<style scoped>\n",
       "    .dataframe tbody tr th:only-of-type {\n",
       "        vertical-align: middle;\n",
       "    }\n",
       "\n",
       "    .dataframe tbody tr th {\n",
       "        vertical-align: top;\n",
       "    }\n",
       "\n",
       "    .dataframe thead th {\n",
       "        text-align: right;\n",
       "    }\n",
       "</style>\n",
       "<table border=\"1\" class=\"dataframe\">\n",
       "  <thead>\n",
       "    <tr style=\"text-align: right;\">\n",
       "      <th>Predictions</th>\n",
       "      <th>1</th>\n",
       "      <th>2</th>\n",
       "      <th>3</th>\n",
       "      <th>4</th>\n",
       "      <th>5</th>\n",
       "    </tr>\n",
       "    <tr>\n",
       "      <th>True</th>\n",
       "      <th></th>\n",
       "      <th></th>\n",
       "      <th></th>\n",
       "      <th></th>\n",
       "      <th></th>\n",
       "    </tr>\n",
       "  </thead>\n",
       "  <tbody>\n",
       "    <tr>\n",
       "      <th>1</th>\n",
       "      <td>994</td>\n",
       "      <td>208</td>\n",
       "      <td>255</td>\n",
       "      <td>43</td>\n",
       "      <td>173</td>\n",
       "    </tr>\n",
       "    <tr>\n",
       "      <th>2</th>\n",
       "      <td>80</td>\n",
       "      <td>28</td>\n",
       "      <td>41</td>\n",
       "      <td>6</td>\n",
       "      <td>38</td>\n",
       "    </tr>\n",
       "    <tr>\n",
       "      <th>3</th>\n",
       "      <td>71</td>\n",
       "      <td>32</td>\n",
       "      <td>58</td>\n",
       "      <td>10</td>\n",
       "      <td>62</td>\n",
       "    </tr>\n",
       "    <tr>\n",
       "      <th>4</th>\n",
       "      <td>39</td>\n",
       "      <td>41</td>\n",
       "      <td>117</td>\n",
       "      <td>66</td>\n",
       "      <td>284</td>\n",
       "    </tr>\n",
       "    <tr>\n",
       "      <th>5</th>\n",
       "      <td>177</td>\n",
       "      <td>119</td>\n",
       "      <td>484</td>\n",
       "      <td>348</td>\n",
       "      <td>1933</td>\n",
       "    </tr>\n",
       "  </tbody>\n",
       "</table>\n",
       "</div>"
      ],
      "text/plain": [
       "Predictions    1    2    3    4     5\n",
       "True                                 \n",
       "1            994  208  255   43   173\n",
       "2             80   28   41    6    38\n",
       "3             71   32   58   10    62\n",
       "4             39   41  117   66   284\n",
       "5            177  119  484  348  1933"
      ]
     },
     "execution_count": 96,
     "metadata": {},
     "output_type": "execute_result"
    }
   ],
   "source": [
    "# perform predictions and display confusion matrix\n",
    "y_pred = clf.predict(X_test) # test set\n",
    "y_pred_train = clf.predict(X_train) # train set\n",
    "\n",
    "\n",
    "# Confusion matrix\n",
    "pd.crosstab(y_test, y_pred, rownames=['True'], colnames=['Predictions'])"
   ]
  },
  {
   "cell_type": "code",
   "execution_count": 97,
   "id": "e9583016-a3b7-48b7-b395-2705305b0174",
   "metadata": {},
   "outputs": [
    {
     "name": "stdout",
     "output_type": "stream",
     "text": [
      "Classification report:\n",
      "               precision    recall  f1-score   support\n",
      "\n",
      "           1       0.73      0.59      0.66      1673\n",
      "           2       0.07      0.15      0.09       193\n",
      "           3       0.06      0.25      0.10       233\n",
      "           4       0.14      0.12      0.13       547\n",
      "           5       0.78      0.63      0.70      3061\n",
      "\n",
      "    accuracy                           0.54      5707\n",
      "   macro avg       0.35      0.35      0.33      5707\n",
      "weighted avg       0.65      0.54      0.59      5707\n",
      "\n"
     ]
    }
   ],
   "source": [
    "# classification report\n",
    "print(\"Classification report:\\n\", classification_report(y_test, y_pred))"
   ]
  },
  {
   "cell_type": "code",
   "execution_count": 98,
   "id": "a9e267ca-bfdf-45d5-9a72-27c5c2b5d3a4",
   "metadata": {},
   "outputs": [
    {
     "name": "stdout",
     "output_type": "stream",
     "text": [
      "Classification report training set:\n",
      "               precision    recall  f1-score   support\n",
      "\n",
      "           1       0.71      0.58      0.64      6771\n",
      "           2       0.06      0.15      0.08       744\n",
      "           3       0.06      0.24      0.10       959\n",
      "           4       0.14      0.12      0.13      2182\n",
      "           5       0.78      0.63      0.70     12170\n",
      "\n",
      "    accuracy                           0.53     22826\n",
      "   macro avg       0.35      0.34      0.33     22826\n",
      "weighted avg       0.65      0.53      0.58     22826\n",
      "\n"
     ]
    }
   ],
   "source": [
    "# classification report training set\n",
    "print(\"Classification report training set:\\n\", classification_report(y_train, y_pred_train))"
   ]
  },
  {
   "cell_type": "markdown",
   "id": "b52970d9-e3fe-4d43-ab56-b495ea330bf2",
   "metadata": {},
   "source": [
    "As before, the 1 and 5 star ratings are predicted best. However, we have a small improvement on the middle ratings while dominant classes performed worse than before. No overfitting."
   ]
  },
  {
   "cell_type": "markdown",
   "id": "66bd90e3-0be6-4153-8487-1f72ae439f2d",
   "metadata": {},
   "source": [
    "### Undersampling ?"
   ]
  },
  {
   "cell_type": "markdown",
   "id": "26179b0c-5414-4ffd-80a3-e29a42c600ab",
   "metadata": {},
   "source": [
    "The greater the imbalance between classes, the less successful the classical models will be in predicting the minority class.\n",
    "\n",
    "Therefore we could apply Oversampling to increase the number of observations of the minority class. However, the focus for a customer service and customer satisfaction KPIs is most likely the extreme opinions: Is the customer really happy or really dissatisfied?. This shows decisive topics for improvement. The middle ground, especially as it is votewise very low, is negligeable.\n"
   ]
  },
  {
   "cell_type": "markdown",
   "id": "3b498e7a-2883-4cfe-947c-454067521505",
   "metadata": {},
   "source": [
    "## Random Forest Rating prediction based on customer feedback and supplier answers"
   ]
  },
  {
   "cell_type": "markdown",
   "id": "7fc1380e-e58a-4aea-a28a-13070aa5be09",
   "metadata": {},
   "source": [
    "We are trying random forest next which  is a meta estimator that fits a number of decision tree classifiers on various sub-samples of the dataset and uses averaging to improve the predictive accuracy and control over-fitting. With this model we will keep all numerical features and do not need scaling, as it is aa tree-based model.\n",
    "\n",
    "Links: \n",
    "\n",
    "https://scikit-learn.org/stable/modules/generated/sklearn.ensemble.RandomForestClassifier.html\n",
    "\n",
    "https://forecastegy.com/posts/does-random-forest-need-feature-scaling-or-normalization/#:~:text=Random%20Forest%20is%20a%20tree,can%20be%20skipped%20during%20preprocessing."
   ]
  },
  {
   "cell_type": "markdown",
   "id": "14aad93a-4889-4961-a987-cbd461f62199",
   "metadata": {},
   "source": [
    "### Import and Training of simple model"
   ]
  },
  {
   "cell_type": "code",
   "execution_count": 105,
   "id": "712418ac-65f9-4d68-944c-35fc5ac6dcd0",
   "metadata": {},
   "outputs": [
    {
     "data": {
      "text/html": [
       "<div>\n",
       "<style scoped>\n",
       "    .dataframe tbody tr th:only-of-type {\n",
       "        vertical-align: middle;\n",
       "    }\n",
       "\n",
       "    .dataframe tbody tr th {\n",
       "        vertical-align: top;\n",
       "    }\n",
       "\n",
       "    .dataframe thead th {\n",
       "        text-align: right;\n",
       "    }\n",
       "</style>\n",
       "<table border=\"1\" class=\"dataframe\">\n",
       "  <thead>\n",
       "    <tr style=\"text-align: right;\">\n",
       "      <th></th>\n",
       "      <th>Stars</th>\n",
       "      <th>Company</th>\n",
       "      <th>Words_Headline</th>\n",
       "      <th>Words_Comment</th>\n",
       "      <th>Words_Answer</th>\n",
       "      <th>Response_time</th>\n",
       "    </tr>\n",
       "  </thead>\n",
       "  <tbody>\n",
       "    <tr>\n",
       "      <th>0</th>\n",
       "      <td>1</td>\n",
       "      <td>Octopus Energy Germany</td>\n",
       "      <td>6.0</td>\n",
       "      <td>38.0</td>\n",
       "      <td>45.0</td>\n",
       "      <td>0.364294</td>\n",
       "    </tr>\n",
       "    <tr>\n",
       "      <th>1</th>\n",
       "      <td>1</td>\n",
       "      <td>Octopus Energy Germany</td>\n",
       "      <td>4.0</td>\n",
       "      <td>45.0</td>\n",
       "      <td>50.0</td>\n",
       "      <td>1.017141</td>\n",
       "    </tr>\n",
       "    <tr>\n",
       "      <th>2</th>\n",
       "      <td>4</td>\n",
       "      <td>Octopus Energy Germany</td>\n",
       "      <td>1.0</td>\n",
       "      <td>22.0</td>\n",
       "      <td>24.0</td>\n",
       "      <td>0.837593</td>\n",
       "    </tr>\n",
       "    <tr>\n",
       "      <th>3</th>\n",
       "      <td>4</td>\n",
       "      <td>Octopus Energy Germany</td>\n",
       "      <td>4.0</td>\n",
       "      <td>19.0</td>\n",
       "      <td>12.0</td>\n",
       "      <td>0.597199</td>\n",
       "    </tr>\n",
       "    <tr>\n",
       "      <th>4</th>\n",
       "      <td>4</td>\n",
       "      <td>Octopus Energy Germany</td>\n",
       "      <td>5.0</td>\n",
       "      <td>27.0</td>\n",
       "      <td>24.0</td>\n",
       "      <td>0.909062</td>\n",
       "    </tr>\n",
       "  </tbody>\n",
       "</table>\n",
       "</div>"
      ],
      "text/plain": [
       "   Stars                 Company  Words_Headline  Words_Comment  Words_Answer  \\\n",
       "0      1  Octopus Energy Germany             6.0           38.0          45.0   \n",
       "1      1  Octopus Energy Germany             4.0           45.0          50.0   \n",
       "2      4  Octopus Energy Germany             1.0           22.0          24.0   \n",
       "3      4  Octopus Energy Germany             4.0           19.0          12.0   \n",
       "4      4  Octopus Energy Germany             5.0           27.0          24.0   \n",
       "\n",
       "   Response_time  \n",
       "0       0.364294  \n",
       "1       1.017141  \n",
       "2       0.837593  \n",
       "3       0.597199  \n",
       "4       0.909062  "
      ]
     },
     "execution_count": 105,
     "metadata": {},
     "output_type": "execute_result"
    }
   ],
   "source": [
    "# Import cleaned data set, no scaling needed\n",
    "star1_clean = pd.read_csv(\"star1_clean.csv\")\n",
    "star1_clean.head()"
   ]
  },
  {
   "cell_type": "code",
   "execution_count": 106,
   "id": "3c5d020c-e6a7-43c4-acd6-bb05349d154a",
   "metadata": {},
   "outputs": [
    {
     "data": {
      "text/html": [
       "<div>\n",
       "<style scoped>\n",
       "    .dataframe tbody tr th:only-of-type {\n",
       "        vertical-align: middle;\n",
       "    }\n",
       "\n",
       "    .dataframe tbody tr th {\n",
       "        vertical-align: top;\n",
       "    }\n",
       "\n",
       "    .dataframe thead th {\n",
       "        text-align: right;\n",
       "    }\n",
       "</style>\n",
       "<table border=\"1\" class=\"dataframe\">\n",
       "  <thead>\n",
       "    <tr style=\"text-align: right;\">\n",
       "      <th></th>\n",
       "      <th>Words_Headline</th>\n",
       "      <th>Words_Comment</th>\n",
       "    </tr>\n",
       "  </thead>\n",
       "  <tbody>\n",
       "    <tr>\n",
       "      <th>0</th>\n",
       "      <td>6.0</td>\n",
       "      <td>38.0</td>\n",
       "    </tr>\n",
       "    <tr>\n",
       "      <th>1</th>\n",
       "      <td>4.0</td>\n",
       "      <td>45.0</td>\n",
       "    </tr>\n",
       "    <tr>\n",
       "      <th>2</th>\n",
       "      <td>1.0</td>\n",
       "      <td>22.0</td>\n",
       "    </tr>\n",
       "    <tr>\n",
       "      <th>3</th>\n",
       "      <td>4.0</td>\n",
       "      <td>19.0</td>\n",
       "    </tr>\n",
       "    <tr>\n",
       "      <th>4</th>\n",
       "      <td>5.0</td>\n",
       "      <td>27.0</td>\n",
       "    </tr>\n",
       "  </tbody>\n",
       "</table>\n",
       "</div>"
      ],
      "text/plain": [
       "   Words_Headline  Words_Comment\n",
       "0             6.0           38.0\n",
       "1             4.0           45.0\n",
       "2             1.0           22.0\n",
       "3             4.0           19.0\n",
       "4             5.0           27.0"
      ]
     },
     "execution_count": 106,
     "metadata": {},
     "output_type": "execute_result"
    }
   ],
   "source": [
    "# select numerical features; target for prediction = Stars\n",
    "# with company feature, possible supplier separation feasible\n",
    "target=star1_clean['Stars']\n",
    "\n",
    "feats_simple2 = star1_clean.drop(['Stars', 'Company', 'Response_time', 'Words_Answer'], axis=1)\n",
    "feats_simple2.head() "
   ]
  },
  {
   "cell_type": "code",
   "execution_count": 107,
   "id": "afe1323d-9f20-4003-94cc-e2e1201633f3",
   "metadata": {},
   "outputs": [],
   "source": [
    "# create training and test set\n",
    "from sklearn.model_selection import train_test_split\n",
    "X_train, X_test, y_train, y_test = train_test_split(feats_simple2, target, test_size=0.2, random_state=47)"
   ]
  },
  {
   "cell_type": "code",
   "execution_count": null,
   "id": "3facd659-2a44-43a2-9c75-93ea619a9196",
   "metadata": {},
   "outputs": [],
   "source": []
  },
  {
   "cell_type": "code",
   "execution_count": 108,
   "id": "df2e3e42-3b31-4b94-93df-e7ff19e8cd3a",
   "metadata": {},
   "outputs": [
    {
     "data": {
      "text/html": [
       "<style>#sk-container-id-1 {color: black;}#sk-container-id-1 pre{padding: 0;}#sk-container-id-1 div.sk-toggleable {background-color: white;}#sk-container-id-1 label.sk-toggleable__label {cursor: pointer;display: block;width: 100%;margin-bottom: 0;padding: 0.3em;box-sizing: border-box;text-align: center;}#sk-container-id-1 label.sk-toggleable__label-arrow:before {content: \"▸\";float: left;margin-right: 0.25em;color: #696969;}#sk-container-id-1 label.sk-toggleable__label-arrow:hover:before {color: black;}#sk-container-id-1 div.sk-estimator:hover label.sk-toggleable__label-arrow:before {color: black;}#sk-container-id-1 div.sk-toggleable__content {max-height: 0;max-width: 0;overflow: hidden;text-align: left;background-color: #f0f8ff;}#sk-container-id-1 div.sk-toggleable__content pre {margin: 0.2em;color: black;border-radius: 0.25em;background-color: #f0f8ff;}#sk-container-id-1 input.sk-toggleable__control:checked~div.sk-toggleable__content {max-height: 200px;max-width: 100%;overflow: auto;}#sk-container-id-1 input.sk-toggleable__control:checked~label.sk-toggleable__label-arrow:before {content: \"▾\";}#sk-container-id-1 div.sk-estimator input.sk-toggleable__control:checked~label.sk-toggleable__label {background-color: #d4ebff;}#sk-container-id-1 div.sk-label input.sk-toggleable__control:checked~label.sk-toggleable__label {background-color: #d4ebff;}#sk-container-id-1 input.sk-hidden--visually {border: 0;clip: rect(1px 1px 1px 1px);clip: rect(1px, 1px, 1px, 1px);height: 1px;margin: -1px;overflow: hidden;padding: 0;position: absolute;width: 1px;}#sk-container-id-1 div.sk-estimator {font-family: monospace;background-color: #f0f8ff;border: 1px dotted black;border-radius: 0.25em;box-sizing: border-box;margin-bottom: 0.5em;}#sk-container-id-1 div.sk-estimator:hover {background-color: #d4ebff;}#sk-container-id-1 div.sk-parallel-item::after {content: \"\";width: 100%;border-bottom: 1px solid gray;flex-grow: 1;}#sk-container-id-1 div.sk-label:hover label.sk-toggleable__label {background-color: #d4ebff;}#sk-container-id-1 div.sk-serial::before {content: \"\";position: absolute;border-left: 1px solid gray;box-sizing: border-box;top: 0;bottom: 0;left: 50%;z-index: 0;}#sk-container-id-1 div.sk-serial {display: flex;flex-direction: column;align-items: center;background-color: white;padding-right: 0.2em;padding-left: 0.2em;position: relative;}#sk-container-id-1 div.sk-item {position: relative;z-index: 1;}#sk-container-id-1 div.sk-parallel {display: flex;align-items: stretch;justify-content: center;background-color: white;position: relative;}#sk-container-id-1 div.sk-item::before, #sk-container-id-1 div.sk-parallel-item::before {content: \"\";position: absolute;border-left: 1px solid gray;box-sizing: border-box;top: 0;bottom: 0;left: 50%;z-index: -1;}#sk-container-id-1 div.sk-parallel-item {display: flex;flex-direction: column;z-index: 1;position: relative;background-color: white;}#sk-container-id-1 div.sk-parallel-item:first-child::after {align-self: flex-end;width: 50%;}#sk-container-id-1 div.sk-parallel-item:last-child::after {align-self: flex-start;width: 50%;}#sk-container-id-1 div.sk-parallel-item:only-child::after {width: 0;}#sk-container-id-1 div.sk-dashed-wrapped {border: 1px dashed gray;margin: 0 0.4em 0.5em 0.4em;box-sizing: border-box;padding-bottom: 0.4em;background-color: white;}#sk-container-id-1 div.sk-label label {font-family: monospace;font-weight: bold;display: inline-block;line-height: 1.2em;}#sk-container-id-1 div.sk-label-container {text-align: center;}#sk-container-id-1 div.sk-container {/* jupyter's `normalize.less` sets `[hidden] { display: none; }` but bootstrap.min.css set `[hidden] { display: none !important; }` so we also need the `!important` here to be able to override the default hidden behavior on the sphinx rendered scikit-learn.org. See: https://github.com/scikit-learn/scikit-learn/issues/21755 */display: inline-block !important;position: relative;}#sk-container-id-1 div.sk-text-repr-fallback {display: none;}</style><div id=\"sk-container-id-1\" class=\"sk-top-container\"><div class=\"sk-text-repr-fallback\"><pre>RandomForestClassifier(n_jobs=-1, random_state=321)</pre><b>In a Jupyter environment, please rerun this cell to show the HTML representation or trust the notebook. <br />On GitHub, the HTML representation is unable to render, please try loading this page with nbviewer.org.</b></div><div class=\"sk-container\" hidden><div class=\"sk-item\"><div class=\"sk-estimator sk-toggleable\"><input class=\"sk-toggleable__control sk-hidden--visually\" id=\"sk-estimator-id-1\" type=\"checkbox\" checked><label for=\"sk-estimator-id-1\" class=\"sk-toggleable__label sk-toggleable__label-arrow\">RandomForestClassifier</label><div class=\"sk-toggleable__content\"><pre>RandomForestClassifier(n_jobs=-1, random_state=321)</pre></div></div></div></div></div>"
      ],
      "text/plain": [
       "RandomForestClassifier(n_jobs=-1, random_state=321)"
      ]
     },
     "execution_count": 108,
     "metadata": {},
     "output_type": "execute_result"
    }
   ],
   "source": [
    "# Creation of the classifier and construction of the model on the training data\n",
    "from sklearn import ensemble\n",
    "clf2 = ensemble.RandomForestClassifier(n_jobs=-1, random_state=321)\n",
    "clf2.fit(X_train, y_train)"
   ]
  },
  {
   "cell_type": "code",
   "execution_count": 109,
   "id": "582271dd-8bd7-471f-ae11-3cc11017daac",
   "metadata": {},
   "outputs": [
    {
     "data": {
      "text/html": [
       "<div>\n",
       "<style scoped>\n",
       "    .dataframe tbody tr th:only-of-type {\n",
       "        vertical-align: middle;\n",
       "    }\n",
       "\n",
       "    .dataframe tbody tr th {\n",
       "        vertical-align: top;\n",
       "    }\n",
       "\n",
       "    .dataframe thead th {\n",
       "        text-align: right;\n",
       "    }\n",
       "</style>\n",
       "<table border=\"1\" class=\"dataframe\">\n",
       "  <thead>\n",
       "    <tr style=\"text-align: right;\">\n",
       "      <th>Prediction</th>\n",
       "      <th>1</th>\n",
       "      <th>2</th>\n",
       "      <th>3</th>\n",
       "      <th>4</th>\n",
       "      <th>5</th>\n",
       "    </tr>\n",
       "    <tr>\n",
       "      <th>True</th>\n",
       "      <th></th>\n",
       "      <th></th>\n",
       "      <th></th>\n",
       "      <th></th>\n",
       "      <th></th>\n",
       "    </tr>\n",
       "  </thead>\n",
       "  <tbody>\n",
       "    <tr>\n",
       "      <th>1</th>\n",
       "      <td>1204</td>\n",
       "      <td>4</td>\n",
       "      <td>8</td>\n",
       "      <td>7</td>\n",
       "      <td>518</td>\n",
       "    </tr>\n",
       "    <tr>\n",
       "      <th>2</th>\n",
       "      <td>105</td>\n",
       "      <td>0</td>\n",
       "      <td>2</td>\n",
       "      <td>1</td>\n",
       "      <td>79</td>\n",
       "    </tr>\n",
       "    <tr>\n",
       "      <th>3</th>\n",
       "      <td>108</td>\n",
       "      <td>2</td>\n",
       "      <td>1</td>\n",
       "      <td>1</td>\n",
       "      <td>135</td>\n",
       "    </tr>\n",
       "    <tr>\n",
       "      <th>4</th>\n",
       "      <td>114</td>\n",
       "      <td>0</td>\n",
       "      <td>3</td>\n",
       "      <td>1</td>\n",
       "      <td>410</td>\n",
       "    </tr>\n",
       "    <tr>\n",
       "      <th>5</th>\n",
       "      <td>342</td>\n",
       "      <td>4</td>\n",
       "      <td>5</td>\n",
       "      <td>8</td>\n",
       "      <td>2645</td>\n",
       "    </tr>\n",
       "  </tbody>\n",
       "</table>\n",
       "</div>"
      ],
      "text/plain": [
       "Prediction     1  2  3  4     5\n",
       "True                           \n",
       "1           1204  4  8  7   518\n",
       "2            105  0  2  1    79\n",
       "3            108  2  1  1   135\n",
       "4            114  0  3  1   410\n",
       "5            342  4  5  8  2645"
      ]
     },
     "execution_count": 109,
     "metadata": {},
     "output_type": "execute_result"
    }
   ],
   "source": [
    "# Predict test set and store in y_pred\n",
    "y_pred = clf2.predict(X_test) # test set\n",
    "y_pred_train = clf2.predict(X_train) # train set\n",
    "\n",
    "# check result with crosstab\n",
    "pd.crosstab(y_test, y_pred, rownames=['True'], colnames=['Prediction'])\n"
   ]
  },
  {
   "cell_type": "markdown",
   "id": "baf151e8-83b4-471f-8e33-b8c11f8f5776",
   "metadata": {},
   "source": [
    "The confusion matrix above shows us that the model performs well in predicting 1 and 5 star rating. However, the model has difficulty classifying ratings for the middle star ratings 2 to 4.\n",
    "\n",
    "We have to consider that the data set is imbalanced."
   ]
  },
  {
   "cell_type": "code",
   "execution_count": 111,
   "id": "725eabc3-d109-4f3d-b6b7-1e1c0ba1ea47",
   "metadata": {},
   "outputs": [
    {
     "name": "stdout",
     "output_type": "stream",
     "text": [
      "Score clf2 test set 0.6747853513229367\n",
      "Score clf2 trainset 0.7026636291947779\n"
     ]
    }
   ],
   "source": [
    "# Check score\n",
    "print(\"Score clf2 test set\", clf2.score(X_test, y_test))\n",
    "print(\"Score clf2 trainset\", clf2.score(X_train, y_train))"
   ]
  },
  {
   "cell_type": "code",
   "execution_count": 112,
   "id": "11a0ede4-dbb2-459a-8866-bac87d11477a",
   "metadata": {},
   "outputs": [
    {
     "name": "stdout",
     "output_type": "stream",
     "text": [
      "Classification report:\n",
      "               precision    recall  f1-score   support\n",
      "\n",
      "           1       0.64      0.69      0.67      1741\n",
      "           2       0.00      0.00      0.00       187\n",
      "           3       0.05      0.00      0.01       247\n",
      "           4       0.06      0.00      0.00       528\n",
      "           5       0.70      0.88      0.78      3004\n",
      "\n",
      "    accuracy                           0.67      5707\n",
      "   macro avg       0.29      0.32      0.29      5707\n",
      "weighted avg       0.57      0.67      0.61      5707\n",
      "\n"
     ]
    }
   ],
   "source": [
    "# classification report\n",
    "from sklearn.metrics import f1_score, classification_report\n",
    "print(\"Classification report:\\n\", classification_report(y_test, y_pred))"
   ]
  },
  {
   "cell_type": "code",
   "execution_count": 113,
   "id": "3ab98e0e-6c27-44af-b6b2-17a10902f39e",
   "metadata": {},
   "outputs": [
    {
     "name": "stdout",
     "output_type": "stream",
     "text": [
      "Classification report train set:\n",
      "               precision    recall  f1-score   support\n",
      "\n",
      "           1       0.67      0.73      0.70      6703\n",
      "           2       0.49      0.02      0.05       750\n",
      "           3       0.50      0.03      0.06       945\n",
      "           4       0.53      0.01      0.02      2201\n",
      "           5       0.72      0.90      0.80     12227\n",
      "\n",
      "    accuracy                           0.70     22826\n",
      "   macro avg       0.58      0.34      0.33     22826\n",
      "weighted avg       0.67      0.70      0.64     22826\n",
      "\n"
     ]
    }
   ],
   "source": [
    "print(\"Classification report train set:\\n\", classification_report(y_train, y_pred_train))"
   ]
  },
  {
   "cell_type": "markdown",
   "id": "cb49b36d-2827-423e-b353-7bab62022b06",
   "metadata": {},
   "source": [
    "The classification report confirms the good performance on classes 1 and 5. \n",
    "\n",
    "We see some overfitting as the train set performs significantly better than the test set for both accuracy and F1 score, also predicting the middle classes."
   ]
  },
  {
   "cell_type": "code",
   "execution_count": null,
   "id": "e53708c6-3254-47a8-89cb-0fbac7ca45a0",
   "metadata": {},
   "outputs": [],
   "source": []
  },
  {
   "cell_type": "markdown",
   "id": "4badea3e-b631-43ce-9fee-7419c3741c03",
   "metadata": {},
   "source": [
    "### Parameter tuning"
   ]
  },
  {
   "cell_type": "markdown",
   "id": "2ac402d7-39b6-40c2-a418-952be18f3927",
   "metadata": {},
   "source": [
    "According to the sklearn documentation, the most important hyperparameters for random forest classifiers are:\n",
    " - n_estimators, i.e. the number of trees in a forest\n",
    " -  max_features, i.e. the number of features considered for splitting at each leaf node\n",
    "\n",
    "Further parameters are:\n",
    " - max_depth, i.e. maximum number of levels in each decision tree\n",
    " - min_samples_split, i.e minimum number of data points placed in a node before the node is split\n",
    " - min_samples_leaf, i.e. minimum number of data points allowed in a leaf node\n",
    " - bootstrap, i.e. method for sampling data points (with or without replacement)\n",
    "\n",
    "Links: \n",
    "\n",
    "https://scikit-learn.org/stable/modules/ensemble.html#forest\n",
    "\n",
    "https://towardsdatascience.com/hyperparameter-tuning-the-random-forest-in-python-using-scikit-learn-28d2aa77dd74\n",
    "\n",
    "https://www.geeksforgeeks.org/random-forest-hyperparameter-tuning-in-python/\n"
   ]
  },
  {
   "cell_type": "code",
   "execution_count": 117,
   "id": "1f33562a-6376-4033-a94b-d2fbddc70dfd",
   "metadata": {},
   "outputs": [
    {
     "name": "stdout",
     "output_type": "stream",
     "text": [
      "Parameters currently in use:\n",
      " {'bootstrap': True, 'ccp_alpha': 0.0, 'class_weight': None, 'criterion': 'gini', 'max_depth': None, 'max_features': 'sqrt', 'max_leaf_nodes': None, 'max_samples': None, 'min_impurity_decrease': 0.0, 'min_samples_leaf': 1, 'min_samples_split': 2, 'min_weight_fraction_leaf': 0.0, 'n_estimators': 100, 'n_jobs': -1, 'oob_score': False, 'random_state': 321, 'verbose': 0, 'warm_start': False}\n"
     ]
    }
   ],
   "source": [
    "# Look at parameters used by random forest model\n",
    "print('Parameters currently in use:\\n', clf2.get_params())\n"
   ]
  },
  {
   "cell_type": "code",
   "execution_count": 118,
   "id": "afc67572-0686-41f2-9f07-0d455209e698",
   "metadata": {},
   "outputs": [
    {
     "name": "stdout",
     "output_type": "stream",
     "text": [
      "{'n_estimators': [100, 400, 700, 1000], 'bootstrap': [True, False]}\n"
     ]
    }
   ],
   "source": [
    "from sklearn.model_selection import RandomizedSearchCV\n",
    "# Number of trees in random forest\n",
    "n_estimators = [int(x) for x in np.linspace(start = 100, stop = 1000, num = 4)]\n",
    "# Number of features to consider at every split\n",
    "max_features = ['auto', 'sqrt'] # check error message with GridSearchCV, sqrt is default\n",
    "# Maximum number of levels in tree\n",
    "max_depth = [int(x) for x in np.linspace(10, 50, num = 5)]\n",
    "max_depth.append(None)\n",
    "# Minimum number of samples required to split a node\n",
    "min_samples_split = [2, 5, 10]\n",
    "# Minimum number of samples required at each leaf node\n",
    "min_samples_leaf = [1, 2, 4]\n",
    "# Method of selecting samples for training each tree\n",
    "bootstrap = [True, False]\n",
    "\n",
    "# Create the random grid\n",
    "param_grid = {'n_estimators': n_estimators,\n",
    "               #'max_features': 'sqrt', # error in grid_search\n",
    "               #'max_depth': max_depth, # too much runtime in grid_search\n",
    "               #'min_samples_split': min_samples_split, # too much runtime in grid_search\n",
    "               #'min_samples_leaf': min_samples_leaf, # too much runtime in grid_search\n",
    "               'bootstrap': bootstrap}\n",
    "print(param_grid)"
   ]
  },
  {
   "cell_type": "code",
   "execution_count": 119,
   "id": "9f97d18d-f145-47aa-8e60-964b7b4013d0",
   "metadata": {},
   "outputs": [],
   "source": [
    "# This cell is moved to comment b/c of long run time, result of GridSeachCV is documented in last line.\n",
    "\n",
    "# Use the param grid to search for best hyper parameters\n",
    "# Base model to tune is clf2\n",
    "\n",
    "# Random search of parameters, using 3 fold cross validation, \n",
    "#from sklearn.model_selection import GridSearchCV\n",
    "#grid_search = GridSearchCV(estimator = clf2, \n",
    "                           #param_grid=param_grid,\n",
    "                           #cv = 3,      # 3 fold crossvalidation\n",
    "                           #n_jobs = -1) # use all available cores\n",
    "\n",
    "#grid_search.fit(X_train, y_train) \n",
    "\n",
    "#print(grid_search.best_estimator_)\n",
    "\n",
    "# RandomForestClassifier(n_estimators=1000, n_jobs=-1, random_state=321)"
   ]
  },
  {
   "cell_type": "code",
   "execution_count": 120,
   "id": "f5480c1c-88b5-4d9c-95a7-604d420104ac",
   "metadata": {},
   "outputs": [
    {
     "data": {
      "text/html": [
       "<style>#sk-container-id-2 {color: black;}#sk-container-id-2 pre{padding: 0;}#sk-container-id-2 div.sk-toggleable {background-color: white;}#sk-container-id-2 label.sk-toggleable__label {cursor: pointer;display: block;width: 100%;margin-bottom: 0;padding: 0.3em;box-sizing: border-box;text-align: center;}#sk-container-id-2 label.sk-toggleable__label-arrow:before {content: \"▸\";float: left;margin-right: 0.25em;color: #696969;}#sk-container-id-2 label.sk-toggleable__label-arrow:hover:before {color: black;}#sk-container-id-2 div.sk-estimator:hover label.sk-toggleable__label-arrow:before {color: black;}#sk-container-id-2 div.sk-toggleable__content {max-height: 0;max-width: 0;overflow: hidden;text-align: left;background-color: #f0f8ff;}#sk-container-id-2 div.sk-toggleable__content pre {margin: 0.2em;color: black;border-radius: 0.25em;background-color: #f0f8ff;}#sk-container-id-2 input.sk-toggleable__control:checked~div.sk-toggleable__content {max-height: 200px;max-width: 100%;overflow: auto;}#sk-container-id-2 input.sk-toggleable__control:checked~label.sk-toggleable__label-arrow:before {content: \"▾\";}#sk-container-id-2 div.sk-estimator input.sk-toggleable__control:checked~label.sk-toggleable__label {background-color: #d4ebff;}#sk-container-id-2 div.sk-label input.sk-toggleable__control:checked~label.sk-toggleable__label {background-color: #d4ebff;}#sk-container-id-2 input.sk-hidden--visually {border: 0;clip: rect(1px 1px 1px 1px);clip: rect(1px, 1px, 1px, 1px);height: 1px;margin: -1px;overflow: hidden;padding: 0;position: absolute;width: 1px;}#sk-container-id-2 div.sk-estimator {font-family: monospace;background-color: #f0f8ff;border: 1px dotted black;border-radius: 0.25em;box-sizing: border-box;margin-bottom: 0.5em;}#sk-container-id-2 div.sk-estimator:hover {background-color: #d4ebff;}#sk-container-id-2 div.sk-parallel-item::after {content: \"\";width: 100%;border-bottom: 1px solid gray;flex-grow: 1;}#sk-container-id-2 div.sk-label:hover label.sk-toggleable__label {background-color: #d4ebff;}#sk-container-id-2 div.sk-serial::before {content: \"\";position: absolute;border-left: 1px solid gray;box-sizing: border-box;top: 0;bottom: 0;left: 50%;z-index: 0;}#sk-container-id-2 div.sk-serial {display: flex;flex-direction: column;align-items: center;background-color: white;padding-right: 0.2em;padding-left: 0.2em;position: relative;}#sk-container-id-2 div.sk-item {position: relative;z-index: 1;}#sk-container-id-2 div.sk-parallel {display: flex;align-items: stretch;justify-content: center;background-color: white;position: relative;}#sk-container-id-2 div.sk-item::before, #sk-container-id-2 div.sk-parallel-item::before {content: \"\";position: absolute;border-left: 1px solid gray;box-sizing: border-box;top: 0;bottom: 0;left: 50%;z-index: -1;}#sk-container-id-2 div.sk-parallel-item {display: flex;flex-direction: column;z-index: 1;position: relative;background-color: white;}#sk-container-id-2 div.sk-parallel-item:first-child::after {align-self: flex-end;width: 50%;}#sk-container-id-2 div.sk-parallel-item:last-child::after {align-self: flex-start;width: 50%;}#sk-container-id-2 div.sk-parallel-item:only-child::after {width: 0;}#sk-container-id-2 div.sk-dashed-wrapped {border: 1px dashed gray;margin: 0 0.4em 0.5em 0.4em;box-sizing: border-box;padding-bottom: 0.4em;background-color: white;}#sk-container-id-2 div.sk-label label {font-family: monospace;font-weight: bold;display: inline-block;line-height: 1.2em;}#sk-container-id-2 div.sk-label-container {text-align: center;}#sk-container-id-2 div.sk-container {/* jupyter's `normalize.less` sets `[hidden] { display: none; }` but bootstrap.min.css set `[hidden] { display: none !important; }` so we also need the `!important` here to be able to override the default hidden behavior on the sphinx rendered scikit-learn.org. See: https://github.com/scikit-learn/scikit-learn/issues/21755 */display: inline-block !important;position: relative;}#sk-container-id-2 div.sk-text-repr-fallback {display: none;}</style><div id=\"sk-container-id-2\" class=\"sk-top-container\"><div class=\"sk-text-repr-fallback\"><pre>RandomForestClassifier(n_estimators=1000, n_jobs=-1, random_state=321)</pre><b>In a Jupyter environment, please rerun this cell to show the HTML representation or trust the notebook. <br />On GitHub, the HTML representation is unable to render, please try loading this page with nbviewer.org.</b></div><div class=\"sk-container\" hidden><div class=\"sk-item\"><div class=\"sk-estimator sk-toggleable\"><input class=\"sk-toggleable__control sk-hidden--visually\" id=\"sk-estimator-id-2\" type=\"checkbox\" checked><label for=\"sk-estimator-id-2\" class=\"sk-toggleable__label sk-toggleable__label-arrow\">RandomForestClassifier</label><div class=\"sk-toggleable__content\"><pre>RandomForestClassifier(n_estimators=1000, n_jobs=-1, random_state=321)</pre></div></div></div></div></div>"
      ],
      "text/plain": [
       "RandomForestClassifier(n_estimators=1000, n_jobs=-1, random_state=321)"
      ]
     },
     "execution_count": 120,
     "metadata": {},
     "output_type": "execute_result"
    }
   ],
   "source": [
    "clf2 = ensemble.RandomForestClassifier(n_jobs=-1, random_state=321,\n",
    "                                       n_estimators=1000)                                      \n",
    "clf2.fit(X_train, y_train)"
   ]
  },
  {
   "cell_type": "code",
   "execution_count": 121,
   "id": "cf0a2353-365a-4b0e-9bc3-1bf637fc7b60",
   "metadata": {},
   "outputs": [
    {
     "data": {
      "text/html": [
       "<div>\n",
       "<style scoped>\n",
       "    .dataframe tbody tr th:only-of-type {\n",
       "        vertical-align: middle;\n",
       "    }\n",
       "\n",
       "    .dataframe tbody tr th {\n",
       "        vertical-align: top;\n",
       "    }\n",
       "\n",
       "    .dataframe thead th {\n",
       "        text-align: right;\n",
       "    }\n",
       "</style>\n",
       "<table border=\"1\" class=\"dataframe\">\n",
       "  <thead>\n",
       "    <tr style=\"text-align: right;\">\n",
       "      <th>Prediction</th>\n",
       "      <th>1</th>\n",
       "      <th>2</th>\n",
       "      <th>3</th>\n",
       "      <th>4</th>\n",
       "      <th>5</th>\n",
       "    </tr>\n",
       "    <tr>\n",
       "      <th>True</th>\n",
       "      <th></th>\n",
       "      <th></th>\n",
       "      <th></th>\n",
       "      <th></th>\n",
       "      <th></th>\n",
       "    </tr>\n",
       "  </thead>\n",
       "  <tbody>\n",
       "    <tr>\n",
       "      <th>1</th>\n",
       "      <td>1217</td>\n",
       "      <td>4</td>\n",
       "      <td>6</td>\n",
       "      <td>8</td>\n",
       "      <td>506</td>\n",
       "    </tr>\n",
       "    <tr>\n",
       "      <th>2</th>\n",
       "      <td>107</td>\n",
       "      <td>0</td>\n",
       "      <td>2</td>\n",
       "      <td>1</td>\n",
       "      <td>77</td>\n",
       "    </tr>\n",
       "    <tr>\n",
       "      <th>3</th>\n",
       "      <td>111</td>\n",
       "      <td>1</td>\n",
       "      <td>1</td>\n",
       "      <td>1</td>\n",
       "      <td>133</td>\n",
       "    </tr>\n",
       "    <tr>\n",
       "      <th>4</th>\n",
       "      <td>114</td>\n",
       "      <td>0</td>\n",
       "      <td>3</td>\n",
       "      <td>1</td>\n",
       "      <td>410</td>\n",
       "    </tr>\n",
       "    <tr>\n",
       "      <th>5</th>\n",
       "      <td>340</td>\n",
       "      <td>5</td>\n",
       "      <td>5</td>\n",
       "      <td>7</td>\n",
       "      <td>2647</td>\n",
       "    </tr>\n",
       "  </tbody>\n",
       "</table>\n",
       "</div>"
      ],
      "text/plain": [
       "Prediction     1  2  3  4     5\n",
       "True                           \n",
       "1           1217  4  6  8   506\n",
       "2            107  0  2  1    77\n",
       "3            111  1  1  1   133\n",
       "4            114  0  3  1   410\n",
       "5            340  5  5  7  2647"
      ]
     },
     "execution_count": 121,
     "metadata": {},
     "output_type": "execute_result"
    }
   ],
   "source": [
    "# Predict test set and store in y_pred\n",
    "y_pred = clf2.predict(X_test)\n",
    "y_pred_train = clf2.predict(X_train)\n",
    "\n",
    "# check result with crosstab\n",
    "pd.crosstab(y_test, y_pred, rownames=['True'], colnames=['Prediction'])"
   ]
  },
  {
   "cell_type": "code",
   "execution_count": 122,
   "id": "87f166d5-317e-4846-8493-4d04118b5a79",
   "metadata": {},
   "outputs": [
    {
     "name": "stdout",
     "output_type": "stream",
     "text": [
      "Score clf2 test set 0.67741370247065\n",
      "Score clf2 trainset 0.7026636291947779\n"
     ]
    }
   ],
   "source": [
    "# Check score\n",
    "print(\"Score clf2 test set\", clf2.score(X_test, y_test))\n",
    "print(\"Score clf2 trainset\", clf2.score(X_train, y_train))"
   ]
  },
  {
   "cell_type": "code",
   "execution_count": 123,
   "id": "e2d77867-3181-4615-94b7-681f2431a550",
   "metadata": {},
   "outputs": [
    {
     "name": "stdout",
     "output_type": "stream",
     "text": [
      "Classification report RandomForestClassifier:\n",
      "               precision    recall  f1-score   support\n",
      "\n",
      "           1       0.64      0.70      0.67      1741\n",
      "           2       0.00      0.00      0.00       187\n",
      "           3       0.06      0.00      0.01       247\n",
      "           4       0.06      0.00      0.00       528\n",
      "           5       0.70      0.88      0.78      3004\n",
      "\n",
      "    accuracy                           0.68      5707\n",
      "   macro avg       0.29      0.32      0.29      5707\n",
      "weighted avg       0.57      0.68      0.62      5707\n",
      "\n"
     ]
    }
   ],
   "source": [
    "# classification report\n",
    "from sklearn.metrics import f1_score, classification_report\n",
    "print(\"Classification report RandomForestClassifier:\\n\", classification_report(y_test, y_pred))"
   ]
  },
  {
   "cell_type": "code",
   "execution_count": 124,
   "id": "3f2d37bc-e0df-44e0-8fdc-22c0137713d9",
   "metadata": {},
   "outputs": [
    {
     "name": "stdout",
     "output_type": "stream",
     "text": [
      "Classification report RandomForestClassifier train set:\n",
      "               precision    recall  f1-score   support\n",
      "\n",
      "           1       0.67      0.74      0.70      6703\n",
      "           2       0.49      0.02      0.05       750\n",
      "           3       0.52      0.03      0.06       945\n",
      "           4       0.56      0.01      0.02      2201\n",
      "           5       0.72      0.90      0.80     12227\n",
      "\n",
      "    accuracy                           0.70     22826\n",
      "   macro avg       0.59      0.34      0.33     22826\n",
      "weighted avg       0.67      0.70      0.64     22826\n",
      "\n"
     ]
    }
   ],
   "source": [
    "print(\"Classification report RandomForestClassifier train set:\\n\", classification_report(y_train, y_pred_train))"
   ]
  },
  {
   "attachments": {},
   "cell_type": "markdown",
   "id": "01770389-9b74-4960-b479-e0a3f219b6e7",
   "metadata": {},
   "source": [
    "Interpretation:\n",
    "\n",
    "As we can see, the 1- and 5-star ratings were predicted best. With hyperparameter tuning we saw a small improvement on the middle ratings while dominant classes performed worse than before. We see again overfitting as the test set performs significantly better than the test set for both accuracy and F1 score, also predicting the middle classes.\n",
    "\r\n",
    "The greater the imbalance between classes, the less successful the classical models will be in predicting the minority class. \n",
    "\r\n",
    "However, the focus for customer service and customer satisfaction KPIs lies in the extreme opinions: “Is the customer really happy or really dissatisfied?\n",
    "\n",
    "” With this guideline for improvementd the middle star ratings, which were quantitatively low, could be neglecdte.\r\n"
   ]
  },
  {
   "cell_type": "markdown",
   "id": "8430a9ae-bb7c-4848-b296-dd33409d4e32",
   "metadata": {},
   "source": [
    "# Looking back"
   ]
  },
  {
   "cell_type": "markdown",
   "id": "c89bd4e8-f7a9-49e1-a5c9-68237986750f",
   "metadata": {},
   "source": [
    "Result of Tryout with simple ML models for Rating prediction based on number of words in customer feedback\n",
    " - Improvement with number of words in customer headline, but overall not over 70% accuracy\n",
    " - using the complete data set 2 did not work out due to file size reaching the limit of computing capacity --> was too big\n",
    " - step by step approach: only using data with comments, then only with comments and headlines, lastly exploring data only from one supplier\n",
    " - check results for support vector machine SVC, decision tree classifier: SVM classivier models did better, but overall performance was not much over random calls.\n",
    "--> Sentiment analysis as next step\n"
   ]
  },
  {
   "cell_type": "code",
   "execution_count": null,
   "id": "eb1dddb5-ecc0-44a8-8d8d-d72dd74b9c15",
   "metadata": {},
   "outputs": [],
   "source": []
  }
 ],
 "metadata": {
  "kernelspec": {
   "display_name": "anaconda-panel-2023.05-py310",
   "language": "python",
   "name": "conda-env-anaconda-panel-2023.05-py310-py"
  },
  "language_info": {
   "codemirror_mode": {
    "name": "ipython",
    "version": 3
   },
   "file_extension": ".py",
   "mimetype": "text/x-python",
   "name": "python",
   "nbconvert_exporter": "python",
   "pygments_lexer": "ipython3",
   "version": "3.11.5"
  }
 },
 "nbformat": 4,
 "nbformat_minor": 5
}
