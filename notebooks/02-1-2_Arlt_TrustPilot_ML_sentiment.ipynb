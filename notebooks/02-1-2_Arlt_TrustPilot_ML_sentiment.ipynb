{
 "cells": [
  {
   "cell_type": "markdown",
   "id": "8787668b-74a9-4a1b-909b-ef3e5da390ef",
   "metadata": {
    "tags": []
   },
   "source": [
    "# Energy Suppliers on Trustpilot - ML models with sentiment analysis\n",
    "Author: Stefanie Arlt"
   ]
  },
  {
   "cell_type": "markdown",
   "id": "49d44f47-3d03-4d6f-8e42-fd1fc5503b58",
   "metadata": {
    "tags": []
   },
   "source": [
    "## Outline"
   ]
  },
  {
   "cell_type": "markdown",
   "id": "f023269a-8f56-42c9-b670-7b49a197d08c",
   "metadata": {},
   "source": [
    "There are two data sets available, both containing information scraped from the Trustpilot web site:\n",
    "\n",
    " - 1: Trustpilot Energy supplier rankings in Germany (https://de.trustpilot.com/categories/electric_utility_company)\n",
    "\n",
    " - 2: Trustpilot Comments and feedback to energy suppliers in Germany (see comment column in import data for links)\n",
    "\n",
    "This notebook focuses on the 2nd file with the aim to improve machine learning with sentiment analysis."
   ]
  },
  {
   "cell_type": "markdown",
   "id": "2d0312e2-7eb2-4e83-9f1d-0f380f0891e3",
   "metadata": {},
   "source": [
    "Where we stood after applying simple ML models for rating prediction based on number of words in customer feedback:\n",
    " - Improvement with number of words in supplier headline, but overall not over 70% accuracy\n",
    " - using the complete data set 2 did not work out due to file size reaching the limit of computing capacity --> was too big\n",
    " - step by step approach: only using data with comments, then only with comments and headlines, lastly exploring data only from one supplier\n",
    " - check results for support vector machine SVC, decision tree classifier: SVM classivier models did better, but overall performance was not much over random calls.\n",
    "\n",
    "\n",
    "We will continue with the task rating prediction based on number of words in customer feedback with data set 2\n",
    "- apply sentiment analysis as performed by Matthias\n",
    "- go to binary classification as the middle ranks have low ratings and are not interesting for follow-up measures\n",
    "- check for performance improvement\n",
    "\n",
    "Keyword analysis result is subject of another notebook. It seems not ideal for improvement of our ML models as the same keywords apply to both positive and negative ratings.\n"
   ]
  },
  {
   "cell_type": "markdown",
   "id": "f401941c-fb6a-45f9-91b3-e8009875f465",
   "metadata": {},
   "source": [
    "\n"
   ]
  },
  {
   "cell_type": "markdown",
   "id": "eb27e73f-51a9-4247-ac84-b472ec5ff200",
   "metadata": {
    "tags": []
   },
   "source": [
    "## Prepare data set & reduce to E.ON data"
   ]
  },
  {
   "cell_type": "markdown",
   "id": "1d448036-56a0-4d76-8ab0-ac1ae025ba72",
   "metadata": {
    "tags": []
   },
   "source": [
    "### Import"
   ]
  },
  {
   "cell_type": "code",
   "execution_count": 9,
   "id": "c7ae168b-0594-4726-a4df-b67dc4afc8d7",
   "metadata": {},
   "outputs": [],
   "source": [
    "# basic import\n",
    "import pandas as pd\n",
    "import numpy as np\n",
    "import matplotlib.pyplot as plt\n",
    "%matplotlib inline\n",
    "import seaborn as sns"
   ]
  },
  {
   "cell_type": "code",
   "execution_count": 10,
   "id": "4fc4e30c-4bf4-44f0-8d37-fee19afedde4",
   "metadata": {},
   "outputs": [
    {
     "data": {
      "text/html": [
       "<div>\n",
       "<style scoped>\n",
       "    .dataframe tbody tr th:only-of-type {\n",
       "        vertical-align: middle;\n",
       "    }\n",
       "\n",
       "    .dataframe tbody tr th {\n",
       "        vertical-align: top;\n",
       "    }\n",
       "\n",
       "    .dataframe thead th {\n",
       "        text-align: right;\n",
       "    }\n",
       "</style>\n",
       "<table border=\"1\" class=\"dataframe\">\n",
       "  <thead>\n",
       "    <tr style=\"text-align: right;\">\n",
       "      <th></th>\n",
       "      <th>Stars</th>\n",
       "      <th>Headline</th>\n",
       "      <th>Comment</th>\n",
       "      <th>Answer</th>\n",
       "      <th>Company</th>\n",
       "      <th>Words_Comment</th>\n",
       "      <th>Words_Headline</th>\n",
       "      <th>Words_Answer</th>\n",
       "      <th>log_Words_Headline</th>\n",
       "      <th>log_Words_Comment</th>\n",
       "      <th>log_Words_Answer</th>\n",
       "      <th>Stars_min_max_scaled</th>\n",
       "      <th>Stars_geq3_TF</th>\n",
       "      <th>Stars_geq4_TF</th>\n",
       "    </tr>\n",
       "  </thead>\n",
       "  <tbody>\n",
       "    <tr>\n",
       "      <th>0</th>\n",
       "      <td>1</td>\n",
       "      <td>Schlechter Service bei Anfragen per Mail</td>\n",
       "      <td>Wichtige Anfragen / Änderungen per Mail vom 02...</td>\n",
       "      <td>Hallo Jörg, vielen Dank für deine Zeit in der ...</td>\n",
       "      <td>Octopus Energy Germany</td>\n",
       "      <td>38.0</td>\n",
       "      <td>6</td>\n",
       "      <td>45.0</td>\n",
       "      <td>1.791759</td>\n",
       "      <td>3.637586</td>\n",
       "      <td>3.806662</td>\n",
       "      <td>0.00</td>\n",
       "      <td>0</td>\n",
       "      <td>0</td>\n",
       "    </tr>\n",
       "    <tr>\n",
       "      <th>1</th>\n",
       "      <td>1</td>\n",
       "      <td>ungefragt Duzen und Gendersprache!</td>\n",
       "      <td>ich habe es schon bereut diesen Anbieter gewäh...</td>\n",
       "      <td>Hallo Thomas, vielen Dank für deine Zeit, die ...</td>\n",
       "      <td>Octopus Energy Germany</td>\n",
       "      <td>45.0</td>\n",
       "      <td>4</td>\n",
       "      <td>50.0</td>\n",
       "      <td>1.386294</td>\n",
       "      <td>3.806662</td>\n",
       "      <td>3.912023</td>\n",
       "      <td>0.00</td>\n",
       "      <td>0</td>\n",
       "      <td>0</td>\n",
       "    </tr>\n",
       "    <tr>\n",
       "      <th>2</th>\n",
       "      <td>4</td>\n",
       "      <td>Willkommen</td>\n",
       "      <td>Der Wechsel war sehr einfach und verlief probl...</td>\n",
       "      <td>Hallo Kirsten,vielen Dank für deine gute Bewer...</td>\n",
       "      <td>Octopus Energy Germany</td>\n",
       "      <td>22.0</td>\n",
       "      <td>1</td>\n",
       "      <td>24.0</td>\n",
       "      <td>0.000000</td>\n",
       "      <td>3.091042</td>\n",
       "      <td>3.178054</td>\n",
       "      <td>0.75</td>\n",
       "      <td>1</td>\n",
       "      <td>1</td>\n",
       "    </tr>\n",
       "    <tr>\n",
       "      <th>3</th>\n",
       "      <td>4</td>\n",
       "      <td>Der Anbieterwechsel klappt super</td>\n",
       "      <td>Der Anbieterwechsel (Papierkram) hat super gek...</td>\n",
       "      <td>Hallo Thomas,danke dir vielmals für die gute B...</td>\n",
       "      <td>Octopus Energy Germany</td>\n",
       "      <td>19.0</td>\n",
       "      <td>4</td>\n",
       "      <td>12.0</td>\n",
       "      <td>1.386294</td>\n",
       "      <td>2.944439</td>\n",
       "      <td>2.484907</td>\n",
       "      <td>0.75</td>\n",
       "      <td>1</td>\n",
       "      <td>1</td>\n",
       "    </tr>\n",
       "    <tr>\n",
       "      <th>4</th>\n",
       "      <td>4</td>\n",
       "      <td>Bis jetzt war alles zufriedenstellend</td>\n",
       "      <td>Bis jetzt war alles zufriedenstellend Vom Erst...</td>\n",
       "      <td>Hallo Heiko,vielen Dank für deine gute Bewertu...</td>\n",
       "      <td>Octopus Energy Germany</td>\n",
       "      <td>27.0</td>\n",
       "      <td>5</td>\n",
       "      <td>24.0</td>\n",
       "      <td>1.609438</td>\n",
       "      <td>3.295837</td>\n",
       "      <td>3.178054</td>\n",
       "      <td>0.75</td>\n",
       "      <td>1</td>\n",
       "      <td>1</td>\n",
       "    </tr>\n",
       "  </tbody>\n",
       "</table>\n",
       "</div>"
      ],
      "text/plain": [
       "   Stars                                  Headline  \\\n",
       "0      1  Schlechter Service bei Anfragen per Mail   \n",
       "1      1        ungefragt Duzen und Gendersprache!   \n",
       "2      4                                Willkommen   \n",
       "3      4          Der Anbieterwechsel klappt super   \n",
       "4      4     Bis jetzt war alles zufriedenstellend   \n",
       "\n",
       "                                             Comment  \\\n",
       "0  Wichtige Anfragen / Änderungen per Mail vom 02...   \n",
       "1  ich habe es schon bereut diesen Anbieter gewäh...   \n",
       "2  Der Wechsel war sehr einfach und verlief probl...   \n",
       "3  Der Anbieterwechsel (Papierkram) hat super gek...   \n",
       "4  Bis jetzt war alles zufriedenstellend Vom Erst...   \n",
       "\n",
       "                                              Answer                 Company  \\\n",
       "0  Hallo Jörg, vielen Dank für deine Zeit in der ...  Octopus Energy Germany   \n",
       "1  Hallo Thomas, vielen Dank für deine Zeit, die ...  Octopus Energy Germany   \n",
       "2  Hallo Kirsten,vielen Dank für deine gute Bewer...  Octopus Energy Germany   \n",
       "3  Hallo Thomas,danke dir vielmals für die gute B...  Octopus Energy Germany   \n",
       "4  Hallo Heiko,vielen Dank für deine gute Bewertu...  Octopus Energy Germany   \n",
       "\n",
       "   Words_Comment  Words_Headline  Words_Answer  log_Words_Headline  \\\n",
       "0           38.0               6          45.0            1.791759   \n",
       "1           45.0               4          50.0            1.386294   \n",
       "2           22.0               1          24.0            0.000000   \n",
       "3           19.0               4          12.0            1.386294   \n",
       "4           27.0               5          24.0            1.609438   \n",
       "\n",
       "   log_Words_Comment  log_Words_Answer  Stars_min_max_scaled  Stars_geq3_TF  \\\n",
       "0           3.637586          3.806662                  0.00              0   \n",
       "1           3.806662          3.912023                  0.00              0   \n",
       "2           3.091042          3.178054                  0.75              1   \n",
       "3           2.944439          2.484907                  0.75              1   \n",
       "4           3.295837          3.178054                  0.75              1   \n",
       "\n",
       "   Stars_geq4_TF  \n",
       "0              0  \n",
       "1              0  \n",
       "2              1  \n",
       "3              1  \n",
       "4              1  "
      ]
     },
     "execution_count": 10,
     "metadata": {},
     "output_type": "execute_result"
    }
   ],
   "source": [
    "# import data\n",
    "all_data = pd.read_csv(\"df_ml.csv\")\n",
    "all_data.head()"
   ]
  },
  {
   "attachments": {},
   "cell_type": "markdown",
   "id": "ea4591a4-59d5-4143-854b-677f20d1915a",
   "metadata": {},
   "source": [
    "#### Column description:\n",
    "\n",
    "Label name and description:\n",
    " \n",
    "-\tHeadline = Headline of post, explanatory\r\n",
    "-\tComment = Comment of post, explanatory\r\n",
    "-\tAnswer = Answer to post, explanatory\r\n",
    "-\tCompany = Name of Company, selector\r\n",
    "-\tComment_TF = Checks, if there is a comment, selector\r\n",
    "-\tAnswer_TF = Checks, if there is an answer, selector\r\n",
    "-\tlog_Words_Headline = Natural logarithm of word count of headline, explanatory\r\n",
    "-\tlog_Words_Comment = Natural logarithm of word count of comment, explanatory\r\n",
    "-\tlog_Words_Answer =Natural logarithm of word count of Answer, explanatory\r\n",
    "-\tStars = Rating number of stars 1 - 5, original target, now selector\r\n",
    "-\tStars_min_max_scaled = Min-max-scaled star rating, target\r\n",
    "-\tStars_geq4_TF = Checks for Stars> 3, target\r\n",
    "ry\tnot used\r\n"
   ]
  },
  {
   "cell_type": "code",
   "execution_count": 12,
   "id": "193acead-3007-491e-9425-b2c4b8876a91",
   "metadata": {},
   "outputs": [
    {
     "name": "stdout",
     "output_type": "stream",
     "text": [
      "<class 'pandas.core.frame.DataFrame'>\n",
      "RangeIndex: 25046 entries, 0 to 25045\n",
      "Data columns (total 14 columns):\n",
      " #   Column                Non-Null Count  Dtype  \n",
      "---  ------                --------------  -----  \n",
      " 0   Stars                 25046 non-null  int64  \n",
      " 1   Headline              25046 non-null  object \n",
      " 2   Comment               25046 non-null  object \n",
      " 3   Answer                25046 non-null  object \n",
      " 4   Company               25046 non-null  object \n",
      " 5   Words_Comment         25046 non-null  float64\n",
      " 6   Words_Headline        25046 non-null  int64  \n",
      " 7   Words_Answer          25046 non-null  float64\n",
      " 8   log_Words_Headline    25046 non-null  float64\n",
      " 9   log_Words_Comment     25046 non-null  float64\n",
      " 10  log_Words_Answer      25046 non-null  float64\n",
      " 11  Stars_min_max_scaled  25046 non-null  float64\n",
      " 12  Stars_geq3_TF         25046 non-null  int64  \n",
      " 13  Stars_geq4_TF         25046 non-null  int64  \n",
      "dtypes: float64(6), int64(4), object(4)\n",
      "memory usage: 2.7+ MB\n"
     ]
    }
   ],
   "source": [
    "all_data.info()\n",
    "\n",
    "# no missing values\n",
    "# all lines include headline, comments and answers"
   ]
  },
  {
   "cell_type": "code",
   "execution_count": 13,
   "id": "0dc97c6b-c290-4c85-b024-df12dc2c4799",
   "metadata": {},
   "outputs": [
    {
     "data": {
      "text/html": [
       "<div>\n",
       "<style scoped>\n",
       "    .dataframe tbody tr th:only-of-type {\n",
       "        vertical-align: middle;\n",
       "    }\n",
       "\n",
       "    .dataframe tbody tr th {\n",
       "        vertical-align: top;\n",
       "    }\n",
       "\n",
       "    .dataframe thead th {\n",
       "        text-align: right;\n",
       "    }\n",
       "</style>\n",
       "<table border=\"1\" class=\"dataframe\">\n",
       "  <thead>\n",
       "    <tr style=\"text-align: right;\">\n",
       "      <th></th>\n",
       "      <th>Stars</th>\n",
       "      <th>Words_Comment</th>\n",
       "      <th>Words_Headline</th>\n",
       "      <th>Words_Answer</th>\n",
       "      <th>log_Words_Headline</th>\n",
       "      <th>log_Words_Comment</th>\n",
       "      <th>log_Words_Answer</th>\n",
       "      <th>Stars_min_max_scaled</th>\n",
       "      <th>Stars_geq3_TF</th>\n",
       "      <th>Stars_geq4_TF</th>\n",
       "    </tr>\n",
       "  </thead>\n",
       "  <tbody>\n",
       "    <tr>\n",
       "      <th>count</th>\n",
       "      <td>25046.000000</td>\n",
       "      <td>25046.000000</td>\n",
       "      <td>25046.000000</td>\n",
       "      <td>25046.000000</td>\n",
       "      <td>25046.000000</td>\n",
       "      <td>25046.000000</td>\n",
       "      <td>25046.000000</td>\n",
       "      <td>25046.000000</td>\n",
       "      <td>25046.000000</td>\n",
       "      <td>25046.000000</td>\n",
       "    </tr>\n",
       "    <tr>\n",
       "      <th>mean</th>\n",
       "      <td>3.375988</td>\n",
       "      <td>42.616346</td>\n",
       "      <td>4.106364</td>\n",
       "      <td>47.710373</td>\n",
       "      <td>1.253462</td>\n",
       "      <td>3.119073</td>\n",
       "      <td>3.569483</td>\n",
       "      <td>0.593997</td>\n",
       "      <td>0.631079</td>\n",
       "      <td>0.585523</td>\n",
       "    </tr>\n",
       "    <tr>\n",
       "      <th>std</th>\n",
       "      <td>1.812914</td>\n",
       "      <td>60.609596</td>\n",
       "      <td>2.353257</td>\n",
       "      <td>37.427578</td>\n",
       "      <td>0.589509</td>\n",
       "      <td>1.120037</td>\n",
       "      <td>0.800157</td>\n",
       "      <td>0.453228</td>\n",
       "      <td>0.482522</td>\n",
       "      <td>0.492641</td>\n",
       "    </tr>\n",
       "    <tr>\n",
       "      <th>min</th>\n",
       "      <td>1.000000</td>\n",
       "      <td>1.000000</td>\n",
       "      <td>1.000000</td>\n",
       "      <td>2.000000</td>\n",
       "      <td>0.000000</td>\n",
       "      <td>0.000000</td>\n",
       "      <td>0.693147</td>\n",
       "      <td>0.000000</td>\n",
       "      <td>0.000000</td>\n",
       "      <td>0.000000</td>\n",
       "    </tr>\n",
       "    <tr>\n",
       "      <th>25%</th>\n",
       "      <td>1.000000</td>\n",
       "      <td>10.000000</td>\n",
       "      <td>2.000000</td>\n",
       "      <td>19.000000</td>\n",
       "      <td>0.693147</td>\n",
       "      <td>2.302585</td>\n",
       "      <td>2.944439</td>\n",
       "      <td>0.000000</td>\n",
       "      <td>0.000000</td>\n",
       "      <td>0.000000</td>\n",
       "    </tr>\n",
       "    <tr>\n",
       "      <th>50%</th>\n",
       "      <td>4.000000</td>\n",
       "      <td>21.000000</td>\n",
       "      <td>4.000000</td>\n",
       "      <td>40.000000</td>\n",
       "      <td>1.386294</td>\n",
       "      <td>3.044522</td>\n",
       "      <td>3.688879</td>\n",
       "      <td>0.750000</td>\n",
       "      <td>1.000000</td>\n",
       "      <td>1.000000</td>\n",
       "    </tr>\n",
       "    <tr>\n",
       "      <th>75%</th>\n",
       "      <td>5.000000</td>\n",
       "      <td>51.000000</td>\n",
       "      <td>5.000000</td>\n",
       "      <td>57.000000</td>\n",
       "      <td>1.609438</td>\n",
       "      <td>3.931826</td>\n",
       "      <td>4.043051</td>\n",
       "      <td>1.000000</td>\n",
       "      <td>1.000000</td>\n",
       "      <td>1.000000</td>\n",
       "    </tr>\n",
       "    <tr>\n",
       "      <th>max</th>\n",
       "      <td>5.000000</td>\n",
       "      <td>1469.000000</td>\n",
       "      <td>43.000000</td>\n",
       "      <td>555.000000</td>\n",
       "      <td>3.761200</td>\n",
       "      <td>7.292337</td>\n",
       "      <td>6.318968</td>\n",
       "      <td>1.000000</td>\n",
       "      <td>1.000000</td>\n",
       "      <td>1.000000</td>\n",
       "    </tr>\n",
       "  </tbody>\n",
       "</table>\n",
       "</div>"
      ],
      "text/plain": [
       "              Stars  Words_Comment  Words_Headline  Words_Answer  \\\n",
       "count  25046.000000   25046.000000    25046.000000  25046.000000   \n",
       "mean       3.375988      42.616346        4.106364     47.710373   \n",
       "std        1.812914      60.609596        2.353257     37.427578   \n",
       "min        1.000000       1.000000        1.000000      2.000000   \n",
       "25%        1.000000      10.000000        2.000000     19.000000   \n",
       "50%        4.000000      21.000000        4.000000     40.000000   \n",
       "75%        5.000000      51.000000        5.000000     57.000000   \n",
       "max        5.000000    1469.000000       43.000000    555.000000   \n",
       "\n",
       "       log_Words_Headline  log_Words_Comment  log_Words_Answer  \\\n",
       "count        25046.000000       25046.000000      25046.000000   \n",
       "mean             1.253462           3.119073          3.569483   \n",
       "std              0.589509           1.120037          0.800157   \n",
       "min              0.000000           0.000000          0.693147   \n",
       "25%              0.693147           2.302585          2.944439   \n",
       "50%              1.386294           3.044522          3.688879   \n",
       "75%              1.609438           3.931826          4.043051   \n",
       "max              3.761200           7.292337          6.318968   \n",
       "\n",
       "       Stars_min_max_scaled  Stars_geq3_TF  Stars_geq4_TF  \n",
       "count          25046.000000   25046.000000   25046.000000  \n",
       "mean               0.593997       0.631079       0.585523  \n",
       "std                0.453228       0.482522       0.492641  \n",
       "min                0.000000       0.000000       0.000000  \n",
       "25%                0.000000       0.000000       0.000000  \n",
       "50%                0.750000       1.000000       1.000000  \n",
       "75%                1.000000       1.000000       1.000000  \n",
       "max                1.000000       1.000000       1.000000  "
      ]
     },
     "execution_count": 13,
     "metadata": {},
     "output_type": "execute_result"
    }
   ],
   "source": [
    "all_data.describe()"
   ]
  },
  {
   "cell_type": "markdown",
   "id": "e21d434a-934c-4a9a-abc3-2caf0dea4867",
   "metadata": {
    "tags": []
   },
   "source": [
    "### Data set selection and exploration"
   ]
  },
  {
   "cell_type": "markdown",
   "id": "a4028261-0e55-4bf3-b3e0-e3fa8b370b25",
   "metadata": {},
   "source": [
    "#### select relevant data"
   ]
  },
  {
   "cell_type": "code",
   "execution_count": 16,
   "id": "8ba418c7-af09-4ba9-a3c6-1044de0af7c8",
   "metadata": {},
   "outputs": [
    {
     "data": {
      "text/plain": [
       "Company\n",
       "eprimo GmbH                      6708\n",
       "Octopus Energy Germany           6001\n",
       "E.ON Energie Deutschland GmbH    4965\n",
       "MONTANA Group                    1510\n",
       "LichtBlick                       1448\n",
       "Vattenfall Europe Sales GmbH      951\n",
       "Ostrom                            880\n",
       "MEP Werke                         476\n",
       "RheinEnergie                      453\n",
       "NEW Energie                       452\n",
       "EWE                               352\n",
       "Grünwelt Energie                  245\n",
       "Rabot Charge                      111\n",
       "badenova                           80\n",
       "SWK ENERGIE GmbH                   74\n",
       "Zenstrom                           69\n",
       "Lition Energie                     53\n",
       "voxenergie                         40\n",
       "nowenergy                          40\n",
       "Paketsparer                        38\n",
       "Primastrom                         21\n",
       "CHONO MEDIA                        19\n",
       "VeganStrom                         18\n",
       "Fresh Energy                       10\n",
       "Erdgas Südwest GmbH                10\n",
       "1KOMMA5°                            7\n",
       "Polarstern Energie                  6\n",
       "pricewise.de                        4\n",
       "Lekker Energie GmbH                 3\n",
       "DFM-Select GmbH                     2\n",
       "Name: count, dtype: int64"
      ]
     },
     "execution_count": 16,
     "metadata": {},
     "output_type": "execute_result"
    }
   ],
   "source": [
    "#unique values for company\n",
    "all_data['Company'].value_counts()"
   ]
  },
  {
   "cell_type": "code",
   "execution_count": 17,
   "id": "7327bdd0-dc59-4e11-b69e-eaeedc2e6170",
   "metadata": {},
   "outputs": [
    {
     "data": {
      "text/html": [
       "<div>\n",
       "<style scoped>\n",
       "    .dataframe tbody tr th:only-of-type {\n",
       "        vertical-align: middle;\n",
       "    }\n",
       "\n",
       "    .dataframe tbody tr th {\n",
       "        vertical-align: top;\n",
       "    }\n",
       "\n",
       "    .dataframe thead th {\n",
       "        text-align: right;\n",
       "    }\n",
       "</style>\n",
       "<table border=\"1\" class=\"dataframe\">\n",
       "  <thead>\n",
       "    <tr style=\"text-align: right;\">\n",
       "      <th></th>\n",
       "      <th>Stars</th>\n",
       "      <th>Headline</th>\n",
       "      <th>Comment</th>\n",
       "      <th>Answer</th>\n",
       "      <th>Company</th>\n",
       "      <th>Words_Comment</th>\n",
       "      <th>Words_Headline</th>\n",
       "      <th>Words_Answer</th>\n",
       "      <th>log_Words_Headline</th>\n",
       "      <th>log_Words_Comment</th>\n",
       "      <th>log_Words_Answer</th>\n",
       "      <th>Stars_min_max_scaled</th>\n",
       "      <th>Stars_geq3_TF</th>\n",
       "      <th>Stars_geq4_TF</th>\n",
       "    </tr>\n",
       "  </thead>\n",
       "  <tbody>\n",
       "    <tr>\n",
       "      <th>8502</th>\n",
       "      <td>5</td>\n",
       "      <td>Korrekte Wiedergabe</td>\n",
       "      <td>Korrekte Auflistung des Zählerstandes und Verb...</td>\n",
       "      <td>Lieber Trustpilot Nutzer, wir freuen uns sehr...</td>\n",
       "      <td>E.ON Energie Deutschland GmbH</td>\n",
       "      <td>41.0</td>\n",
       "      <td>2</td>\n",
       "      <td>54.0</td>\n",
       "      <td>0.693147</td>\n",
       "      <td>3.713572</td>\n",
       "      <td>3.988984</td>\n",
       "      <td>1.0</td>\n",
       "      <td>1</td>\n",
       "      <td>1</td>\n",
       "    </tr>\n",
       "    <tr>\n",
       "      <th>8503</th>\n",
       "      <td>5</td>\n",
       "      <td>Leichte Eingabe der Daten und schneller…</td>\n",
       "      <td>Leichte Eingabe der Daten und schneller Wechse...</td>\n",
       "      <td>Lieber Trustpilot Nutzer, wir freuen uns sehr...</td>\n",
       "      <td>E.ON Energie Deutschland GmbH</td>\n",
       "      <td>41.0</td>\n",
       "      <td>6</td>\n",
       "      <td>54.0</td>\n",
       "      <td>1.791759</td>\n",
       "      <td>3.713572</td>\n",
       "      <td>3.988984</td>\n",
       "      <td>1.0</td>\n",
       "      <td>1</td>\n",
       "      <td>1</td>\n",
       "    </tr>\n",
       "    <tr>\n",
       "      <th>8504</th>\n",
       "      <td>3</td>\n",
       "      <td>Service ist anscheinend überfordert</td>\n",
       "      <td>Hallo,Leider muss man sich mehr Fach mit dem S...</td>\n",
       "      <td>Lieber Trustpilot Nutzer,  vielen Dank für de...</td>\n",
       "      <td>E.ON Energie Deutschland GmbH</td>\n",
       "      <td>40.0</td>\n",
       "      <td>4</td>\n",
       "      <td>121.0</td>\n",
       "      <td>1.386294</td>\n",
       "      <td>3.688879</td>\n",
       "      <td>4.795791</td>\n",
       "      <td>0.5</td>\n",
       "      <td>1</td>\n",
       "      <td>0</td>\n",
       "    </tr>\n",
       "    <tr>\n",
       "      <th>8505</th>\n",
       "      <td>5</td>\n",
       "      <td>Wenn das so weitergeht mit e-on, bleibe ich se...</td>\n",
       "      <td>Ich bin rundum zufrieden mit e-on. Umzug mit Ü...</td>\n",
       "      <td>Lieber Trustpilot Nutzer, wir freuen uns sehr...</td>\n",
       "      <td>E.ON Energie Deutschland GmbH</td>\n",
       "      <td>39.0</td>\n",
       "      <td>10</td>\n",
       "      <td>54.0</td>\n",
       "      <td>2.302585</td>\n",
       "      <td>3.663562</td>\n",
       "      <td>3.988984</td>\n",
       "      <td>1.0</td>\n",
       "      <td>1</td>\n",
       "      <td>1</td>\n",
       "    </tr>\n",
       "    <tr>\n",
       "      <th>8506</th>\n",
       "      <td>5</td>\n",
       "      <td>eigene Zählerablesung mehrmals im Jahr</td>\n",
       "      <td>Alles korrekt.  Allerdings erscheint bei uns n...</td>\n",
       "      <td>Lieber Trustpilot Nutzer, wir freuen uns sehr...</td>\n",
       "      <td>E.ON Energie Deutschland GmbH</td>\n",
       "      <td>63.0</td>\n",
       "      <td>5</td>\n",
       "      <td>54.0</td>\n",
       "      <td>1.609438</td>\n",
       "      <td>4.143135</td>\n",
       "      <td>3.988984</td>\n",
       "      <td>1.0</td>\n",
       "      <td>1</td>\n",
       "      <td>1</td>\n",
       "    </tr>\n",
       "  </tbody>\n",
       "</table>\n",
       "</div>"
      ],
      "text/plain": [
       "      Stars                                           Headline  \\\n",
       "8502      5                                Korrekte Wiedergabe   \n",
       "8503      5           Leichte Eingabe der Daten und schneller…   \n",
       "8504      3                Service ist anscheinend überfordert   \n",
       "8505      5  Wenn das so weitergeht mit e-on, bleibe ich se...   \n",
       "8506      5             eigene Zählerablesung mehrmals im Jahr   \n",
       "\n",
       "                                                Comment  \\\n",
       "8502  Korrekte Auflistung des Zählerstandes und Verb...   \n",
       "8503  Leichte Eingabe der Daten und schneller Wechse...   \n",
       "8504  Hallo,Leider muss man sich mehr Fach mit dem S...   \n",
       "8505  Ich bin rundum zufrieden mit e-on. Umzug mit Ü...   \n",
       "8506  Alles korrekt.  Allerdings erscheint bei uns n...   \n",
       "\n",
       "                                                 Answer  \\\n",
       "8502   Lieber Trustpilot Nutzer, wir freuen uns sehr...   \n",
       "8503   Lieber Trustpilot Nutzer, wir freuen uns sehr...   \n",
       "8504   Lieber Trustpilot Nutzer,  vielen Dank für de...   \n",
       "8505   Lieber Trustpilot Nutzer, wir freuen uns sehr...   \n",
       "8506   Lieber Trustpilot Nutzer, wir freuen uns sehr...   \n",
       "\n",
       "                            Company  Words_Comment  Words_Headline  \\\n",
       "8502  E.ON Energie Deutschland GmbH           41.0               2   \n",
       "8503  E.ON Energie Deutschland GmbH           41.0               6   \n",
       "8504  E.ON Energie Deutschland GmbH           40.0               4   \n",
       "8505  E.ON Energie Deutschland GmbH           39.0              10   \n",
       "8506  E.ON Energie Deutschland GmbH           63.0               5   \n",
       "\n",
       "      Words_Answer  log_Words_Headline  log_Words_Comment  log_Words_Answer  \\\n",
       "8502          54.0            0.693147           3.713572          3.988984   \n",
       "8503          54.0            1.791759           3.713572          3.988984   \n",
       "8504         121.0            1.386294           3.688879          4.795791   \n",
       "8505          54.0            2.302585           3.663562          3.988984   \n",
       "8506          54.0            1.609438           4.143135          3.988984   \n",
       "\n",
       "      Stars_min_max_scaled  Stars_geq3_TF  Stars_geq4_TF  \n",
       "8502                   1.0              1              1  \n",
       "8503                   1.0              1              1  \n",
       "8504                   0.5              1              0  \n",
       "8505                   1.0              1              1  \n",
       "8506                   1.0              1              1  "
      ]
     },
     "execution_count": 17,
     "metadata": {},
     "output_type": "execute_result"
    }
   ],
   "source": [
    "#select only data from one supplier\n",
    "eon_data = all_data.loc[all_data['Company'] == \"E.ON Energie Deutschland GmbH\"]\n",
    "eon_data.head()"
   ]
  },
  {
   "cell_type": "code",
   "execution_count": 18,
   "id": "6e02b8c2-eddf-4b29-94b4-b032895ef153",
   "metadata": {},
   "outputs": [
    {
     "name": "stdout",
     "output_type": "stream",
     "text": [
      "Index(['Stars', 'Headline', 'Comment', 'Answer', 'Company', 'Words_Comment',\n",
      "       'Words_Headline', 'Words_Answer', 'log_Words_Headline',\n",
      "       'log_Words_Comment', 'log_Words_Answer', 'Stars_min_max_scaled',\n",
      "       'Stars_geq3_TF', 'Stars_geq4_TF'],\n",
      "      dtype='object')\n"
     ]
    }
   ],
   "source": [
    "column_names = eon_data.columns\n",
    "print(column_names)"
   ]
  },
  {
   "cell_type": "code",
   "execution_count": 19,
   "id": "004e046e-04c6-4494-80e1-4c27594bb1d6",
   "metadata": {},
   "outputs": [
    {
     "data": {
      "text/html": [
       "<div>\n",
       "<style scoped>\n",
       "    .dataframe tbody tr th:only-of-type {\n",
       "        vertical-align: middle;\n",
       "    }\n",
       "\n",
       "    .dataframe tbody tr th {\n",
       "        vertical-align: top;\n",
       "    }\n",
       "\n",
       "    .dataframe thead th {\n",
       "        text-align: right;\n",
       "    }\n",
       "</style>\n",
       "<table border=\"1\" class=\"dataframe\">\n",
       "  <thead>\n",
       "    <tr style=\"text-align: right;\">\n",
       "      <th></th>\n",
       "      <th>Comment</th>\n",
       "      <th>log_Words_Headline</th>\n",
       "      <th>log_Words_Comment</th>\n",
       "      <th>log_Words_Answer</th>\n",
       "      <th>Stars_geq4_TF</th>\n",
       "    </tr>\n",
       "  </thead>\n",
       "  <tbody>\n",
       "    <tr>\n",
       "      <th>8502</th>\n",
       "      <td>Korrekte Auflistung des Zählerstandes und Verb...</td>\n",
       "      <td>0.693147</td>\n",
       "      <td>3.713572</td>\n",
       "      <td>3.988984</td>\n",
       "      <td>1</td>\n",
       "    </tr>\n",
       "    <tr>\n",
       "      <th>8503</th>\n",
       "      <td>Leichte Eingabe der Daten und schneller Wechse...</td>\n",
       "      <td>1.791759</td>\n",
       "      <td>3.713572</td>\n",
       "      <td>3.988984</td>\n",
       "      <td>1</td>\n",
       "    </tr>\n",
       "    <tr>\n",
       "      <th>8504</th>\n",
       "      <td>Hallo,Leider muss man sich mehr Fach mit dem S...</td>\n",
       "      <td>1.386294</td>\n",
       "      <td>3.688879</td>\n",
       "      <td>4.795791</td>\n",
       "      <td>0</td>\n",
       "    </tr>\n",
       "    <tr>\n",
       "      <th>8505</th>\n",
       "      <td>Ich bin rundum zufrieden mit e-on. Umzug mit Ü...</td>\n",
       "      <td>2.302585</td>\n",
       "      <td>3.663562</td>\n",
       "      <td>3.988984</td>\n",
       "      <td>1</td>\n",
       "    </tr>\n",
       "    <tr>\n",
       "      <th>8506</th>\n",
       "      <td>Alles korrekt.  Allerdings erscheint bei uns n...</td>\n",
       "      <td>1.609438</td>\n",
       "      <td>4.143135</td>\n",
       "      <td>3.988984</td>\n",
       "      <td>1</td>\n",
       "    </tr>\n",
       "  </tbody>\n",
       "</table>\n",
       "</div>"
      ],
      "text/plain": [
       "                                                Comment  log_Words_Headline  \\\n",
       "8502  Korrekte Auflistung des Zählerstandes und Verb...            0.693147   \n",
       "8503  Leichte Eingabe der Daten und schneller Wechse...            1.791759   \n",
       "8504  Hallo,Leider muss man sich mehr Fach mit dem S...            1.386294   \n",
       "8505  Ich bin rundum zufrieden mit e-on. Umzug mit Ü...            2.302585   \n",
       "8506  Alles korrekt.  Allerdings erscheint bei uns n...            1.609438   \n",
       "\n",
       "      log_Words_Comment  log_Words_Answer  Stars_geq4_TF  \n",
       "8502           3.713572          3.988984              1  \n",
       "8503           3.713572          3.988984              1  \n",
       "8504           3.688879          4.795791              0  \n",
       "8505           3.663562          3.988984              1  \n",
       "8506           4.143135          3.988984              1  "
      ]
     },
     "execution_count": 19,
     "metadata": {},
     "output_type": "execute_result"
    }
   ],
   "source": [
    "# reduce features, so we keep 'Stars' as target\n",
    "# and drop all columns except 'Company', 'Words_Headline', 'Words_Comment', 'Words_Answer', 'Response_time'\n",
    "\n",
    "eon = eon_data.drop(['Stars', 'Headline', 'Answer', 'Company', 'Words_Comment',\n",
    "       'Words_Headline', 'Words_Answer', 'Stars_min_max_scaled', 'Stars_geq3_TF'], axis=1)\n",
    "eon.head()"
   ]
  },
  {
   "cell_type": "code",
   "execution_count": 20,
   "id": "a1a2357e-8ff1-44db-bdcd-9c7faecd5d78",
   "metadata": {},
   "outputs": [
    {
     "name": "stdout",
     "output_type": "stream",
     "text": [
      "<class 'pandas.core.frame.DataFrame'>\n",
      "Index: 4965 entries, 8502 to 13466\n",
      "Data columns (total 5 columns):\n",
      " #   Column              Non-Null Count  Dtype  \n",
      "---  ------              --------------  -----  \n",
      " 0   Comment             4965 non-null   object \n",
      " 1   log_Words_Headline  4965 non-null   float64\n",
      " 2   log_Words_Comment   4965 non-null   float64\n",
      " 3   log_Words_Answer    4965 non-null   float64\n",
      " 4   Stars_geq4_TF       4965 non-null   int64  \n",
      "dtypes: float64(3), int64(1), object(1)\n",
      "memory usage: 232.7+ KB\n"
     ]
    }
   ],
   "source": [
    "eon.info()\n",
    "# there are no missing values"
   ]
  },
  {
   "cell_type": "code",
   "execution_count": 21,
   "id": "4e8d76d2-b3d5-4ef1-b034-93ae28669fe4",
   "metadata": {},
   "outputs": [
    {
     "data": {
      "text/plain": [
       "0"
      ]
     },
     "execution_count": 21,
     "metadata": {},
     "output_type": "execute_result"
    }
   ],
   "source": [
    "eon.isna().sum().sum() # no missing values"
   ]
  },
  {
   "cell_type": "code",
   "execution_count": 22,
   "id": "2b708c2b-2603-4d5b-8c91-bdcbfe5f1639",
   "metadata": {},
   "outputs": [
    {
     "data": {
      "text/html": [
       "<div>\n",
       "<style scoped>\n",
       "    .dataframe tbody tr th:only-of-type {\n",
       "        vertical-align: middle;\n",
       "    }\n",
       "\n",
       "    .dataframe tbody tr th {\n",
       "        vertical-align: top;\n",
       "    }\n",
       "\n",
       "    .dataframe thead th {\n",
       "        text-align: right;\n",
       "    }\n",
       "</style>\n",
       "<table border=\"1\" class=\"dataframe\">\n",
       "  <thead>\n",
       "    <tr style=\"text-align: right;\">\n",
       "      <th></th>\n",
       "      <th>log_Words_Headline</th>\n",
       "      <th>log_Words_Comment</th>\n",
       "      <th>log_Words_Answer</th>\n",
       "      <th>Stars_geq4_TF</th>\n",
       "    </tr>\n",
       "  </thead>\n",
       "  <tbody>\n",
       "    <tr>\n",
       "      <th>count</th>\n",
       "      <td>4965.000000</td>\n",
       "      <td>4965.000000</td>\n",
       "      <td>4965.000000</td>\n",
       "      <td>4965.000000</td>\n",
       "    </tr>\n",
       "    <tr>\n",
       "      <th>mean</th>\n",
       "      <td>1.223826</td>\n",
       "      <td>2.693387</td>\n",
       "      <td>4.228546</td>\n",
       "      <td>0.696475</td>\n",
       "    </tr>\n",
       "    <tr>\n",
       "      <th>std</th>\n",
       "      <td>0.626037</td>\n",
       "      <td>1.015197</td>\n",
       "      <td>0.369520</td>\n",
       "      <td>0.459826</td>\n",
       "    </tr>\n",
       "    <tr>\n",
       "      <th>min</th>\n",
       "      <td>0.000000</td>\n",
       "      <td>0.000000</td>\n",
       "      <td>3.912023</td>\n",
       "      <td>0.000000</td>\n",
       "    </tr>\n",
       "    <tr>\n",
       "      <th>25%</th>\n",
       "      <td>0.693147</td>\n",
       "      <td>1.945910</td>\n",
       "      <td>3.988984</td>\n",
       "      <td>0.000000</td>\n",
       "    </tr>\n",
       "    <tr>\n",
       "      <th>50%</th>\n",
       "      <td>1.386294</td>\n",
       "      <td>2.564949</td>\n",
       "      <td>3.988984</td>\n",
       "      <td>1.000000</td>\n",
       "    </tr>\n",
       "    <tr>\n",
       "      <th>75%</th>\n",
       "      <td>1.609438</td>\n",
       "      <td>3.367296</td>\n",
       "      <td>4.795791</td>\n",
       "      <td>1.000000</td>\n",
       "    </tr>\n",
       "    <tr>\n",
       "      <th>max</th>\n",
       "      <td>3.761200</td>\n",
       "      <td>6.563856</td>\n",
       "      <td>4.795791</td>\n",
       "      <td>1.000000</td>\n",
       "    </tr>\n",
       "  </tbody>\n",
       "</table>\n",
       "</div>"
      ],
      "text/plain": [
       "       log_Words_Headline  log_Words_Comment  log_Words_Answer  Stars_geq4_TF\n",
       "count         4965.000000        4965.000000       4965.000000    4965.000000\n",
       "mean             1.223826           2.693387          4.228546       0.696475\n",
       "std              0.626037           1.015197          0.369520       0.459826\n",
       "min              0.000000           0.000000          3.912023       0.000000\n",
       "25%              0.693147           1.945910          3.988984       0.000000\n",
       "50%              1.386294           2.564949          3.988984       1.000000\n",
       "75%              1.609438           3.367296          4.795791       1.000000\n",
       "max              3.761200           6.563856          4.795791       1.000000"
      ]
     },
     "execution_count": 22,
     "metadata": {},
     "output_type": "execute_result"
    }
   ],
   "source": [
    "eon.describe()"
   ]
  },
  {
   "cell_type": "code",
   "execution_count": 23,
   "id": "2116769c-c8da-4ed5-b1ce-8e840effdb4c",
   "metadata": {},
   "outputs": [],
   "source": [
    "#reset index\n",
    "eon.reset_index(drop=True, inplace=True) #drop=True - no new ID column inserted"
   ]
  },
  {
   "cell_type": "markdown",
   "id": "6bf85c5a-62f2-44b8-a01f-6e7f65621509",
   "metadata": {
    "tags": []
   },
   "source": [
    "### Target Information"
   ]
  },
  {
   "cell_type": "code",
   "execution_count": 25,
   "id": "dbe90e3e-a9ec-4cac-a57a-d107e8719e37",
   "metadata": {},
   "outputs": [
    {
     "data": {
      "image/png": "[encoded data removed]",
      "text/plain": [
       "<Figure size 640x480 with 1 Axes>"
      ]
     },
     "metadata": {},
     "output_type": "display_data"
    }
   ],
   "source": [
    "#plot distribution\n",
    "plt.title(\"Distribution of star ratings\")\n",
    "sns.countplot(x='Stars_geq4_TF', data=eon); "
   ]
  },
  {
   "cell_type": "markdown",
   "id": "afc5f84c-c17d-4b97-b9e9-2be5fcb99c8f",
   "metadata": {},
   "source": [
    "The data set is still imbalanced but we have now a binary classification problem, with the positive ratings 4 and 5 stars as the dominant class 1 and the lower star ratings 1 to 3 as class 0."
   ]
  },
  {
   "cell_type": "code",
   "execution_count": 27,
   "id": "53e1d61f-0b89-48f5-bb8a-4a021b6afdc2",
   "metadata": {},
   "outputs": [
    {
     "data": {
      "text/plain": [
       "Stars_geq4_TF\n",
       "1    3458\n",
       "0    1507\n",
       "Name: count, dtype: int64"
      ]
     },
     "execution_count": 27,
     "metadata": {},
     "output_type": "execute_result"
    }
   ],
   "source": [
    "#unique values\n",
    "eon['Stars_geq4_TF'].value_counts()"
   ]
  },
  {
   "cell_type": "code",
   "execution_count": 28,
   "id": "bdc16c09-23bd-4b70-baab-3c6d0fba1a16",
   "metadata": {},
   "outputs": [
    {
     "data": {
      "text/plain": [
       "Stars_geq4_TF\n",
       "1    0.696475\n",
       "0    0.303525\n",
       "Name: proportion, dtype: float64"
      ]
     },
     "execution_count": 28,
     "metadata": {},
     "output_type": "execute_result"
    }
   ],
   "source": [
    "#unique values of 'Stars' in percentage\n",
    "eon['Stars_geq4_TF'].value_counts(normalize=True)\n"
   ]
  },
  {
   "cell_type": "markdown",
   "id": "2f919c81-ace5-4ed2-965f-4222783a9f2b",
   "metadata": {},
   "source": [
    "The target variable 'Stars_geq4_TF' is not evenly distributed in the E.ON feedback:\n",
    " - Nearly 70 % of the customer comments are 4 or 5-star ratings, \n",
    " - 30% go to 1- to 3-star ratings."
   ]
  },
  {
   "cell_type": "code",
   "execution_count": 30,
   "id": "d761bbe6-720b-4df3-aa0a-48067a1c7e78",
   "metadata": {},
   "outputs": [
    {
     "data": {
      "image/png": "[encoded data removed]",
      "text/plain": [
       "<Figure size 600x600 with 2 Axes>"
      ]
     },
     "metadata": {},
     "output_type": "display_data"
    }
   ],
   "source": [
    "#check correlation of features with heatmap\n",
    "# select data\n",
    "cor_data =eon.drop(['Comment'], axis=1)\n",
    "\n",
    "cor = cor_data.corr()\n",
    "\n",
    "#Heatmap\n",
    "f, ax = plt.subplots(figsize = (6,6))\n",
    "sns.heatmap(cor, annot= True, ax=ax, cmap= 'coolwarm', annot_kws={'fontsize': 12, 'fontweight': 'bold'})\n",
    "plt.title('Correlation heatmap', fontsize= 14 )\n",
    "plt.xticks(rotation= 30, ha='right')\n",
    "plt.yticks(rotation = 0)\n",
    "plt.xticks(fontsize= 10)\n",
    "plt.yticks(fontsize=10)\n",
    "plt.show();\n",
    "\n",
    "\n",
    "# Interpretation:\n",
    "# Red colors indicate a high positive correlation between the variables.\n",
    "# Blue colors show a poor and even negative correlation correlation."
   ]
  },
  {
   "cell_type": "markdown",
   "id": "f42856ed-8f3f-47a5-b269-2c65f2481ea5",
   "metadata": {
    "tags": []
   },
   "source": [
    "### Treatment of Outliers"
   ]
  },
  {
   "attachments": {},
   "cell_type": "markdown",
   "id": "0a5979ed-f65b-4906-abc8-926a780f2b18",
   "metadata": {},
   "source": [
    "In the distribution of our main variables, there are a few data points which have extreme values. In order to identify the outliers we have to decide first, if we have a normal distribution or not:\n",
    "\n",
    " - In case of standard distribution (KDE plot): Anything outside of 3 standard deviations can be considered as outlier.\n",
    " - In case of a skewed distribution (box plot) we look at the inter-quartile range (IQR): Data points below Q1 - 1.5 * IQR or above Q3 + 1.5 * IQR can be considered as outliers.\n",
    "\n",
    "Link: Dey, Akash: How to handle outliers, Feb 2022: https://www.kaggle.com/code/aimack/how-to-handle-outliers/notebook"
   ]
  },
  {
   "cell_type": "markdown",
   "id": "26b95f58-3f0a-41ba-b810-273f11bc6491",
   "metadata": {
    "jp-MarkdownHeadingCollapsed": true
   },
   "source": [
    "#### log_Words_Headline"
   ]
  },
  {
   "cell_type": "code",
   "execution_count": 34,
   "id": "92c40111-85c5-4beb-8a1f-9c6d9d3fbd33",
   "metadata": {},
   "outputs": [
    {
     "data": {
      "image/png": "[encoded data removed]",
      "text/plain": [
       "<Figure size 800x500 with 2 Axes>"
      ]
     },
     "metadata": {},
     "output_type": "display_data"
    }
   ],
   "source": [
    "#plot distribution before Capping\n",
    "plt.figure(figsize=(8,5))\n",
    "plt.suptitle(\"Distribution before Capping\", fontsize=14)\n",
    "plt.subplot(1,2,1)\n",
    "sns.kdeplot(x= 'log_Words_Headline', data = eon)\n",
    "plt.subplot(1,2,2)\n",
    "sns.boxplot(y= 'log_Words_Headline', data = eon)\n",
    "plt.tight_layout()\n",
    "plt.show()"
   ]
  },
  {
   "cell_type": "code",
   "execution_count": 35,
   "id": "ad09f05e-6c2e-40a3-a21a-51aa3cb7240d",
   "metadata": {},
   "outputs": [
    {
     "name": "stdout",
     "output_type": "stream",
     "text": [
      "For 'log_Words_Headline': Q1(25% percentile) equals  0.6931471805599453  and Q3(75% percentile) equals  1.6094379124341005\n",
      "For 'log_Words_Headline': IQR equals  0.916\n",
      "For 'log_Words_Headline': max limit equals  2.984\n",
      "For 'log_Words_Headline': min limit equals  -0.681\n"
     ]
    }
   ],
   "source": [
    "#Finding the Q1(25% percentile) and Q3(75% percentile)\n",
    "s_q1 = eon[\"log_Words_Headline\"].quantile(0.25)\n",
    "s_q3 = eon[\"log_Words_Headline\"].quantile(0.75)\n",
    "print(\"For 'log_Words_Headline': Q1(25% percentile) equals \", s_q1, \" and Q3(75% percentile) equals \", s_q3)\n",
    "\n",
    "#Finding out the value of the Inter Quartile Range\n",
    "s_IQR = s_q3 - s_q1\n",
    "print(\"For 'log_Words_Headline': IQR equals \", round(s_IQR, 3))\n",
    "\n",
    "#Defining max and min limits\n",
    "s_max_limit = s_q3 + (1.5 * s_IQR)\n",
    "s_min_limit = s_q1 - (1.5 * s_IQR) \n",
    "print(\"For 'log_Words_Headline': max limit equals \", round(s_max_limit, 3)) # round to 0 digits for word count\n",
    "print(\"For 'log_Words_Headline': min limit equals \", round(s_min_limit, 3))"
   ]
  },
  {
   "cell_type": "code",
   "execution_count": 36,
   "id": "f8b6f311-4f3e-4358-ae83-b4daa490fb9d",
   "metadata": {},
   "outputs": [
    {
     "data": {
      "text/html": [
       "<div>\n",
       "<style scoped>\n",
       "    .dataframe tbody tr th:only-of-type {\n",
       "        vertical-align: middle;\n",
       "    }\n",
       "\n",
       "    .dataframe tbody tr th {\n",
       "        vertical-align: top;\n",
       "    }\n",
       "\n",
       "    .dataframe thead th {\n",
       "        text-align: right;\n",
       "    }\n",
       "</style>\n",
       "<table border=\"1\" class=\"dataframe\">\n",
       "  <thead>\n",
       "    <tr style=\"text-align: right;\">\n",
       "      <th></th>\n",
       "      <th>Comment</th>\n",
       "      <th>log_Words_Headline</th>\n",
       "      <th>log_Words_Comment</th>\n",
       "      <th>log_Words_Answer</th>\n",
       "      <th>Stars_geq4_TF</th>\n",
       "    </tr>\n",
       "  </thead>\n",
       "  <tbody>\n",
       "    <tr>\n",
       "      <th>413</th>\n",
       "      <td>Wenn man einmal angemeldet ist funktioniert es...</td>\n",
       "      <td>3.178054</td>\n",
       "      <td>2.890372</td>\n",
       "      <td>3.988984</td>\n",
       "      <td>1</td>\n",
       "    </tr>\n",
       "    <tr>\n",
       "      <th>3310</th>\n",
       "      <td>In der Vergangenheit konnte ich mich immer auf...</td>\n",
       "      <td>3.178054</td>\n",
       "      <td>4.852030</td>\n",
       "      <td>3.988984</td>\n",
       "      <td>1</td>\n",
       "    </tr>\n",
       "    <tr>\n",
       "      <th>3995</th>\n",
       "      <td>Nach anfänglichen Schwierigkeiten im Service P...</td>\n",
       "      <td>3.761200</td>\n",
       "      <td>3.912023</td>\n",
       "      <td>3.988984</td>\n",
       "      <td>1</td>\n",
       "    </tr>\n",
       "    <tr>\n",
       "      <th>4157</th>\n",
       "      <td>Nicht gefallen hat mir, dass der Gaspreis extr...</td>\n",
       "      <td>3.526361</td>\n",
       "      <td>3.713572</td>\n",
       "      <td>4.795791</td>\n",
       "      <td>0</td>\n",
       "    </tr>\n",
       "    <tr>\n",
       "      <th>4286</th>\n",
       "      <td>Super App guter Aufbau</td>\n",
       "      <td>3.091042</td>\n",
       "      <td>1.386294</td>\n",
       "      <td>3.988984</td>\n",
       "      <td>1</td>\n",
       "    </tr>\n",
       "    <tr>\n",
       "      <th>4612</th>\n",
       "      <td>Die Seiten im Netz sind übersichtlich und gut ...</td>\n",
       "      <td>3.295837</td>\n",
       "      <td>2.197225</td>\n",
       "      <td>3.988984</td>\n",
       "      <td>1</td>\n",
       "    </tr>\n",
       "  </tbody>\n",
       "</table>\n",
       "</div>"
      ],
      "text/plain": [
       "                                                Comment  log_Words_Headline  \\\n",
       "413   Wenn man einmal angemeldet ist funktioniert es...            3.178054   \n",
       "3310  In der Vergangenheit konnte ich mich immer auf...            3.178054   \n",
       "3995  Nach anfänglichen Schwierigkeiten im Service P...            3.761200   \n",
       "4157  Nicht gefallen hat mir, dass der Gaspreis extr...            3.526361   \n",
       "4286                             Super App guter Aufbau            3.091042   \n",
       "4612  Die Seiten im Netz sind übersichtlich und gut ...            3.295837   \n",
       "\n",
       "      log_Words_Comment  log_Words_Answer  Stars_geq4_TF  \n",
       "413            2.890372          3.988984              1  \n",
       "3310           4.852030          3.988984              1  \n",
       "3995           3.912023          3.988984              1  \n",
       "4157           3.713572          4.795791              0  \n",
       "4286           1.386294          3.988984              1  \n",
       "4612           2.197225          3.988984              1  "
      ]
     },
     "execution_count": 36,
     "metadata": {},
     "output_type": "execute_result"
    }
   ],
   "source": [
    "## Identifkation of extreme values for 'log_Words_Headline'\n",
    "# some data points are above the max limit (upper whisker) of upper quartile\n",
    "# max limit calculated as 3.0\n",
    "eon.query(\"log_Words_Headline >2.98\") # 6 rows"
   ]
  },
  {
   "cell_type": "code",
   "execution_count": 37,
   "id": "bc80d44d-747e-46c5-b015-b611c132bb89",
   "metadata": {},
   "outputs": [
    {
     "data": {
      "text/html": [
       "<div>\n",
       "<style scoped>\n",
       "    .dataframe tbody tr th:only-of-type {\n",
       "        vertical-align: middle;\n",
       "    }\n",
       "\n",
       "    .dataframe tbody tr th {\n",
       "        vertical-align: top;\n",
       "    }\n",
       "\n",
       "    .dataframe thead th {\n",
       "        text-align: right;\n",
       "    }\n",
       "</style>\n",
       "<table border=\"1\" class=\"dataframe\">\n",
       "  <thead>\n",
       "    <tr style=\"text-align: right;\">\n",
       "      <th></th>\n",
       "      <th>log_Words_Headline_new</th>\n",
       "    </tr>\n",
       "  </thead>\n",
       "  <tbody>\n",
       "    <tr>\n",
       "      <th>0</th>\n",
       "      <td>0.693147</td>\n",
       "    </tr>\n",
       "    <tr>\n",
       "      <th>1</th>\n",
       "      <td>1.791759</td>\n",
       "    </tr>\n",
       "    <tr>\n",
       "      <th>2</th>\n",
       "      <td>1.386294</td>\n",
       "    </tr>\n",
       "    <tr>\n",
       "      <th>3</th>\n",
       "      <td>2.302585</td>\n",
       "    </tr>\n",
       "    <tr>\n",
       "      <th>4</th>\n",
       "      <td>1.609438</td>\n",
       "    </tr>\n",
       "  </tbody>\n",
       "</table>\n",
       "</div>"
      ],
      "text/plain": [
       "   log_Words_Headline_new\n",
       "0                0.693147\n",
       "1                1.791759\n",
       "2                1.386294\n",
       "3                2.302585\n",
       "4                1.609438"
      ]
     },
     "execution_count": 37,
     "metadata": {},
     "output_type": "execute_result"
    }
   ],
   "source": [
    "#capping and storing the values into a new df\n",
    "headline_new = pd.DataFrame(np.where(eon[\"log_Words_Headline\"] > s_max_limit, np.round(s_max_limit, 3), \n",
    "         (np.where(eon[\"log_Words_Headline\"] < s_min_limit, np.round(s_min_limit, 3), eon[\"log_Words_Headline\"]))\n",
    "                                    ), columns=[\"log_Words_Headline_new\"])\n",
    "\n",
    "headline_new.head()"
   ]
  },
  {
   "cell_type": "code",
   "execution_count": 38,
   "id": "dd5af32a-cd60-4600-b387-097d39223ab7",
   "metadata": {},
   "outputs": [
    {
     "data": {
      "image/png": "[encoded data removed]",
      "text/plain": [
       "<Figure size 800x500 with 2 Axes>"
      ]
     },
     "metadata": {},
     "output_type": "display_data"
    }
   ],
   "source": [
    "#plot after capping\n",
    "plt.figure(figsize=(8,5))\n",
    "plt.suptitle(\"Distribution after Capping\",fontsize=14)\n",
    "plt.subplot(1,2,1)\n",
    "sns.kdeplot(x='log_Words_Headline_new', data = headline_new)\n",
    "plt.subplot(1,2,2)\n",
    "sns.boxplot(y='log_Words_Headline_new', data = headline_new)\n",
    "plt.tight_layout()\n",
    "plt.show()"
   ]
  },
  {
   "cell_type": "code",
   "execution_count": 39,
   "id": "81c8a7e9-ecad-4662-921c-e516981cf650",
   "metadata": {},
   "outputs": [
    {
     "data": {
      "text/html": [
       "<div>\n",
       "<style scoped>\n",
       "    .dataframe tbody tr th:only-of-type {\n",
       "        vertical-align: middle;\n",
       "    }\n",
       "\n",
       "    .dataframe tbody tr th {\n",
       "        vertical-align: top;\n",
       "    }\n",
       "\n",
       "    .dataframe thead th {\n",
       "        text-align: right;\n",
       "    }\n",
       "</style>\n",
       "<table border=\"1\" class=\"dataframe\">\n",
       "  <thead>\n",
       "    <tr style=\"text-align: right;\">\n",
       "      <th></th>\n",
       "      <th>Comment</th>\n",
       "      <th>log_Words_Headline</th>\n",
       "      <th>log_Words_Comment</th>\n",
       "      <th>log_Words_Answer</th>\n",
       "      <th>Stars_geq4_TF</th>\n",
       "    </tr>\n",
       "  </thead>\n",
       "  <tbody>\n",
       "    <tr>\n",
       "      <th>413</th>\n",
       "      <td>Wenn man einmal angemeldet ist funktioniert es...</td>\n",
       "      <td>2.984</td>\n",
       "      <td>2.890372</td>\n",
       "      <td>3.988984</td>\n",
       "      <td>1</td>\n",
       "    </tr>\n",
       "  </tbody>\n",
       "</table>\n",
       "</div>"
      ],
      "text/plain": [
       "                                               Comment  log_Words_Headline  \\\n",
       "413  Wenn man einmal angemeldet ist funktioniert es...               2.984   \n",
       "\n",
       "     log_Words_Comment  log_Words_Answer  Stars_geq4_TF  \n",
       "413           2.890372          3.988984              1  "
      ]
     },
     "execution_count": 39,
     "metadata": {},
     "output_type": "execute_result"
    }
   ],
   "source": [
    "#perform capping = replace columns\n",
    "eon['log_Words_Headline'] = headline_new['log_Words_Headline_new']\n",
    "\n",
    "eon.loc[[413]] #show capped value examples"
   ]
  },
  {
   "cell_type": "markdown",
   "id": "9a453d29-5b70-41e9-b1a9-3d0fe3ad655a",
   "metadata": {
    "jp-MarkdownHeadingCollapsed": true
   },
   "source": [
    "#### log_Words_Comment"
   ]
  },
  {
   "cell_type": "code",
   "execution_count": 41,
   "id": "29341996-6a3f-4c05-ab3a-1216645bdc32",
   "metadata": {},
   "outputs": [
    {
     "data": {
      "image/png": "[encoded data removed]",
      "text/plain": [
       "<Figure size 800x500 with 2 Axes>"
      ]
     },
     "metadata": {},
     "output_type": "display_data"
    }
   ],
   "source": [
    "#plot distribution before Capping\n",
    "plt.figure(figsize=(8,5))\n",
    "plt.suptitle(\"Distribution before Capping\", fontsize=14)\n",
    "plt.subplot(1,2,1)\n",
    "sns.kdeplot(x= 'log_Words_Comment', data = eon)\n",
    "plt.subplot(1,2,2)\n",
    "sns.boxplot(y= 'log_Words_Comment', data = eon)\n",
    "plt.tight_layout()\n",
    "plt.show()"
   ]
  },
  {
   "cell_type": "code",
   "execution_count": 42,
   "id": "6d436376-e2b5-4edc-bafb-78f392390fe3",
   "metadata": {},
   "outputs": [
    {
     "name": "stdout",
     "output_type": "stream",
     "text": [
      "For 'log_Words_Comment': Q1(25% percentile) equals  1.9459101490553128  and Q3(75% percentile) equals  3.367295829986474\n",
      "For 'log_Words_Comment': IQR equals  1.421\n",
      "For 'log_Words_Comment': max limit equals  5.499\n",
      "For 'log_Words_Comment': min limit equals  -0.186\n"
     ]
    }
   ],
   "source": [
    "#Finding the Q1(25% percentile) and Q3(75% percentile)\n",
    "s_q1 = eon[\"log_Words_Comment\"].quantile(0.25)\n",
    "s_q3 = eon[\"log_Words_Comment\"].quantile(0.75)\n",
    "print(\"For 'log_Words_Comment': Q1(25% percentile) equals \", s_q1, \" and Q3(75% percentile) equals \", s_q3)\n",
    "\n",
    "#Finding out the value of the Inter Quartile Range\n",
    "s_IQR = s_q3 - s_q1\n",
    "print(\"For 'log_Words_Comment': IQR equals \", round(s_IQR, 3))\n",
    "\n",
    "#Defining max and min limits\n",
    "s_max_limit = s_q3 + (1.5 * s_IQR)\n",
    "s_min_limit = s_q1 - (1.5 * s_IQR) \n",
    "print(\"For 'log_Words_Comment': max limit equals \", round(s_max_limit, 3)) #round to 0 for words\n",
    "print(\"For 'log_Words_Comment': min limit equals \", round(s_min_limit, 3))"
   ]
  },
  {
   "cell_type": "code",
   "execution_count": 43,
   "id": "e609133c-0bc5-42fc-84a2-b659dfc8011e",
   "metadata": {},
   "outputs": [
    {
     "data": {
      "text/html": [
       "<div>\n",
       "<style scoped>\n",
       "    .dataframe tbody tr th:only-of-type {\n",
       "        vertical-align: middle;\n",
       "    }\n",
       "\n",
       "    .dataframe tbody tr th {\n",
       "        vertical-align: top;\n",
       "    }\n",
       "\n",
       "    .dataframe thead th {\n",
       "        text-align: right;\n",
       "    }\n",
       "</style>\n",
       "<table border=\"1\" class=\"dataframe\">\n",
       "  <thead>\n",
       "    <tr style=\"text-align: right;\">\n",
       "      <th></th>\n",
       "      <th>Comment</th>\n",
       "      <th>log_Words_Headline</th>\n",
       "      <th>log_Words_Comment</th>\n",
       "      <th>log_Words_Answer</th>\n",
       "      <th>Stars_geq4_TF</th>\n",
       "    </tr>\n",
       "  </thead>\n",
       "  <tbody>\n",
       "    <tr>\n",
       "      <th>67</th>\n",
       "      <td>Eon, da wirst Du über den Tisch gezogen!Vor ca...</td>\n",
       "      <td>1.945910</td>\n",
       "      <td>5.872118</td>\n",
       "      <td>4.795791</td>\n",
       "      <td>0</td>\n",
       "    </tr>\n",
       "    <tr>\n",
       "      <th>271</th>\n",
       "      <td>Ich war bis 31.05.2023 Abnehmer von eon Strom....</td>\n",
       "      <td>1.386294</td>\n",
       "      <td>5.680173</td>\n",
       "      <td>4.795791</td>\n",
       "      <td>0</td>\n",
       "    </tr>\n",
       "    <tr>\n",
       "      <th>308</th>\n",
       "      <td>Es ist Ende August und ich warte immer noch au...</td>\n",
       "      <td>0.693147</td>\n",
       "      <td>5.948035</td>\n",
       "      <td>4.795791</td>\n",
       "      <td>0</td>\n",
       "    </tr>\n",
       "    <tr>\n",
       "      <th>549</th>\n",
       "      <td>Ich hatte ein gutes Angebot für die Stromverso...</td>\n",
       "      <td>0.693147</td>\n",
       "      <td>5.609472</td>\n",
       "      <td>4.795791</td>\n",
       "      <td>0</td>\n",
       "    </tr>\n",
       "    <tr>\n",
       "      <th>896</th>\n",
       "      <td>Ich bin jetzt mittlerweile 3 Jahre Kunde bei E...</td>\n",
       "      <td>1.609438</td>\n",
       "      <td>5.501258</td>\n",
       "      <td>4.795791</td>\n",
       "      <td>0</td>\n",
       "    </tr>\n",
       "    <tr>\n",
       "      <th>1014</th>\n",
       "      <td>Hallo,Ich nehme Bezug auf mein Telefonat von 0...</td>\n",
       "      <td>0.000000</td>\n",
       "      <td>6.120297</td>\n",
       "      <td>4.795791</td>\n",
       "      <td>0</td>\n",
       "    </tr>\n",
       "    <tr>\n",
       "      <th>1172</th>\n",
       "      <td>Die schlimmste Firma in der ganzen Welt. Ich m...</td>\n",
       "      <td>1.945910</td>\n",
       "      <td>5.525453</td>\n",
       "      <td>4.795791</td>\n",
       "      <td>0</td>\n",
       "    </tr>\n",
       "    <tr>\n",
       "      <th>1493</th>\n",
       "      <td>Ende April haben wir unseren alten Gasvertrag ...</td>\n",
       "      <td>0.693147</td>\n",
       "      <td>6.525030</td>\n",
       "      <td>4.795791</td>\n",
       "      <td>0</td>\n",
       "    </tr>\n",
       "    <tr>\n",
       "      <th>1612</th>\n",
       "      <td>Ich musste Eon gezwungenermaßen nehmen, weil i...</td>\n",
       "      <td>1.386294</td>\n",
       "      <td>5.641907</td>\n",
       "      <td>4.795791</td>\n",
       "      <td>0</td>\n",
       "    </tr>\n",
       "    <tr>\n",
       "      <th>1624</th>\n",
       "      <td>Ich habe bislang nur negative Erfahrungen mit ...</td>\n",
       "      <td>0.693147</td>\n",
       "      <td>5.505332</td>\n",
       "      <td>4.795791</td>\n",
       "      <td>0</td>\n",
       "    </tr>\n",
       "    <tr>\n",
       "      <th>1769</th>\n",
       "      <td>Hier scheint es noch massive Probleme bei Wohn...</td>\n",
       "      <td>1.945910</td>\n",
       "      <td>6.563856</td>\n",
       "      <td>4.795791</td>\n",
       "      <td>0</td>\n",
       "    </tr>\n",
       "    <tr>\n",
       "      <th>2565</th>\n",
       "      <td>Wie man als Vermieter einfach auf einen Zähler...</td>\n",
       "      <td>1.945910</td>\n",
       "      <td>5.509388</td>\n",
       "      <td>4.795791</td>\n",
       "      <td>0</td>\n",
       "    </tr>\n",
       "    <tr>\n",
       "      <th>2959</th>\n",
       "      <td>Ich warte nun schon 2,5 Monate auf die Korrekt...</td>\n",
       "      <td>2.397895</td>\n",
       "      <td>6.163315</td>\n",
       "      <td>4.795791</td>\n",
       "      <td>0</td>\n",
       "    </tr>\n",
       "    <tr>\n",
       "      <th>3139</th>\n",
       "      <td>Ich habe mein Haus im Trierer Raum verkauft un...</td>\n",
       "      <td>2.890372</td>\n",
       "      <td>6.359574</td>\n",
       "      <td>4.795791</td>\n",
       "      <td>0</td>\n",
       "    </tr>\n",
       "    <tr>\n",
       "      <th>3453</th>\n",
       "      <td>Wir hatten in den letzten Monaten Probleme mit...</td>\n",
       "      <td>1.098612</td>\n",
       "      <td>5.998937</td>\n",
       "      <td>4.795791</td>\n",
       "      <td>0</td>\n",
       "    </tr>\n",
       "    <tr>\n",
       "      <th>3487</th>\n",
       "      <td>Die Firma e.on, ist in unserer Gemeinde der Gr...</td>\n",
       "      <td>1.609438</td>\n",
       "      <td>6.467699</td>\n",
       "      <td>4.795791</td>\n",
       "      <td>0</td>\n",
       "    </tr>\n",
       "    <tr>\n",
       "      <th>3743</th>\n",
       "      <td>Was ist das hier gerade für eine Schei*e gewes...</td>\n",
       "      <td>1.609438</td>\n",
       "      <td>5.929589</td>\n",
       "      <td>4.795791</td>\n",
       "      <td>0</td>\n",
       "    </tr>\n",
       "    <tr>\n",
       "      <th>3864</th>\n",
       "      <td>Ich bin seit 2 Jahren Strom-Kunde von eon und ...</td>\n",
       "      <td>2.397895</td>\n",
       "      <td>6.033086</td>\n",
       "      <td>4.795791</td>\n",
       "      <td>0</td>\n",
       "    </tr>\n",
       "    <tr>\n",
       "      <th>3983</th>\n",
       "      <td>Ich warte seit 10/22 auf meine Gasabrechnung, ...</td>\n",
       "      <td>1.609438</td>\n",
       "      <td>5.774552</td>\n",
       "      <td>4.795791</td>\n",
       "      <td>0</td>\n",
       "    </tr>\n",
       "    <tr>\n",
       "      <th>4380</th>\n",
       "      <td>...und zwar Alles. Es kommt für uns erst gar k...</td>\n",
       "      <td>0.693147</td>\n",
       "      <td>5.505332</td>\n",
       "      <td>4.795791</td>\n",
       "      <td>0</td>\n",
       "    </tr>\n",
       "    <tr>\n",
       "      <th>4424</th>\n",
       "      <td>Würde es gehen hätte ich keinen Stern vergeben...</td>\n",
       "      <td>1.945910</td>\n",
       "      <td>5.811141</td>\n",
       "      <td>4.795791</td>\n",
       "      <td>0</td>\n",
       "    </tr>\n",
       "    <tr>\n",
       "      <th>4836</th>\n",
       "      <td>Kundenservice unterirdisch!!! Telefonische Ans...</td>\n",
       "      <td>0.693147</td>\n",
       "      <td>5.857933</td>\n",
       "      <td>4.795791</td>\n",
       "      <td>0</td>\n",
       "    </tr>\n",
       "    <tr>\n",
       "      <th>4958</th>\n",
       "      <td>Ich bin so dermaßen enttäuscht von diesem namh...</td>\n",
       "      <td>2.079442</td>\n",
       "      <td>5.802118</td>\n",
       "      <td>4.795791</td>\n",
       "      <td>0</td>\n",
       "    </tr>\n",
       "  </tbody>\n",
       "</table>\n",
       "</div>"
      ],
      "text/plain": [
       "                                                Comment  log_Words_Headline  \\\n",
       "67    Eon, da wirst Du über den Tisch gezogen!Vor ca...            1.945910   \n",
       "271   Ich war bis 31.05.2023 Abnehmer von eon Strom....            1.386294   \n",
       "308   Es ist Ende August und ich warte immer noch au...            0.693147   \n",
       "549   Ich hatte ein gutes Angebot für die Stromverso...            0.693147   \n",
       "896   Ich bin jetzt mittlerweile 3 Jahre Kunde bei E...            1.609438   \n",
       "1014  Hallo,Ich nehme Bezug auf mein Telefonat von 0...            0.000000   \n",
       "1172  Die schlimmste Firma in der ganzen Welt. Ich m...            1.945910   \n",
       "1493  Ende April haben wir unseren alten Gasvertrag ...            0.693147   \n",
       "1612  Ich musste Eon gezwungenermaßen nehmen, weil i...            1.386294   \n",
       "1624  Ich habe bislang nur negative Erfahrungen mit ...            0.693147   \n",
       "1769  Hier scheint es noch massive Probleme bei Wohn...            1.945910   \n",
       "2565  Wie man als Vermieter einfach auf einen Zähler...            1.945910   \n",
       "2959  Ich warte nun schon 2,5 Monate auf die Korrekt...            2.397895   \n",
       "3139  Ich habe mein Haus im Trierer Raum verkauft un...            2.890372   \n",
       "3453  Wir hatten in den letzten Monaten Probleme mit...            1.098612   \n",
       "3487  Die Firma e.on, ist in unserer Gemeinde der Gr...            1.609438   \n",
       "3743  Was ist das hier gerade für eine Schei*e gewes...            1.609438   \n",
       "3864  Ich bin seit 2 Jahren Strom-Kunde von eon und ...            2.397895   \n",
       "3983  Ich warte seit 10/22 auf meine Gasabrechnung, ...            1.609438   \n",
       "4380  ...und zwar Alles. Es kommt für uns erst gar k...            0.693147   \n",
       "4424  Würde es gehen hätte ich keinen Stern vergeben...            1.945910   \n",
       "4836  Kundenservice unterirdisch!!! Telefonische Ans...            0.693147   \n",
       "4958  Ich bin so dermaßen enttäuscht von diesem namh...            2.079442   \n",
       "\n",
       "      log_Words_Comment  log_Words_Answer  Stars_geq4_TF  \n",
       "67             5.872118          4.795791              0  \n",
       "271            5.680173          4.795791              0  \n",
       "308            5.948035          4.795791              0  \n",
       "549            5.609472          4.795791              0  \n",
       "896            5.501258          4.795791              0  \n",
       "1014           6.120297          4.795791              0  \n",
       "1172           5.525453          4.795791              0  \n",
       "1493           6.525030          4.795791              0  \n",
       "1612           5.641907          4.795791              0  \n",
       "1624           5.505332          4.795791              0  \n",
       "1769           6.563856          4.795791              0  \n",
       "2565           5.509388          4.795791              0  \n",
       "2959           6.163315          4.795791              0  \n",
       "3139           6.359574          4.795791              0  \n",
       "3453           5.998937          4.795791              0  \n",
       "3487           6.467699          4.795791              0  \n",
       "3743           5.929589          4.795791              0  \n",
       "3864           6.033086          4.795791              0  \n",
       "3983           5.774552          4.795791              0  \n",
       "4380           5.505332          4.795791              0  \n",
       "4424           5.811141          4.795791              0  \n",
       "4836           5.857933          4.795791              0  \n",
       "4958           5.802118          4.795791              0  "
      ]
     },
     "execution_count": 43,
     "metadata": {},
     "output_type": "execute_result"
    }
   ],
   "source": [
    "# handling of outliers in log_Words_Comment\n",
    "# show outliers\n",
    "eon[eon['log_Words_Comment'] > 5.49] #23 rows "
   ]
  },
  {
   "cell_type": "code",
   "execution_count": 44,
   "id": "0d1d2267-e7bf-400c-b82f-ea2fcf761e63",
   "metadata": {},
   "outputs": [
    {
     "data": {
      "text/html": [
       "<div>\n",
       "<style scoped>\n",
       "    .dataframe tbody tr th:only-of-type {\n",
       "        vertical-align: middle;\n",
       "    }\n",
       "\n",
       "    .dataframe tbody tr th {\n",
       "        vertical-align: top;\n",
       "    }\n",
       "\n",
       "    .dataframe thead th {\n",
       "        text-align: right;\n",
       "    }\n",
       "</style>\n",
       "<table border=\"1\" class=\"dataframe\">\n",
       "  <thead>\n",
       "    <tr style=\"text-align: right;\">\n",
       "      <th></th>\n",
       "      <th>log_Words_Comment_new</th>\n",
       "    </tr>\n",
       "  </thead>\n",
       "  <tbody>\n",
       "    <tr>\n",
       "      <th>0</th>\n",
       "      <td>3.713572</td>\n",
       "    </tr>\n",
       "    <tr>\n",
       "      <th>1</th>\n",
       "      <td>3.713572</td>\n",
       "    </tr>\n",
       "    <tr>\n",
       "      <th>2</th>\n",
       "      <td>3.688879</td>\n",
       "    </tr>\n",
       "    <tr>\n",
       "      <th>3</th>\n",
       "      <td>3.663562</td>\n",
       "    </tr>\n",
       "    <tr>\n",
       "      <th>4</th>\n",
       "      <td>4.143135</td>\n",
       "    </tr>\n",
       "  </tbody>\n",
       "</table>\n",
       "</div>"
      ],
      "text/plain": [
       "   log_Words_Comment_new\n",
       "0               3.713572\n",
       "1               3.713572\n",
       "2               3.688879\n",
       "3               3.663562\n",
       "4               4.143135"
      ]
     },
     "execution_count": 44,
     "metadata": {},
     "output_type": "execute_result"
    }
   ],
   "source": [
    "#capping and storing the values into a new df\n",
    "comment_new = pd.DataFrame(np.where(eon[\"log_Words_Comment\"] > s_max_limit, np.round(s_max_limit, 3), \n",
    "         (np.where(eon[\"log_Words_Comment\"] < s_min_limit, np.round(s_min_limit, 3), eon[\"log_Words_Comment\"]))\n",
    "                                    ), columns=[\"log_Words_Comment_new\"])\n",
    "\n",
    "comment_new.head()"
   ]
  },
  {
   "cell_type": "code",
   "execution_count": 45,
   "id": "b80bc7fd-53b4-489f-869b-8d407310eff1",
   "metadata": {},
   "outputs": [
    {
     "data": {
      "image/png": "[encoded data removed]",
      "text/plain": [
       "<Figure size 800x500 with 2 Axes>"
      ]
     },
     "metadata": {},
     "output_type": "display_data"
    }
   ],
   "source": [
    "#plot after capping\n",
    "plt.figure(figsize=(8,5))\n",
    "plt.suptitle(\"Distribution after Capping\",fontsize=14)\n",
    "plt.subplot(1,2,1)\n",
    "sns.kdeplot(x='log_Words_Comment_new', data = comment_new)\n",
    "plt.subplot(1,2,2)\n",
    "sns.boxplot(y='log_Words_Comment_new', data = comment_new)\n",
    "plt.tight_layout()\n",
    "plt.show()"
   ]
  },
  {
   "cell_type": "code",
   "execution_count": 46,
   "id": "df0362c1-286e-4869-963e-640e00d9d21e",
   "metadata": {},
   "outputs": [
    {
     "data": {
      "text/html": [
       "<div>\n",
       "<style scoped>\n",
       "    .dataframe tbody tr th:only-of-type {\n",
       "        vertical-align: middle;\n",
       "    }\n",
       "\n",
       "    .dataframe tbody tr th {\n",
       "        vertical-align: top;\n",
       "    }\n",
       "\n",
       "    .dataframe thead th {\n",
       "        text-align: right;\n",
       "    }\n",
       "</style>\n",
       "<table border=\"1\" class=\"dataframe\">\n",
       "  <thead>\n",
       "    <tr style=\"text-align: right;\">\n",
       "      <th></th>\n",
       "      <th>Comment</th>\n",
       "      <th>log_Words_Headline</th>\n",
       "      <th>log_Words_Comment</th>\n",
       "      <th>log_Words_Answer</th>\n",
       "      <th>Stars_geq4_TF</th>\n",
       "    </tr>\n",
       "  </thead>\n",
       "  <tbody>\n",
       "    <tr>\n",
       "      <th>271</th>\n",
       "      <td>Ich war bis 31.05.2023 Abnehmer von eon Strom....</td>\n",
       "      <td>1.386294</td>\n",
       "      <td>5.499</td>\n",
       "      <td>4.795791</td>\n",
       "      <td>0</td>\n",
       "    </tr>\n",
       "  </tbody>\n",
       "</table>\n",
       "</div>"
      ],
      "text/plain": [
       "                                               Comment  log_Words_Headline  \\\n",
       "271  Ich war bis 31.05.2023 Abnehmer von eon Strom....            1.386294   \n",
       "\n",
       "     log_Words_Comment  log_Words_Answer  Stars_geq4_TF  \n",
       "271              5.499          4.795791              0  "
      ]
     },
     "execution_count": 46,
     "metadata": {},
     "output_type": "execute_result"
    }
   ],
   "source": [
    "#perform capping = replace columns\n",
    "eon['log_Words_Comment'] = comment_new['log_Words_Comment_new']\n",
    "\n",
    "eon.loc[[271]] #show capped value example"
   ]
  },
  {
   "cell_type": "markdown",
   "id": "ccd4019c-25ed-45ff-ad66-0ad43c542bdd",
   "metadata": {
    "jp-MarkdownHeadingCollapsed": true,
    "tags": []
   },
   "source": [
    "#### log_Words_Answer"
   ]
  },
  {
   "cell_type": "code",
   "execution_count": 48,
   "id": "5697a915-e612-4a13-8039-ba470f7d8eca",
   "metadata": {},
   "outputs": [
    {
     "data": {
      "image/png": "[encoded data removed]",
      "text/plain": [
       "<Figure size 800x500 with 2 Axes>"
      ]
     },
     "metadata": {},
     "output_type": "display_data"
    }
   ],
   "source": [
    "#plot distribution before Capping\n",
    "plt.figure(figsize=(8,5))\n",
    "plt.suptitle(\"Distribution before Capping\", fontsize=14)\n",
    "plt.subplot(1,2,1)\n",
    "sns.kdeplot(x= 'log_Words_Answer', data = eon)\n",
    "plt.subplot(1,2,2)\n",
    "sns.boxplot(y= 'log_Words_Answer', data = eon)\n",
    "plt.tight_layout()\n",
    "plt.show()"
   ]
  },
  {
   "cell_type": "code",
   "execution_count": 49,
   "id": "7db49f80-ae8f-41a3-b388-fbe910c60524",
   "metadata": {},
   "outputs": [
    {
     "name": "stdout",
     "output_type": "stream",
     "text": [
      "For 'log_Words_Answer': Q1(25% percentile) equals  3.9889840465642745  and Q3(75% percentile) equals  4.795790545596741\n",
      "For 'log_Words_Answer': IQR equals  0.807\n",
      "For 'log_Words_Answer': max limit equals  6.006\n",
      "For 'log_Words_Answer': min limit equals  2.779\n"
     ]
    }
   ],
   "source": [
    "#Finding the Q1(25% percentile) and Q3(75% percentile)\n",
    "s_q1 = eon[\"log_Words_Answer\"].quantile(0.25)\n",
    "s_q3 = eon[\"log_Words_Answer\"].quantile(0.75)\n",
    "print(\"For 'log_Words_Answer': Q1(25% percentile) equals \", s_q1, \" and Q3(75% percentile) equals \", s_q3)\n",
    "\n",
    "#Finding out the value of the Inter Quartile Range\n",
    "s_IQR = s_q3 - s_q1\n",
    "print(\"For 'log_Words_Answer': IQR equals \", round(s_IQR, 3))\n",
    "\n",
    "#Defining max and min limits\n",
    "s_max_limit = s_q3 + (1.5 * s_IQR)\n",
    "s_min_limit = s_q1 - (1.5 * s_IQR) \n",
    "print(\"For 'log_Words_Answer': max limit equals \", round(s_max_limit, 3)) #round to 0 for words\n",
    "print(\"For 'log_Words_Answer': min limit equals \", round(s_min_limit, 3))"
   ]
  },
  {
   "cell_type": "code",
   "execution_count": 50,
   "id": "e4a87a26-c374-4bf9-a5d0-1ae8459d02be",
   "metadata": {},
   "outputs": [
    {
     "data": {
      "text/html": [
       "<div>\n",
       "<style scoped>\n",
       "    .dataframe tbody tr th:only-of-type {\n",
       "        vertical-align: middle;\n",
       "    }\n",
       "\n",
       "    .dataframe tbody tr th {\n",
       "        vertical-align: top;\n",
       "    }\n",
       "\n",
       "    .dataframe thead th {\n",
       "        text-align: right;\n",
       "    }\n",
       "</style>\n",
       "<table border=\"1\" class=\"dataframe\">\n",
       "  <thead>\n",
       "    <tr style=\"text-align: right;\">\n",
       "      <th></th>\n",
       "      <th>Comment</th>\n",
       "      <th>log_Words_Headline</th>\n",
       "      <th>log_Words_Comment</th>\n",
       "      <th>log_Words_Answer</th>\n",
       "      <th>Stars_geq4_TF</th>\n",
       "    </tr>\n",
       "  </thead>\n",
       "  <tbody>\n",
       "  </tbody>\n",
       "</table>\n",
       "</div>"
      ],
      "text/plain": [
       "Empty DataFrame\n",
       "Columns: [Comment, log_Words_Headline, log_Words_Comment, log_Words_Answer, Stars_geq4_TF]\n",
       "Index: []"
      ]
     },
     "execution_count": 50,
     "metadata": {},
     "output_type": "execute_result"
    }
   ],
   "source": [
    "# handling of outliers in Words_Answer\n",
    "# show outliers\n",
    "eon[eon['log_Words_Answer'] >6.00] #0 rows"
   ]
  },
  {
   "cell_type": "markdown",
   "id": "8cc6fe17-6a5f-41ec-a510-bbb59a978cfc",
   "metadata": {
    "tags": []
   },
   "source": [
    "#### Distribution of features after capping"
   ]
  },
  {
   "cell_type": "code",
   "execution_count": 52,
   "id": "00220e1e-3292-436d-9cfe-20dc55c66247",
   "metadata": {},
   "outputs": [
    {
     "data": {
      "image/png": "[encoded data removed]",
      "text/plain": [
       "<Figure size 1000x500 with 1 Axes>"
      ]
     },
     "metadata": {},
     "output_type": "display_data"
    }
   ],
   "source": [
    "#boxplot of main variables\n",
    "num_cols = ['log_Words_Headline', 'log_Words_Comment', 'log_Words_Answer']\n",
    "eon[num_cols].boxplot(figsize = (10,5), rot=45);"
   ]
  },
  {
   "cell_type": "markdown",
   "id": "49650a66-cab3-4766-9bb9-8d4fbbb5582b",
   "metadata": {},
   "source": [
    "### Saving cleaned and capped data set"
   ]
  },
  {
   "cell_type": "code",
   "execution_count": 54,
   "id": "1efba202-d259-468f-be71-99d30fce716f",
   "metadata": {},
   "outputs": [],
   "source": [
    "# Saving the cleaned data frame in a csv file\n",
    "eon.to_csv(\"eon_clean.csv\", index=False)"
   ]
  },
  {
   "cell_type": "markdown",
   "id": "77c9bfea-cf09-4b6d-b3cb-31360cb21b13",
   "metadata": {},
   "source": [
    "# Check performance of models with sentiment analysis"
   ]
  },
  {
   "cell_type": "markdown",
   "id": "1d67b162-6d2a-4dc2-a8c1-d5aac718b6a5",
   "metadata": {},
   "source": [
    "## Sentiment analysis of comments"
   ]
  },
  {
   "cell_type": "code",
   "execution_count": 57,
   "id": "b8dec225-3799-40ba-b491-f07dfadc2586",
   "metadata": {},
   "outputs": [
    {
     "data": {
      "text/html": [
       "<div>\n",
       "<style scoped>\n",
       "    .dataframe tbody tr th:only-of-type {\n",
       "        vertical-align: middle;\n",
       "    }\n",
       "\n",
       "    .dataframe tbody tr th {\n",
       "        vertical-align: top;\n",
       "    }\n",
       "\n",
       "    .dataframe thead th {\n",
       "        text-align: right;\n",
       "    }\n",
       "</style>\n",
       "<table border=\"1\" class=\"dataframe\">\n",
       "  <thead>\n",
       "    <tr style=\"text-align: right;\">\n",
       "      <th></th>\n",
       "      <th>Comment</th>\n",
       "      <th>log_Words_Headline</th>\n",
       "      <th>log_Words_Comment</th>\n",
       "      <th>log_Words_Answer</th>\n",
       "      <th>Stars_geq4_TF</th>\n",
       "    </tr>\n",
       "  </thead>\n",
       "  <tbody>\n",
       "    <tr>\n",
       "      <th>0</th>\n",
       "      <td>Korrekte Auflistung des Zählerstandes und Verb...</td>\n",
       "      <td>0.693147</td>\n",
       "      <td>3.713572</td>\n",
       "      <td>3.988984</td>\n",
       "      <td>1</td>\n",
       "    </tr>\n",
       "    <tr>\n",
       "      <th>1</th>\n",
       "      <td>Leichte Eingabe der Daten und schneller Wechse...</td>\n",
       "      <td>1.791759</td>\n",
       "      <td>3.713572</td>\n",
       "      <td>3.988984</td>\n",
       "      <td>1</td>\n",
       "    </tr>\n",
       "    <tr>\n",
       "      <th>2</th>\n",
       "      <td>Hallo,Leider muss man sich mehr Fach mit dem S...</td>\n",
       "      <td>1.386294</td>\n",
       "      <td>3.688879</td>\n",
       "      <td>4.795791</td>\n",
       "      <td>0</td>\n",
       "    </tr>\n",
       "    <tr>\n",
       "      <th>3</th>\n",
       "      <td>Ich bin rundum zufrieden mit e-on. Umzug mit Ü...</td>\n",
       "      <td>2.302585</td>\n",
       "      <td>3.663562</td>\n",
       "      <td>3.988984</td>\n",
       "      <td>1</td>\n",
       "    </tr>\n",
       "    <tr>\n",
       "      <th>4</th>\n",
       "      <td>Alles korrekt.  Allerdings erscheint bei uns n...</td>\n",
       "      <td>1.609438</td>\n",
       "      <td>4.143135</td>\n",
       "      <td>3.988984</td>\n",
       "      <td>1</td>\n",
       "    </tr>\n",
       "  </tbody>\n",
       "</table>\n",
       "</div>"
      ],
      "text/plain": [
       "                                             Comment  log_Words_Headline  \\\n",
       "0  Korrekte Auflistung des Zählerstandes und Verb...            0.693147   \n",
       "1  Leichte Eingabe der Daten und schneller Wechse...            1.791759   \n",
       "2  Hallo,Leider muss man sich mehr Fach mit dem S...            1.386294   \n",
       "3  Ich bin rundum zufrieden mit e-on. Umzug mit Ü...            2.302585   \n",
       "4  Alles korrekt.  Allerdings erscheint bei uns n...            1.609438   \n",
       "\n",
       "   log_Words_Comment  log_Words_Answer  Stars_geq4_TF  \n",
       "0           3.713572          3.988984              1  \n",
       "1           3.713572          3.988984              1  \n",
       "2           3.688879          4.795791              0  \n",
       "3           3.663562          3.988984              1  \n",
       "4           4.143135          3.988984              1  "
      ]
     },
     "execution_count": 57,
     "metadata": {},
     "output_type": "execute_result"
    }
   ],
   "source": [
    "# import data\n",
    "eon_clean = pd.read_csv(\"eon_clean.csv\")\n",
    "eon_clean.head()"
   ]
  },
  {
   "cell_type": "code",
   "execution_count": 58,
   "id": "7061c656-c39c-494c-a317-4eb84043ea51",
   "metadata": {},
   "outputs": [
    {
     "data": {
      "text/html": [
       "<div>\n",
       "<style scoped>\n",
       "    .dataframe tbody tr th:only-of-type {\n",
       "        vertical-align: middle;\n",
       "    }\n",
       "\n",
       "    .dataframe tbody tr th {\n",
       "        vertical-align: top;\n",
       "    }\n",
       "\n",
       "    .dataframe thead th {\n",
       "        text-align: right;\n",
       "    }\n",
       "</style>\n",
       "<table border=\"1\" class=\"dataframe\">\n",
       "  <thead>\n",
       "    <tr style=\"text-align: right;\">\n",
       "      <th></th>\n",
       "      <th>Stars_geq4_TF</th>\n",
       "      <th>Comment</th>\n",
       "    </tr>\n",
       "  </thead>\n",
       "  <tbody>\n",
       "    <tr>\n",
       "      <th>0</th>\n",
       "      <td>1</td>\n",
       "      <td>Korrekte Auflistung des Zählerstandes und Verb...</td>\n",
       "    </tr>\n",
       "    <tr>\n",
       "      <th>1</th>\n",
       "      <td>1</td>\n",
       "      <td>Leichte Eingabe der Daten und schneller Wechse...</td>\n",
       "    </tr>\n",
       "    <tr>\n",
       "      <th>2</th>\n",
       "      <td>0</td>\n",
       "      <td>Hallo,Leider muss man sich mehr Fach mit dem S...</td>\n",
       "    </tr>\n",
       "    <tr>\n",
       "      <th>3</th>\n",
       "      <td>1</td>\n",
       "      <td>Ich bin rundum zufrieden mit e-on. Umzug mit Ü...</td>\n",
       "    </tr>\n",
       "    <tr>\n",
       "      <th>4</th>\n",
       "      <td>1</td>\n",
       "      <td>Alles korrekt.  Allerdings erscheint bei uns n...</td>\n",
       "    </tr>\n",
       "  </tbody>\n",
       "</table>\n",
       "</div>"
      ],
      "text/plain": [
       "   Stars_geq4_TF                                            Comment\n",
       "0              1  Korrekte Auflistung des Zählerstandes und Verb...\n",
       "1              1  Leichte Eingabe der Daten und schneller Wechse...\n",
       "2              0  Hallo,Leider muss man sich mehr Fach mit dem S...\n",
       "3              1  Ich bin rundum zufrieden mit e-on. Umzug mit Ü...\n",
       "4              1  Alles korrekt.  Allerdings erscheint bei uns n..."
      ]
     },
     "execution_count": 58,
     "metadata": {},
     "output_type": "execute_result"
    }
   ],
   "source": [
    "# We use the 'Comment' column for sentiment analysis.\n",
    "# The the target variable will be the boolean variable 'Stars_geq4_TF'.\n",
    "df_ml_sa=eon_clean[['Stars_geq4_TF', 'Comment']]\n",
    "\n",
    "df_ml_sa.head()"
   ]
  },
  {
   "cell_type": "code",
   "execution_count": 59,
   "id": "76462eed-3121-4a1d-acab-203486b9b641",
   "metadata": {},
   "outputs": [
    {
     "name": "stderr",
     "output_type": "stream",
     "text": [
      "/tmp/ipykernel_1760/104574733.py:4: SettingWithCopyWarning: \n",
      "A value is trying to be set on a copy of a slice from a DataFrame.\n",
      "Try using .loc[row_indexer,col_indexer] = value instead\n",
      "\n",
      "See the caveats in the documentation: https://pandas.pydata.org/pandas-docs/stable/user_guide/indexing.html#returning-a-view-versus-a-copy\n",
      "  df_ml_sa['Comment_alpha']=df_ml_sa['Comment']\\\n"
     ]
    }
   ],
   "source": [
    "# Replace all non letters with empty space in Comment with regex\n",
    "# Transfer letters to lowercase and remove words of length 2 or less\n",
    "import re\n",
    "df_ml_sa['Comment_alpha']=df_ml_sa['Comment']\\\n",
    "  .apply(lambda x: re.sub('[^a-zA-ZäüöÄÜÖß]+', ' ', x).casefold())\\\n",
    "  .apply(lambda x: re.sub('\\s[a-zäöü]{1}\\s', ' ', x))\\\n",
    "  .apply(lambda x: re.sub('\\s[a-zäöü]{2}\\s', ' ', x))"
   ]
  },
  {
   "cell_type": "code",
   "execution_count": 60,
   "id": "69a9c1f1-305e-49ff-8752-dad1dab2aa9b",
   "metadata": {},
   "outputs": [
    {
     "name": "stderr",
     "output_type": "stream",
     "text": [
      "[nltk_data] Downloading package stopwords to\n",
      "[nltk_data]     /home/f7056247-f7f3-4ea3-b4bb-\n",
      "[nltk_data]     4acc585dc5ca/nltk_data...\n",
      "[nltk_data]   Package stopwords is already up-to-date!\n"
     ]
    }
   ],
   "source": [
    "# import stop German words\n",
    "import nltk\n",
    "nltk.download('stopwords')\n",
    "from nltk.corpus import stopwords\n",
    "stop_words = stopwords.words('german')\n"
   ]
  },
  {
   "cell_type": "code",
   "execution_count": 61,
   "id": "372d0201-daac-4ce8-b920-3660ad964f62",
   "metadata": {
    "scrolled": true
   },
   "outputs": [
    {
     "name": "stdout",
     "output_type": "stream",
     "text": [
      "['aber', 'alle', 'allem', 'allen', 'aller', 'alles', 'als', 'also', 'am', 'an', 'ander', 'andere', 'anderem', 'anderen', 'anderer', 'anderes', 'anderm', 'andern', 'anderr', 'anders', 'auch', 'auf', 'aus', 'bei', 'bin', 'bis', 'bist', 'da', 'damit', 'dann', 'der', 'den', 'des', 'dem', 'die', 'das', 'dass', 'daß', 'derselbe', 'derselben', 'denselben', 'desselben', 'demselben', 'dieselbe', 'dieselben', 'dasselbe', 'dazu', 'dein', 'deine', 'deinem', 'deinen', 'deiner', 'deines', 'denn', 'derer', 'dessen', 'dich', 'dir', 'du', 'dies', 'diese', 'diesem', 'diesen', 'dieser', 'dieses', 'doch', 'dort', 'durch', 'ein', 'eine', 'einem', 'einen', 'einer', 'eines', 'einig', 'einige', 'einigem', 'einigen', 'einiger', 'einiges', 'einmal', 'er', 'ihn', 'ihm', 'es', 'etwas', 'euer', 'eure', 'eurem', 'euren', 'eurer', 'eures', 'für', 'gegen', 'gewesen', 'hab', 'habe', 'haben', 'hat', 'hatte', 'hatten', 'hier', 'hin', 'hinter', 'ich', 'mich', 'mir', 'ihr', 'ihre', 'ihrem', 'ihren', 'ihrer', 'ihres', 'euch', 'im', 'in', 'indem', 'ins', 'ist', 'jede', 'jedem', 'jeden', 'jeder', 'jedes', 'jene', 'jenem', 'jenen', 'jener', 'jenes', 'jetzt', 'kann', 'kein', 'keine', 'keinem', 'keinen', 'keiner', 'keines', 'können', 'könnte', 'machen', 'man', 'manche', 'manchem', 'manchen', 'mancher', 'manches', 'mein', 'meine', 'meinem', 'meinen', 'meiner', 'meines', 'mit', 'muss', 'musste', 'nach', 'nicht', 'nichts', 'noch', 'nun', 'nur', 'ob', 'oder', 'ohne', 'sehr', 'sein', 'seine', 'seinem', 'seinen', 'seiner', 'seines', 'selbst', 'sich', 'sie', 'ihnen', 'sind', 'so', 'solche', 'solchem', 'solchen', 'solcher', 'solches', 'soll', 'sollte', 'sondern', 'sonst', 'über', 'um', 'und', 'uns', 'unsere', 'unserem', 'unseren', 'unser', 'unseres', 'unter', 'viel', 'vom', 'von', 'vor', 'während', 'war', 'waren', 'warst', 'was', 'weg', 'weil', 'weiter', 'welche', 'welchem', 'welchen', 'welcher', 'welches', 'wenn', 'werde', 'werden', 'wie', 'wieder', 'will', 'wir', 'wird', 'wirst', 'wo', 'wollen', 'wollte', 'würde', 'würden', 'zu', 'zum', 'zur', 'zwar', 'zwischen']\n"
     ]
    }
   ],
   "source": [
    "print(stop_words)"
   ]
  },
  {
   "cell_type": "code",
   "execution_count": 62,
   "id": "6c3c5023-8fda-4021-88f4-1885ce9957a8",
   "metadata": {},
   "outputs": [
    {
     "name": "stderr",
     "output_type": "stream",
     "text": [
      "/tmp/ipykernel_1760/3784894340.py:2: SettingWithCopyWarning: \n",
      "A value is trying to be set on a copy of a slice from a DataFrame.\n",
      "Try using .loc[row_indexer,col_indexer] = value instead\n",
      "\n",
      "See the caveats in the documentation: https://pandas.pydata.org/pandas-docs/stable/user_guide/indexing.html#returning-a-view-versus-a-copy\n",
      "  df_ml_sa['Comment_no_stopwords']=df_ml_sa['Comment_alpha']\\\n"
     ]
    }
   ],
   "source": [
    "# Remove stop words of Comment\n",
    "df_ml_sa['Comment_no_stopwords']=df_ml_sa['Comment_alpha']\\\n",
    "  .apply(lambda x: ' '.join([word for word in x.split() if word not in (stop_words)]))\n"
   ]
  },
  {
   "cell_type": "code",
   "execution_count": 63,
   "id": "edc96d71-84cb-4d17-85f5-d3c4ee292449",
   "metadata": {},
   "outputs": [
    {
     "data": {
      "text/html": [
       "<div>\n",
       "<style scoped>\n",
       "    .dataframe tbody tr th:only-of-type {\n",
       "        vertical-align: middle;\n",
       "    }\n",
       "\n",
       "    .dataframe tbody tr th {\n",
       "        vertical-align: top;\n",
       "    }\n",
       "\n",
       "    .dataframe thead th {\n",
       "        text-align: right;\n",
       "    }\n",
       "</style>\n",
       "<table border=\"1\" class=\"dataframe\">\n",
       "  <thead>\n",
       "    <tr style=\"text-align: right;\">\n",
       "      <th></th>\n",
       "      <th>Stars_geq4_TF</th>\n",
       "      <th>Comment</th>\n",
       "      <th>Comment_alpha</th>\n",
       "      <th>Comment_no_stopwords</th>\n",
       "    </tr>\n",
       "  </thead>\n",
       "  <tbody>\n",
       "    <tr>\n",
       "      <th>0</th>\n",
       "      <td>1</td>\n",
       "      <td>Korrekte Auflistung des Zählerstandes und Verb...</td>\n",
       "      <td>korrekte auflistung des zählerstandes und verb...</td>\n",
       "      <td>korrekte auflistung zählerstandes verbrauchs g...</td>\n",
       "    </tr>\n",
       "    <tr>\n",
       "      <th>1</th>\n",
       "      <td>1</td>\n",
       "      <td>Leichte Eingabe der Daten und schneller Wechse...</td>\n",
       "      <td>leichte eingabe der daten und schneller wechse...</td>\n",
       "      <td>leichte eingabe daten schneller wechsel abschl...</td>\n",
       "    </tr>\n",
       "    <tr>\n",
       "      <th>2</th>\n",
       "      <td>0</td>\n",
       "      <td>Hallo,Leider muss man sich mehr Fach mit dem S...</td>\n",
       "      <td>hallo leider muss man sich mehr fach mit dem s...</td>\n",
       "      <td>hallo leider mehr fach service wenden geschätz...</td>\n",
       "    </tr>\n",
       "    <tr>\n",
       "      <th>3</th>\n",
       "      <td>1</td>\n",
       "      <td>Ich bin rundum zufrieden mit e-on. Umzug mit Ü...</td>\n",
       "      <td>ich bin rundum zufrieden mit umzug mit übersch...</td>\n",
       "      <td>rundum zufrieden umzug überschneidung geklappt...</td>\n",
       "    </tr>\n",
       "    <tr>\n",
       "      <th>4</th>\n",
       "      <td>1</td>\n",
       "      <td>Alles korrekt.  Allerdings erscheint bei uns n...</td>\n",
       "      <td>alles korrekt allerdings erscheint bei uns nur...</td>\n",
       "      <td>korrekt allerdings erscheint froschkönigweg pc...</td>\n",
       "    </tr>\n",
       "  </tbody>\n",
       "</table>\n",
       "</div>"
      ],
      "text/plain": [
       "   Stars_geq4_TF                                            Comment  \\\n",
       "0              1  Korrekte Auflistung des Zählerstandes und Verb...   \n",
       "1              1  Leichte Eingabe der Daten und schneller Wechse...   \n",
       "2              0  Hallo,Leider muss man sich mehr Fach mit dem S...   \n",
       "3              1  Ich bin rundum zufrieden mit e-on. Umzug mit Ü...   \n",
       "4              1  Alles korrekt.  Allerdings erscheint bei uns n...   \n",
       "\n",
       "                                       Comment_alpha  \\\n",
       "0  korrekte auflistung des zählerstandes und verb...   \n",
       "1  leichte eingabe der daten und schneller wechse...   \n",
       "2  hallo leider muss man sich mehr fach mit dem s...   \n",
       "3  ich bin rundum zufrieden mit umzug mit übersch...   \n",
       "4  alles korrekt allerdings erscheint bei uns nur...   \n",
       "\n",
       "                                Comment_no_stopwords  \n",
       "0  korrekte auflistung zählerstandes verbrauchs g...  \n",
       "1  leichte eingabe daten schneller wechsel abschl...  \n",
       "2  hallo leider mehr fach service wenden geschätz...  \n",
       "3  rundum zufrieden umzug überschneidung geklappt...  \n",
       "4  korrekt allerdings erscheint froschkönigweg pc...  "
      ]
     },
     "execution_count": 63,
     "metadata": {},
     "output_type": "execute_result"
    }
   ],
   "source": [
    "## discarding special chars to use stop_words German\n",
    "# Remove stop words of Comment and replace special characters\n",
    "#special_char_map = {ord('ä'):'ae', ord('ü'):'ue', ord('ö'):'oe', ord('ß'):'ss'}\n",
    "#df_ml_sa['Comment_no_stopwords']=df_ml_sa['Comment_alpha']\\\n",
    "#  .apply(lambda x: ' '.join([word for word in x.split() if word not in (stop_words)]).translate(special_char_map))\n",
    "df_ml_sa.head()"
   ]
  },
  {
   "cell_type": "markdown",
   "id": "78acb6d0-a2f4-4ed1-84a4-a897a34f6cf2",
   "metadata": {
    "tags": []
   },
   "source": [
    "### Separate features and target"
   ]
  },
  {
   "cell_type": "code",
   "execution_count": 65,
   "id": "2938a740-2517-48d5-88dd-bf2ff630131e",
   "metadata": {},
   "outputs": [],
   "source": [
    "### Sentiment analysis and model training with CountVectorizer \n",
    "from sklearn.feature_extraction.text import CountVectorizer\n",
    "from sklearn.ensemble import GradientBoostingClassifier\n",
    "\n",
    "#Choose data and target\n",
    "data = df_ml_sa['Comment_no_stopwords']\n",
    "target = df_ml_sa['Stars_geq4_TF']"
   ]
  },
  {
   "cell_type": "code",
   "execution_count": 66,
   "id": "0877a37e-2972-4fec-8ff2-f09ec1f4f712",
   "metadata": {},
   "outputs": [],
   "source": [
    "# Train test split\n",
    "from sklearn.model_selection import train_test_split\n",
    "X_train, X_test, y_train, y_test = train_test_split(data, target, test_size=0.2, random_state=1)"
   ]
  },
  {
   "cell_type": "code",
   "execution_count": 67,
   "id": "640e54f3-2f45-4a41-bfc7-aea156c2d4ab",
   "metadata": {},
   "outputs": [],
   "source": [
    "# Initialize a vectorizer object\n",
    "vectorizer = CountVectorizer()\n",
    "\n",
    "# Update the value of X_train and X_test\n",
    "X_train = np.asarray(vectorizer.fit_transform(X_train).todense())\n",
    "X_test = np.asarray(vectorizer.transform(X_test).todense())\n"
   ]
  },
  {
   "cell_type": "markdown",
   "id": "b563c3ba-5737-4d5b-8b96-03dcb6d57fb1",
   "metadata": {},
   "source": [
    "## SVM Rating prediction based on sentiment analysis of customer comments"
   ]
  },
  {
   "cell_type": "markdown",
   "id": "1e40f066-67dd-4ed5-b6e3-13f2db05e958",
   "metadata": {},
   "source": [
    "### Import and fit model"
   ]
  },
  {
   "cell_type": "code",
   "execution_count": 70,
   "id": "c108336f-015f-4f27-8083-95b6f09a5479",
   "metadata": {},
   "outputs": [],
   "source": [
    "# import model\n",
    "from sklearn import svm"
   ]
  },
  {
   "cell_type": "code",
   "execution_count": 71,
   "id": "f5d390a6-059d-4500-a71d-ac3ad38aaa7b",
   "metadata": {},
   "outputs": [
    {
     "name": "stdout",
     "output_type": "stream",
     "text": [
      "SVM model score test set: 0.878147029204431\n",
      "SVM model score train set: 0.9647532729103726\n"
     ]
    }
   ],
   "source": [
    "# fit the model and get the separating hyperplane\n",
    "clf = svm.SVC(kernel=\"rbf\",     # kernel function, default = 'rbf'\n",
    "              C=1.0,            # Regularization parameter\n",
    "              gamma='scale'     # Kernel coefficient for ‘rbf’, ‘poly’ and ‘sigmoid’. default = 'scale'\n",
    "             )\n",
    "clf.fit(X_train, y_train)\n",
    "\n",
    "# Accuracy score\n",
    "print('SVM model score test set:', clf.score(X_test, y_test))\n",
    "print('SVM model score train set:', clf.score(X_train, y_train))"
   ]
  },
  {
   "cell_type": "code",
   "execution_count": 72,
   "id": "2101f3a6-ea44-4ab4-9d6b-f12172e4489e",
   "metadata": {},
   "outputs": [
    {
     "data": {
      "text/html": [
       "<div>\n",
       "<style scoped>\n",
       "    .dataframe tbody tr th:only-of-type {\n",
       "        vertical-align: middle;\n",
       "    }\n",
       "\n",
       "    .dataframe tbody tr th {\n",
       "        vertical-align: top;\n",
       "    }\n",
       "\n",
       "    .dataframe thead th {\n",
       "        text-align: right;\n",
       "    }\n",
       "</style>\n",
       "<table border=\"1\" class=\"dataframe\">\n",
       "  <thead>\n",
       "    <tr style=\"text-align: right;\">\n",
       "      <th>Predictions</th>\n",
       "      <th>0</th>\n",
       "      <th>1</th>\n",
       "    </tr>\n",
       "    <tr>\n",
       "      <th>True</th>\n",
       "      <th></th>\n",
       "      <th></th>\n",
       "    </tr>\n",
       "  </thead>\n",
       "  <tbody>\n",
       "    <tr>\n",
       "      <th>0</th>\n",
       "      <td>215</td>\n",
       "      <td>82</td>\n",
       "    </tr>\n",
       "    <tr>\n",
       "      <th>1</th>\n",
       "      <td>39</td>\n",
       "      <td>657</td>\n",
       "    </tr>\n",
       "  </tbody>\n",
       "</table>\n",
       "</div>"
      ],
      "text/plain": [
       "Predictions    0    1\n",
       "True                 \n",
       "0            215   82\n",
       "1             39  657"
      ]
     },
     "execution_count": 72,
     "metadata": {},
     "output_type": "execute_result"
    }
   ],
   "source": [
    "# perform predictions and display confusion matrix\n",
    "y_pred = clf.predict(X_test) # test set\n",
    "y_pred_train = clf.predict(X_train)  # training set\n",
    "\n",
    "# Confusion matrix\n",
    "pd.crosstab(y_test, y_pred, rownames=['True'], colnames=['Predictions'])"
   ]
  },
  {
   "cell_type": "code",
   "execution_count": 73,
   "id": "5798e292-5728-43ab-a527-fd93cc9b8505",
   "metadata": {},
   "outputs": [
    {
     "name": "stdout",
     "output_type": "stream",
     "text": [
      "Classification report (svm w/ sentiment analysis):\n",
      "               precision    recall  f1-score   support\n",
      "\n",
      "           0       0.85      0.72      0.78       297\n",
      "           1       0.89      0.94      0.92       696\n",
      "\n",
      "    accuracy                           0.88       993\n",
      "   macro avg       0.87      0.83      0.85       993\n",
      "weighted avg       0.88      0.88      0.88       993\n",
      "\n"
     ]
    }
   ],
   "source": [
    "from sklearn.metrics import f1_score, classification_report\n",
    "\n",
    "# classification report\n",
    "print(\"Classification report (svm w/ sentiment analysis):\\n\", classification_report(y_test, y_pred, zero_division=True))"
   ]
  },
  {
   "cell_type": "code",
   "execution_count": 74,
   "id": "e49eb31a-41d5-4b87-a0a1-0686bd94b8dd",
   "metadata": {},
   "outputs": [
    {
     "name": "stdout",
     "output_type": "stream",
     "text": [
      "Classification report (svm w/ sentiment analysis):\n",
      "               precision    recall  f1-score   support\n",
      "\n",
      "           0       1.00      0.89      0.94      1210\n",
      "           1       0.95      1.00      0.98      2762\n",
      "\n",
      "    accuracy                           0.96      3972\n",
      "   macro avg       0.97      0.94      0.96      3972\n",
      "weighted avg       0.97      0.96      0.96      3972\n",
      "\n"
     ]
    }
   ],
   "source": [
    "# classification report\n",
    "print(\"Classification report (svm w/ sentiment analysis):\\n\", classification_report(y_train, y_pred_train, zero_division=True))"
   ]
  },
  {
   "cell_type": "markdown",
   "id": "88b6c21e-7fb9-4a67-b738-44c03d534957",
   "metadata": {},
   "source": [
    "### Tune and refit model"
   ]
  },
  {
   "cell_type": "code",
   "execution_count": 76,
   "id": "a56be218-c176-4f54-baa0-767124950f54",
   "metadata": {},
   "outputs": [
    {
     "data": {
      "text/html": [
       "<style>#sk-container-id-1 {color: black;}#sk-container-id-1 pre{padding: 0;}#sk-container-id-1 div.sk-toggleable {background-color: white;}#sk-container-id-1 label.sk-toggleable__label {cursor: pointer;display: block;width: 100%;margin-bottom: 0;padding: 0.3em;box-sizing: border-box;text-align: center;}#sk-container-id-1 label.sk-toggleable__label-arrow:before {content: \"▸\";float: left;margin-right: 0.25em;color: #696969;}#sk-container-id-1 label.sk-toggleable__label-arrow:hover:before {color: black;}#sk-container-id-1 div.sk-estimator:hover label.sk-toggleable__label-arrow:before {color: black;}#sk-container-id-1 div.sk-toggleable__content {max-height: 0;max-width: 0;overflow: hidden;text-align: left;background-color: #f0f8ff;}#sk-container-id-1 div.sk-toggleable__content pre {margin: 0.2em;color: black;border-radius: 0.25em;background-color: #f0f8ff;}#sk-container-id-1 input.sk-toggleable__control:checked~div.sk-toggleable__content {max-height: 200px;max-width: 100%;overflow: auto;}#sk-container-id-1 input.sk-toggleable__control:checked~label.sk-toggleable__label-arrow:before {content: \"▾\";}#sk-container-id-1 div.sk-estimator input.sk-toggleable__control:checked~label.sk-toggleable__label {background-color: #d4ebff;}#sk-container-id-1 div.sk-label input.sk-toggleable__control:checked~label.sk-toggleable__label {background-color: #d4ebff;}#sk-container-id-1 input.sk-hidden--visually {border: 0;clip: rect(1px 1px 1px 1px);clip: rect(1px, 1px, 1px, 1px);height: 1px;margin: -1px;overflow: hidden;padding: 0;position: absolute;width: 1px;}#sk-container-id-1 div.sk-estimator {font-family: monospace;background-color: #f0f8ff;border: 1px dotted black;border-radius: 0.25em;box-sizing: border-box;margin-bottom: 0.5em;}#sk-container-id-1 div.sk-estimator:hover {background-color: #d4ebff;}#sk-container-id-1 div.sk-parallel-item::after {content: \"\";width: 100%;border-bottom: 1px solid gray;flex-grow: 1;}#sk-container-id-1 div.sk-label:hover label.sk-toggleable__label {background-color: #d4ebff;}#sk-container-id-1 div.sk-serial::before {content: \"\";position: absolute;border-left: 1px solid gray;box-sizing: border-box;top: 0;bottom: 0;left: 50%;z-index: 0;}#sk-container-id-1 div.sk-serial {display: flex;flex-direction: column;align-items: center;background-color: white;padding-right: 0.2em;padding-left: 0.2em;position: relative;}#sk-container-id-1 div.sk-item {position: relative;z-index: 1;}#sk-container-id-1 div.sk-parallel {display: flex;align-items: stretch;justify-content: center;background-color: white;position: relative;}#sk-container-id-1 div.sk-item::before, #sk-container-id-1 div.sk-parallel-item::before {content: \"\";position: absolute;border-left: 1px solid gray;box-sizing: border-box;top: 0;bottom: 0;left: 50%;z-index: -1;}#sk-container-id-1 div.sk-parallel-item {display: flex;flex-direction: column;z-index: 1;position: relative;background-color: white;}#sk-container-id-1 div.sk-parallel-item:first-child::after {align-self: flex-end;width: 50%;}#sk-container-id-1 div.sk-parallel-item:last-child::after {align-self: flex-start;width: 50%;}#sk-container-id-1 div.sk-parallel-item:only-child::after {width: 0;}#sk-container-id-1 div.sk-dashed-wrapped {border: 1px dashed gray;margin: 0 0.4em 0.5em 0.4em;box-sizing: border-box;padding-bottom: 0.4em;background-color: white;}#sk-container-id-1 div.sk-label label {font-family: monospace;font-weight: bold;display: inline-block;line-height: 1.2em;}#sk-container-id-1 div.sk-label-container {text-align: center;}#sk-container-id-1 div.sk-container {/* jupyter's `normalize.less` sets `[hidden] { display: none; }` but bootstrap.min.css set `[hidden] { display: none !important; }` so we also need the `!important` here to be able to override the default hidden behavior on the sphinx rendered scikit-learn.org. See: https://github.com/scikit-learn/scikit-learn/issues/21755 */display: inline-block !important;position: relative;}#sk-container-id-1 div.sk-text-repr-fallback {display: none;}</style><div id=\"sk-container-id-1\" class=\"sk-top-container\"><div class=\"sk-text-repr-fallback\"><pre>SVC(class_weight=&#x27;balanced&#x27;, decision_function_shape=&#x27;ovo&#x27;)</pre><b>In a Jupyter environment, please rerun this cell to show the HTML representation or trust the notebook. <br />On GitHub, the HTML representation is unable to render, please try loading this page with nbviewer.org.</b></div><div class=\"sk-container\" hidden><div class=\"sk-item\"><div class=\"sk-estimator sk-toggleable\"><input class=\"sk-toggleable__control sk-hidden--visually\" id=\"sk-estimator-id-1\" type=\"checkbox\" checked><label for=\"sk-estimator-id-1\" class=\"sk-toggleable__label sk-toggleable__label-arrow\">SVC</label><div class=\"sk-toggleable__content\"><pre>SVC(class_weight=&#x27;balanced&#x27;, decision_function_shape=&#x27;ovo&#x27;)</pre></div></div></div></div></div>"
      ],
      "text/plain": [
       "SVC(class_weight='balanced', decision_function_shape='ovo')"
      ]
     },
     "execution_count": 76,
     "metadata": {},
     "output_type": "execute_result"
    }
   ],
   "source": [
    "# fit the model and provide for imbalanced data set and multi-class decision\n",
    "clf = svm.SVC(kernel=\"rbf\",     # kernel function, default = 'rbf'\n",
    "              C=1.0,            # Regularization parameter\n",
    "              gamma='scale',     # Kernel coefficient for ‘rbf’, ‘poly’ and ‘sigmoid’. default = 'scale'\n",
    "              class_weight='balanced', # to mitigate the imbalanced data set\n",
    "              decision_function_shape='ovo' # default = one-vs-rest (‘ovr’) decision \n",
    "             )\n",
    "clf.fit(X_train, y_train)"
   ]
  },
  {
   "cell_type": "code",
   "execution_count": 77,
   "id": "8c2bb19c-4911-496f-bc3f-8cd5ac88641e",
   "metadata": {},
   "outputs": [
    {
     "name": "stdout",
     "output_type": "stream",
     "text": [
      "SVM tuned score test set: 0.8821752265861027\n",
      "SVM tuned score train set: 0.974320241691843\n"
     ]
    }
   ],
   "source": [
    "# Accuracy score\n",
    "print('SVM tuned score test set:', clf.score(X_test, y_test))\n",
    "print('SVM tuned score train set:', clf.score(X_train, y_train))"
   ]
  },
  {
   "cell_type": "code",
   "execution_count": 78,
   "id": "3a87eee3-7725-48d3-ae31-f3d84ac1a741",
   "metadata": {},
   "outputs": [
    {
     "data": {
      "text/html": [
       "<div>\n",
       "<style scoped>\n",
       "    .dataframe tbody tr th:only-of-type {\n",
       "        vertical-align: middle;\n",
       "    }\n",
       "\n",
       "    .dataframe tbody tr th {\n",
       "        vertical-align: top;\n",
       "    }\n",
       "\n",
       "    .dataframe thead th {\n",
       "        text-align: right;\n",
       "    }\n",
       "</style>\n",
       "<table border=\"1\" class=\"dataframe\">\n",
       "  <thead>\n",
       "    <tr style=\"text-align: right;\">\n",
       "      <th>Predictions</th>\n",
       "      <th>0</th>\n",
       "      <th>1</th>\n",
       "    </tr>\n",
       "    <tr>\n",
       "      <th>True</th>\n",
       "      <th></th>\n",
       "      <th></th>\n",
       "    </tr>\n",
       "  </thead>\n",
       "  <tbody>\n",
       "    <tr>\n",
       "      <th>0</th>\n",
       "      <td>246</td>\n",
       "      <td>51</td>\n",
       "    </tr>\n",
       "    <tr>\n",
       "      <th>1</th>\n",
       "      <td>66</td>\n",
       "      <td>630</td>\n",
       "    </tr>\n",
       "  </tbody>\n",
       "</table>\n",
       "</div>"
      ],
      "text/plain": [
       "Predictions    0    1\n",
       "True                 \n",
       "0            246   51\n",
       "1             66  630"
      ]
     },
     "execution_count": 78,
     "metadata": {},
     "output_type": "execute_result"
    }
   ],
   "source": [
    "# perform predictions and display confusion matrix\n",
    "y_pred = clf.predict(X_test) # test set\n",
    "y_pred_train = clf.predict(X_train)  # training set\n",
    "\n",
    "# Confusion matrix\n",
    "pd.crosstab(y_test, y_pred, rownames=['True'], colnames=['Predictions'])"
   ]
  },
  {
   "cell_type": "code",
   "execution_count": 79,
   "id": "4df86928-83dc-47f1-a273-5ceee8b350df",
   "metadata": {},
   "outputs": [
    {
     "name": "stdout",
     "output_type": "stream",
     "text": [
      "Classification report (svm tuned w/ sentiment analysis):\n",
      "               precision    recall  f1-score   support\n",
      "\n",
      "           0       0.79      0.83      0.81       297\n",
      "           1       0.93      0.91      0.92       696\n",
      "\n",
      "    accuracy                           0.88       993\n",
      "   macro avg       0.86      0.87      0.86       993\n",
      "weighted avg       0.88      0.88      0.88       993\n",
      "\n"
     ]
    }
   ],
   "source": [
    "# classification report\n",
    "print(\"Classification report (svm tuned w/ sentiment analysis):\\n\", classification_report(y_test, y_pred, zero_division=True))"
   ]
  },
  {
   "cell_type": "code",
   "execution_count": 80,
   "id": "5d107dab-8e1e-4829-8abf-c6f3018f2e94",
   "metadata": {},
   "outputs": [
    {
     "name": "stdout",
     "output_type": "stream",
     "text": [
      "Classification report (svm tuned w/ sentiment analysis):\n",
      "               precision    recall  f1-score   support\n",
      "\n",
      "           0       0.94      0.97      0.96      1210\n",
      "           1       0.99      0.98      0.98      2762\n",
      "\n",
      "    accuracy                           0.97      3972\n",
      "   macro avg       0.97      0.97      0.97      3972\n",
      "weighted avg       0.97      0.97      0.97      3972\n",
      "\n"
     ]
    }
   ],
   "source": [
    "# classification report\n",
    "print(\"Classification report (svm tuned w/ sentiment analysis):\\n\", classification_report(y_train, y_pred_train, zero_division=True))"
   ]
  },
  {
   "cell_type": "markdown",
   "id": "5f09037a-c3e1-4769-9a46-3368c5eeb341",
   "metadata": {},
   "source": [
    "Interpretation: \n",
    "\n",
    "Already the performance of the untuned model with sentiment analysis is signifcantly better the simple ml models with one or more numeric features, even with tuning. However, we see overfitting which we also see slightly diminished in the tuned version.\n",
    "\n",
    "The most impact on performance is due to:\n",
    " - reducing the target to a binary choice, which could be adopted due to application of the model to confirm synchronicity of text and rating.\n",
    " - concentrating on one supplier only, which is the actual use case in real life."
   ]
  },
  {
   "cell_type": "code",
   "execution_count": null,
   "id": "affa9f6a-989c-4ccd-b527-e928c64eb11c",
   "metadata": {},
   "outputs": [],
   "source": []
  },
  {
   "cell_type": "markdown",
   "id": "7f63725b-93e3-4293-8e49-e5b6eadae3b2",
   "metadata": {},
   "source": [
    "## Random Forest Rating prediction based on sentiment analysis of customer comments"
   ]
  },
  {
   "cell_type": "markdown",
   "id": "538c967d-d439-4f29-8cc2-4f77d67bd0af",
   "metadata": {},
   "source": [
    "### Import and fit model"
   ]
  },
  {
   "cell_type": "code",
   "execution_count": 84,
   "id": "f01feeb9-5e86-4f85-9ac8-908dbf0d3f7e",
   "metadata": {},
   "outputs": [
    {
     "data": {
      "text/html": [
       "<style>#sk-container-id-2 {color: black;}#sk-container-id-2 pre{padding: 0;}#sk-container-id-2 div.sk-toggleable {background-color: white;}#sk-container-id-2 label.sk-toggleable__label {cursor: pointer;display: block;width: 100%;margin-bottom: 0;padding: 0.3em;box-sizing: border-box;text-align: center;}#sk-container-id-2 label.sk-toggleable__label-arrow:before {content: \"▸\";float: left;margin-right: 0.25em;color: #696969;}#sk-container-id-2 label.sk-toggleable__label-arrow:hover:before {color: black;}#sk-container-id-2 div.sk-estimator:hover label.sk-toggleable__label-arrow:before {color: black;}#sk-container-id-2 div.sk-toggleable__content {max-height: 0;max-width: 0;overflow: hidden;text-align: left;background-color: #f0f8ff;}#sk-container-id-2 div.sk-toggleable__content pre {margin: 0.2em;color: black;border-radius: 0.25em;background-color: #f0f8ff;}#sk-container-id-2 input.sk-toggleable__control:checked~div.sk-toggleable__content {max-height: 200px;max-width: 100%;overflow: auto;}#sk-container-id-2 input.sk-toggleable__control:checked~label.sk-toggleable__label-arrow:before {content: \"▾\";}#sk-container-id-2 div.sk-estimator input.sk-toggleable__control:checked~label.sk-toggleable__label {background-color: #d4ebff;}#sk-container-id-2 div.sk-label input.sk-toggleable__control:checked~label.sk-toggleable__label {background-color: #d4ebff;}#sk-container-id-2 input.sk-hidden--visually {border: 0;clip: rect(1px 1px 1px 1px);clip: rect(1px, 1px, 1px, 1px);height: 1px;margin: -1px;overflow: hidden;padding: 0;position: absolute;width: 1px;}#sk-container-id-2 div.sk-estimator {font-family: monospace;background-color: #f0f8ff;border: 1px dotted black;border-radius: 0.25em;box-sizing: border-box;margin-bottom: 0.5em;}#sk-container-id-2 div.sk-estimator:hover {background-color: #d4ebff;}#sk-container-id-2 div.sk-parallel-item::after {content: \"\";width: 100%;border-bottom: 1px solid gray;flex-grow: 1;}#sk-container-id-2 div.sk-label:hover label.sk-toggleable__label {background-color: #d4ebff;}#sk-container-id-2 div.sk-serial::before {content: \"\";position: absolute;border-left: 1px solid gray;box-sizing: border-box;top: 0;bottom: 0;left: 50%;z-index: 0;}#sk-container-id-2 div.sk-serial {display: flex;flex-direction: column;align-items: center;background-color: white;padding-right: 0.2em;padding-left: 0.2em;position: relative;}#sk-container-id-2 div.sk-item {position: relative;z-index: 1;}#sk-container-id-2 div.sk-parallel {display: flex;align-items: stretch;justify-content: center;background-color: white;position: relative;}#sk-container-id-2 div.sk-item::before, #sk-container-id-2 div.sk-parallel-item::before {content: \"\";position: absolute;border-left: 1px solid gray;box-sizing: border-box;top: 0;bottom: 0;left: 50%;z-index: -1;}#sk-container-id-2 div.sk-parallel-item {display: flex;flex-direction: column;z-index: 1;position: relative;background-color: white;}#sk-container-id-2 div.sk-parallel-item:first-child::after {align-self: flex-end;width: 50%;}#sk-container-id-2 div.sk-parallel-item:last-child::after {align-self: flex-start;width: 50%;}#sk-container-id-2 div.sk-parallel-item:only-child::after {width: 0;}#sk-container-id-2 div.sk-dashed-wrapped {border: 1px dashed gray;margin: 0 0.4em 0.5em 0.4em;box-sizing: border-box;padding-bottom: 0.4em;background-color: white;}#sk-container-id-2 div.sk-label label {font-family: monospace;font-weight: bold;display: inline-block;line-height: 1.2em;}#sk-container-id-2 div.sk-label-container {text-align: center;}#sk-container-id-2 div.sk-container {/* jupyter's `normalize.less` sets `[hidden] { display: none; }` but bootstrap.min.css set `[hidden] { display: none !important; }` so we also need the `!important` here to be able to override the default hidden behavior on the sphinx rendered scikit-learn.org. See: https://github.com/scikit-learn/scikit-learn/issues/21755 */display: inline-block !important;position: relative;}#sk-container-id-2 div.sk-text-repr-fallback {display: none;}</style><div id=\"sk-container-id-2\" class=\"sk-top-container\"><div class=\"sk-text-repr-fallback\"><pre>RandomForestClassifier(n_jobs=-1, random_state=321)</pre><b>In a Jupyter environment, please rerun this cell to show the HTML representation or trust the notebook. <br />On GitHub, the HTML representation is unable to render, please try loading this page with nbviewer.org.</b></div><div class=\"sk-container\" hidden><div class=\"sk-item\"><div class=\"sk-estimator sk-toggleable\"><input class=\"sk-toggleable__control sk-hidden--visually\" id=\"sk-estimator-id-2\" type=\"checkbox\" checked><label for=\"sk-estimator-id-2\" class=\"sk-toggleable__label sk-toggleable__label-arrow\">RandomForestClassifier</label><div class=\"sk-toggleable__content\"><pre>RandomForestClassifier(n_jobs=-1, random_state=321)</pre></div></div></div></div></div>"
      ],
      "text/plain": [
       "RandomForestClassifier(n_jobs=-1, random_state=321)"
      ]
     },
     "execution_count": 84,
     "metadata": {},
     "output_type": "execute_result"
    }
   ],
   "source": [
    "# Creation of the classifier and construction of the model on the training data\n",
    "from sklearn import ensemble\n",
    "clf2 = ensemble.RandomForestClassifier(n_jobs=-1, random_state=321)\n",
    "clf2.fit(X_train, y_train)"
   ]
  },
  {
   "cell_type": "code",
   "execution_count": 85,
   "id": "809617b7-e143-4a3c-9747-201d5f9dddae",
   "metadata": {},
   "outputs": [
    {
     "data": {
      "text/html": [
       "<div>\n",
       "<style scoped>\n",
       "    .dataframe tbody tr th:only-of-type {\n",
       "        vertical-align: middle;\n",
       "    }\n",
       "\n",
       "    .dataframe tbody tr th {\n",
       "        vertical-align: top;\n",
       "    }\n",
       "\n",
       "    .dataframe thead th {\n",
       "        text-align: right;\n",
       "    }\n",
       "</style>\n",
       "<table border=\"1\" class=\"dataframe\">\n",
       "  <thead>\n",
       "    <tr style=\"text-align: right;\">\n",
       "      <th>Prediction</th>\n",
       "      <th>0</th>\n",
       "      <th>1</th>\n",
       "    </tr>\n",
       "    <tr>\n",
       "      <th>True</th>\n",
       "      <th></th>\n",
       "      <th></th>\n",
       "    </tr>\n",
       "  </thead>\n",
       "  <tbody>\n",
       "    <tr>\n",
       "      <th>0</th>\n",
       "      <td>204</td>\n",
       "      <td>93</td>\n",
       "    </tr>\n",
       "    <tr>\n",
       "      <th>1</th>\n",
       "      <td>31</td>\n",
       "      <td>665</td>\n",
       "    </tr>\n",
       "  </tbody>\n",
       "</table>\n",
       "</div>"
      ],
      "text/plain": [
       "Prediction    0    1\n",
       "True                \n",
       "0           204   93\n",
       "1            31  665"
      ]
     },
     "execution_count": 85,
     "metadata": {},
     "output_type": "execute_result"
    }
   ],
   "source": [
    "# Predict test set and store in y_pred\n",
    "y_pred = clf2.predict(X_test) # test set\n",
    "y_pred_train = clf2.predict(X_train) # train set\n",
    "\n",
    "# check result with crosstab\n",
    "pd.crosstab(y_test, y_pred, rownames=['True'], colnames=['Prediction'])\n"
   ]
  },
  {
   "cell_type": "code",
   "execution_count": 86,
   "id": "148ec150-2b5e-457e-885a-17577289b44b",
   "metadata": {},
   "outputs": [
    {
     "name": "stdout",
     "output_type": "stream",
     "text": [
      "Score clf2 test set 0.8751258811681772\n",
      "Score clf2 trainset 0.9997482376636455\n"
     ]
    }
   ],
   "source": [
    "# Check score\n",
    "print(\"Score clf2 test set\", clf2.score(X_test, y_test))\n",
    "print(\"Score clf2 trainset\", clf2.score(X_train, y_train))"
   ]
  },
  {
   "cell_type": "code",
   "execution_count": 87,
   "id": "f7be8db8-2713-4686-876d-46cf82652cdc",
   "metadata": {},
   "outputs": [
    {
     "name": "stdout",
     "output_type": "stream",
     "text": [
      "Classification report (RFC w/ sentiment analysis):\n",
      "               precision    recall  f1-score   support\n",
      "\n",
      "           0       0.87      0.69      0.77       297\n",
      "           1       0.88      0.96      0.91       696\n",
      "\n",
      "    accuracy                           0.88       993\n",
      "   macro avg       0.87      0.82      0.84       993\n",
      "weighted avg       0.87      0.88      0.87       993\n",
      "\n"
     ]
    }
   ],
   "source": [
    "# classification report\n",
    "from sklearn.metrics import f1_score, classification_report\n",
    "print(\"Classification report (RFC w/ sentiment analysis):\\n\", classification_report(y_test, y_pred))"
   ]
  },
  {
   "cell_type": "code",
   "execution_count": 88,
   "id": "b506bc47-3721-42e9-bffc-d344999e895b",
   "metadata": {},
   "outputs": [
    {
     "name": "stdout",
     "output_type": "stream",
     "text": [
      "Classification report (RFC w/ sentiment analysis) train set:\n",
      "               precision    recall  f1-score   support\n",
      "\n",
      "           0       1.00      1.00      1.00      1210\n",
      "           1       1.00      1.00      1.00      2762\n",
      "\n",
      "    accuracy                           1.00      3972\n",
      "   macro avg       1.00      1.00      1.00      3972\n",
      "weighted avg       1.00      1.00      1.00      3972\n",
      "\n"
     ]
    }
   ],
   "source": [
    "print(\"Classification report (RFC w/ sentiment analysis) train set:\\n\", classification_report(y_train, y_pred_train))"
   ]
  },
  {
   "cell_type": "markdown",
   "id": "db7cddd7-57e3-4377-a33c-1d266758477d",
   "metadata": {},
   "source": [
    "### Tune and refit model"
   ]
  },
  {
   "cell_type": "code",
   "execution_count": 90,
   "id": "9d973bab-c05b-4a04-957e-d5457ab6d0aa",
   "metadata": {},
   "outputs": [
    {
     "name": "stdout",
     "output_type": "stream",
     "text": [
      "{'n_estimators': [100, 400, 700, 1000], 'max_features': ['auto', 'sqrt'], 'bootstrap': [True, False]}\n"
     ]
    }
   ],
   "source": [
    "from sklearn.model_selection import RandomizedSearchCV\n",
    "# Number of trees in random forest\n",
    "n_estimators = [int(x) for x in np.linspace(start = 100, stop = 1000, num = 4)]\n",
    "# Number of features to consider at every split\n",
    "max_features = ['auto', 'sqrt'] # check error message with GridSearchCV, sqrt is default\n",
    "# Maximum number of levels in tree\n",
    "max_depth = [int(x) for x in np.linspace(10, 50, num = 5)]\n",
    "max_depth.append(None)\n",
    "# Minimum number of samples required to split a node\n",
    "min_samples_split = [2, 5, 10]\n",
    "# Minimum number of samples required at each leaf node\n",
    "min_samples_leaf = [1, 2, 4]\n",
    "# Method of selecting samples for training each tree\n",
    "bootstrap = [True, False]\n",
    "\n",
    "# Create the random grid\n",
    "param_grid = {'n_estimators': n_estimators, \n",
    "              'max_features': max_features, \n",
    "               #'max_depth': max_depth, # too much runtime in grid_search\n",
    "               #'min_samples_split': min_samples_split, # too much runtime in grid_search\n",
    "               #'min_samples_leaf': min_samples_leaf, # too much runtime in grid_search\n",
    "               'bootstrap': bootstrap}\n",
    "print(param_grid)"
   ]
  },
  {
   "cell_type": "code",
   "execution_count": 138,
   "id": "4baccaf9-6e52-47eb-aaa8-fa7011bbb06d",
   "metadata": {
    "scrolled": true
   },
   "outputs": [],
   "source": [
    "# This cell is moved to comment b/c of long run time, result of GridSeachCV is documented in last line.\n",
    "\n",
    "# Use the param grid to search for best hyper parameters\n",
    "# Base model to tune is clf2\n",
    "\n",
    "# Random search of parameters, using 3 fold cross validation, \n",
    "#from sklearn.model_selection import GridSearchCV\n",
    "#grid_search = GridSearchCV(estimator = clf2, \n",
    "                          #param_grid=param_grid,\n",
    "                           #cv = 3,      # 3 fold crossvalidation\n",
    "                           #n_jobs = -1) # use all available cores\n",
    "\n",
    "#grid_search.fit(X_train, y_train) \n",
    "\n",
    "#print(grid_search.best_estimator_)\n",
    "\n",
    "# RRandomForestClassifier(bootstrap=False, n_estimators=1000, n_jobs=-1, random_state=321)"
   ]
  },
  {
   "cell_type": "code",
   "execution_count": 140,
   "id": "6e3792a1-9d12-434b-bb2d-3dfc9e2eb272",
   "metadata": {},
   "outputs": [
    {
     "data": {
      "text/html": [
       "<style>#sk-container-id-3 {color: black;}#sk-container-id-3 pre{padding: 0;}#sk-container-id-3 div.sk-toggleable {background-color: white;}#sk-container-id-3 label.sk-toggleable__label {cursor: pointer;display: block;width: 100%;margin-bottom: 0;padding: 0.3em;box-sizing: border-box;text-align: center;}#sk-container-id-3 label.sk-toggleable__label-arrow:before {content: \"▸\";float: left;margin-right: 0.25em;color: #696969;}#sk-container-id-3 label.sk-toggleable__label-arrow:hover:before {color: black;}#sk-container-id-3 div.sk-estimator:hover label.sk-toggleable__label-arrow:before {color: black;}#sk-container-id-3 div.sk-toggleable__content {max-height: 0;max-width: 0;overflow: hidden;text-align: left;background-color: #f0f8ff;}#sk-container-id-3 div.sk-toggleable__content pre {margin: 0.2em;color: black;border-radius: 0.25em;background-color: #f0f8ff;}#sk-container-id-3 input.sk-toggleable__control:checked~div.sk-toggleable__content {max-height: 200px;max-width: 100%;overflow: auto;}#sk-container-id-3 input.sk-toggleable__control:checked~label.sk-toggleable__label-arrow:before {content: \"▾\";}#sk-container-id-3 div.sk-estimator input.sk-toggleable__control:checked~label.sk-toggleable__label {background-color: #d4ebff;}#sk-container-id-3 div.sk-label input.sk-toggleable__control:checked~label.sk-toggleable__label {background-color: #d4ebff;}#sk-container-id-3 input.sk-hidden--visually {border: 0;clip: rect(1px 1px 1px 1px);clip: rect(1px, 1px, 1px, 1px);height: 1px;margin: -1px;overflow: hidden;padding: 0;position: absolute;width: 1px;}#sk-container-id-3 div.sk-estimator {font-family: monospace;background-color: #f0f8ff;border: 1px dotted black;border-radius: 0.25em;box-sizing: border-box;margin-bottom: 0.5em;}#sk-container-id-3 div.sk-estimator:hover {background-color: #d4ebff;}#sk-container-id-3 div.sk-parallel-item::after {content: \"\";width: 100%;border-bottom: 1px solid gray;flex-grow: 1;}#sk-container-id-3 div.sk-label:hover label.sk-toggleable__label {background-color: #d4ebff;}#sk-container-id-3 div.sk-serial::before {content: \"\";position: absolute;border-left: 1px solid gray;box-sizing: border-box;top: 0;bottom: 0;left: 50%;z-index: 0;}#sk-container-id-3 div.sk-serial {display: flex;flex-direction: column;align-items: center;background-color: white;padding-right: 0.2em;padding-left: 0.2em;position: relative;}#sk-container-id-3 div.sk-item {position: relative;z-index: 1;}#sk-container-id-3 div.sk-parallel {display: flex;align-items: stretch;justify-content: center;background-color: white;position: relative;}#sk-container-id-3 div.sk-item::before, #sk-container-id-3 div.sk-parallel-item::before {content: \"\";position: absolute;border-left: 1px solid gray;box-sizing: border-box;top: 0;bottom: 0;left: 50%;z-index: -1;}#sk-container-id-3 div.sk-parallel-item {display: flex;flex-direction: column;z-index: 1;position: relative;background-color: white;}#sk-container-id-3 div.sk-parallel-item:first-child::after {align-self: flex-end;width: 50%;}#sk-container-id-3 div.sk-parallel-item:last-child::after {align-self: flex-start;width: 50%;}#sk-container-id-3 div.sk-parallel-item:only-child::after {width: 0;}#sk-container-id-3 div.sk-dashed-wrapped {border: 1px dashed gray;margin: 0 0.4em 0.5em 0.4em;box-sizing: border-box;padding-bottom: 0.4em;background-color: white;}#sk-container-id-3 div.sk-label label {font-family: monospace;font-weight: bold;display: inline-block;line-height: 1.2em;}#sk-container-id-3 div.sk-label-container {text-align: center;}#sk-container-id-3 div.sk-container {/* jupyter's `normalize.less` sets `[hidden] { display: none; }` but bootstrap.min.css set `[hidden] { display: none !important; }` so we also need the `!important` here to be able to override the default hidden behavior on the sphinx rendered scikit-learn.org. See: https://github.com/scikit-learn/scikit-learn/issues/21755 */display: inline-block !important;position: relative;}#sk-container-id-3 div.sk-text-repr-fallback {display: none;}</style><div id=\"sk-container-id-3\" class=\"sk-top-container\"><div class=\"sk-text-repr-fallback\"><pre>RandomForestClassifier(bootstrap=False, n_estimators=1000, n_jobs=-1,\n",
       "                       random_state=321)</pre><b>In a Jupyter environment, please rerun this cell to show the HTML representation or trust the notebook. <br />On GitHub, the HTML representation is unable to render, please try loading this page with nbviewer.org.</b></div><div class=\"sk-container\" hidden><div class=\"sk-item\"><div class=\"sk-estimator sk-toggleable\"><input class=\"sk-toggleable__control sk-hidden--visually\" id=\"sk-estimator-id-3\" type=\"checkbox\" checked><label for=\"sk-estimator-id-3\" class=\"sk-toggleable__label sk-toggleable__label-arrow\">RandomForestClassifier</label><div class=\"sk-toggleable__content\"><pre>RandomForestClassifier(bootstrap=False, n_estimators=1000, n_jobs=-1,\n",
       "                       random_state=321)</pre></div></div></div></div></div>"
      ],
      "text/plain": [
       "RandomForestClassifier(bootstrap=False, n_estimators=1000, n_jobs=-1,\n",
       "                       random_state=321)"
      ]
     },
     "execution_count": 140,
     "metadata": {},
     "output_type": "execute_result"
    }
   ],
   "source": [
    "clf2 = ensemble.RandomForestClassifier(n_jobs=-1, random_state=321, n_estimators=1000, bootstrap=False)                                      \n",
    "clf2.fit(X_train, y_train)"
   ]
  },
  {
   "cell_type": "code",
   "execution_count": 145,
   "id": "33cdfa4b-5520-46f5-8750-135545b9023e",
   "metadata": {},
   "outputs": [
    {
     "data": {
      "text/html": [
       "<div>\n",
       "<style scoped>\n",
       "    .dataframe tbody tr th:only-of-type {\n",
       "        vertical-align: middle;\n",
       "    }\n",
       "\n",
       "    .dataframe tbody tr th {\n",
       "        vertical-align: top;\n",
       "    }\n",
       "\n",
       "    .dataframe thead th {\n",
       "        text-align: right;\n",
       "    }\n",
       "</style>\n",
       "<table border=\"1\" class=\"dataframe\">\n",
       "  <thead>\n",
       "    <tr style=\"text-align: right;\">\n",
       "      <th>Prediction</th>\n",
       "      <th>0</th>\n",
       "      <th>1</th>\n",
       "    </tr>\n",
       "    <tr>\n",
       "      <th>True</th>\n",
       "      <th></th>\n",
       "      <th></th>\n",
       "    </tr>\n",
       "  </thead>\n",
       "  <tbody>\n",
       "    <tr>\n",
       "      <th>0</th>\n",
       "      <td>216</td>\n",
       "      <td>81</td>\n",
       "    </tr>\n",
       "    <tr>\n",
       "      <th>1</th>\n",
       "      <td>35</td>\n",
       "      <td>661</td>\n",
       "    </tr>\n",
       "  </tbody>\n",
       "</table>\n",
       "</div>"
      ],
      "text/plain": [
       "Prediction    0    1\n",
       "True                \n",
       "0           216   81\n",
       "1            35  661"
      ]
     },
     "execution_count": 145,
     "metadata": {},
     "output_type": "execute_result"
    }
   ],
   "source": [
    "# Predict test set and store in y_pred\n",
    "y_pred = clf2.predict(X_test) # test set\n",
    "\n",
    "y_pred_train = clf2.predict(X_train) # train set\n",
    "\n",
    "# check result with crosstab\n",
    "pd.crosstab(y_test, y_pred, rownames=['True'], colnames=['Prediction'])"
   ]
  },
  {
   "cell_type": "code",
   "execution_count": 147,
   "id": "b0bebce7-695c-4802-9dd0-26837783284f",
   "metadata": {},
   "outputs": [
    {
     "name": "stdout",
     "output_type": "stream",
     "text": [
      "Score clf2 tuned test set 0.8831822759315207\n",
      "Score clf2 tuned trainset 0.9997482376636455\n"
     ]
    }
   ],
   "source": [
    "# Check score\n",
    "print(\"Score clf2 tuned test set\", clf2.score(X_test, y_test))\n",
    "print(\"Score clf2 tuned trainset\", clf2.score(X_train, y_train))"
   ]
  },
  {
   "cell_type": "code",
   "execution_count": 148,
   "id": "60369c98-4038-41cf-8b39-960e5c7d10b2",
   "metadata": {},
   "outputs": [
    {
     "name": "stdout",
     "output_type": "stream",
     "text": [
      "Classification report (RFC tuned w/ sentiment analysis):\n",
      "               precision    recall  f1-score   support\n",
      "\n",
      "           0       0.86      0.73      0.79       297\n",
      "           1       0.89      0.95      0.92       696\n",
      "\n",
      "    accuracy                           0.88       993\n",
      "   macro avg       0.88      0.84      0.85       993\n",
      "weighted avg       0.88      0.88      0.88       993\n",
      "\n"
     ]
    }
   ],
   "source": [
    "# classification report\n",
    "print(\"Classification report (RFC tuned w/ sentiment analysis):\\n\", classification_report(y_test, y_pred))"
   ]
  },
  {
   "cell_type": "code",
   "execution_count": 151,
   "id": "cd3fc4b3-1612-449e-a989-43d123436447",
   "metadata": {},
   "outputs": [
    {
     "name": "stdout",
     "output_type": "stream",
     "text": [
      "Classification report (RFC tuned w/ sentiment analysis) train set:\n",
      "               precision    recall  f1-score   support\n",
      "\n",
      "           0       1.00      1.00      1.00      1210\n",
      "           1       1.00      1.00      1.00      2762\n",
      "\n",
      "    accuracy                           1.00      3972\n",
      "   macro avg       1.00      1.00      1.00      3972\n",
      "weighted avg       1.00      1.00      1.00      3972\n",
      "\n"
     ]
    }
   ],
   "source": [
    "print(\"Classification report (RFC tuned w/ sentiment analysis) train set:\\n\", classification_report(y_train, y_pred_train))"
   ]
  },
  {
   "cell_type": "markdown",
   "id": "4a5526bb-2b40-40a6-8f2a-58849369940f",
   "metadata": {},
   "source": [
    "# Check performance of simple models with improved and reduced data set for E.ON"
   ]
  },
  {
   "cell_type": "markdown",
   "id": "e96b2c7a-ab33-4c6f-a13e-55fef5decb2e",
   "metadata": {
    "tags": []
   },
   "source": [
    "### Normalize features"
   ]
  },
  {
   "cell_type": "markdown",
   "id": "5096edba-8d1f-4ec4-84fa-2337b013fe95",
   "metadata": {},
   "source": [
    "As already seen while handling the outliers, the frames of reference differ from one variable to another and their distribution is not normalized. \n",
    "\n",
    "So we need to transform the values by scaling the data to a mean of nearest to 0 and standard deviation of 1.\n",
    "\n",
    "The boxplot below shows that values of all variables have been scaled to the same magnitude as intended and also transformed to a mean of 0 and standard deviation of 1."
   ]
  },
  {
   "cell_type": "code",
   "execution_count": 153,
   "id": "4c5867dc-026d-4edc-b7af-36032447cc29",
   "metadata": {},
   "outputs": [
    {
     "data": {
      "text/html": [
       "<div>\n",
       "<style scoped>\n",
       "    .dataframe tbody tr th:only-of-type {\n",
       "        vertical-align: middle;\n",
       "    }\n",
       "\n",
       "    .dataframe tbody tr th {\n",
       "        vertical-align: top;\n",
       "    }\n",
       "\n",
       "    .dataframe thead th {\n",
       "        text-align: right;\n",
       "    }\n",
       "</style>\n",
       "<table border=\"1\" class=\"dataframe\">\n",
       "  <thead>\n",
       "    <tr style=\"text-align: right;\">\n",
       "      <th></th>\n",
       "      <th>Comment</th>\n",
       "      <th>log_Words_Headline</th>\n",
       "      <th>log_Words_Comment</th>\n",
       "      <th>log_Words_Answer</th>\n",
       "      <th>Stars_geq4_TF</th>\n",
       "    </tr>\n",
       "  </thead>\n",
       "  <tbody>\n",
       "    <tr>\n",
       "      <th>0</th>\n",
       "      <td>Korrekte Auflistung des Zählerstandes und Verb...</td>\n",
       "      <td>0.693147</td>\n",
       "      <td>3.713572</td>\n",
       "      <td>3.988984</td>\n",
       "      <td>1</td>\n",
       "    </tr>\n",
       "    <tr>\n",
       "      <th>1</th>\n",
       "      <td>Leichte Eingabe der Daten und schneller Wechse...</td>\n",
       "      <td>1.791759</td>\n",
       "      <td>3.713572</td>\n",
       "      <td>3.988984</td>\n",
       "      <td>1</td>\n",
       "    </tr>\n",
       "    <tr>\n",
       "      <th>2</th>\n",
       "      <td>Hallo,Leider muss man sich mehr Fach mit dem S...</td>\n",
       "      <td>1.386294</td>\n",
       "      <td>3.688879</td>\n",
       "      <td>4.795791</td>\n",
       "      <td>0</td>\n",
       "    </tr>\n",
       "    <tr>\n",
       "      <th>3</th>\n",
       "      <td>Ich bin rundum zufrieden mit e-on. Umzug mit Ü...</td>\n",
       "      <td>2.302585</td>\n",
       "      <td>3.663562</td>\n",
       "      <td>3.988984</td>\n",
       "      <td>1</td>\n",
       "    </tr>\n",
       "    <tr>\n",
       "      <th>4</th>\n",
       "      <td>Alles korrekt.  Allerdings erscheint bei uns n...</td>\n",
       "      <td>1.609438</td>\n",
       "      <td>4.143135</td>\n",
       "      <td>3.988984</td>\n",
       "      <td>1</td>\n",
       "    </tr>\n",
       "  </tbody>\n",
       "</table>\n",
       "</div>"
      ],
      "text/plain": [
       "                                             Comment  log_Words_Headline  \\\n",
       "0  Korrekte Auflistung des Zählerstandes und Verb...            0.693147   \n",
       "1  Leichte Eingabe der Daten und schneller Wechse...            1.791759   \n",
       "2  Hallo,Leider muss man sich mehr Fach mit dem S...            1.386294   \n",
       "3  Ich bin rundum zufrieden mit e-on. Umzug mit Ü...            2.302585   \n",
       "4  Alles korrekt.  Allerdings erscheint bei uns n...            1.609438   \n",
       "\n",
       "   log_Words_Comment  log_Words_Answer  Stars_geq4_TF  \n",
       "0           3.713572          3.988984              1  \n",
       "1           3.713572          3.988984              1  \n",
       "2           3.688879          4.795791              0  \n",
       "3           3.663562          3.988984              1  \n",
       "4           4.143135          3.988984              1  "
      ]
     },
     "execution_count": 153,
     "metadata": {},
     "output_type": "execute_result"
    }
   ],
   "source": [
    "# import data\n",
    "eon_clean = pd.read_csv(\"eon_clean.csv\")\n",
    "eon_clean.head()"
   ]
  },
  {
   "cell_type": "code",
   "execution_count": 155,
   "id": "1ca77a9c-ba67-4238-8526-f72544bce66f",
   "metadata": {},
   "outputs": [],
   "source": [
    "#scale numerical variables\n",
    "eon_scaled = eon_clean.drop(['Comment'], axis= 1)\n",
    "\n",
    "from sklearn.preprocessing import StandardScaler\n",
    "sc = StandardScaler()\n",
    "\n",
    "num_cols = ['log_Words_Headline', 'log_Words_Comment', 'log_Words_Answer']\n",
    "eon_scaled[num_cols]= sc.fit_transform(eon_scaled[num_cols])\n"
   ]
  },
  {
   "cell_type": "code",
   "execution_count": 157,
   "id": "aed95425-1fa5-4b88-b773-d105efc70c9e",
   "metadata": {},
   "outputs": [
    {
     "data": {
      "text/html": [
       "<div>\n",
       "<style scoped>\n",
       "    .dataframe tbody tr th:only-of-type {\n",
       "        vertical-align: middle;\n",
       "    }\n",
       "\n",
       "    .dataframe tbody tr th {\n",
       "        vertical-align: top;\n",
       "    }\n",
       "\n",
       "    .dataframe thead th {\n",
       "        text-align: right;\n",
       "    }\n",
       "</style>\n",
       "<table border=\"1\" class=\"dataframe\">\n",
       "  <thead>\n",
       "    <tr style=\"text-align: right;\">\n",
       "      <th></th>\n",
       "      <th>log_Words_Headline</th>\n",
       "      <th>log_Words_Comment</th>\n",
       "      <th>log_Words_Answer</th>\n",
       "      <th>Stars_geq4_TF</th>\n",
       "    </tr>\n",
       "  </thead>\n",
       "  <tbody>\n",
       "    <tr>\n",
       "      <th>count</th>\n",
       "      <td>4.965000e+03</td>\n",
       "      <td>4.965000e+03</td>\n",
       "      <td>4.965000e+03</td>\n",
       "      <td>4965.000000</td>\n",
       "    </tr>\n",
       "    <tr>\n",
       "      <th>mean</th>\n",
       "      <td>2.704785e-16</td>\n",
       "      <td>-8.586619e-18</td>\n",
       "      <td>-3.074010e-15</td>\n",
       "      <td>0.696475</td>\n",
       "    </tr>\n",
       "    <tr>\n",
       "      <th>std</th>\n",
       "      <td>1.000101e+00</td>\n",
       "      <td>1.000101e+00</td>\n",
       "      <td>1.000101e+00</td>\n",
       "      <td>0.459826</td>\n",
       "    </tr>\n",
       "    <tr>\n",
       "      <th>min</th>\n",
       "      <td>-1.958709e+00</td>\n",
       "      <td>-2.666668e+00</td>\n",
       "      <td>-8.566675e-01</td>\n",
       "      <td>0.000000</td>\n",
       "    </tr>\n",
       "    <tr>\n",
       "      <th>25%</th>\n",
       "      <td>-8.489527e-01</td>\n",
       "      <td>-7.387311e-01</td>\n",
       "      <td>-6.483732e-01</td>\n",
       "      <td>0.000000</td>\n",
       "    </tr>\n",
       "    <tr>\n",
       "      <th>50%</th>\n",
       "      <td>2.608036e-01</td>\n",
       "      <td>-1.254096e-01</td>\n",
       "      <td>-6.483732e-01</td>\n",
       "      <td>1.000000</td>\n",
       "    </tr>\n",
       "    <tr>\n",
       "      <th>75%</th>\n",
       "      <td>6.180653e-01</td>\n",
       "      <td>6.695260e-01</td>\n",
       "      <td>1.535240e+00</td>\n",
       "      <td>1.000000</td>\n",
       "    </tr>\n",
       "    <tr>\n",
       "      <th>max</th>\n",
       "      <td>2.818794e+00</td>\n",
       "      <td>2.781541e+00</td>\n",
       "      <td>1.535240e+00</td>\n",
       "      <td>1.000000</td>\n",
       "    </tr>\n",
       "  </tbody>\n",
       "</table>\n",
       "</div>"
      ],
      "text/plain": [
       "       log_Words_Headline  log_Words_Comment  log_Words_Answer  Stars_geq4_TF\n",
       "count        4.965000e+03       4.965000e+03      4.965000e+03    4965.000000\n",
       "mean         2.704785e-16      -8.586619e-18     -3.074010e-15       0.696475\n",
       "std          1.000101e+00       1.000101e+00      1.000101e+00       0.459826\n",
       "min         -1.958709e+00      -2.666668e+00     -8.566675e-01       0.000000\n",
       "25%         -8.489527e-01      -7.387311e-01     -6.483732e-01       0.000000\n",
       "50%          2.608036e-01      -1.254096e-01     -6.483732e-01       1.000000\n",
       "75%          6.180653e-01       6.695260e-01      1.535240e+00       1.000000\n",
       "max          2.818794e+00       2.781541e+00      1.535240e+00       1.000000"
      ]
     },
     "execution_count": 157,
     "metadata": {},
     "output_type": "execute_result"
    }
   ],
   "source": [
    "# describe numerical variables after scaling\n",
    "eon_scaled.describe()"
   ]
  },
  {
   "cell_type": "code",
   "execution_count": 159,
   "id": "f54fcd6b-c403-401f-9f1e-fe21d07c4a3a",
   "metadata": {},
   "outputs": [
    {
     "data": {
      "image/png": "[encoded data removed]",
      "text/plain": [
       "<Figure size 1000x500 with 1 Axes>"
      ]
     },
     "metadata": {},
     "output_type": "display_data"
    }
   ],
   "source": [
    "#boxplot of main variables\n",
    "import matplotlib.pyplot as plt \n",
    "\n",
    "eon_scaled[num_cols].boxplot(figsize = (10,5), rot=45);"
   ]
  },
  {
   "cell_type": "markdown",
   "id": "bfbbed47-a969-4f13-b6da-fee122b16a58",
   "metadata": {},
   "source": [
    "### Saving normalized data set"
   ]
  },
  {
   "cell_type": "code",
   "execution_count": 161,
   "id": "0da9e867-77b9-4fda-9e03-552da2b76da2",
   "metadata": {},
   "outputs": [],
   "source": [
    "# Saving the cleaned data frame in a csv file\n",
    "eon_scaled.to_csv(\"eon_clean_scaled.csv\", index=False)"
   ]
  },
  {
   "cell_type": "markdown",
   "id": "e44c775b-5011-4820-b2d2-b6e0485b777b",
   "metadata": {
    "tags": []
   },
   "source": [
    "### Separate features and target"
   ]
  },
  {
   "cell_type": "code",
   "execution_count": 163,
   "id": "687b0009-2a31-449c-82be-7fa974354f9b",
   "metadata": {},
   "outputs": [
    {
     "data": {
      "text/html": [
       "<div>\n",
       "<style scoped>\n",
       "    .dataframe tbody tr th:only-of-type {\n",
       "        vertical-align: middle;\n",
       "    }\n",
       "\n",
       "    .dataframe tbody tr th {\n",
       "        vertical-align: top;\n",
       "    }\n",
       "\n",
       "    .dataframe thead th {\n",
       "        text-align: right;\n",
       "    }\n",
       "</style>\n",
       "<table border=\"1\" class=\"dataframe\">\n",
       "  <thead>\n",
       "    <tr style=\"text-align: right;\">\n",
       "      <th></th>\n",
       "      <th>log_Words_Headline</th>\n",
       "      <th>log_Words_Comment</th>\n",
       "      <th>log_Words_Answer</th>\n",
       "      <th>Stars_geq4_TF</th>\n",
       "    </tr>\n",
       "  </thead>\n",
       "  <tbody>\n",
       "    <tr>\n",
       "      <th>0</th>\n",
       "      <td>-0.848953</td>\n",
       "      <td>1.012604</td>\n",
       "      <td>-0.648373</td>\n",
       "      <td>1</td>\n",
       "    </tr>\n",
       "    <tr>\n",
       "      <th>1</th>\n",
       "      <td>0.909969</td>\n",
       "      <td>1.012604</td>\n",
       "      <td>-0.648373</td>\n",
       "      <td>1</td>\n",
       "    </tr>\n",
       "    <tr>\n",
       "      <th>2</th>\n",
       "      <td>0.260804</td>\n",
       "      <td>0.988139</td>\n",
       "      <td>1.535240</td>\n",
       "      <td>0</td>\n",
       "    </tr>\n",
       "    <tr>\n",
       "      <th>3</th>\n",
       "      <td>1.727822</td>\n",
       "      <td>0.963055</td>\n",
       "      <td>-0.648373</td>\n",
       "      <td>1</td>\n",
       "    </tr>\n",
       "    <tr>\n",
       "      <th>4</th>\n",
       "      <td>0.618065</td>\n",
       "      <td>1.438199</td>\n",
       "      <td>-0.648373</td>\n",
       "      <td>1</td>\n",
       "    </tr>\n",
       "  </tbody>\n",
       "</table>\n",
       "</div>"
      ],
      "text/plain": [
       "   log_Words_Headline  log_Words_Comment  log_Words_Answer  Stars_geq4_TF\n",
       "0           -0.848953           1.012604         -0.648373              1\n",
       "1            0.909969           1.012604         -0.648373              1\n",
       "2            0.260804           0.988139          1.535240              0\n",
       "3            1.727822           0.963055         -0.648373              1\n",
       "4            0.618065           1.438199         -0.648373              1"
      ]
     },
     "execution_count": 163,
     "metadata": {},
     "output_type": "execute_result"
    }
   ],
   "source": [
    "eon_scaled.head()"
   ]
  },
  {
   "cell_type": "code",
   "execution_count": 165,
   "id": "44caf76c-be14-401c-948f-87c28b4c3aec",
   "metadata": {},
   "outputs": [
    {
     "name": "stdout",
     "output_type": "stream",
     "text": [
      "<class 'pandas.core.frame.DataFrame'>\n",
      "RangeIndex: 4965 entries, 0 to 4964\n",
      "Data columns (total 4 columns):\n",
      " #   Column              Non-Null Count  Dtype  \n",
      "---  ------              --------------  -----  \n",
      " 0   log_Words_Headline  4965 non-null   float64\n",
      " 1   log_Words_Comment   4965 non-null   float64\n",
      " 2   log_Words_Answer    4965 non-null   float64\n",
      " 3   Stars_geq4_TF       4965 non-null   int64  \n",
      "dtypes: float64(3), int64(1)\n",
      "memory usage: 155.3 KB\n"
     ]
    }
   ],
   "source": [
    "eon_scaled.info()"
   ]
  },
  {
   "cell_type": "code",
   "execution_count": 167,
   "id": "cfc7263e-6504-4ae0-ab29-c0db70948de9",
   "metadata": {},
   "outputs": [
    {
     "data": {
      "text/html": [
       "<div>\n",
       "<style scoped>\n",
       "    .dataframe tbody tr th:only-of-type {\n",
       "        vertical-align: middle;\n",
       "    }\n",
       "\n",
       "    .dataframe tbody tr th {\n",
       "        vertical-align: top;\n",
       "    }\n",
       "\n",
       "    .dataframe thead th {\n",
       "        text-align: right;\n",
       "    }\n",
       "</style>\n",
       "<table border=\"1\" class=\"dataframe\">\n",
       "  <thead>\n",
       "    <tr style=\"text-align: right;\">\n",
       "      <th></th>\n",
       "      <th>log_Words_Comment</th>\n",
       "    </tr>\n",
       "  </thead>\n",
       "  <tbody>\n",
       "    <tr>\n",
       "      <th>0</th>\n",
       "      <td>1.012604</td>\n",
       "    </tr>\n",
       "    <tr>\n",
       "      <th>1</th>\n",
       "      <td>1.012604</td>\n",
       "    </tr>\n",
       "    <tr>\n",
       "      <th>2</th>\n",
       "      <td>0.988139</td>\n",
       "    </tr>\n",
       "    <tr>\n",
       "      <th>3</th>\n",
       "      <td>0.963055</td>\n",
       "    </tr>\n",
       "    <tr>\n",
       "      <th>4</th>\n",
       "      <td>1.438199</td>\n",
       "    </tr>\n",
       "  </tbody>\n",
       "</table>\n",
       "</div>"
      ],
      "text/plain": [
       "   log_Words_Comment\n",
       "0           1.012604\n",
       "1           1.012604\n",
       "2           0.988139\n",
       "3           0.963055\n",
       "4           1.438199"
      ]
     },
     "execution_count": 167,
     "metadata": {},
     "output_type": "execute_result"
    }
   ],
   "source": [
    "# select numerical features; target for prediction = Stars\n",
    "# with company feature, possible supplier separation feasible\n",
    "target=eon_scaled['Stars_geq4_TF']\n",
    "\n",
    "feats_simple = eon_scaled.drop(['Stars_geq4_TF', 'log_Words_Headline', 'log_Words_Answer'], axis=1)\n",
    "feats_simple.head() "
   ]
  },
  {
   "cell_type": "markdown",
   "id": "8432dfef-1c36-437b-8320-fe019ee7a24f",
   "metadata": {
    "tags": []
   },
   "source": [
    "## E.ON SVM Rating prediction based on number of words in customer feedback "
   ]
  },
  {
   "cell_type": "markdown",
   "id": "24587ff0-6e9f-46ac-a324-724b1e42bdb6",
   "metadata": {
    "tags": []
   },
   "source": [
    "### Training and Tuning"
   ]
  },
  {
   "cell_type": "code",
   "execution_count": 169,
   "id": "c1b90651-2962-4415-9f19-e366134de0b7",
   "metadata": {},
   "outputs": [],
   "source": [
    "# create training and test set\n",
    "from sklearn.model_selection import train_test_split\n",
    "X_train, X_test, y_train, y_test = train_test_split(feats_simple, target, test_size=0.2, random_state=42)"
   ]
  },
  {
   "cell_type": "code",
   "execution_count": 171,
   "id": "f9332db3-d654-4a5c-8da9-02236bfde842",
   "metadata": {},
   "outputs": [],
   "source": [
    "# import model\n",
    "from sklearn import svm"
   ]
  },
  {
   "cell_type": "code",
   "execution_count": 173,
   "id": "97174768-40af-4e91-a6d5-79273a96e139",
   "metadata": {},
   "outputs": [
    {
     "name": "stdout",
     "output_type": "stream",
     "text": [
      "SVM simple model score test set: 0.824773413897281\n",
      "SVM simple model score train set: 0.8018630412890232\n"
     ]
    }
   ],
   "source": [
    "# fit the model and get the separating hyperplane\n",
    "clf_simple = svm.SVC(kernel=\"rbf\",     # kernel function, default = 'rbf'\n",
    "              C=1.0,            # Regularization parameter\n",
    "              gamma='scale'     # Kernel coefficient for ‘rbf’, ‘poly’ and ‘sigmoid’. default = 'scale'\n",
    "             )\n",
    "clf_simple.fit(X_train, y_train)\n",
    "\n",
    "# Accuracy score\n",
    "print('SVM simple model score test set:', clf_simple.score(X_test, y_test))\n",
    "print('SVM simple model score train set:', clf_simple.score(X_train, y_train))"
   ]
  },
  {
   "cell_type": "code",
   "execution_count": 175,
   "id": "d4fcd410-db88-47a8-8e6c-07c441463e31",
   "metadata": {},
   "outputs": [
    {
     "data": {
      "text/html": [
       "<div>\n",
       "<style scoped>\n",
       "    .dataframe tbody tr th:only-of-type {\n",
       "        vertical-align: middle;\n",
       "    }\n",
       "\n",
       "    .dataframe tbody tr th {\n",
       "        vertical-align: top;\n",
       "    }\n",
       "\n",
       "    .dataframe thead th {\n",
       "        text-align: right;\n",
       "    }\n",
       "</style>\n",
       "<table border=\"1\" class=\"dataframe\">\n",
       "  <thead>\n",
       "    <tr style=\"text-align: right;\">\n",
       "      <th>Predictions</th>\n",
       "      <th>0</th>\n",
       "      <th>1</th>\n",
       "    </tr>\n",
       "    <tr>\n",
       "      <th>True</th>\n",
       "      <th></th>\n",
       "      <th></th>\n",
       "    </tr>\n",
       "  </thead>\n",
       "  <tbody>\n",
       "    <tr>\n",
       "      <th>0</th>\n",
       "      <td>160</td>\n",
       "      <td>127</td>\n",
       "    </tr>\n",
       "    <tr>\n",
       "      <th>1</th>\n",
       "      <td>47</td>\n",
       "      <td>659</td>\n",
       "    </tr>\n",
       "  </tbody>\n",
       "</table>\n",
       "</div>"
      ],
      "text/plain": [
       "Predictions    0    1\n",
       "True                 \n",
       "0            160  127\n",
       "1             47  659"
      ]
     },
     "execution_count": 175,
     "metadata": {},
     "output_type": "execute_result"
    }
   ],
   "source": [
    "# perform predictions and display confusion matrix\n",
    "y_pred = clf_simple.predict(X_test) # test set\n",
    "y_pred_train = clf_simple.predict(X_train)  # training set\n",
    "\n",
    "# Confusion matrix\n",
    "pd.crosstab(y_test, y_pred, rownames=['True'], colnames=['Predictions'])"
   ]
  },
  {
   "cell_type": "code",
   "execution_count": 177,
   "id": "335e536b-d39a-4561-8664-1897013ed570",
   "metadata": {},
   "outputs": [
    {
     "name": "stdout",
     "output_type": "stream",
     "text": [
      "Classification report (simple model):\n",
      "               precision    recall  f1-score   support\n",
      "\n",
      "           0       0.77      0.56      0.65       287\n",
      "           1       0.84      0.93      0.88       706\n",
      "\n",
      "    accuracy                           0.82       993\n",
      "   macro avg       0.81      0.75      0.77       993\n",
      "weighted avg       0.82      0.82      0.82       993\n",
      "\n"
     ]
    }
   ],
   "source": [
    "from sklearn.metrics import f1_score, classification_report\n",
    "\n",
    "# classification report\n",
    "print(\"Classification report (simple model):\\n\", classification_report(y_test, y_pred, zero_division=True))"
   ]
  },
  {
   "cell_type": "code",
   "execution_count": 179,
   "id": "cc511be4-e9b7-417c-ad33-eeec4ceb43ef",
   "metadata": {},
   "outputs": [
    {
     "name": "stdout",
     "output_type": "stream",
     "text": [
      "Classification report (simple model) train set:\n",
      "               precision    recall  f1-score   support\n",
      "\n",
      "           0       0.77      0.51      0.61      1220\n",
      "           1       0.81      0.93      0.87      2752\n",
      "\n",
      "    accuracy                           0.80      3972\n",
      "   macro avg       0.79      0.72      0.74      3972\n",
      "weighted avg       0.80      0.80      0.79      3972\n",
      "\n"
     ]
    }
   ],
   "source": [
    "# classification report\n",
    "print(\"Classification report (simple model) train set:\\n\", classification_report(y_train, y_pred_train, zero_division=True))"
   ]
  },
  {
   "cell_type": "markdown",
   "id": "f7757d5e-01b8-419f-8413-1d43b7b8196b",
   "metadata": {
    "tags": []
   },
   "source": [
    "Performance Metrics\n",
    "\n",
    "We can see an improvement with the binary classification, although we still face an imbalanced data-set. No overfitting.\n"
   ]
  },
  {
   "cell_type": "markdown",
   "id": "5483b0c2-6876-4c96-b789-7ad0f488ceb4",
   "metadata": {
    "jp-MarkdownHeadingCollapsed": true
   },
   "source": [
    "### Tuning and Refitting model"
   ]
  },
  {
   "cell_type": "code",
   "execution_count": null,
   "id": "8a11de0d-9e92-46da-93d8-227bf13ae6d0",
   "metadata": {},
   "outputs": [],
   "source": [
    "# fit the model and provide for imbalanced data set and multi-class decision\n",
    "clf_simple = svm.SVC(kernel=\"rbf\",     # kernel function, default = 'rbf'\n",
    "              C=1.0,            # Regularization parameter\n",
    "              gamma='scale',     # Kernel coefficient for ‘rbf’, ‘poly’ and ‘sigmoid’. default = 'scale'\n",
    "              class_weight='balanced', # to mitigate the imbalanced data set\n",
    "              decision_function_shape='ovo' # default = one-vs-rest (‘ovr’) decision \n",
    "             )\n",
    "clf_simple.fit(X_train, y_train)\n",
    "\n",
    "# Accuracy score\n",
    "print('SVM simple tuned score test set:', clf_simple.score(X_test, y_test))\n",
    "print('SVM simple tuned score train set:', clf_simple.score(X_train, y_train))"
   ]
  },
  {
   "cell_type": "code",
   "execution_count": null,
   "id": "7fddd9ae-6433-45de-9e8a-ad6da782d212",
   "metadata": {},
   "outputs": [],
   "source": [
    "# perform predictions and display confusion matrix\n",
    "y_pred = clf_simple.predict(X_test) # test set\n",
    "y_pred_train = clf_simple.predict(X_train) # test set\n",
    "\n",
    "# Confusion matrix\n",
    "pd.crosstab(y_test, y_pred, rownames=['True'], colnames=['Predictions'])"
   ]
  },
  {
   "cell_type": "code",
   "execution_count": null,
   "id": "4774ba48-0f9d-49d3-9f83-aa6f09ddc031",
   "metadata": {},
   "outputs": [],
   "source": [
    "# classification report\n",
    "print(\"Classification report SVM simple with class weight:\\n\", classification_report(y_test, y_pred))"
   ]
  },
  {
   "cell_type": "code",
   "execution_count": null,
   "id": "06064f3a-b66b-4bfd-a57f-54a79d3481d1",
   "metadata": {},
   "outputs": [],
   "source": [
    "# classification report train set\n",
    "print(\"Classification report SVM simple with class weight training set:\\n\", classification_report(y_train, y_pred_train))"
   ]
  },
  {
   "cell_type": "markdown",
   "id": "8097646e-85cb-4636-bf03-1494d0941a4a",
   "metadata": {},
   "source": [
    "With imbalanced parameters, we can see some improvement for the non-dominant class 0, to the detriment of class 1. No overfitting.\n",
    "\n",
    "We will compare results after using more features."
   ]
  },
  {
   "cell_type": "code",
   "execution_count": null,
   "id": "9ca76ac7-c175-4286-af5f-efde192a43f4",
   "metadata": {},
   "outputs": [],
   "source": []
  },
  {
   "cell_type": "code",
   "execution_count": null,
   "id": "1ae6a2c8-b337-4d90-ba2e-c272d81de4d0",
   "metadata": {},
   "outputs": [],
   "source": []
  },
  {
   "cell_type": "markdown",
   "id": "67f5c150-4bc9-4d64-a07c-12f0216bf051",
   "metadata": {
    "tags": []
   },
   "source": [
    "## E.ON SVM Rating prediction based on word count in customer feedback and headline"
   ]
  },
  {
   "cell_type": "markdown",
   "id": "0263d07d-f6c0-47d2-9f47-0c6c4f73a047",
   "metadata": {},
   "source": [
    "As we learned during data exploration, E.ON answers are standarized so we cannot include this feature in our prediction."
   ]
  },
  {
   "cell_type": "markdown",
   "id": "056fb04d-ba91-4009-a277-0b53abcd929d",
   "metadata": {
    "tags": []
   },
   "source": [
    "### Separate features and target"
   ]
  },
  {
   "cell_type": "code",
   "execution_count": 181,
   "id": "d00e2f1e-8dd8-4b28-b7c8-3bc20b481bec",
   "metadata": {},
   "outputs": [
    {
     "data": {
      "text/html": [
       "<div>\n",
       "<style scoped>\n",
       "    .dataframe tbody tr th:only-of-type {\n",
       "        vertical-align: middle;\n",
       "    }\n",
       "\n",
       "    .dataframe tbody tr th {\n",
       "        vertical-align: top;\n",
       "    }\n",
       "\n",
       "    .dataframe thead th {\n",
       "        text-align: right;\n",
       "    }\n",
       "</style>\n",
       "<table border=\"1\" class=\"dataframe\">\n",
       "  <thead>\n",
       "    <tr style=\"text-align: right;\">\n",
       "      <th></th>\n",
       "      <th>log_Words_Headline</th>\n",
       "      <th>log_Words_Comment</th>\n",
       "      <th>log_Words_Answer</th>\n",
       "      <th>Stars_geq4_TF</th>\n",
       "    </tr>\n",
       "  </thead>\n",
       "  <tbody>\n",
       "    <tr>\n",
       "      <th>0</th>\n",
       "      <td>-0.848953</td>\n",
       "      <td>1.012604</td>\n",
       "      <td>-0.648373</td>\n",
       "      <td>1</td>\n",
       "    </tr>\n",
       "    <tr>\n",
       "      <th>1</th>\n",
       "      <td>0.909969</td>\n",
       "      <td>1.012604</td>\n",
       "      <td>-0.648373</td>\n",
       "      <td>1</td>\n",
       "    </tr>\n",
       "    <tr>\n",
       "      <th>2</th>\n",
       "      <td>0.260804</td>\n",
       "      <td>0.988139</td>\n",
       "      <td>1.535240</td>\n",
       "      <td>0</td>\n",
       "    </tr>\n",
       "    <tr>\n",
       "      <th>3</th>\n",
       "      <td>1.727822</td>\n",
       "      <td>0.963055</td>\n",
       "      <td>-0.648373</td>\n",
       "      <td>1</td>\n",
       "    </tr>\n",
       "    <tr>\n",
       "      <th>4</th>\n",
       "      <td>0.618065</td>\n",
       "      <td>1.438199</td>\n",
       "      <td>-0.648373</td>\n",
       "      <td>1</td>\n",
       "    </tr>\n",
       "  </tbody>\n",
       "</table>\n",
       "</div>"
      ],
      "text/plain": [
       "   log_Words_Headline  log_Words_Comment  log_Words_Answer  Stars_geq4_TF\n",
       "0           -0.848953           1.012604         -0.648373              1\n",
       "1            0.909969           1.012604         -0.648373              1\n",
       "2            0.260804           0.988139          1.535240              0\n",
       "3            1.727822           0.963055         -0.648373              1\n",
       "4            0.618065           1.438199         -0.648373              1"
      ]
     },
     "execution_count": 181,
     "metadata": {},
     "output_type": "execute_result"
    }
   ],
   "source": [
    "eon_scaled.head()"
   ]
  },
  {
   "cell_type": "code",
   "execution_count": 185,
   "id": "7717953b-b948-4c94-9073-784255ff0860",
   "metadata": {},
   "outputs": [
    {
     "data": {
      "text/html": [
       "<div>\n",
       "<style scoped>\n",
       "    .dataframe tbody tr th:only-of-type {\n",
       "        vertical-align: middle;\n",
       "    }\n",
       "\n",
       "    .dataframe tbody tr th {\n",
       "        vertical-align: top;\n",
       "    }\n",
       "\n",
       "    .dataframe thead th {\n",
       "        text-align: right;\n",
       "    }\n",
       "</style>\n",
       "<table border=\"1\" class=\"dataframe\">\n",
       "  <thead>\n",
       "    <tr style=\"text-align: right;\">\n",
       "      <th></th>\n",
       "      <th>log_Words_Headline</th>\n",
       "      <th>log_Words_Comment</th>\n",
       "    </tr>\n",
       "  </thead>\n",
       "  <tbody>\n",
       "    <tr>\n",
       "      <th>0</th>\n",
       "      <td>-0.848953</td>\n",
       "      <td>1.012604</td>\n",
       "    </tr>\n",
       "    <tr>\n",
       "      <th>1</th>\n",
       "      <td>0.909969</td>\n",
       "      <td>1.012604</td>\n",
       "    </tr>\n",
       "    <tr>\n",
       "      <th>2</th>\n",
       "      <td>0.260804</td>\n",
       "      <td>0.988139</td>\n",
       "    </tr>\n",
       "    <tr>\n",
       "      <th>3</th>\n",
       "      <td>1.727822</td>\n",
       "      <td>0.963055</td>\n",
       "    </tr>\n",
       "    <tr>\n",
       "      <th>4</th>\n",
       "      <td>0.618065</td>\n",
       "      <td>1.438199</td>\n",
       "    </tr>\n",
       "  </tbody>\n",
       "</table>\n",
       "</div>"
      ],
      "text/plain": [
       "   log_Words_Headline  log_Words_Comment\n",
       "0           -0.848953           1.012604\n",
       "1            0.909969           1.012604\n",
       "2            0.260804           0.988139\n",
       "3            1.727822           0.963055\n",
       "4            0.618065           1.438199"
      ]
     },
     "execution_count": 185,
     "metadata": {},
     "output_type": "execute_result"
    }
   ],
   "source": [
    "# select numerical features; target for prediction = Stars\n",
    "# with company feature, possible supplier separation feasible\n",
    "target=eon_scaled['Stars_geq4_TF']\n",
    "\n",
    "feats = eon_scaled.drop(['Stars_geq4_TF', 'log_Words_Answer'], axis=1)\n",
    "feats.head() "
   ]
  },
  {
   "cell_type": "markdown",
   "id": "6dae8e4d-b04a-4809-b7ef-f1f972943187",
   "metadata": {
    "tags": []
   },
   "source": [
    "### Training and Tuning"
   ]
  },
  {
   "cell_type": "code",
   "execution_count": 187,
   "id": "99ff85e2-271d-413d-b21d-4fa7a6e3783f",
   "metadata": {},
   "outputs": [],
   "source": [
    "# create training and test set\n",
    "from sklearn.model_selection import train_test_split\n",
    "X_train, X_test, y_train, y_test = train_test_split(feats, target, test_size=0.2, random_state=42)"
   ]
  },
  {
   "cell_type": "code",
   "execution_count": 189,
   "id": "919e6d89-3c8a-432c-937f-619781bc9243",
   "metadata": {},
   "outputs": [],
   "source": [
    "# import model\n",
    "from sklearn import svm"
   ]
  },
  {
   "cell_type": "code",
   "execution_count": 191,
   "id": "2e925598-88d4-4065-81c7-ae1e9eb0692a",
   "metadata": {},
   "outputs": [
    {
     "name": "stdout",
     "output_type": "stream",
     "text": [
      "SVM score test set: 0.8207452165156093\n",
      "SVM score train set: 0.8011077542799597\n"
     ]
    }
   ],
   "source": [
    "# fit the model and get the separating hyperplane\n",
    "clf_simple = svm.SVC(kernel=\"rbf\",     # kernel function, default = 'rbf'\n",
    "              C=1.0,            # Regularization parameter\n",
    "              gamma='scale'     # Kernel coefficient for ‘rbf’, ‘poly’ and ‘sigmoid’. default = 'scale'\n",
    "             )\n",
    "clf_simple.fit(X_train, y_train)\n",
    "\n",
    "# Accuracy score\n",
    "print('SVM score test set:', clf_simple.score(X_test, y_test))\n",
    "print('SVM score train set:', clf_simple.score(X_train, y_train))\n"
   ]
  },
  {
   "cell_type": "code",
   "execution_count": 193,
   "id": "68dab010-a561-4144-a5b0-7631fcb86c18",
   "metadata": {},
   "outputs": [
    {
     "data": {
      "text/html": [
       "<div>\n",
       "<style scoped>\n",
       "    .dataframe tbody tr th:only-of-type {\n",
       "        vertical-align: middle;\n",
       "    }\n",
       "\n",
       "    .dataframe tbody tr th {\n",
       "        vertical-align: top;\n",
       "    }\n",
       "\n",
       "    .dataframe thead th {\n",
       "        text-align: right;\n",
       "    }\n",
       "</style>\n",
       "<table border=\"1\" class=\"dataframe\">\n",
       "  <thead>\n",
       "    <tr style=\"text-align: right;\">\n",
       "      <th>Predictions</th>\n",
       "      <th>0</th>\n",
       "      <th>1</th>\n",
       "    </tr>\n",
       "    <tr>\n",
       "      <th>True</th>\n",
       "      <th></th>\n",
       "      <th></th>\n",
       "    </tr>\n",
       "  </thead>\n",
       "  <tbody>\n",
       "    <tr>\n",
       "      <th>0</th>\n",
       "      <td>153</td>\n",
       "      <td>134</td>\n",
       "    </tr>\n",
       "    <tr>\n",
       "      <th>1</th>\n",
       "      <td>44</td>\n",
       "      <td>662</td>\n",
       "    </tr>\n",
       "  </tbody>\n",
       "</table>\n",
       "</div>"
      ],
      "text/plain": [
       "Predictions    0    1\n",
       "True                 \n",
       "0            153  134\n",
       "1             44  662"
      ]
     },
     "execution_count": 193,
     "metadata": {},
     "output_type": "execute_result"
    }
   ],
   "source": [
    "# perform predictions and display confusion matrix\n",
    "y_pred = clf_simple.predict(X_test) # test set\n",
    "y_pred_train = clf_simple.predict(X_train) # train set\n",
    "\n",
    "# Confusion matrix\n",
    "pd.crosstab(y_test, y_pred, rownames=['True'], colnames=['Predictions'])"
   ]
  },
  {
   "cell_type": "code",
   "execution_count": 195,
   "id": "55ac1159-af7f-4bce-8938-973814187a95",
   "metadata": {},
   "outputs": [
    {
     "name": "stdout",
     "output_type": "stream",
     "text": [
      "Classification report (simple model):\n",
      "               precision    recall  f1-score   support\n",
      "\n",
      "           0       0.78      0.53      0.63       287\n",
      "           1       0.83      0.94      0.88       706\n",
      "\n",
      "    accuracy                           0.82       993\n",
      "   macro avg       0.80      0.74      0.76       993\n",
      "weighted avg       0.82      0.82      0.81       993\n",
      "\n"
     ]
    }
   ],
   "source": [
    "from sklearn.metrics import f1_score, classification_report\n",
    "\n",
    "# classification report\n",
    "print(\"Classification report (simple model):\\n\", classification_report(y_test, y_pred, zero_division=True))"
   ]
  },
  {
   "cell_type": "code",
   "execution_count": 197,
   "id": "96c11a89-704d-4784-8d28-9df31b59e935",
   "metadata": {},
   "outputs": [
    {
     "name": "stdout",
     "output_type": "stream",
     "text": [
      "Classification report (simple model) training set:\n",
      "               precision    recall  f1-score   support\n",
      "\n",
      "           0       0.78      0.49      0.60      1220\n",
      "           1       0.81      0.94      0.87      2752\n",
      "\n",
      "    accuracy                           0.80      3972\n",
      "   macro avg       0.79      0.71      0.73      3972\n",
      "weighted avg       0.80      0.80      0.79      3972\n",
      "\n"
     ]
    }
   ],
   "source": [
    "# classification report train set\n",
    "print(\"Classification report (simple model) training set:\\n\", classification_report(y_train, y_pred_train))"
   ]
  },
  {
   "cell_type": "markdown",
   "id": "242f1ffe-3fee-42b3-a118-2cd0c2e2d0d2",
   "metadata": {
    "tags": []
   },
   "source": [
    "Performance Metrics\n",
    "\n",
    "With the additional information from headline, the standard algorithm does not show improvement. No overfitting."
   ]
  },
  {
   "cell_type": "markdown",
   "id": "ab701c00-957f-46ad-8d0c-142e5a020c82",
   "metadata": {},
   "source": [
    "### Tuning and refitting model"
   ]
  },
  {
   "cell_type": "code",
   "execution_count": 199,
   "id": "e5644121-5613-4d50-ac69-7379c3ad14f1",
   "metadata": {},
   "outputs": [
    {
     "name": "stdout",
     "output_type": "stream",
     "text": [
      "SVM simple tuned score test set: 0.7945619335347432\n",
      "SVM simple tuned score train set: 0.7648539778449144\n"
     ]
    }
   ],
   "source": [
    "# fit the model and provide for imbalanced data set and multi-class decision\n",
    "clf_simple = svm.SVC(kernel=\"rbf\",     # kernel function, default = 'rbf'\n",
    "              C=1.0,            # Regularization parameter\n",
    "              gamma='scale',     # Kernel coefficient for ‘rbf’, ‘poly’ and ‘sigmoid’. default = 'scale'\n",
    "              class_weight='balanced', # to mitigate the imbalanced data set\n",
    "              decision_function_shape='ovo' # default = one-vs-rest (‘ovr’) decision \n",
    "             )\n",
    "clf_simple.fit(X_train, y_train)\n",
    "\n",
    "# Accuracy score\n",
    "print('SVM simple tuned score test set:', clf_simple.score(X_test, y_test))\n",
    "print('SVM simple tuned score train set:', clf_simple.score(X_train, y_train))"
   ]
  },
  {
   "cell_type": "code",
   "execution_count": 201,
   "id": "33d5d8a8-0c90-485e-b62b-adf73adf8614",
   "metadata": {},
   "outputs": [
    {
     "data": {
      "text/html": [
       "<div>\n",
       "<style scoped>\n",
       "    .dataframe tbody tr th:only-of-type {\n",
       "        vertical-align: middle;\n",
       "    }\n",
       "\n",
       "    .dataframe tbody tr th {\n",
       "        vertical-align: top;\n",
       "    }\n",
       "\n",
       "    .dataframe thead th {\n",
       "        text-align: right;\n",
       "    }\n",
       "</style>\n",
       "<table border=\"1\" class=\"dataframe\">\n",
       "  <thead>\n",
       "    <tr style=\"text-align: right;\">\n",
       "      <th>Predictions</th>\n",
       "      <th>0</th>\n",
       "      <th>1</th>\n",
       "    </tr>\n",
       "    <tr>\n",
       "      <th>True</th>\n",
       "      <th></th>\n",
       "      <th></th>\n",
       "    </tr>\n",
       "  </thead>\n",
       "  <tbody>\n",
       "    <tr>\n",
       "      <th>0</th>\n",
       "      <td>233</td>\n",
       "      <td>54</td>\n",
       "    </tr>\n",
       "    <tr>\n",
       "      <th>1</th>\n",
       "      <td>150</td>\n",
       "      <td>556</td>\n",
       "    </tr>\n",
       "  </tbody>\n",
       "</table>\n",
       "</div>"
      ],
      "text/plain": [
       "Predictions    0    1\n",
       "True                 \n",
       "0            233   54\n",
       "1            150  556"
      ]
     },
     "execution_count": 201,
     "metadata": {},
     "output_type": "execute_result"
    }
   ],
   "source": [
    "# perform predictions and display confusion matrix\n",
    "y_pred = clf_simple.predict(X_test) # test set\n",
    "y_pred_train = clf_simple.predict(X_train) # test set\n",
    "\n",
    "# Confusion matrix\n",
    "pd.crosstab(y_test, y_pred, rownames=['True'], colnames=['Predictions'])"
   ]
  },
  {
   "cell_type": "code",
   "execution_count": 203,
   "id": "ea4284f4-202f-40c6-bf79-45d5aad4a379",
   "metadata": {},
   "outputs": [
    {
     "name": "stdout",
     "output_type": "stream",
     "text": [
      "Classification report SVM simple with class weight:\n",
      "               precision    recall  f1-score   support\n",
      "\n",
      "           0       0.61      0.81      0.70       287\n",
      "           1       0.91      0.79      0.84       706\n",
      "\n",
      "    accuracy                           0.79       993\n",
      "   macro avg       0.76      0.80      0.77       993\n",
      "weighted avg       0.82      0.79      0.80       993\n",
      "\n"
     ]
    }
   ],
   "source": [
    "# classification report\n",
    "print(\"Classification report SVM simple with class weight:\\n\", classification_report(y_test, y_pred))"
   ]
  },
  {
   "cell_type": "code",
   "execution_count": 205,
   "id": "abecb7ce-8076-428c-a807-afcccf4ee3af",
   "metadata": {},
   "outputs": [
    {
     "name": "stdout",
     "output_type": "stream",
     "text": [
      "Classification report SVM simple with class weight training set:\n",
      "               precision    recall  f1-score   support\n",
      "\n",
      "           0       0.60      0.71      0.65      1220\n",
      "           1       0.86      0.79      0.82      2752\n",
      "\n",
      "    accuracy                           0.76      3972\n",
      "   macro avg       0.73      0.75      0.74      3972\n",
      "weighted avg       0.78      0.76      0.77      3972\n",
      "\n"
     ]
    }
   ],
   "source": [
    "# classification report train set\n",
    "print(\"Classification report SVM simple with class weight training set:\\n\", classification_report(y_train, y_pred_train))"
   ]
  },
  {
   "cell_type": "markdown",
   "id": "1d7fa7f8-446b-4711-aa5e-8b429b09ed94",
   "metadata": {},
   "source": [
    "Interpretation:\n",
    "\n",
    "With imbalanced parameters, we can see again minimal improvement for the non-dominant class 0, to the detriment of class 1. No overfitting.\n"
   ]
  },
  {
   "cell_type": "markdown",
   "id": "3b498e7a-2883-4cfe-947c-454067521505",
   "metadata": {},
   "source": [
    "## E.ON Random Forest Rating prediction based on customer feedback and supplier answers"
   ]
  },
  {
   "cell_type": "markdown",
   "id": "7fc1380e-e58a-4aea-a28a-13070aa5be09",
   "metadata": {},
   "source": [
    "We are trying random forest next which  is a meta estimator that fits a number of decision tree classifiers on various sub-samples of the dataset and uses averaging to improve the predictive accuracy and control over-fitting. With this model we will keep all numerical features and do not need scaling, as it is aa tree-based model.\n",
    "\n",
    "Links: \n",
    "\n",
    "https://scikit-learn.org/stable/modules/generated/sklearn.ensemble.RandomForestClassifier.html\n",
    "\n",
    "https://forecastegy.com/posts/does-random-forest-need-feature-scaling-or-normalization/#:~:text=Random%20Forest%20is%20a%20tree,can%20be%20skipped%20during%20preprocessing."
   ]
  },
  {
   "cell_type": "markdown",
   "id": "81d0537b-a50c-4ece-b9f4-4a00e6a5e651",
   "metadata": {},
   "source": [
    "### Import and Training of simple model"
   ]
  },
  {
   "cell_type": "code",
   "execution_count": 207,
   "id": "712418ac-65f9-4d68-944c-35fc5ac6dcd0",
   "metadata": {},
   "outputs": [
    {
     "data": {
      "text/html": [
       "<div>\n",
       "<style scoped>\n",
       "    .dataframe tbody tr th:only-of-type {\n",
       "        vertical-align: middle;\n",
       "    }\n",
       "\n",
       "    .dataframe tbody tr th {\n",
       "        vertical-align: top;\n",
       "    }\n",
       "\n",
       "    .dataframe thead th {\n",
       "        text-align: right;\n",
       "    }\n",
       "</style>\n",
       "<table border=\"1\" class=\"dataframe\">\n",
       "  <thead>\n",
       "    <tr style=\"text-align: right;\">\n",
       "      <th></th>\n",
       "      <th>Comment</th>\n",
       "      <th>log_Words_Headline</th>\n",
       "      <th>log_Words_Comment</th>\n",
       "      <th>log_Words_Answer</th>\n",
       "      <th>Stars_geq4_TF</th>\n",
       "    </tr>\n",
       "  </thead>\n",
       "  <tbody>\n",
       "    <tr>\n",
       "      <th>0</th>\n",
       "      <td>Korrekte Auflistung des Zählerstandes und Verb...</td>\n",
       "      <td>0.693147</td>\n",
       "      <td>3.713572</td>\n",
       "      <td>3.988984</td>\n",
       "      <td>1</td>\n",
       "    </tr>\n",
       "    <tr>\n",
       "      <th>1</th>\n",
       "      <td>Leichte Eingabe der Daten und schneller Wechse...</td>\n",
       "      <td>1.791759</td>\n",
       "      <td>3.713572</td>\n",
       "      <td>3.988984</td>\n",
       "      <td>1</td>\n",
       "    </tr>\n",
       "    <tr>\n",
       "      <th>2</th>\n",
       "      <td>Hallo,Leider muss man sich mehr Fach mit dem S...</td>\n",
       "      <td>1.386294</td>\n",
       "      <td>3.688879</td>\n",
       "      <td>4.795791</td>\n",
       "      <td>0</td>\n",
       "    </tr>\n",
       "    <tr>\n",
       "      <th>3</th>\n",
       "      <td>Ich bin rundum zufrieden mit e-on. Umzug mit Ü...</td>\n",
       "      <td>2.302585</td>\n",
       "      <td>3.663562</td>\n",
       "      <td>3.988984</td>\n",
       "      <td>1</td>\n",
       "    </tr>\n",
       "    <tr>\n",
       "      <th>4</th>\n",
       "      <td>Alles korrekt.  Allerdings erscheint bei uns n...</td>\n",
       "      <td>1.609438</td>\n",
       "      <td>4.143135</td>\n",
       "      <td>3.988984</td>\n",
       "      <td>1</td>\n",
       "    </tr>\n",
       "  </tbody>\n",
       "</table>\n",
       "</div>"
      ],
      "text/plain": [
       "                                             Comment  log_Words_Headline  \\\n",
       "0  Korrekte Auflistung des Zählerstandes und Verb...            0.693147   \n",
       "1  Leichte Eingabe der Daten und schneller Wechse...            1.791759   \n",
       "2  Hallo,Leider muss man sich mehr Fach mit dem S...            1.386294   \n",
       "3  Ich bin rundum zufrieden mit e-on. Umzug mit Ü...            2.302585   \n",
       "4  Alles korrekt.  Allerdings erscheint bei uns n...            1.609438   \n",
       "\n",
       "   log_Words_Comment  log_Words_Answer  Stars_geq4_TF  \n",
       "0           3.713572          3.988984              1  \n",
       "1           3.713572          3.988984              1  \n",
       "2           3.688879          4.795791              0  \n",
       "3           3.663562          3.988984              1  \n",
       "4           4.143135          3.988984              1  "
      ]
     },
     "execution_count": 207,
     "metadata": {},
     "output_type": "execute_result"
    }
   ],
   "source": [
    "# Import cleaned data set, no scaling needed\n",
    "eon_clean = pd.read_csv(\"eon_clean.csv\")\n",
    "eon_clean.head()"
   ]
  },
  {
   "cell_type": "code",
   "execution_count": 209,
   "id": "3c5d020c-e6a7-43c4-acd6-bb05349d154a",
   "metadata": {},
   "outputs": [
    {
     "data": {
      "text/html": [
       "<div>\n",
       "<style scoped>\n",
       "    .dataframe tbody tr th:only-of-type {\n",
       "        vertical-align: middle;\n",
       "    }\n",
       "\n",
       "    .dataframe tbody tr th {\n",
       "        vertical-align: top;\n",
       "    }\n",
       "\n",
       "    .dataframe thead th {\n",
       "        text-align: right;\n",
       "    }\n",
       "</style>\n",
       "<table border=\"1\" class=\"dataframe\">\n",
       "  <thead>\n",
       "    <tr style=\"text-align: right;\">\n",
       "      <th></th>\n",
       "      <th>log_Words_Headline</th>\n",
       "      <th>log_Words_Comment</th>\n",
       "    </tr>\n",
       "  </thead>\n",
       "  <tbody>\n",
       "    <tr>\n",
       "      <th>0</th>\n",
       "      <td>0.693147</td>\n",
       "      <td>3.713572</td>\n",
       "    </tr>\n",
       "    <tr>\n",
       "      <th>1</th>\n",
       "      <td>1.791759</td>\n",
       "      <td>3.713572</td>\n",
       "    </tr>\n",
       "    <tr>\n",
       "      <th>2</th>\n",
       "      <td>1.386294</td>\n",
       "      <td>3.688879</td>\n",
       "    </tr>\n",
       "    <tr>\n",
       "      <th>3</th>\n",
       "      <td>2.302585</td>\n",
       "      <td>3.663562</td>\n",
       "    </tr>\n",
       "    <tr>\n",
       "      <th>4</th>\n",
       "      <td>1.609438</td>\n",
       "      <td>4.143135</td>\n",
       "    </tr>\n",
       "  </tbody>\n",
       "</table>\n",
       "</div>"
      ],
      "text/plain": [
       "   log_Words_Headline  log_Words_Comment\n",
       "0            0.693147           3.713572\n",
       "1            1.791759           3.713572\n",
       "2            1.386294           3.688879\n",
       "3            2.302585           3.663562\n",
       "4            1.609438           4.143135"
      ]
     },
     "execution_count": 209,
     "metadata": {},
     "output_type": "execute_result"
    }
   ],
   "source": [
    "# select numerical features; target for prediction = Stars\n",
    "# with company feature, possible supplier separation feasible\n",
    "target=eon_clean['Stars_geq4_TF']\n",
    "\n",
    "feats_simple2 = eon_clean.drop(['Stars_geq4_TF', 'Comment', 'log_Words_Answer'], axis=1)\n",
    "feats_simple2.head() "
   ]
  },
  {
   "cell_type": "code",
   "execution_count": 211,
   "id": "afe1323d-9f20-4003-94cc-e2e1201633f3",
   "metadata": {},
   "outputs": [],
   "source": [
    "# create training and test set\n",
    "from sklearn.model_selection import train_test_split\n",
    "X_train, X_test, y_train, y_test = train_test_split(feats_simple2, target, test_size=0.2, random_state=47)"
   ]
  },
  {
   "cell_type": "code",
   "execution_count": null,
   "id": "3facd659-2a44-43a2-9c75-93ea619a9196",
   "metadata": {},
   "outputs": [],
   "source": []
  },
  {
   "cell_type": "code",
   "execution_count": 213,
   "id": "df2e3e42-3b31-4b94-93df-e7ff19e8cd3a",
   "metadata": {},
   "outputs": [
    {
     "data": {
      "text/html": [
       "<style>#sk-container-id-4 {color: black;}#sk-container-id-4 pre{padding: 0;}#sk-container-id-4 div.sk-toggleable {background-color: white;}#sk-container-id-4 label.sk-toggleable__label {cursor: pointer;display: block;width: 100%;margin-bottom: 0;padding: 0.3em;box-sizing: border-box;text-align: center;}#sk-container-id-4 label.sk-toggleable__label-arrow:before {content: \"▸\";float: left;margin-right: 0.25em;color: #696969;}#sk-container-id-4 label.sk-toggleable__label-arrow:hover:before {color: black;}#sk-container-id-4 div.sk-estimator:hover label.sk-toggleable__label-arrow:before {color: black;}#sk-container-id-4 div.sk-toggleable__content {max-height: 0;max-width: 0;overflow: hidden;text-align: left;background-color: #f0f8ff;}#sk-container-id-4 div.sk-toggleable__content pre {margin: 0.2em;color: black;border-radius: 0.25em;background-color: #f0f8ff;}#sk-container-id-4 input.sk-toggleable__control:checked~div.sk-toggleable__content {max-height: 200px;max-width: 100%;overflow: auto;}#sk-container-id-4 input.sk-toggleable__control:checked~label.sk-toggleable__label-arrow:before {content: \"▾\";}#sk-container-id-4 div.sk-estimator input.sk-toggleable__control:checked~label.sk-toggleable__label {background-color: #d4ebff;}#sk-container-id-4 div.sk-label input.sk-toggleable__control:checked~label.sk-toggleable__label {background-color: #d4ebff;}#sk-container-id-4 input.sk-hidden--visually {border: 0;clip: rect(1px 1px 1px 1px);clip: rect(1px, 1px, 1px, 1px);height: 1px;margin: -1px;overflow: hidden;padding: 0;position: absolute;width: 1px;}#sk-container-id-4 div.sk-estimator {font-family: monospace;background-color: #f0f8ff;border: 1px dotted black;border-radius: 0.25em;box-sizing: border-box;margin-bottom: 0.5em;}#sk-container-id-4 div.sk-estimator:hover {background-color: #d4ebff;}#sk-container-id-4 div.sk-parallel-item::after {content: \"\";width: 100%;border-bottom: 1px solid gray;flex-grow: 1;}#sk-container-id-4 div.sk-label:hover label.sk-toggleable__label {background-color: #d4ebff;}#sk-container-id-4 div.sk-serial::before {content: \"\";position: absolute;border-left: 1px solid gray;box-sizing: border-box;top: 0;bottom: 0;left: 50%;z-index: 0;}#sk-container-id-4 div.sk-serial {display: flex;flex-direction: column;align-items: center;background-color: white;padding-right: 0.2em;padding-left: 0.2em;position: relative;}#sk-container-id-4 div.sk-item {position: relative;z-index: 1;}#sk-container-id-4 div.sk-parallel {display: flex;align-items: stretch;justify-content: center;background-color: white;position: relative;}#sk-container-id-4 div.sk-item::before, #sk-container-id-4 div.sk-parallel-item::before {content: \"\";position: absolute;border-left: 1px solid gray;box-sizing: border-box;top: 0;bottom: 0;left: 50%;z-index: -1;}#sk-container-id-4 div.sk-parallel-item {display: flex;flex-direction: column;z-index: 1;position: relative;background-color: white;}#sk-container-id-4 div.sk-parallel-item:first-child::after {align-self: flex-end;width: 50%;}#sk-container-id-4 div.sk-parallel-item:last-child::after {align-self: flex-start;width: 50%;}#sk-container-id-4 div.sk-parallel-item:only-child::after {width: 0;}#sk-container-id-4 div.sk-dashed-wrapped {border: 1px dashed gray;margin: 0 0.4em 0.5em 0.4em;box-sizing: border-box;padding-bottom: 0.4em;background-color: white;}#sk-container-id-4 div.sk-label label {font-family: monospace;font-weight: bold;display: inline-block;line-height: 1.2em;}#sk-container-id-4 div.sk-label-container {text-align: center;}#sk-container-id-4 div.sk-container {/* jupyter's `normalize.less` sets `[hidden] { display: none; }` but bootstrap.min.css set `[hidden] { display: none !important; }` so we also need the `!important` here to be able to override the default hidden behavior on the sphinx rendered scikit-learn.org. See: https://github.com/scikit-learn/scikit-learn/issues/21755 */display: inline-block !important;position: relative;}#sk-container-id-4 div.sk-text-repr-fallback {display: none;}</style><div id=\"sk-container-id-4\" class=\"sk-top-container\"><div class=\"sk-text-repr-fallback\"><pre>RandomForestClassifier(n_jobs=-1, random_state=321)</pre><b>In a Jupyter environment, please rerun this cell to show the HTML representation or trust the notebook. <br />On GitHub, the HTML representation is unable to render, please try loading this page with nbviewer.org.</b></div><div class=\"sk-container\" hidden><div class=\"sk-item\"><div class=\"sk-estimator sk-toggleable\"><input class=\"sk-toggleable__control sk-hidden--visually\" id=\"sk-estimator-id-4\" type=\"checkbox\" checked><label for=\"sk-estimator-id-4\" class=\"sk-toggleable__label sk-toggleable__label-arrow\">RandomForestClassifier</label><div class=\"sk-toggleable__content\"><pre>RandomForestClassifier(n_jobs=-1, random_state=321)</pre></div></div></div></div></div>"
      ],
      "text/plain": [
       "RandomForestClassifier(n_jobs=-1, random_state=321)"
      ]
     },
     "execution_count": 213,
     "metadata": {},
     "output_type": "execute_result"
    }
   ],
   "source": [
    "# Creation of the classifier and construction of the model on the training data\n",
    "from sklearn import ensemble\n",
    "clf2 = ensemble.RandomForestClassifier(n_jobs=-1, random_state=321)\n",
    "clf2.fit(X_train, y_train)"
   ]
  },
  {
   "cell_type": "code",
   "execution_count": 215,
   "id": "582271dd-8bd7-471f-ae11-3cc11017daac",
   "metadata": {},
   "outputs": [
    {
     "data": {
      "text/html": [
       "<div>\n",
       "<style scoped>\n",
       "    .dataframe tbody tr th:only-of-type {\n",
       "        vertical-align: middle;\n",
       "    }\n",
       "\n",
       "    .dataframe tbody tr th {\n",
       "        vertical-align: top;\n",
       "    }\n",
       "\n",
       "    .dataframe thead th {\n",
       "        text-align: right;\n",
       "    }\n",
       "</style>\n",
       "<table border=\"1\" class=\"dataframe\">\n",
       "  <thead>\n",
       "    <tr style=\"text-align: right;\">\n",
       "      <th>Prediction</th>\n",
       "      <th>0</th>\n",
       "      <th>1</th>\n",
       "    </tr>\n",
       "    <tr>\n",
       "      <th>True</th>\n",
       "      <th></th>\n",
       "      <th></th>\n",
       "    </tr>\n",
       "  </thead>\n",
       "  <tbody>\n",
       "    <tr>\n",
       "      <th>0</th>\n",
       "      <td>163</td>\n",
       "      <td>154</td>\n",
       "    </tr>\n",
       "    <tr>\n",
       "      <th>1</th>\n",
       "      <td>77</td>\n",
       "      <td>599</td>\n",
       "    </tr>\n",
       "  </tbody>\n",
       "</table>\n",
       "</div>"
      ],
      "text/plain": [
       "Prediction    0    1\n",
       "True                \n",
       "0           163  154\n",
       "1            77  599"
      ]
     },
     "execution_count": 215,
     "metadata": {},
     "output_type": "execute_result"
    }
   ],
   "source": [
    "# Predict test set and store in y_pred\n",
    "y_pred = clf2.predict(X_test) # test set\n",
    "y_pred_train = clf2.predict(X_train) # train set\n",
    "\n",
    "# check result with crosstab\n",
    "pd.crosstab(y_test, y_pred, rownames=['True'], colnames=['Prediction'])\n"
   ]
  },
  {
   "cell_type": "code",
   "execution_count": 217,
   "id": "725eabc3-d109-4f3d-b6b7-1e1c0ba1ea47",
   "metadata": {},
   "outputs": [
    {
     "name": "stdout",
     "output_type": "stream",
     "text": [
      "Score clf2 test set 0.7673716012084593\n",
      "Score clf2 trainset 0.8489425981873112\n"
     ]
    }
   ],
   "source": [
    "# Check score\n",
    "print(\"Score clf2 test set\", clf2.score(X_test, y_test))\n",
    "print(\"Score clf2 trainset\", clf2.score(X_train, y_train))"
   ]
  },
  {
   "cell_type": "code",
   "execution_count": 219,
   "id": "11a0ede4-dbb2-459a-8866-bac87d11477a",
   "metadata": {},
   "outputs": [
    {
     "name": "stdout",
     "output_type": "stream",
     "text": [
      "Classification report:\n",
      "               precision    recall  f1-score   support\n",
      "\n",
      "           0       0.68      0.51      0.59       317\n",
      "           1       0.80      0.89      0.84       676\n",
      "\n",
      "    accuracy                           0.77       993\n",
      "   macro avg       0.74      0.70      0.71       993\n",
      "weighted avg       0.76      0.77      0.76       993\n",
      "\n"
     ]
    }
   ],
   "source": [
    "# classification report\n",
    "from sklearn.metrics import f1_score, classification_report\n",
    "print(\"Classification report:\\n\", classification_report(y_test, y_pred))"
   ]
  },
  {
   "cell_type": "code",
   "execution_count": 221,
   "id": "3ab98e0e-6c27-44af-b6b2-17a10902f39e",
   "metadata": {},
   "outputs": [
    {
     "name": "stdout",
     "output_type": "stream",
     "text": [
      "Classification report train set:\n",
      "               precision    recall  f1-score   support\n",
      "\n",
      "           0       0.84      0.61      0.71      1190\n",
      "           1       0.85      0.95      0.90      2782\n",
      "\n",
      "    accuracy                           0.85      3972\n",
      "   macro avg       0.85      0.78      0.80      3972\n",
      "weighted avg       0.85      0.85      0.84      3972\n",
      "\n"
     ]
    }
   ],
   "source": [
    "print(\"Classification report train set:\\n\", classification_report(y_train, y_pred_train))"
   ]
  },
  {
   "cell_type": "markdown",
   "id": "5b6395de-cb75-4a92-9031-0f657ded1248",
   "metadata": {},
   "source": [
    "Interpretation:\n",
    "\n",
    "The classification report confirms that we see an improvement compared to SVM model, but also see some overfitting.\n"
   ]
  },
  {
   "cell_type": "markdown",
   "id": "5a8d1864-21f8-4d13-9e6e-d07764a3d9df",
   "metadata": {},
   "source": [
    "### Tune and refit model"
   ]
  },
  {
   "cell_type": "code",
   "execution_count": 223,
   "id": "78825f47-403c-41ac-bd39-bc2bad1f3a57",
   "metadata": {},
   "outputs": [
    {
     "data": {
      "text/html": [
       "<style>#sk-container-id-5 {color: black;}#sk-container-id-5 pre{padding: 0;}#sk-container-id-5 div.sk-toggleable {background-color: white;}#sk-container-id-5 label.sk-toggleable__label {cursor: pointer;display: block;width: 100%;margin-bottom: 0;padding: 0.3em;box-sizing: border-box;text-align: center;}#sk-container-id-5 label.sk-toggleable__label-arrow:before {content: \"▸\";float: left;margin-right: 0.25em;color: #696969;}#sk-container-id-5 label.sk-toggleable__label-arrow:hover:before {color: black;}#sk-container-id-5 div.sk-estimator:hover label.sk-toggleable__label-arrow:before {color: black;}#sk-container-id-5 div.sk-toggleable__content {max-height: 0;max-width: 0;overflow: hidden;text-align: left;background-color: #f0f8ff;}#sk-container-id-5 div.sk-toggleable__content pre {margin: 0.2em;color: black;border-radius: 0.25em;background-color: #f0f8ff;}#sk-container-id-5 input.sk-toggleable__control:checked~div.sk-toggleable__content {max-height: 200px;max-width: 100%;overflow: auto;}#sk-container-id-5 input.sk-toggleable__control:checked~label.sk-toggleable__label-arrow:before {content: \"▾\";}#sk-container-id-5 div.sk-estimator input.sk-toggleable__control:checked~label.sk-toggleable__label {background-color: #d4ebff;}#sk-container-id-5 div.sk-label input.sk-toggleable__control:checked~label.sk-toggleable__label {background-color: #d4ebff;}#sk-container-id-5 input.sk-hidden--visually {border: 0;clip: rect(1px 1px 1px 1px);clip: rect(1px, 1px, 1px, 1px);height: 1px;margin: -1px;overflow: hidden;padding: 0;position: absolute;width: 1px;}#sk-container-id-5 div.sk-estimator {font-family: monospace;background-color: #f0f8ff;border: 1px dotted black;border-radius: 0.25em;box-sizing: border-box;margin-bottom: 0.5em;}#sk-container-id-5 div.sk-estimator:hover {background-color: #d4ebff;}#sk-container-id-5 div.sk-parallel-item::after {content: \"\";width: 100%;border-bottom: 1px solid gray;flex-grow: 1;}#sk-container-id-5 div.sk-label:hover label.sk-toggleable__label {background-color: #d4ebff;}#sk-container-id-5 div.sk-serial::before {content: \"\";position: absolute;border-left: 1px solid gray;box-sizing: border-box;top: 0;bottom: 0;left: 50%;z-index: 0;}#sk-container-id-5 div.sk-serial {display: flex;flex-direction: column;align-items: center;background-color: white;padding-right: 0.2em;padding-left: 0.2em;position: relative;}#sk-container-id-5 div.sk-item {position: relative;z-index: 1;}#sk-container-id-5 div.sk-parallel {display: flex;align-items: stretch;justify-content: center;background-color: white;position: relative;}#sk-container-id-5 div.sk-item::before, #sk-container-id-5 div.sk-parallel-item::before {content: \"\";position: absolute;border-left: 1px solid gray;box-sizing: border-box;top: 0;bottom: 0;left: 50%;z-index: -1;}#sk-container-id-5 div.sk-parallel-item {display: flex;flex-direction: column;z-index: 1;position: relative;background-color: white;}#sk-container-id-5 div.sk-parallel-item:first-child::after {align-self: flex-end;width: 50%;}#sk-container-id-5 div.sk-parallel-item:last-child::after {align-self: flex-start;width: 50%;}#sk-container-id-5 div.sk-parallel-item:only-child::after {width: 0;}#sk-container-id-5 div.sk-dashed-wrapped {border: 1px dashed gray;margin: 0 0.4em 0.5em 0.4em;box-sizing: border-box;padding-bottom: 0.4em;background-color: white;}#sk-container-id-5 div.sk-label label {font-family: monospace;font-weight: bold;display: inline-block;line-height: 1.2em;}#sk-container-id-5 div.sk-label-container {text-align: center;}#sk-container-id-5 div.sk-container {/* jupyter's `normalize.less` sets `[hidden] { display: none; }` but bootstrap.min.css set `[hidden] { display: none !important; }` so we also need the `!important` here to be able to override the default hidden behavior on the sphinx rendered scikit-learn.org. See: https://github.com/scikit-learn/scikit-learn/issues/21755 */display: inline-block !important;position: relative;}#sk-container-id-5 div.sk-text-repr-fallback {display: none;}</style><div id=\"sk-container-id-5\" class=\"sk-top-container\"><div class=\"sk-text-repr-fallback\"><pre>RandomForestClassifier(bootstrap=False, n_estimators=1000, n_jobs=-1,\n",
       "                       random_state=321)</pre><b>In a Jupyter environment, please rerun this cell to show the HTML representation or trust the notebook. <br />On GitHub, the HTML representation is unable to render, please try loading this page with nbviewer.org.</b></div><div class=\"sk-container\" hidden><div class=\"sk-item\"><div class=\"sk-estimator sk-toggleable\"><input class=\"sk-toggleable__control sk-hidden--visually\" id=\"sk-estimator-id-5\" type=\"checkbox\" checked><label for=\"sk-estimator-id-5\" class=\"sk-toggleable__label sk-toggleable__label-arrow\">RandomForestClassifier</label><div class=\"sk-toggleable__content\"><pre>RandomForestClassifier(bootstrap=False, n_estimators=1000, n_jobs=-1,\n",
       "                       random_state=321)</pre></div></div></div></div></div>"
      ],
      "text/plain": [
       "RandomForestClassifier(bootstrap=False, n_estimators=1000, n_jobs=-1,\n",
       "                       random_state=321)"
      ]
     },
     "execution_count": 223,
     "metadata": {},
     "output_type": "execute_result"
    }
   ],
   "source": [
    "clf2 = ensemble.RandomForestClassifier(n_jobs=-1, random_state=321, n_estimators=1000, bootstrap=False)                                      \n",
    "clf2.fit(X_train, y_train)"
   ]
  },
  {
   "cell_type": "code",
   "execution_count": 225,
   "id": "8cce7b51-756a-4745-834c-feb419b3f514",
   "metadata": {},
   "outputs": [
    {
     "data": {
      "text/html": [
       "<div>\n",
       "<style scoped>\n",
       "    .dataframe tbody tr th:only-of-type {\n",
       "        vertical-align: middle;\n",
       "    }\n",
       "\n",
       "    .dataframe tbody tr th {\n",
       "        vertical-align: top;\n",
       "    }\n",
       "\n",
       "    .dataframe thead th {\n",
       "        text-align: right;\n",
       "    }\n",
       "</style>\n",
       "<table border=\"1\" class=\"dataframe\">\n",
       "  <thead>\n",
       "    <tr style=\"text-align: right;\">\n",
       "      <th>Prediction</th>\n",
       "      <th>0</th>\n",
       "      <th>1</th>\n",
       "    </tr>\n",
       "    <tr>\n",
       "      <th>True</th>\n",
       "      <th></th>\n",
       "      <th></th>\n",
       "    </tr>\n",
       "  </thead>\n",
       "  <tbody>\n",
       "    <tr>\n",
       "      <th>0</th>\n",
       "      <td>171</td>\n",
       "      <td>146</td>\n",
       "    </tr>\n",
       "    <tr>\n",
       "      <th>1</th>\n",
       "      <td>85</td>\n",
       "      <td>591</td>\n",
       "    </tr>\n",
       "  </tbody>\n",
       "</table>\n",
       "</div>"
      ],
      "text/plain": [
       "Prediction    0    1\n",
       "True                \n",
       "0           171  146\n",
       "1            85  591"
      ]
     },
     "execution_count": 225,
     "metadata": {},
     "output_type": "execute_result"
    }
   ],
   "source": [
    "# Predict test set and store in y_pred\n",
    "y_pred = clf2.predict(X_test) # test set\n",
    "y_pred_train = clf2.predict(X_train) # train set\n",
    "\n",
    "# check result with crosstab\n",
    "pd.crosstab(y_test, y_pred, rownames=['True'], colnames=['Prediction'])"
   ]
  },
  {
   "cell_type": "code",
   "execution_count": 227,
   "id": "b584cc24-d221-4829-8217-8385e3c14c19",
   "metadata": {},
   "outputs": [
    {
     "name": "stdout",
     "output_type": "stream",
     "text": [
      "Score clf2 tuned test set 0.7673716012084593\n",
      "Score clf2 tuned trainset 0.8489425981873112\n"
     ]
    }
   ],
   "source": [
    "# Check score\n",
    "print(\"Score clf2 tuned test set\", clf2.score(X_test, y_test))\n",
    "print(\"Score clf2 tuned trainset\", clf2.score(X_train, y_train))"
   ]
  },
  {
   "cell_type": "code",
   "execution_count": 229,
   "id": "1414a58a-b288-4f97-b8b2-8bdbc5cd7764",
   "metadata": {},
   "outputs": [
    {
     "name": "stdout",
     "output_type": "stream",
     "text": [
      "Classification report (RFC tuned w/ sentiment analysis):\n",
      "               precision    recall  f1-score   support\n",
      "\n",
      "           0       0.67      0.54      0.60       317\n",
      "           1       0.80      0.87      0.84       676\n",
      "\n",
      "    accuracy                           0.77       993\n",
      "   macro avg       0.73      0.71      0.72       993\n",
      "weighted avg       0.76      0.77      0.76       993\n",
      "\n"
     ]
    }
   ],
   "source": [
    "# classification report\n",
    "print(\"Classification report (RFC tuned w/ sentiment analysis):\\n\", classification_report(y_test, y_pred))"
   ]
  },
  {
   "cell_type": "code",
   "execution_count": 231,
   "id": "31bb014f-2c6a-438b-8d1a-78c8718475d7",
   "metadata": {},
   "outputs": [
    {
     "name": "stdout",
     "output_type": "stream",
     "text": [
      "Classification report (RFC tuned w/ sentiment analysis) train set:\n",
      "               precision    recall  f1-score   support\n",
      "\n",
      "           0       0.82      0.64      0.72      1190\n",
      "           1       0.86      0.94      0.90      2782\n",
      "\n",
      "    accuracy                           0.85      3972\n",
      "   macro avg       0.84      0.79      0.81      3972\n",
      "weighted avg       0.85      0.85      0.84      3972\n",
      "\n"
     ]
    }
   ],
   "source": [
    "print(\"Classification report (RFC tuned w/ sentiment analysis) train set:\\n\", classification_report(y_train, y_pred_train))"
   ]
  },
  {
   "cell_type": "markdown",
   "id": "9faa1179-3328-40c0-a0db-a631ecbf8465",
   "metadata": {},
   "source": [
    "Interpretation:\n",
    "\n",
    "After tuning, we see some overfitting again, with a little improvement on the non-dominant class."
   ]
  },
  {
   "cell_type": "markdown",
   "id": "8430a9ae-bb7c-4848-b296-dd33409d4e32",
   "metadata": {},
   "source": [
    "# Looking back"
   ]
  },
  {
   "attachments": {},
   "cell_type": "markdown",
   "id": "c89bd4e8-f7a9-49e1-a5c9-68237986750f",
   "metadata": {},
   "source": [
    "As expected, sentiment analysis on the Comment feature was the correct approach to predict star ratings. In case of not having entries in this column, the mandatory field Headline would be a good substitute, as we found here in most cases the content being a summary of the Comment content.\n",
    "\n",
    "\n",
    "The reduction of the data set to one supplier and setting the target feature up as a binary problem helped significantly in improving performance of the simple machine learning models.\n"
   ]
  },
  {
   "cell_type": "code",
   "execution_count": null,
   "id": "eb1dddb5-ecc0-44a8-8d8d-d72dd74b9c15",
   "metadata": {},
   "outputs": [],
   "source": []
  }
 ],
 "metadata": {
  "kernelspec": {
   "display_name": "anaconda-panel-2023.05-py310",
   "language": "python",
   "name": "conda-env-anaconda-panel-2023.05-py310-py"
  },
  "language_info": {
   "codemirror_mode": {
    "name": "ipython",
    "version": 3
   },
   "file_extension": ".py",
   "mimetype": "text/x-python",
   "name": "python",
   "nbconvert_exporter": "python",
   "pygments_lexer": "ipython3",
   "version": "3.11.5"
  }
 },
 "nbformat": 4,
 "nbformat_minor": 5
}
