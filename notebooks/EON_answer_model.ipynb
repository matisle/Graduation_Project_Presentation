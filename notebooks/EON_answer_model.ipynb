{
 "cells": [
  {
   "cell_type": "markdown",
   "id": "78e35dd0-90d4-4b2f-8ad7-97ef742f3905",
   "metadata": {},
   "source": [
    "# Answer prediction model E.ON + create pickle file "
   ]
  },
  {
   "cell_type": "markdown",
   "id": "833cab9d-acda-4582-8495-b4930f7b5e33",
   "metadata": {},
   "source": [
    "Just run this notebook to create the pickle file."
   ]
  },
  {
   "cell_type": "code",
   "execution_count": 36,
   "id": "ca0bad05-beab-4554-a560-89b8c869dc3b",
   "metadata": {},
   "outputs": [
    {
     "name": "stderr",
     "output_type": "stream",
     "text": [
      "[nltk_data] Downloading package stopwords to\n",
      "[nltk_data]     C:\\Users\\isele\\AppData\\Roaming\\nltk_data...\n",
      "[nltk_data]   Package stopwords is already up-to-date!\n"
     ]
    }
   ],
   "source": [
    "import pandas as pd\n",
    "import numpy as np\n",
    "import re\n",
    "import nltk\n",
    "nltk.download('stopwords')\n",
    "from nltk.corpus import stopwords\n",
    "stop_words = stopwords.words('german')\n",
    "from sklearn.feature_extraction.text import CountVectorizer\n",
    "from sklearn.ensemble import GradientBoostingClassifier\n",
    "from sklearn.model_selection import train_test_split"
   ]
  },
  {
   "cell_type": "markdown",
   "id": "9247ea1a-6cd7-4c88-b4f9-75cdaec511c2",
   "metadata": {},
   "source": [
    "### Processing data"
   ]
  },
  {
   "cell_type": "code",
   "execution_count": 32,
   "id": "4fda5921-a828-4d54-b3a5-688d66b2f714",
   "metadata": {},
   "outputs": [
    {
     "name": "stderr",
     "output_type": "stream",
     "text": [
      "C:\\Users\\isele\\AppData\\Local\\Temp\\ipykernel_15900\\317903312.py:17: SettingWithCopyWarning: \n",
      "A value is trying to be set on a copy of a slice from a DataFrame.\n",
      "Try using .loc[row_indexer,col_indexer] = value instead\n",
      "\n",
      "See the caveats in the documentation: https://pandas.pydata.org/pandas-docs/stable/user_guide/indexing.html#returning-a-view-versus-a-copy\n",
      "  df_ml_EON['Answer_label']=df_ml_EON['Answer'].apply(lambda x: df_answer_category['Answer_label'][x])\n",
      "C:\\Users\\isele\\AppData\\Local\\Temp\\ipykernel_15900\\317903312.py:22: SettingWithCopyWarning: \n",
      "A value is trying to be set on a copy of a slice from a DataFrame.\n",
      "Try using .loc[row_indexer,col_indexer] = value instead\n",
      "\n",
      "See the caveats in the documentation: https://pandas.pydata.org/pandas-docs/stable/user_guide/indexing.html#returning-a-view-versus-a-copy\n",
      "  df_ml_EON['Comment_alpha']=df_ml_EON['Comment']\\\n",
      "C:\\Users\\isele\\AppData\\Local\\Temp\\ipykernel_15900\\317903312.py:27: SettingWithCopyWarning: \n",
      "A value is trying to be set on a copy of a slice from a DataFrame.\n",
      "Try using .loc[row_indexer,col_indexer] = value instead\n",
      "\n",
      "See the caveats in the documentation: https://pandas.pydata.org/pandas-docs/stable/user_guide/indexing.html#returning-a-view-versus-a-copy\n",
      "  df_ml_EON['Headline_alpha']=df_ml_EON['Headline']\\\n"
     ]
    },
    {
     "name": "stdout",
     "output_type": "stream",
     "text": [
      "<class 'pandas.core.frame.DataFrame'>\n",
      "Index: 4965 entries, 5 to 1\n",
      "Data columns (total 18 columns):\n",
      " #   Column                 Non-Null Count  Dtype  \n",
      "---  ------                 --------------  -----  \n",
      " 0   Headline               4965 non-null   object \n",
      " 1   Comment                4965 non-null   object \n",
      " 2   Answer                 4965 non-null   object \n",
      " 3   Company                4965 non-null   object \n",
      " 4   Words_Comment          4965 non-null   float64\n",
      " 5   Words_Headline         4965 non-null   int64  \n",
      " 6   Words_Answer           4965 non-null   float64\n",
      " 7   log_Words_Headline     4965 non-null   float64\n",
      " 8   log_Words_Comment      4965 non-null   float64\n",
      " 9   log_Words_Answer       4965 non-null   float64\n",
      " 10  Stars_min_max_scaled   4965 non-null   float64\n",
      " 11  Stars_geq3_TF          4965 non-null   int64  \n",
      " 12  Stars_geq4_TF          4965 non-null   int64  \n",
      " 13  Answer_label           4965 non-null   int64  \n",
      " 14  Comment_alpha          4965 non-null   object \n",
      " 15  Headline_alpha         4965 non-null   object \n",
      " 16  Comment_no_stopwords   4965 non-null   object \n",
      " 17  Headline_no_stopwords  4965 non-null   object \n",
      "dtypes: float64(6), int64(4), object(8)\n",
      "memory usage: 737.0+ KB\n"
     ]
    },
    {
     "name": "stderr",
     "output_type": "stream",
     "text": [
      "C:\\Users\\isele\\AppData\\Local\\Temp\\ipykernel_15900\\317903312.py:39: SettingWithCopyWarning: \n",
      "A value is trying to be set on a copy of a slice from a DataFrame.\n",
      "Try using .loc[row_indexer,col_indexer] = value instead\n",
      "\n",
      "See the caveats in the documentation: https://pandas.pydata.org/pandas-docs/stable/user_guide/indexing.html#returning-a-view-versus-a-copy\n",
      "  df_ml_EON['Comment_no_stopwords']=df_ml_EON['Comment_alpha']\\\n",
      "C:\\Users\\isele\\AppData\\Local\\Temp\\ipykernel_15900\\317903312.py:41: SettingWithCopyWarning: \n",
      "A value is trying to be set on a copy of a slice from a DataFrame.\n",
      "Try using .loc[row_indexer,col_indexer] = value instead\n",
      "\n",
      "See the caveats in the documentation: https://pandas.pydata.org/pandas-docs/stable/user_guide/indexing.html#returning-a-view-versus-a-copy\n",
      "  df_ml_EON['Headline_no_stopwords']=df_ml_EON['Headline_alpha']\\\n"
     ]
    }
   ],
   "source": [
    "# Importing data set saved locally\n",
    "\n",
    "path_local=r\"C:\\Users\\isele\\OneDrive\\Dokumente\\GitHub\\Graduation_Project_Matthias_Isele\\notebooks\\df_ml.csv\"\n",
    "\n",
    "path=path_local\n",
    "df_ml=pd.read_csv(path, index_col=0)\n",
    "\n",
    "df_ml_EON=df_ml[df_ml['Company']== 'E.ON Energie Deutschland GmbH']\n",
    "\n",
    "# Categorizing answers of EON Energy\n",
    "answer_list=df_ml_EON['Answer'].unique()\n",
    "df_answer_category = pd.DataFrame(answer_list, columns=['Answer'])\n",
    "df_answer_category['Answer_label']=[1,0,1,0,1,0]\n",
    "df_answer_category=df_answer_category.set_index('Answer')\n",
    "\n",
    "# Creating boolean answer label column\n",
    "df_ml_EON['Answer_label']=df_ml_EON['Answer'].apply(lambda x: df_answer_category['Answer_label'][x])\n",
    "\n",
    "# Replacing all non letters with empty space in Comment and Headline\n",
    "# Transfer letters to lowercase and remove words of length 2 or less\n",
    "\n",
    "df_ml_EON['Comment_alpha']=df_ml_EON['Comment']\\\n",
    "  .apply(lambda x: re.sub(r'[^a-zA-ZäüöÄÜÖß]+', ' ', x).lower())\\\n",
    "  .apply(lambda x: re.sub(r'\\s[a-zäöü]{1}\\s', ' ', x))\\\n",
    "  .apply(lambda x: re.sub(r'\\s[a-zäöü]{2}\\s', ' ', x))\n",
    "\n",
    "df_ml_EON['Headline_alpha']=df_ml_EON['Headline']\\\n",
    "  .apply(lambda x: re.sub(r'[^a-zA-ZäüöÄÜÖß]+', ' ', x).lower())\\\n",
    "  .apply(lambda x: re.sub(r'\\s[a-zäöü]{1}\\s', ' ', x))\\\n",
    "  .apply(lambda x: re.sub(r'\\s[a-zäöü]{2}\\s', ' ', x))\n",
    "\n",
    "\n",
    "# Remove stop words of Comment and Headline\n",
    "# translate special characters\n",
    "\n",
    "special_char_map = {ord('ä'):'ae', ord('ü'):'ue', ord('ö'):'oe', ord('ß'):'ss'}\n",
    "\n",
    "\n",
    "df_ml_EON['Comment_no_stopwords']=df_ml_EON['Comment_alpha']\\\n",
    "  .apply(lambda x: ' '.join([word for word in x.split() if word not in (stop_words)]).translate(special_char_map))\n",
    "df_ml_EON['Headline_no_stopwords']=df_ml_EON['Headline_alpha']\\\n",
    "  .apply(lambda x: ' '.join([word for word in x.split() if word not in (stop_words)]).translate(special_char_map))\n",
    "\n",
    "#df_ml_EON[['Comment_no_stopwords','Comment_alpha','Comment','Headline_no_stopwords','Headline_alpha','Headline']]\n",
    "df_ml_EON.info()"
   ]
  },
  {
   "cell_type": "markdown",
   "id": "5539cd7e-57d8-4d3e-87db-6fde9ca662f0",
   "metadata": {},
   "source": [
    "### Train model"
   ]
  },
  {
   "cell_type": "code",
   "execution_count": 40,
   "id": "2d13c4c6-93b3-4fc8-bc91-915342e8dbfe",
   "metadata": {},
   "outputs": [
    {
     "name": "stdout",
     "output_type": "stream",
     "text": [
      "CPU times: total: 1min 3s\n",
      "Wall time: 1min 7s\n"
     ]
    },
    {
     "data": {
      "text/html": [
       "<div>\n",
       "<style scoped>\n",
       "    .dataframe tbody tr th:only-of-type {\n",
       "        vertical-align: middle;\n",
       "    }\n",
       "\n",
       "    .dataframe tbody tr th {\n",
       "        vertical-align: top;\n",
       "    }\n",
       "\n",
       "    .dataframe thead th {\n",
       "        text-align: right;\n",
       "    }\n",
       "</style>\n",
       "<table border=\"1\" class=\"dataframe\">\n",
       "  <thead>\n",
       "    <tr style=\"text-align: right;\">\n",
       "      <th>Predicted clas</th>\n",
       "      <th>0</th>\n",
       "      <th>1</th>\n",
       "    </tr>\n",
       "    <tr>\n",
       "      <th>Actual class</th>\n",
       "      <th></th>\n",
       "      <th></th>\n",
       "    </tr>\n",
       "  </thead>\n",
       "  <tbody>\n",
       "    <tr>\n",
       "      <th>0</th>\n",
       "      <td>188</td>\n",
       "      <td>111</td>\n",
       "    </tr>\n",
       "    <tr>\n",
       "      <th>1</th>\n",
       "      <td>51</td>\n",
       "      <td>643</td>\n",
       "    </tr>\n",
       "  </tbody>\n",
       "</table>\n",
       "</div>"
      ],
      "text/plain": [
       "Predicted clas    0    1\n",
       "Actual class            \n",
       "0               188  111\n",
       "1                51  643"
      ]
     },
     "execution_count": 40,
     "metadata": {},
     "output_type": "execute_result"
    }
   ],
   "source": [
    "%%time\n",
    "#Choose data and target\n",
    "#data_columns=['Comment_no_stopwords','Headline_no_stopwords']\n",
    "data_columns=['Comment_no_stopwords']\n",
    "data=df_ml_EON[data_columns]\n",
    "\n",
    "target=df_ml_EON['Answer_label']\n",
    "\n",
    "# Train test split\n",
    "from sklearn.model_selection import train_test_split\n",
    "X_train, X_test, y_train, y_test = train_test_split(data, target, test_size=0.2, random_state=1)\n",
    "\n",
    "# Initialize a vectorizer object\n",
    "vectorizer = CountVectorizer()\n",
    "\n",
    "# Update the value of X_train and X_test\n",
    "X_train = np.asarray(vectorizer.fit_transform(X_train['Comment_no_stopwords']).todense())\n",
    "X_test = np.asarray(vectorizer.transform(X_test['Comment_no_stopwords']).todense())\n",
    "\n",
    "# Create a clf classifier and train the model on the training set\n",
    "clf = GradientBoostingClassifier(n_estimators=100, learning_rate=1.0, max_depth=1, random_state=0).fit(X_train, y_train)\n",
    "\n",
    "# Calculate predictions\n",
    "y_pred = clf.predict(X_test)\n",
    "\n",
    "# Confusion matrix\n",
    "confusion_matrix = pd.crosstab(y_test, y_pred, rownames=['Actual class'], colnames=['Predicted clas'])\n",
    "confusion_matrix\n"
   ]
  },
  {
   "cell_type": "markdown",
   "id": "18f691b0-c691-4d45-aa25-623ae7efe46d",
   "metadata": {},
   "source": [
    "### Save the models locally"
   ]
  },
  {
   "cell_type": "code",
   "execution_count": 43,
   "id": "87914fe0-c1eb-4044-87ca-b73b3cec2f36",
   "metadata": {},
   "outputs": [
    {
     "data": {
      "text/plain": [
       "['GradientBoostingClassifier_EON_joblib.pkl']"
      ]
     },
     "execution_count": 43,
     "metadata": {},
     "output_type": "execute_result"
    }
   ],
   "source": [
    "from joblib import Parallel, delayed \n",
    "import joblib \n",
    "  \n",
    "  \n",
    "# Save the model as a pickle in a file \n",
    "joblib.dump(vectorizer, 'vectorizer_EON_joblib.pkl') \n",
    "joblib.dump(clf, 'GradientBoostingClassifier_EON_joblib.pkl') \n",
    "    \n",
    "# Load the model from the file \n",
    "#vectorizer = joblib.load('vectorizer_EON_joblib.pkl') \n",
    "#clf = joblib.load('GradientBoostingClassifier_EON_joblib.pkl') \n",
    "  \n",
    "# Use the loaded model to make predictions \n",
    "#knn_from_joblib.predict(X_test) "
   ]
  }
 ],
 "metadata": {
  "kernelspec": {
   "display_name": "Python 3 (ipykernel)",
   "language": "python",
   "name": "python3"
  },
  "language_info": {
   "codemirror_mode": {
    "name": "ipython",
    "version": 3
   },
   "file_extension": ".py",
   "mimetype": "text/x-python",
   "name": "python",
   "nbconvert_exporter": "python",
   "pygments_lexer": "ipython3",
   "version": "3.12.4"
  }
 },
 "nbformat": 4,
 "nbformat_minor": 5
}
